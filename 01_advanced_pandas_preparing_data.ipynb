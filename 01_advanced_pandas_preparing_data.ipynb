{
 "cells": [
  {
   "cell_type": "markdown",
   "source": [
    "# Advanced Pandas - Preparing Data\n",
    "**Abid Ali**\n",
    "\n",
    "Skype: Abd.Soft\n",
    "\n",
    "Email: [abdsoftfsd@gmail.com](mailto:abdsoftfsd@gmail.com)"
   ],
   "metadata": {
    "collapsed": false,
    "pycharm": {
     "name": "#%% md\n"
    }
   }
  },
  {
   "cell_type": "code",
   "execution_count": 1,
   "outputs": [],
   "source": [
    "import os            # for file paths\n",
    "import pandas as pd\n",
    "from pandas import isnull\n"
   ],
   "metadata": {
    "collapsed": false,
    "pycharm": {
     "name": "#%%\n"
    }
   }
  },
  {
   "cell_type": "code",
   "execution_count": 2,
   "outputs": [
    {
     "data": {
      "text/plain": "    playerID coachID hofID firstName    lastName nameNote         nameGiven  \\\n0  aaltoan01     NaN   NaN     Antti       Aalto      NaN             Antti   \n1  abbeybr01     NaN   NaN     Bruce       Abbey      NaN             Bruce   \n2  abbotge01     NaN   NaN    George      Abbott      NaN      George Henry   \n3  abbotre01     NaN   NaN       Reg      Abbott      NaN  Reginald Stewart   \n4  abdelju01     NaN   NaN    Justin  Abdelkader      NaN               NaN   \n\n   nameNick  height  weight  ... birthDay birthCountry  birthState  \\\n0       NaN    73.0   210.0  ...      4.0      Finland         NaN   \n1       NaN    73.0   185.0  ...     18.0       Canada          ON   \n2  Preacher    67.0   153.0  ...      3.0       Canada          ON   \n3       NaN    71.0   164.0  ...      4.0       Canada          MB   \n4       NaN    73.0   195.0  ...     25.0          USA          MI   \n\n      birthCity  deathYear  deathMon  deathDay  deathCountry deathState  \\\n0  Lappeenranta        NaN       NaN       NaN           NaN        NaN   \n1       Toronto        NaN       NaN       NaN           NaN        NaN   \n2      Synenham        NaN       NaN       NaN           NaN        NaN   \n3      Winnipeg        NaN       NaN       NaN           NaN        NaN   \n4      Muskegon        NaN       NaN       NaN           NaN        NaN   \n\n   deathCity  \n0        NaN  \n1        NaN  \n2        NaN  \n3        NaN  \n4        NaN  \n\n[5 rows x 31 columns]",
      "text/html": "<div>\n<style scoped>\n    .dataframe tbody tr th:only-of-type {\n        vertical-align: middle;\n    }\n\n    .dataframe tbody tr th {\n        vertical-align: top;\n    }\n\n    .dataframe thead th {\n        text-align: right;\n    }\n</style>\n<table border=\"1\" class=\"dataframe\">\n  <thead>\n    <tr style=\"text-align: right;\">\n      <th></th>\n      <th>playerID</th>\n      <th>coachID</th>\n      <th>hofID</th>\n      <th>firstName</th>\n      <th>lastName</th>\n      <th>nameNote</th>\n      <th>nameGiven</th>\n      <th>nameNick</th>\n      <th>height</th>\n      <th>weight</th>\n      <th>...</th>\n      <th>birthDay</th>\n      <th>birthCountry</th>\n      <th>birthState</th>\n      <th>birthCity</th>\n      <th>deathYear</th>\n      <th>deathMon</th>\n      <th>deathDay</th>\n      <th>deathCountry</th>\n      <th>deathState</th>\n      <th>deathCity</th>\n    </tr>\n  </thead>\n  <tbody>\n    <tr>\n      <th>0</th>\n      <td>aaltoan01</td>\n      <td>NaN</td>\n      <td>NaN</td>\n      <td>Antti</td>\n      <td>Aalto</td>\n      <td>NaN</td>\n      <td>Antti</td>\n      <td>NaN</td>\n      <td>73.0</td>\n      <td>210.0</td>\n      <td>...</td>\n      <td>4.0</td>\n      <td>Finland</td>\n      <td>NaN</td>\n      <td>Lappeenranta</td>\n      <td>NaN</td>\n      <td>NaN</td>\n      <td>NaN</td>\n      <td>NaN</td>\n      <td>NaN</td>\n      <td>NaN</td>\n    </tr>\n    <tr>\n      <th>1</th>\n      <td>abbeybr01</td>\n      <td>NaN</td>\n      <td>NaN</td>\n      <td>Bruce</td>\n      <td>Abbey</td>\n      <td>NaN</td>\n      <td>Bruce</td>\n      <td>NaN</td>\n      <td>73.0</td>\n      <td>185.0</td>\n      <td>...</td>\n      <td>18.0</td>\n      <td>Canada</td>\n      <td>ON</td>\n      <td>Toronto</td>\n      <td>NaN</td>\n      <td>NaN</td>\n      <td>NaN</td>\n      <td>NaN</td>\n      <td>NaN</td>\n      <td>NaN</td>\n    </tr>\n    <tr>\n      <th>2</th>\n      <td>abbotge01</td>\n      <td>NaN</td>\n      <td>NaN</td>\n      <td>George</td>\n      <td>Abbott</td>\n      <td>NaN</td>\n      <td>George Henry</td>\n      <td>Preacher</td>\n      <td>67.0</td>\n      <td>153.0</td>\n      <td>...</td>\n      <td>3.0</td>\n      <td>Canada</td>\n      <td>ON</td>\n      <td>Synenham</td>\n      <td>NaN</td>\n      <td>NaN</td>\n      <td>NaN</td>\n      <td>NaN</td>\n      <td>NaN</td>\n      <td>NaN</td>\n    </tr>\n    <tr>\n      <th>3</th>\n      <td>abbotre01</td>\n      <td>NaN</td>\n      <td>NaN</td>\n      <td>Reg</td>\n      <td>Abbott</td>\n      <td>NaN</td>\n      <td>Reginald Stewart</td>\n      <td>NaN</td>\n      <td>71.0</td>\n      <td>164.0</td>\n      <td>...</td>\n      <td>4.0</td>\n      <td>Canada</td>\n      <td>MB</td>\n      <td>Winnipeg</td>\n      <td>NaN</td>\n      <td>NaN</td>\n      <td>NaN</td>\n      <td>NaN</td>\n      <td>NaN</td>\n      <td>NaN</td>\n    </tr>\n    <tr>\n      <th>4</th>\n      <td>abdelju01</td>\n      <td>NaN</td>\n      <td>NaN</td>\n      <td>Justin</td>\n      <td>Abdelkader</td>\n      <td>NaN</td>\n      <td>NaN</td>\n      <td>NaN</td>\n      <td>73.0</td>\n      <td>195.0</td>\n      <td>...</td>\n      <td>25.0</td>\n      <td>USA</td>\n      <td>MI</td>\n      <td>Muskegon</td>\n      <td>NaN</td>\n      <td>NaN</td>\n      <td>NaN</td>\n      <td>NaN</td>\n      <td>NaN</td>\n      <td>NaN</td>\n    </tr>\n  </tbody>\n</table>\n<p>5 rows × 31 columns</p>\n</div>"
     },
     "execution_count": 2,
     "metadata": {},
     "output_type": "execute_result"
    }
   ],
   "source": [
    "# Master.csv\n",
    "master = pd.read_csv(os.path.join('data','Master.csv'))\n",
    "master.head()\n"
   ],
   "metadata": {
    "collapsed": false,
    "pycharm": {
     "name": "#%%\n"
    }
   }
  },
  {
   "cell_type": "code",
   "execution_count": 3,
   "outputs": [
    {
     "data": {
      "text/plain": "(7761, 31)"
     },
     "execution_count": 3,
     "metadata": {},
     "output_type": "execute_result"
    }
   ],
   "source": [
    "master.shape\n"
   ],
   "metadata": {
    "collapsed": false,
    "pycharm": {
     "name": "#%%\n"
    }
   }
  },
  {
   "cell_type": "code",
   "execution_count": 4,
   "outputs": [
    {
     "data": {
      "text/plain": "Index(['playerID', 'coachID', 'hofID', 'firstName', 'lastName', 'nameNote',\n       'nameGiven', 'nameNick', 'height', 'weight', 'shootCatch', 'legendsID',\n       'ihdbID', 'hrefID', 'firstNHL', 'lastNHL', 'firstWHA', 'lastWHA', 'pos',\n       'birthYear', 'birthMon', 'birthDay', 'birthCountry', 'birthState',\n       'birthCity', 'deathYear', 'deathMon', 'deathDay', 'deathCountry',\n       'deathState', 'deathCity'],\n      dtype='object')"
     },
     "execution_count": 4,
     "metadata": {},
     "output_type": "execute_result"
    }
   ],
   "source": [
    "master.columns\n"
   ],
   "metadata": {
    "collapsed": false,
    "pycharm": {
     "name": "#%%\n"
    }
   }
  },
  {
   "cell_type": "code",
   "execution_count": 12,
   "outputs": [
    {
     "data": {
      "text/plain": "False    7520\nTrue      241\nName: playerID, dtype: int64"
     },
     "execution_count": 12,
     "metadata": {},
     "output_type": "execute_result"
    }
   ],
   "source": [
    "# Braces let us structure the code in a more readable way\n",
    "(master['playerID']\n",
    "    .pipe(isnull)\n",
    "    .value_counts())\n"
   ],
   "metadata": {
    "collapsed": false,
    "pycharm": {
     "name": "#%%\n"
    }
   }
  },
  {
   "cell_type": "code",
   "execution_count": 13,
   "outputs": [
    {
     "data": {
      "text/plain": "False    7520\nTrue      241\nName: playerID, dtype: int64"
     },
     "execution_count": 13,
     "metadata": {},
     "output_type": "execute_result"
    }
   ],
   "source": [
    "# This is an alternative to:\n",
    "isnull(master['playerID']).value_counts()\n"
   ],
   "metadata": {
    "collapsed": false,
    "pycharm": {
     "name": "#%%\n"
    }
   }
  },
  {
   "cell_type": "code",
   "execution_count": 15,
   "outputs": [],
   "source": [
    "master_original = master.copy()\n"
   ],
   "metadata": {
    "collapsed": false,
    "pycharm": {
     "name": "#%%\n"
    }
   }
  },
  {
   "cell_type": "code",
   "execution_count": 16,
   "outputs": [
    {
     "data": {
      "text/plain": "(7520, 31)"
     },
     "execution_count": 16,
     "metadata": {},
     "output_type": "execute_result"
    }
   ],
   "source": [
    "master.dropna(subset=['playerID'], inplace=True)\n",
    "master.shape\n"
   ],
   "metadata": {
    "collapsed": false,
    "pycharm": {
     "name": "#%%\n"
    }
   }
  },
  {
   "cell_type": "code",
   "execution_count": 17,
   "outputs": [
    {
     "data": {
      "text/plain": "Index(['playerID', 'coachID', 'hofID', 'firstName', 'lastName', 'nameNote',\n       'nameGiven', 'nameNick', 'height', 'weight', 'shootCatch', 'legendsID',\n       'ihdbID', 'hrefID', 'firstNHL', 'lastNHL', 'firstWHA', 'lastWHA', 'pos',\n       'birthYear', 'birthMon', 'birthDay', 'birthCountry', 'birthState',\n       'birthCity', 'deathYear', 'deathMon', 'deathDay', 'deathCountry',\n       'deathState', 'deathCity'],\n      dtype='object')"
     },
     "execution_count": 17,
     "metadata": {},
     "output_type": "execute_result"
    }
   ],
   "source": [
    "master.columns\n"
   ],
   "metadata": {
    "collapsed": false,
    "pycharm": {
     "name": "#%%\n"
    }
   }
  },
  {
   "cell_type": "code",
   "execution_count": 18,
   "outputs": [
    {
     "data": {
      "text/plain": "(6851, 31)"
     },
     "execution_count": 18,
     "metadata": {},
     "output_type": "execute_result"
    }
   ],
   "source": [
    "# Drop rows where no data for NHL years\n",
    "master = master.dropna(subset=['firstNHL', 'lastNHL'], how='all')\n",
    "master.shape\n"
   ],
   "metadata": {
    "collapsed": false,
    "pycharm": {
     "name": "#%%\n"
    }
   }
  },
  {
   "cell_type": "code",
   "execution_count": 19,
   "outputs": [
    {
     "data": {
      "text/plain": "playerID         object\ncoachID          object\nhofID            object\nfirstName        object\nlastName         object\nnameNote         object\nnameGiven        object\nnameNick         object\nheight          float64\nweight          float64\nshootCatch       object\nlegendsID        object\nihdbID          float64\nhrefID           object\nfirstNHL        float64\nlastNHL         float64\nfirstWHA        float64\nlastWHA         float64\npos              object\nbirthYear       float64\nbirthMon        float64\nbirthDay        float64\nbirthCountry     object\nbirthState       object\nbirthCity        object\ndeathYear       float64\ndeathMon        float64\ndeathDay        float64\ndeathCountry     object\ndeathState       object\ndeathCity        object\ndtype: object"
     },
     "execution_count": 19,
     "metadata": {},
     "output_type": "execute_result"
    }
   ],
   "source": [
    "master.dtypes\n",
    "\n"
   ],
   "metadata": {
    "collapsed": false,
    "pycharm": {
     "name": "#%%\n"
    }
   }
  },
  {
   "cell_type": "code",
   "execution_count": 21,
   "outputs": [
    {
     "data": {
      "text/plain": "(4627, 31)"
     },
     "execution_count": 21,
     "metadata": {},
     "output_type": "execute_result"
    }
   ],
   "source": [
    "master = master.loc[master['lastNHL'] >= 1980]\n",
    "master.shape"
   ],
   "metadata": {
    "collapsed": false,
    "pycharm": {
     "name": "#%%\n"
    }
   }
  },
  {
   "cell_type": "code",
   "execution_count": 22,
   "outputs": [
    {
     "data": {
      "text/plain": "Index(['playerID', 'coachID', 'hofID', 'firstName', 'lastName', 'nameNote',\n       'nameGiven', 'nameNick', 'height', 'weight', 'shootCatch', 'legendsID',\n       'ihdbID', 'hrefID', 'firstNHL', 'lastNHL', 'firstWHA', 'lastWHA', 'pos',\n       'birthYear', 'birthMon', 'birthDay', 'birthCountry', 'birthState',\n       'birthCity', 'deathYear', 'deathMon', 'deathDay', 'deathCountry',\n       'deathState', 'deathCity'],\n      dtype='object')"
     },
     "execution_count": 22,
     "metadata": {},
     "output_type": "execute_result"
    }
   ],
   "source": [
    "master.columns\n"
   ],
   "metadata": {
    "collapsed": false,
    "pycharm": {
     "name": "#%%\n"
    }
   }
  },
  {
   "cell_type": "code",
   "execution_count": 23,
   "outputs": [
    {
     "data": {
      "text/plain": "     playerID firstName     lastName pos  birthYear  birthMon  birthDay  \\\n0   aaltoan01     Antti        Aalto   C     1975.0       3.0       4.0   \n4   abdelju01    Justin   Abdelkader   L     1987.0       2.0      25.0   \n9    abidra01     Ramzi         Abid   L     1980.0       3.0      24.0   \n11  abrahth01    Thommy  Abrahamsson   D     1947.0       4.0      12.0   \n14  actonke01     Keith        Acton   C     1958.0       4.0      15.0   \n\n   birthCountry birthState     birthCity  \n0       Finland        NaN  Lappeenranta  \n4           USA         MI      Muskegon  \n9        Canada         QC      Montreal  \n11       Sweden        NaN       Leksand  \n14       Canada         ON   Stouffville  ",
      "text/html": "<div>\n<style scoped>\n    .dataframe tbody tr th:only-of-type {\n        vertical-align: middle;\n    }\n\n    .dataframe tbody tr th {\n        vertical-align: top;\n    }\n\n    .dataframe thead th {\n        text-align: right;\n    }\n</style>\n<table border=\"1\" class=\"dataframe\">\n  <thead>\n    <tr style=\"text-align: right;\">\n      <th></th>\n      <th>playerID</th>\n      <th>firstName</th>\n      <th>lastName</th>\n      <th>pos</th>\n      <th>birthYear</th>\n      <th>birthMon</th>\n      <th>birthDay</th>\n      <th>birthCountry</th>\n      <th>birthState</th>\n      <th>birthCity</th>\n    </tr>\n  </thead>\n  <tbody>\n    <tr>\n      <th>0</th>\n      <td>aaltoan01</td>\n      <td>Antti</td>\n      <td>Aalto</td>\n      <td>C</td>\n      <td>1975.0</td>\n      <td>3.0</td>\n      <td>4.0</td>\n      <td>Finland</td>\n      <td>NaN</td>\n      <td>Lappeenranta</td>\n    </tr>\n    <tr>\n      <th>4</th>\n      <td>abdelju01</td>\n      <td>Justin</td>\n      <td>Abdelkader</td>\n      <td>L</td>\n      <td>1987.0</td>\n      <td>2.0</td>\n      <td>25.0</td>\n      <td>USA</td>\n      <td>MI</td>\n      <td>Muskegon</td>\n    </tr>\n    <tr>\n      <th>9</th>\n      <td>abidra01</td>\n      <td>Ramzi</td>\n      <td>Abid</td>\n      <td>L</td>\n      <td>1980.0</td>\n      <td>3.0</td>\n      <td>24.0</td>\n      <td>Canada</td>\n      <td>QC</td>\n      <td>Montreal</td>\n    </tr>\n    <tr>\n      <th>11</th>\n      <td>abrahth01</td>\n      <td>Thommy</td>\n      <td>Abrahamsson</td>\n      <td>D</td>\n      <td>1947.0</td>\n      <td>4.0</td>\n      <td>12.0</td>\n      <td>Sweden</td>\n      <td>NaN</td>\n      <td>Leksand</td>\n    </tr>\n    <tr>\n      <th>14</th>\n      <td>actonke01</td>\n      <td>Keith</td>\n      <td>Acton</td>\n      <td>C</td>\n      <td>1958.0</td>\n      <td>4.0</td>\n      <td>15.0</td>\n      <td>Canada</td>\n      <td>ON</td>\n      <td>Stouffville</td>\n    </tr>\n  </tbody>\n</table>\n</div>"
     },
     "execution_count": 23,
     "metadata": {},
     "output_type": "execute_result"
    }
   ],
   "source": [
    "columns_to_keep = ['playerID', 'firstName', 'lastName', 'pos',\n",
    "                   'birthYear', 'birthMon', 'birthDay', 'birthCountry', 'birthState',\n",
    "                   'birthCity']\n",
    "master[columns_to_keep].head()\n"
   ],
   "metadata": {
    "collapsed": false,
    "pycharm": {
     "name": "#%%\n"
    }
   }
  },
  {
   "cell_type": "code",
   "execution_count": 24,
   "outputs": [
    {
     "data": {
      "text/plain": "     playerID firstName     lastName pos  birthYear  birthMon  birthDay  \\\n0   aaltoan01     Antti        Aalto   C     1975.0       3.0       4.0   \n4   abdelju01    Justin   Abdelkader   L     1987.0       2.0      25.0   \n9    abidra01     Ramzi         Abid   L     1980.0       3.0      24.0   \n11  abrahth01    Thommy  Abrahamsson   D     1947.0       4.0      12.0   \n14  actonke01     Keith        Acton   C     1958.0       4.0      15.0   \n\n   birthCountry birthState     birthCity  \n0       Finland        NaN  Lappeenranta  \n4           USA         MI      Muskegon  \n9        Canada         QC      Montreal  \n11       Sweden        NaN       Leksand  \n14       Canada         ON   Stouffville  ",
      "text/html": "<div>\n<style scoped>\n    .dataframe tbody tr th:only-of-type {\n        vertical-align: middle;\n    }\n\n    .dataframe tbody tr th {\n        vertical-align: top;\n    }\n\n    .dataframe thead th {\n        text-align: right;\n    }\n</style>\n<table border=\"1\" class=\"dataframe\">\n  <thead>\n    <tr style=\"text-align: right;\">\n      <th></th>\n      <th>playerID</th>\n      <th>firstName</th>\n      <th>lastName</th>\n      <th>pos</th>\n      <th>birthYear</th>\n      <th>birthMon</th>\n      <th>birthDay</th>\n      <th>birthCountry</th>\n      <th>birthState</th>\n      <th>birthCity</th>\n    </tr>\n  </thead>\n  <tbody>\n    <tr>\n      <th>0</th>\n      <td>aaltoan01</td>\n      <td>Antti</td>\n      <td>Aalto</td>\n      <td>C</td>\n      <td>1975.0</td>\n      <td>3.0</td>\n      <td>4.0</td>\n      <td>Finland</td>\n      <td>NaN</td>\n      <td>Lappeenranta</td>\n    </tr>\n    <tr>\n      <th>4</th>\n      <td>abdelju01</td>\n      <td>Justin</td>\n      <td>Abdelkader</td>\n      <td>L</td>\n      <td>1987.0</td>\n      <td>2.0</td>\n      <td>25.0</td>\n      <td>USA</td>\n      <td>MI</td>\n      <td>Muskegon</td>\n    </tr>\n    <tr>\n      <th>9</th>\n      <td>abidra01</td>\n      <td>Ramzi</td>\n      <td>Abid</td>\n      <td>L</td>\n      <td>1980.0</td>\n      <td>3.0</td>\n      <td>24.0</td>\n      <td>Canada</td>\n      <td>QC</td>\n      <td>Montreal</td>\n    </tr>\n    <tr>\n      <th>11</th>\n      <td>abrahth01</td>\n      <td>Thommy</td>\n      <td>Abrahamsson</td>\n      <td>D</td>\n      <td>1947.0</td>\n      <td>4.0</td>\n      <td>12.0</td>\n      <td>Sweden</td>\n      <td>NaN</td>\n      <td>Leksand</td>\n    </tr>\n    <tr>\n      <th>14</th>\n      <td>actonke01</td>\n      <td>Keith</td>\n      <td>Acton</td>\n      <td>C</td>\n      <td>1958.0</td>\n      <td>4.0</td>\n      <td>15.0</td>\n      <td>Canada</td>\n      <td>ON</td>\n      <td>Stouffville</td>\n    </tr>\n  </tbody>\n</table>\n</div>"
     },
     "execution_count": 24,
     "metadata": {},
     "output_type": "execute_result"
    }
   ],
   "source": [
    "master.filter(columns_to_keep).head()\n"
   ],
   "metadata": {
    "collapsed": false,
    "pycharm": {
     "name": "#%%\n"
    }
   }
  },
  {
   "cell_type": "code",
   "execution_count": 25,
   "outputs": [
    {
     "data": {
      "text/plain": "(4627, 31)"
     },
     "execution_count": 25,
     "metadata": {},
     "output_type": "execute_result"
    }
   ],
   "source": [
    "master.shape\n"
   ],
   "metadata": {
    "collapsed": false,
    "pycharm": {
     "name": "#%%\n"
    }
   }
  },
  {
   "cell_type": "code",
   "execution_count": 27,
   "outputs": [
    {
     "data": {
      "text/plain": "(4627, 10)"
     },
     "execution_count": 27,
     "metadata": {},
     "output_type": "execute_result"
    }
   ],
   "source": [
    "master_modified = master.copy()\n",
    "master = master.filter(columns_to_keep)\n",
    "master.shape\n"
   ],
   "metadata": {
    "collapsed": false,
    "pycharm": {
     "name": "#%%\n"
    }
   }
  },
  {
   "cell_type": "code",
   "execution_count": 28,
   "outputs": [
    {
     "data": {
      "text/plain": "(4627, 31)"
     },
     "execution_count": 28,
     "metadata": {},
     "output_type": "execute_result"
    }
   ],
   "source": [
    "master = master_modified.copy()\n",
    "master.shape\n"
   ],
   "metadata": {
    "collapsed": false,
    "pycharm": {
     "name": "#%%\n"
    }
   }
  },
  {
   "cell_type": "code",
   "execution_count": 29,
   "outputs": [
    {
     "data": {
      "text/plain": "Index(['playerID', 'firstName', 'lastName', 'pos', 'birthYear', 'birthMon',\n       'birthDay', 'birthCountry', 'birthState', 'birthCity'],\n      dtype='object')"
     },
     "execution_count": 29,
     "metadata": {},
     "output_type": "execute_result"
    }
   ],
   "source": [
    "master.filter(regex=\"(playerID|pos|^birth)|(Name$)\").columns"
   ],
   "metadata": {
    "collapsed": false,
    "pycharm": {
     "name": "#%%\n"
    }
   }
  },
  {
   "cell_type": "code",
   "execution_count": 30,
   "outputs": [
    {
     "data": {
      "text/plain": "Index(['playerID', 'firstName', 'lastName', 'pos', 'birthYear', 'birthMon',\n       'birthDay', 'birthCountry', 'birthState', 'birthCity'],\n      dtype='object')"
     },
     "execution_count": 30,
     "metadata": {},
     "output_type": "execute_result"
    }
   ],
   "source": [
    "master.filter(regex=\"(playerID|pos|^birth|Name$)\").columns\n"
   ],
   "metadata": {
    "collapsed": false,
    "pycharm": {
     "name": "#%%\n"
    }
   }
  },
  {
   "cell_type": "code",
   "execution_count": 31,
   "outputs": [
    {
     "data": {
      "text/plain": "(4627, 10)"
     },
     "execution_count": 31,
     "metadata": {},
     "output_type": "execute_result"
    }
   ],
   "source": [
    "master = master.filter(regex=\"(playerID|pos|^birth|Name$)\")\n",
    "master.shape\n"
   ],
   "metadata": {
    "collapsed": false,
    "pycharm": {
     "name": "#%%\n"
    }
   }
  },
  {
   "cell_type": "code",
   "execution_count": 32,
   "outputs": [
    {
     "data": {
      "text/plain": "Index(['playerID', 'firstName', 'lastName', 'pos', 'birthYear', 'birthMon',\n       'birthDay', 'birthCountry', 'birthState', 'birthCity'],\n      dtype='object')"
     },
     "execution_count": 32,
     "metadata": {},
     "output_type": "execute_result"
    }
   ],
   "source": [
    "master.columns\n"
   ],
   "metadata": {
    "collapsed": false,
    "pycharm": {
     "name": "#%%\n"
    }
   }
  },
  {
   "cell_type": "code",
   "execution_count": 33,
   "outputs": [
    {
     "name": "stdout",
     "output_type": "stream",
     "text": [
      "0.39 MiB\n",
      "1.84 MiB\n"
     ]
    }
   ],
   "source": [
    "def mem_mib(df):\n",
    "    print(\"{0:.2f} MiB\".format(\n",
    "        df.memory_usage().sum() / (1024 * 1024)\n",
    "    ))\n",
    "\n",
    "mem_mib(master)\n",
    "mem_mib(master_original)\n"
   ],
   "metadata": {
    "collapsed": false,
    "pycharm": {
     "name": "#%%\n"
    }
   }
  },
  {
   "cell_type": "code",
   "execution_count": 34,
   "outputs": [
    {
     "data": {
      "text/plain": "D      1418\nC      1037\nL       848\nR       832\nG       463\nF        28\nL/C       1\nName: pos, dtype: int64"
     },
     "execution_count": 34,
     "metadata": {},
     "output_type": "execute_result"
    }
   ],
   "source": [
    "master[\"pos\"].value_counts()\n"
   ],
   "metadata": {
    "collapsed": false,
    "pycharm": {
     "name": "#%%\n"
    }
   }
  },
  {
   "cell_type": "code",
   "execution_count": 35,
   "outputs": [
    {
     "data": {
      "text/plain": "['C', 'L', 'L', 'D', 'C', ..., 'R', 'L', 'L', 'C', 'D']\nLength: 4627\nCategories (7, object): ['C', 'D', 'F', 'G', 'L', 'L/C', 'R']"
     },
     "execution_count": 35,
     "metadata": {},
     "output_type": "execute_result"
    }
   ],
   "source": [
    "pd.Categorical(master[\"pos\"])\n"
   ],
   "metadata": {
    "collapsed": false,
    "pycharm": {
     "name": "#%%\n"
    }
   }
  },
  {
   "cell_type": "code",
   "execution_count": 36,
   "outputs": [],
   "source": [
    "def make_categorical(df, col_name):\n",
    "    df.loc[:, col_name] = pd.Categorical(df[col_name])\n"
   ],
   "metadata": {
    "collapsed": false,
    "pycharm": {
     "name": "#%%\n"
    }
   }
  },
  {
   "cell_type": "code",
   "execution_count": 37,
   "outputs": [
    {
     "name": "stdout",
     "output_type": "stream",
     "text": [
      "0.30 MiB\n"
     ]
    }
   ],
   "source": [
    "make_categorical(master, \"pos\")\n",
    "make_categorical(master, \"birthCountry\")\n",
    "make_categorical(master, \"birthState\")\n",
    "mem_mib(master)\n"
   ],
   "metadata": {
    "collapsed": false,
    "pycharm": {
     "name": "#%%\n"
    }
   }
  },
  {
   "cell_type": "code",
   "execution_count": 38,
   "outputs": [
    {
     "data": {
      "text/plain": "     playerID firstName     lastName pos  birthYear  birthMon  birthDay  \\\n0   aaltoan01     Antti        Aalto   C     1975.0       3.0       4.0   \n4   abdelju01    Justin   Abdelkader   L     1987.0       2.0      25.0   \n9    abidra01     Ramzi         Abid   L     1980.0       3.0      24.0   \n11  abrahth01    Thommy  Abrahamsson   D     1947.0       4.0      12.0   \n14  actonke01     Keith        Acton   C     1958.0       4.0      15.0   \n\n   birthCountry birthState     birthCity  \n0       Finland        NaN  Lappeenranta  \n4           USA         MI      Muskegon  \n9        Canada         QC      Montreal  \n11       Sweden        NaN       Leksand  \n14       Canada         ON   Stouffville  ",
      "text/html": "<div>\n<style scoped>\n    .dataframe tbody tr th:only-of-type {\n        vertical-align: middle;\n    }\n\n    .dataframe tbody tr th {\n        vertical-align: top;\n    }\n\n    .dataframe thead th {\n        text-align: right;\n    }\n</style>\n<table border=\"1\" class=\"dataframe\">\n  <thead>\n    <tr style=\"text-align: right;\">\n      <th></th>\n      <th>playerID</th>\n      <th>firstName</th>\n      <th>lastName</th>\n      <th>pos</th>\n      <th>birthYear</th>\n      <th>birthMon</th>\n      <th>birthDay</th>\n      <th>birthCountry</th>\n      <th>birthState</th>\n      <th>birthCity</th>\n    </tr>\n  </thead>\n  <tbody>\n    <tr>\n      <th>0</th>\n      <td>aaltoan01</td>\n      <td>Antti</td>\n      <td>Aalto</td>\n      <td>C</td>\n      <td>1975.0</td>\n      <td>3.0</td>\n      <td>4.0</td>\n      <td>Finland</td>\n      <td>NaN</td>\n      <td>Lappeenranta</td>\n    </tr>\n    <tr>\n      <th>4</th>\n      <td>abdelju01</td>\n      <td>Justin</td>\n      <td>Abdelkader</td>\n      <td>L</td>\n      <td>1987.0</td>\n      <td>2.0</td>\n      <td>25.0</td>\n      <td>USA</td>\n      <td>MI</td>\n      <td>Muskegon</td>\n    </tr>\n    <tr>\n      <th>9</th>\n      <td>abidra01</td>\n      <td>Ramzi</td>\n      <td>Abid</td>\n      <td>L</td>\n      <td>1980.0</td>\n      <td>3.0</td>\n      <td>24.0</td>\n      <td>Canada</td>\n      <td>QC</td>\n      <td>Montreal</td>\n    </tr>\n    <tr>\n      <th>11</th>\n      <td>abrahth01</td>\n      <td>Thommy</td>\n      <td>Abrahamsson</td>\n      <td>D</td>\n      <td>1947.0</td>\n      <td>4.0</td>\n      <td>12.0</td>\n      <td>Sweden</td>\n      <td>NaN</td>\n      <td>Leksand</td>\n    </tr>\n    <tr>\n      <th>14</th>\n      <td>actonke01</td>\n      <td>Keith</td>\n      <td>Acton</td>\n      <td>C</td>\n      <td>1958.0</td>\n      <td>4.0</td>\n      <td>15.0</td>\n      <td>Canada</td>\n      <td>ON</td>\n      <td>Stouffville</td>\n    </tr>\n  </tbody>\n</table>\n</div>"
     },
     "execution_count": 38,
     "metadata": {},
     "output_type": "execute_result"
    }
   ],
   "source": [
    "master.head()\n"
   ],
   "metadata": {
    "collapsed": false,
    "pycharm": {
     "name": "#%%\n"
    }
   }
  },
  {
   "cell_type": "code",
   "execution_count": 39,
   "outputs": [
    {
     "data": {
      "text/plain": "          firstName     lastName pos  birthYear  birthMon  birthDay  \\\nplayerID                                                              \naaltoan01     Antti        Aalto   C     1975.0       3.0       4.0   \nabdelju01    Justin   Abdelkader   L     1987.0       2.0      25.0   \nabidra01      Ramzi         Abid   L     1980.0       3.0      24.0   \nabrahth01    Thommy  Abrahamsson   D     1947.0       4.0      12.0   \nactonke01     Keith        Acton   C     1958.0       4.0      15.0   \n\n          birthCountry birthState     birthCity  \nplayerID                                         \naaltoan01      Finland        NaN  Lappeenranta  \nabdelju01          USA         MI      Muskegon  \nabidra01        Canada         QC      Montreal  \nabrahth01       Sweden        NaN       Leksand  \nactonke01       Canada         ON   Stouffville  ",
      "text/html": "<div>\n<style scoped>\n    .dataframe tbody tr th:only-of-type {\n        vertical-align: middle;\n    }\n\n    .dataframe tbody tr th {\n        vertical-align: top;\n    }\n\n    .dataframe thead th {\n        text-align: right;\n    }\n</style>\n<table border=\"1\" class=\"dataframe\">\n  <thead>\n    <tr style=\"text-align: right;\">\n      <th></th>\n      <th>firstName</th>\n      <th>lastName</th>\n      <th>pos</th>\n      <th>birthYear</th>\n      <th>birthMon</th>\n      <th>birthDay</th>\n      <th>birthCountry</th>\n      <th>birthState</th>\n      <th>birthCity</th>\n    </tr>\n    <tr>\n      <th>playerID</th>\n      <th></th>\n      <th></th>\n      <th></th>\n      <th></th>\n      <th></th>\n      <th></th>\n      <th></th>\n      <th></th>\n      <th></th>\n    </tr>\n  </thead>\n  <tbody>\n    <tr>\n      <th>aaltoan01</th>\n      <td>Antti</td>\n      <td>Aalto</td>\n      <td>C</td>\n      <td>1975.0</td>\n      <td>3.0</td>\n      <td>4.0</td>\n      <td>Finland</td>\n      <td>NaN</td>\n      <td>Lappeenranta</td>\n    </tr>\n    <tr>\n      <th>abdelju01</th>\n      <td>Justin</td>\n      <td>Abdelkader</td>\n      <td>L</td>\n      <td>1987.0</td>\n      <td>2.0</td>\n      <td>25.0</td>\n      <td>USA</td>\n      <td>MI</td>\n      <td>Muskegon</td>\n    </tr>\n    <tr>\n      <th>abidra01</th>\n      <td>Ramzi</td>\n      <td>Abid</td>\n      <td>L</td>\n      <td>1980.0</td>\n      <td>3.0</td>\n      <td>24.0</td>\n      <td>Canada</td>\n      <td>QC</td>\n      <td>Montreal</td>\n    </tr>\n    <tr>\n      <th>abrahth01</th>\n      <td>Thommy</td>\n      <td>Abrahamsson</td>\n      <td>D</td>\n      <td>1947.0</td>\n      <td>4.0</td>\n      <td>12.0</td>\n      <td>Sweden</td>\n      <td>NaN</td>\n      <td>Leksand</td>\n    </tr>\n    <tr>\n      <th>actonke01</th>\n      <td>Keith</td>\n      <td>Acton</td>\n      <td>C</td>\n      <td>1958.0</td>\n      <td>4.0</td>\n      <td>15.0</td>\n      <td>Canada</td>\n      <td>ON</td>\n      <td>Stouffville</td>\n    </tr>\n  </tbody>\n</table>\n</div>"
     },
     "execution_count": 39,
     "metadata": {},
     "output_type": "execute_result"
    }
   ],
   "source": [
    "master = master.set_index('playerID')\n",
    "master.head()\n"
   ],
   "metadata": {
    "collapsed": false,
    "pycharm": {
     "name": "#%%\n"
    }
   }
  },
  {
   "cell_type": "code",
   "execution_count": 41,
   "outputs": [],
   "source": [
    "master.to_pickle(os.path.join('data','modified', 'master.pickle'))\n",
    "master.to_csv(os.path.join('data', 'modified', 'master.csv'))\n"
   ],
   "metadata": {
    "collapsed": false,
    "pycharm": {
     "name": "#%%\n"
    }
   }
  },
  {
   "cell_type": "markdown",
   "source": [
    "# Scoring.csv\n"
   ],
   "metadata": {
    "collapsed": false,
    "pycharm": {
     "name": "#%% md\n"
    }
   }
  },
  {
   "cell_type": "code",
   "execution_count": 59,
   "outputs": [
    {
     "name": "stdout",
     "output_type": "stream",
     "text": [
      "10.87 MiB\n"
     ]
    },
    {
     "data": {
      "text/plain": "(45967, 31)"
     },
     "execution_count": 59,
     "metadata": {},
     "output_type": "execute_result"
    }
   ],
   "source": [
    "original_scoring = pd.read_csv(os.path.join('data', 'Scoring.csv'))\n",
    "scoring = original_scoring.copy()\n",
    "mem_mib(scoring)\n",
    "scoring.shape\n"
   ],
   "metadata": {
    "collapsed": false,
    "pycharm": {
     "name": "#%%\n"
    }
   }
  },
  {
   "cell_type": "code",
   "execution_count": 60,
   "outputs": [
    {
     "data": {
      "text/plain": "(28616, 31)"
     },
     "execution_count": 60,
     "metadata": {},
     "output_type": "execute_result"
    }
   ],
   "source": [
    "def recent_nhl_only(df):\n",
    "    return df[(df[\"lgID\"] == \"NHL\") & (df[\"year\"] >= 1980)]\n",
    "\n",
    "scoring = recent_nhl_only(scoring)\n",
    "scoring.shape\n"
   ],
   "metadata": {
    "collapsed": false,
    "pycharm": {
     "name": "#%%\n"
    }
   }
  },
  {
   "cell_type": "code",
   "execution_count": 61,
   "outputs": [
    {
     "data": {
      "text/plain": "Index(['playerID', 'year', 'stint', 'tmID', 'lgID', 'pos', 'GP', 'G', 'A',\n       'Pts', 'PIM', '+/-', 'PPG', 'PPA', 'SHG', 'SHA', 'GWG', 'GTG', 'SOG',\n       'PostGP', 'PostG', 'PostA', 'PostPts', 'PostPIM', 'Post+/-', 'PostPPG',\n       'PostPPA', 'PostSHG', 'PostSHA', 'PostGWG', 'PostSOG'],\n      dtype='object')"
     },
     "execution_count": 61,
     "metadata": {},
     "output_type": "execute_result"
    }
   ],
   "source": [
    "scoring.columns\n"
   ],
   "metadata": {
    "collapsed": false,
    "pycharm": {
     "name": "#%%\n"
    }
   }
  },
  {
   "cell_type": "code",
   "execution_count": 62,
   "outputs": [
    {
     "data": {
      "text/plain": "    playerID  year  stint tmID lgID pos    GP    G     A   Pts   PIM   +/-  \\\n0  aaltoan01  1997      1  ANA  NHL   C   3.0  0.0   0.0   0.0   0.0  -1.0   \n1  aaltoan01  1998      1  ANA  NHL   C  73.0  3.0   5.0   8.0  24.0 -12.0   \n2  aaltoan01  1999      1  ANA  NHL   C  63.0  7.0  11.0  18.0  26.0 -13.0   \n3  aaltoan01  2000      1  ANA  NHL   C  12.0  1.0   1.0   2.0   2.0   1.0   \n7  abdelju01  2007      1  DET  NHL   L   2.0  0.0   0.0   0.0   2.0   0.0   \n\n   GWG  GTG    SOG  \n0  0.0  0.0    1.0  \n1  0.0  0.0   61.0  \n2  1.0  0.0  102.0  \n3  0.0  0.0   18.0  \n7  0.0  NaN    6.0  ",
      "text/html": "<div>\n<style scoped>\n    .dataframe tbody tr th:only-of-type {\n        vertical-align: middle;\n    }\n\n    .dataframe tbody tr th {\n        vertical-align: top;\n    }\n\n    .dataframe thead th {\n        text-align: right;\n    }\n</style>\n<table border=\"1\" class=\"dataframe\">\n  <thead>\n    <tr style=\"text-align: right;\">\n      <th></th>\n      <th>playerID</th>\n      <th>year</th>\n      <th>stint</th>\n      <th>tmID</th>\n      <th>lgID</th>\n      <th>pos</th>\n      <th>GP</th>\n      <th>G</th>\n      <th>A</th>\n      <th>Pts</th>\n      <th>PIM</th>\n      <th>+/-</th>\n      <th>GWG</th>\n      <th>GTG</th>\n      <th>SOG</th>\n    </tr>\n  </thead>\n  <tbody>\n    <tr>\n      <th>0</th>\n      <td>aaltoan01</td>\n      <td>1997</td>\n      <td>1</td>\n      <td>ANA</td>\n      <td>NHL</td>\n      <td>C</td>\n      <td>3.0</td>\n      <td>0.0</td>\n      <td>0.0</td>\n      <td>0.0</td>\n      <td>0.0</td>\n      <td>-1.0</td>\n      <td>0.0</td>\n      <td>0.0</td>\n      <td>1.0</td>\n    </tr>\n    <tr>\n      <th>1</th>\n      <td>aaltoan01</td>\n      <td>1998</td>\n      <td>1</td>\n      <td>ANA</td>\n      <td>NHL</td>\n      <td>C</td>\n      <td>73.0</td>\n      <td>3.0</td>\n      <td>5.0</td>\n      <td>8.0</td>\n      <td>24.0</td>\n      <td>-12.0</td>\n      <td>0.0</td>\n      <td>0.0</td>\n      <td>61.0</td>\n    </tr>\n    <tr>\n      <th>2</th>\n      <td>aaltoan01</td>\n      <td>1999</td>\n      <td>1</td>\n      <td>ANA</td>\n      <td>NHL</td>\n      <td>C</td>\n      <td>63.0</td>\n      <td>7.0</td>\n      <td>11.0</td>\n      <td>18.0</td>\n      <td>26.0</td>\n      <td>-13.0</td>\n      <td>1.0</td>\n      <td>0.0</td>\n      <td>102.0</td>\n    </tr>\n    <tr>\n      <th>3</th>\n      <td>aaltoan01</td>\n      <td>2000</td>\n      <td>1</td>\n      <td>ANA</td>\n      <td>NHL</td>\n      <td>C</td>\n      <td>12.0</td>\n      <td>1.0</td>\n      <td>1.0</td>\n      <td>2.0</td>\n      <td>2.0</td>\n      <td>1.0</td>\n      <td>0.0</td>\n      <td>0.0</td>\n      <td>18.0</td>\n    </tr>\n    <tr>\n      <th>7</th>\n      <td>abdelju01</td>\n      <td>2007</td>\n      <td>1</td>\n      <td>DET</td>\n      <td>NHL</td>\n      <td>L</td>\n      <td>2.0</td>\n      <td>0.0</td>\n      <td>0.0</td>\n      <td>0.0</td>\n      <td>2.0</td>\n      <td>0.0</td>\n      <td>0.0</td>\n      <td>NaN</td>\n      <td>6.0</td>\n    </tr>\n  </tbody>\n</table>\n</div>"
     },
     "execution_count": 62,
     "metadata": {},
     "output_type": "execute_result"
    }
   ],
   "source": [
    "scoring = scoring.filter(regex=\"^(?!(Post|PP|SH)).*\")\n",
    "scoring.head()"
   ],
   "metadata": {
    "collapsed": false,
    "pycharm": {
     "name": "#%%\n"
    }
   }
  },
  {
   "cell_type": "code",
   "execution_count": 63,
   "outputs": [
    {
     "data": {
      "text/plain": "Index(['playerID', 'year', 'stint', 'tmID', 'lgID', 'pos', 'GP', 'G', 'A',\n       'Pts', 'PIM', '+/-', 'GWG', 'GTG', 'SOG'],\n      dtype='object')"
     },
     "execution_count": 63,
     "metadata": {},
     "output_type": "execute_result"
    }
   ],
   "source": [
    "cols = scoring.columns\n",
    "cols"
   ],
   "metadata": {
    "collapsed": false,
    "pycharm": {
     "name": "#%%\n"
    }
   }
  },
  {
   "cell_type": "code",
   "execution_count": 64,
   "outputs": [
    {
     "data": {
      "text/plain": "Index(['playerID', 'year', 'tmID', 'GP', 'G', 'A', 'Pts', 'SOG'], dtype='object')"
     },
     "execution_count": 64,
     "metadata": {},
     "output_type": "execute_result"
    }
   ],
   "source": [
    "cols[[0,1,3,6,7,8,9,14]]\n"
   ],
   "metadata": {
    "collapsed": false,
    "pycharm": {
     "name": "#%%\n"
    }
   }
  },
  {
   "cell_type": "code",
   "execution_count": 65,
   "outputs": [
    {
     "data": {
      "text/plain": "    playerID  year tmID    GP    G     A   Pts    SOG\n0  aaltoan01  1997  ANA   3.0  0.0   0.0   0.0    1.0\n1  aaltoan01  1998  ANA  73.0  3.0   5.0   8.0   61.0\n2  aaltoan01  1999  ANA  63.0  7.0  11.0  18.0  102.0\n3  aaltoan01  2000  ANA  12.0  1.0   1.0   2.0   18.0\n7  abdelju01  2007  DET   2.0  0.0   0.0   0.0    6.0",
      "text/html": "<div>\n<style scoped>\n    .dataframe tbody tr th:only-of-type {\n        vertical-align: middle;\n    }\n\n    .dataframe tbody tr th {\n        vertical-align: top;\n    }\n\n    .dataframe thead th {\n        text-align: right;\n    }\n</style>\n<table border=\"1\" class=\"dataframe\">\n  <thead>\n    <tr style=\"text-align: right;\">\n      <th></th>\n      <th>playerID</th>\n      <th>year</th>\n      <th>tmID</th>\n      <th>GP</th>\n      <th>G</th>\n      <th>A</th>\n      <th>Pts</th>\n      <th>SOG</th>\n    </tr>\n  </thead>\n  <tbody>\n    <tr>\n      <th>0</th>\n      <td>aaltoan01</td>\n      <td>1997</td>\n      <td>ANA</td>\n      <td>3.0</td>\n      <td>0.0</td>\n      <td>0.0</td>\n      <td>0.0</td>\n      <td>1.0</td>\n    </tr>\n    <tr>\n      <th>1</th>\n      <td>aaltoan01</td>\n      <td>1998</td>\n      <td>ANA</td>\n      <td>73.0</td>\n      <td>3.0</td>\n      <td>5.0</td>\n      <td>8.0</td>\n      <td>61.0</td>\n    </tr>\n    <tr>\n      <th>2</th>\n      <td>aaltoan01</td>\n      <td>1999</td>\n      <td>ANA</td>\n      <td>63.0</td>\n      <td>7.0</td>\n      <td>11.0</td>\n      <td>18.0</td>\n      <td>102.0</td>\n    </tr>\n    <tr>\n      <th>3</th>\n      <td>aaltoan01</td>\n      <td>2000</td>\n      <td>ANA</td>\n      <td>12.0</td>\n      <td>1.0</td>\n      <td>1.0</td>\n      <td>2.0</td>\n      <td>18.0</td>\n    </tr>\n    <tr>\n      <th>7</th>\n      <td>abdelju01</td>\n      <td>2007</td>\n      <td>DET</td>\n      <td>2.0</td>\n      <td>0.0</td>\n      <td>0.0</td>\n      <td>0.0</td>\n      <td>6.0</td>\n    </tr>\n  </tbody>\n</table>\n</div>"
     },
     "execution_count": 65,
     "metadata": {},
     "output_type": "execute_result"
    }
   ],
   "source": [
    "cols_to_keep = ['playerID', 'year', 'tmID', 'GP', 'G', 'A', 'Pts', 'SOG']\n",
    "scoring = scoring.filter(cols_to_keep)\n",
    "scoring.head()\n"
   ],
   "metadata": {
    "collapsed": false,
    "pycharm": {
     "name": "#%%\n"
    }
   }
  },
  {
   "cell_type": "code",
   "execution_count": 70,
   "outputs": [
    {
     "data": {
      "text/plain": "PIT    1166\nNYR    1160\nTOR    1159\nLAK    1158\nNYI    1155\nBOS    1147\nPHI    1133\nCAL    1121\nWAS    1120\nEDM    1120\nCHI    1114\nSTL    1107\nVAN    1096\nMTL    1082\nBUF    1080\nDET    1039\nNJD     989\nTBL     715\nSJS     679\nOTT     673\nFLO     656\nDAL     637\nHAR     633\nWIN     584\nQUE     572\nPHO     557\nCOL     548\nMNS     507\nCAR     464\nNAS     463\nCBS     423\nANA     422\nATL     410\nMIN     384\nAND     224\nCOR      81\nWPG      38\nName: tmID, dtype: int64"
     },
     "execution_count": 70,
     "metadata": {},
     "output_type": "execute_result"
    }
   ],
   "source": [
    "scoring['tmID'].value_counts()"
   ],
   "metadata": {
    "collapsed": false,
    "pycharm": {
     "name": "#%%\n"
    }
   }
  },
  {
   "cell_type": "code",
   "execution_count": 71,
   "outputs": [
    {
     "data": {
      "text/plain": "    playerID  year tmID    GP    G     A   Pts    SOG\n0  aaltoan01  1997  ANA   3.0  0.0   0.0   0.0    1.0\n1  aaltoan01  1998  ANA  73.0  3.0   5.0   8.0   61.0\n2  aaltoan01  1999  ANA  63.0  7.0  11.0  18.0  102.0\n3  aaltoan01  2000  ANA  12.0  1.0   1.0   2.0   18.0\n7  abdelju01  2007  DET   2.0  0.0   0.0   0.0    6.0",
      "text/html": "<div>\n<style scoped>\n    .dataframe tbody tr th:only-of-type {\n        vertical-align: middle;\n    }\n\n    .dataframe tbody tr th {\n        vertical-align: top;\n    }\n\n    .dataframe thead th {\n        text-align: right;\n    }\n</style>\n<table border=\"1\" class=\"dataframe\">\n  <thead>\n    <tr style=\"text-align: right;\">\n      <th></th>\n      <th>playerID</th>\n      <th>year</th>\n      <th>tmID</th>\n      <th>GP</th>\n      <th>G</th>\n      <th>A</th>\n      <th>Pts</th>\n      <th>SOG</th>\n    </tr>\n  </thead>\n  <tbody>\n    <tr>\n      <th>0</th>\n      <td>aaltoan01</td>\n      <td>1997</td>\n      <td>ANA</td>\n      <td>3.0</td>\n      <td>0.0</td>\n      <td>0.0</td>\n      <td>0.0</td>\n      <td>1.0</td>\n    </tr>\n    <tr>\n      <th>1</th>\n      <td>aaltoan01</td>\n      <td>1998</td>\n      <td>ANA</td>\n      <td>73.0</td>\n      <td>3.0</td>\n      <td>5.0</td>\n      <td>8.0</td>\n      <td>61.0</td>\n    </tr>\n    <tr>\n      <th>2</th>\n      <td>aaltoan01</td>\n      <td>1999</td>\n      <td>ANA</td>\n      <td>63.0</td>\n      <td>7.0</td>\n      <td>11.0</td>\n      <td>18.0</td>\n      <td>102.0</td>\n    </tr>\n    <tr>\n      <th>3</th>\n      <td>aaltoan01</td>\n      <td>2000</td>\n      <td>ANA</td>\n      <td>12.0</td>\n      <td>1.0</td>\n      <td>1.0</td>\n      <td>2.0</td>\n      <td>18.0</td>\n    </tr>\n    <tr>\n      <th>7</th>\n      <td>abdelju01</td>\n      <td>2007</td>\n      <td>DET</td>\n      <td>2.0</td>\n      <td>0.0</td>\n      <td>0.0</td>\n      <td>0.0</td>\n      <td>6.0</td>\n    </tr>\n  </tbody>\n</table>\n</div>"
     },
     "execution_count": 71,
     "metadata": {},
     "output_type": "execute_result"
    }
   ],
   "source": [
    "make_categorical(scoring, 'tmID')\n",
    "scoring.head()\n"
   ],
   "metadata": {
    "collapsed": false,
    "pycharm": {
     "name": "#%%\n"
    }
   }
  },
  {
   "cell_type": "code",
   "execution_count": 72,
   "outputs": [
    {
     "data": {
      "text/plain": "   index   playerID  year tmID    GP    G     A   Pts    SOG\n0      0  aaltoan01  1997  ANA   3.0  0.0   0.0   0.0    1.0\n1      1  aaltoan01  1998  ANA  73.0  3.0   5.0   8.0   61.0\n2      2  aaltoan01  1999  ANA  63.0  7.0  11.0  18.0  102.0\n3      3  aaltoan01  2000  ANA  12.0  1.0   1.0   2.0   18.0\n4      7  abdelju01  2007  DET   2.0  0.0   0.0   0.0    6.0",
      "text/html": "<div>\n<style scoped>\n    .dataframe tbody tr th:only-of-type {\n        vertical-align: middle;\n    }\n\n    .dataframe tbody tr th {\n        vertical-align: top;\n    }\n\n    .dataframe thead th {\n        text-align: right;\n    }\n</style>\n<table border=\"1\" class=\"dataframe\">\n  <thead>\n    <tr style=\"text-align: right;\">\n      <th></th>\n      <th>index</th>\n      <th>playerID</th>\n      <th>year</th>\n      <th>tmID</th>\n      <th>GP</th>\n      <th>G</th>\n      <th>A</th>\n      <th>Pts</th>\n      <th>SOG</th>\n    </tr>\n  </thead>\n  <tbody>\n    <tr>\n      <th>0</th>\n      <td>0</td>\n      <td>aaltoan01</td>\n      <td>1997</td>\n      <td>ANA</td>\n      <td>3.0</td>\n      <td>0.0</td>\n      <td>0.0</td>\n      <td>0.0</td>\n      <td>1.0</td>\n    </tr>\n    <tr>\n      <th>1</th>\n      <td>1</td>\n      <td>aaltoan01</td>\n      <td>1998</td>\n      <td>ANA</td>\n      <td>73.0</td>\n      <td>3.0</td>\n      <td>5.0</td>\n      <td>8.0</td>\n      <td>61.0</td>\n    </tr>\n    <tr>\n      <th>2</th>\n      <td>2</td>\n      <td>aaltoan01</td>\n      <td>1999</td>\n      <td>ANA</td>\n      <td>63.0</td>\n      <td>7.0</td>\n      <td>11.0</td>\n      <td>18.0</td>\n      <td>102.0</td>\n    </tr>\n    <tr>\n      <th>3</th>\n      <td>3</td>\n      <td>aaltoan01</td>\n      <td>2000</td>\n      <td>ANA</td>\n      <td>12.0</td>\n      <td>1.0</td>\n      <td>1.0</td>\n      <td>2.0</td>\n      <td>18.0</td>\n    </tr>\n    <tr>\n      <th>4</th>\n      <td>7</td>\n      <td>abdelju01</td>\n      <td>2007</td>\n      <td>DET</td>\n      <td>2.0</td>\n      <td>0.0</td>\n      <td>0.0</td>\n      <td>0.0</td>\n      <td>6.0</td>\n    </tr>\n  </tbody>\n</table>\n</div>"
     },
     "execution_count": 72,
     "metadata": {},
     "output_type": "execute_result"
    }
   ],
   "source": [
    "scoring.reset_index().head()\n"
   ],
   "metadata": {
    "collapsed": false,
    "pycharm": {
     "name": "#%%\n"
    }
   }
  },
  {
   "cell_type": "code",
   "execution_count": 74,
   "outputs": [
    {
     "data": {
      "text/plain": "    playerID  year tmID    GP    G     A   Pts    SOG\n0  aaltoan01  1997  ANA   3.0  0.0   0.0   0.0    1.0\n1  aaltoan01  1998  ANA  73.0  3.0   5.0   8.0   61.0\n2  aaltoan01  1999  ANA  63.0  7.0  11.0  18.0  102.0\n3  aaltoan01  2000  ANA  12.0  1.0   1.0   2.0   18.0\n4  abdelju01  2007  DET   2.0  0.0   0.0   0.0    6.0",
      "text/html": "<div>\n<style scoped>\n    .dataframe tbody tr th:only-of-type {\n        vertical-align: middle;\n    }\n\n    .dataframe tbody tr th {\n        vertical-align: top;\n    }\n\n    .dataframe thead th {\n        text-align: right;\n    }\n</style>\n<table border=\"1\" class=\"dataframe\">\n  <thead>\n    <tr style=\"text-align: right;\">\n      <th></th>\n      <th>playerID</th>\n      <th>year</th>\n      <th>tmID</th>\n      <th>GP</th>\n      <th>G</th>\n      <th>A</th>\n      <th>Pts</th>\n      <th>SOG</th>\n    </tr>\n  </thead>\n  <tbody>\n    <tr>\n      <th>0</th>\n      <td>aaltoan01</td>\n      <td>1997</td>\n      <td>ANA</td>\n      <td>3.0</td>\n      <td>0.0</td>\n      <td>0.0</td>\n      <td>0.0</td>\n      <td>1.0</td>\n    </tr>\n    <tr>\n      <th>1</th>\n      <td>aaltoan01</td>\n      <td>1998</td>\n      <td>ANA</td>\n      <td>73.0</td>\n      <td>3.0</td>\n      <td>5.0</td>\n      <td>8.0</td>\n      <td>61.0</td>\n    </tr>\n    <tr>\n      <th>2</th>\n      <td>aaltoan01</td>\n      <td>1999</td>\n      <td>ANA</td>\n      <td>63.0</td>\n      <td>7.0</td>\n      <td>11.0</td>\n      <td>18.0</td>\n      <td>102.0</td>\n    </tr>\n    <tr>\n      <th>3</th>\n      <td>aaltoan01</td>\n      <td>2000</td>\n      <td>ANA</td>\n      <td>12.0</td>\n      <td>1.0</td>\n      <td>1.0</td>\n      <td>2.0</td>\n      <td>18.0</td>\n    </tr>\n    <tr>\n      <th>4</th>\n      <td>abdelju01</td>\n      <td>2007</td>\n      <td>DET</td>\n      <td>2.0</td>\n      <td>0.0</td>\n      <td>0.0</td>\n      <td>0.0</td>\n      <td>6.0</td>\n    </tr>\n  </tbody>\n</table>\n</div>"
     },
     "execution_count": 74,
     "metadata": {},
     "output_type": "execute_result"
    }
   ],
   "source": [
    "scoring.reset_index(drop=True, inplace=True)\n",
    "scoring.head()"
   ],
   "metadata": {
    "collapsed": false,
    "pycharm": {
     "name": "#%%\n"
    }
   }
  },
  {
   "cell_type": "code",
   "execution_count": 75,
   "outputs": [],
   "source": [
    "scoring.to_pickle(os.path.join('data','modified','scoring.pickle'))\n",
    "scoring.to_csv(os.path.join('data','modified','scoring.csv'))\n"
   ],
   "metadata": {
    "collapsed": false,
    "pycharm": {
     "name": "#%%\n"
    }
   }
  },
  {
   "cell_type": "markdown",
   "source": [
    "# Team.csv\n"
   ],
   "metadata": {
    "collapsed": false,
    "pycharm": {
     "name": "#%% md\n"
    }
   }
  },
  {
   "cell_type": "code",
   "execution_count": 78,
   "outputs": [
    {
     "data": {
      "text/plain": "(1519, 27)"
     },
     "execution_count": 78,
     "metadata": {},
     "output_type": "execute_result"
    }
   ],
   "source": [
    "teams = pd.read_csv(os.path.join('data', 'Teams.csv'))\n",
    "teams.shape\n"
   ],
   "metadata": {
    "collapsed": false,
    "pycharm": {
     "name": "#%%\n"
    }
   }
  },
  {
   "cell_type": "code",
   "execution_count": 79,
   "outputs": [
    {
     "data": {
      "text/plain": "Index(['year', 'lgID', 'tmID', 'franchID', 'confID', 'divID', 'rank',\n       'playoff', 'G', 'W', 'L', 'T', 'OTL', 'Pts', 'SoW', 'SoL', 'GF', 'GA',\n       'name', 'PIM', 'BenchMinor', 'PPG', 'PPC', 'SHA', 'PKG', 'PKC', 'SHF'],\n      dtype='object')"
     },
     "execution_count": 79,
     "metadata": {},
     "output_type": "execute_result"
    }
   ],
   "source": [
    "teams.columns\n"
   ],
   "metadata": {
    "collapsed": false,
    "pycharm": {
     "name": "#%%\n"
    }
   }
  },
  {
   "cell_type": "code",
   "execution_count": 80,
   "outputs": [
    {
     "data": {
      "text/plain": "     year tmID                 name\n727  1980  BOS        Boston Bruins\n728  1980  BUF       Buffalo Sabres\n729  1980  CAL       Calgary Flames\n730  1980  CHI  Chicago Black Hawks\n731  1980  COR     Colorado Rockies",
      "text/html": "<div>\n<style scoped>\n    .dataframe tbody tr th:only-of-type {\n        vertical-align: middle;\n    }\n\n    .dataframe tbody tr th {\n        vertical-align: top;\n    }\n\n    .dataframe thead th {\n        text-align: right;\n    }\n</style>\n<table border=\"1\" class=\"dataframe\">\n  <thead>\n    <tr style=\"text-align: right;\">\n      <th></th>\n      <th>year</th>\n      <th>tmID</th>\n      <th>name</th>\n    </tr>\n  </thead>\n  <tbody>\n    <tr>\n      <th>727</th>\n      <td>1980</td>\n      <td>BOS</td>\n      <td>Boston Bruins</td>\n    </tr>\n    <tr>\n      <th>728</th>\n      <td>1980</td>\n      <td>BUF</td>\n      <td>Buffalo Sabres</td>\n    </tr>\n    <tr>\n      <th>729</th>\n      <td>1980</td>\n      <td>CAL</td>\n      <td>Calgary Flames</td>\n    </tr>\n    <tr>\n      <th>730</th>\n      <td>1980</td>\n      <td>CHI</td>\n      <td>Chicago Black Hawks</td>\n    </tr>\n    <tr>\n      <th>731</th>\n      <td>1980</td>\n      <td>COR</td>\n      <td>Colorado Rockies</td>\n    </tr>\n  </tbody>\n</table>\n</div>"
     },
     "execution_count": 80,
     "metadata": {},
     "output_type": "execute_result"
    }
   ],
   "source": [
    "teams = recent_nhl_only(teams)\n",
    "teams = teams[['year','tmID', 'name']]\n",
    "teams.head()\n"
   ],
   "metadata": {
    "collapsed": false,
    "pycharm": {
     "name": "#%%\n"
    }
   }
  },
  {
   "cell_type": "code",
   "execution_count": 81,
   "outputs": [
    {
     "data": {
      "text/plain": "(792, 3)"
     },
     "execution_count": 81,
     "metadata": {},
     "output_type": "execute_result"
    }
   ],
   "source": [
    "teams.shape\n"
   ],
   "metadata": {
    "collapsed": false,
    "pycharm": {
     "name": "#%%\n"
    }
   }
  },
  {
   "cell_type": "code",
   "execution_count": 82,
   "outputs": [
    {
     "data": {
      "text/plain": "year    31\ntmID    37\nname    37\ndtype: int64"
     },
     "execution_count": 82,
     "metadata": {},
     "output_type": "execute_result"
    }
   ],
   "source": [
    "teams.nunique()\n"
   ],
   "metadata": {
    "collapsed": false,
    "pycharm": {
     "name": "#%%\n"
    }
   }
  },
  {
   "cell_type": "code",
   "execution_count": 83,
   "outputs": [],
   "source": [
    "make_categorical(teams, 'tmID')\n"
   ],
   "metadata": {
    "collapsed": false,
    "pycharm": {
     "name": "#%%\n"
    }
   }
  },
  {
   "cell_type": "code",
   "execution_count": 84,
   "outputs": [],
   "source": [
    "teams.to_pickle(os.path.join('data', 'modified', 'teams.pickle'))\n",
    "teams.to_csv(os.path.join('data', 'modified', 'teams.csv'))\n"
   ],
   "metadata": {
    "collapsed": false,
    "pycharm": {
     "name": "#%%\n"
    }
   }
  },
  {
   "cell_type": "markdown",
   "source": [
    "# TeamSplits.csv\n"
   ],
   "metadata": {
    "collapsed": false,
    "pycharm": {
     "name": "#%% md\n"
    }
   }
  },
  {
   "cell_type": "code",
   "execution_count": 85,
   "outputs": [
    {
     "data": {
      "text/plain": "(1519, 43)"
     },
     "execution_count": 85,
     "metadata": {},
     "output_type": "execute_result"
    }
   ],
   "source": [
    "team_splits = pd.read_csv(os.path.join('data', 'TeamSplits.csv'))\n",
    "team_splits.shape\n"
   ],
   "metadata": {
    "collapsed": false,
    "pycharm": {
     "name": "#%%\n"
    }
   }
  },
  {
   "cell_type": "code",
   "execution_count": 86,
   "outputs": [
    {
     "data": {
      "text/plain": "Index(['year', 'lgID', 'tmID', 'hW', 'hL', 'hT', 'hOTL', 'rW', 'rL', 'rT',\n       'rOTL', 'SepW', 'SepL', 'SepT', 'SepOL', 'OctW', 'OctL', 'OctT',\n       'OctOL', 'NovW', 'NovL', 'NovT', 'NovOL', 'DecW', 'DecL', 'DecT',\n       'DecOL', 'JanW', 'JanL', 'JanT', 'JanOL', 'FebW', 'FebL', 'FebT',\n       'FebOL', 'MarW', 'MarL', 'MarT', 'MarOL', 'AprW', 'AprL', 'AprT',\n       'AprOL'],\n      dtype='object')"
     },
     "execution_count": 86,
     "metadata": {},
     "output_type": "execute_result"
    }
   ],
   "source": [
    "team_splits.columns\n"
   ],
   "metadata": {
    "collapsed": false,
    "pycharm": {
     "name": "#%%\n"
    }
   }
  },
  {
   "cell_type": "code",
   "execution_count": 87,
   "outputs": [],
   "source": [
    "team_splits = recent_nhl_only(team_splits)\n"
   ],
   "metadata": {
    "collapsed": false,
    "pycharm": {
     "name": "#%%\n"
    }
   }
  },
  {
   "cell_type": "code",
   "execution_count": 88,
   "outputs": [
    {
     "data": {
      "text/plain": "Index(['year', 'lgID', 'tmID', 'hW', 'hL', 'hT', 'hOTL', 'rW', 'rL', 'rT',\n       'rOTL', 'SepW', 'SepL', 'SepT', 'SepOL', 'OctW', 'OctL', 'OctT',\n       'OctOL', 'NovW', 'NovL', 'NovT', 'NovOL', 'DecW', 'DecL', 'DecT',\n       'DecOL', 'JanW', 'JanL', 'JanT', 'JanOL', 'FebW', 'FebL', 'FebT',\n       'FebOL', 'MarW', 'MarL', 'MarT', 'MarOL', 'AprW', 'AprL', 'AprT',\n       'AprOL'],\n      dtype='object')"
     },
     "execution_count": 88,
     "metadata": {},
     "output_type": "execute_result"
    }
   ],
   "source": [
    "team_splits.columns\n"
   ],
   "metadata": {
    "collapsed": false,
    "pycharm": {
     "name": "#%%\n"
    }
   }
  },
  {
   "cell_type": "code",
   "execution_count": 89,
   "outputs": [
    {
     "data": {
      "text/plain": "Index(['hW', 'hL', 'hT', 'hOTL', 'rW', 'rL', 'rT', 'rOTL'], dtype='object')"
     },
     "execution_count": 89,
     "metadata": {},
     "output_type": "execute_result"
    }
   ],
   "source": [
    "cols_to_drop = team_splits.columns[3:11]\n",
    "cols_to_drop\n"
   ],
   "metadata": {
    "collapsed": false,
    "pycharm": {
     "name": "#%%\n"
    }
   }
  },
  {
   "cell_type": "code",
   "execution_count": 90,
   "outputs": [],
   "source": [
    "team_splits = team_splits.drop(columns=cols_to_drop)\n"
   ],
   "metadata": {
    "collapsed": false,
    "pycharm": {
     "name": "#%%\n"
    }
   }
  },
  {
   "cell_type": "code",
   "execution_count": 91,
   "outputs": [
    {
     "data": {
      "text/plain": "Index(['year', 'lgID', 'tmID', 'SepW', 'SepL', 'SepT', 'SepOL', 'OctW', 'OctL',\n       'OctT', 'OctOL', 'NovW', 'NovL', 'NovT', 'NovOL', 'DecW', 'DecL',\n       'DecT', 'DecOL', 'JanW', 'JanL', 'JanT', 'JanOL', 'FebW', 'FebL',\n       'FebT', 'FebOL', 'MarW', 'MarL', 'MarT', 'MarOL', 'AprW', 'AprL',\n       'AprT', 'AprOL'],\n      dtype='object')"
     },
     "execution_count": 91,
     "metadata": {},
     "output_type": "execute_result"
    }
   ],
   "source": [
    "team_splits.columns\n"
   ],
   "metadata": {
    "collapsed": false,
    "pycharm": {
     "name": "#%%\n"
    }
   }
  },
  {
   "cell_type": "code",
   "execution_count": 92,
   "outputs": [],
   "source": [
    "# rows can be dropped by row_labels\n",
    "# df.drop(rows=row_labels)    # <- to drop rows"
   ],
   "metadata": {
    "collapsed": false,
    "pycharm": {
     "name": "#%%\n"
    }
   }
  },
  {
   "cell_type": "code",
   "execution_count": 93,
   "outputs": [
    {
     "data": {
      "text/plain": "Index(['year', 'tmID', 'SepW', 'SepL', 'SepT', 'SepOL', 'OctW', 'OctL', 'OctT',\n       'OctOL', 'NovW', 'NovL', 'NovT', 'NovOL', 'DecW', 'DecL', 'DecT',\n       'DecOL', 'JanW', 'JanL', 'JanT', 'JanOL', 'FebW', 'FebL', 'FebT',\n       'FebOL', 'MarW', 'MarL', 'MarT', 'MarOL', 'AprW', 'AprL', 'AprT',\n       'AprOL'],\n      dtype='object')"
     },
     "execution_count": 93,
     "metadata": {},
     "output_type": "execute_result"
    }
   ],
   "source": [
    "team_splits = team_splits.drop(columns=\"lgID\")\n",
    "team_splits.columns\n"
   ],
   "metadata": {
    "collapsed": false,
    "pycharm": {
     "name": "#%%\n"
    }
   }
  },
  {
   "cell_type": "code",
   "execution_count": 94,
   "outputs": [],
   "source": [
    "make_categorical(team_splits, 'tmID')\n"
   ],
   "metadata": {
    "collapsed": false,
    "pycharm": {
     "name": "#%%\n"
    }
   }
  },
  {
   "cell_type": "code",
   "execution_count": 95,
   "outputs": [],
   "source": [
    "team_splits.to_pickle(os.path.join('data', 'modified', 'team_splits.pickle'))\n",
    "team_splits.to_csv(os.path.join('data', 'modified', 'team_splits.csv'))\n"
   ],
   "metadata": {
    "collapsed": false,
    "pycharm": {
     "name": "#%%\n"
    }
   }
  }
 ],
 "metadata": {
  "kernelspec": {
   "display_name": "Python 3",
   "language": "python",
   "name": "python3"
  },
  "language_info": {
   "codemirror_mode": {
    "name": "ipython",
    "version": 2
   },
   "file_extension": ".py",
   "mimetype": "text/x-python",
   "name": "python",
   "nbconvert_exporter": "python",
   "pygments_lexer": "ipython2",
   "version": "2.7.6"
  }
 },
 "nbformat": 4,
 "nbformat_minor": 0
}