{
 "cells": [
  {
   "cell_type": "markdown",
   "source": [
    "# Advanced Pandas - Multi Index\n",
    "**Abid Ali**\n",
    "\n",
    "Skype: Abd.Soft\n",
    "\n",
    "Email: [abdsoftfsd@gmail.com](mailto:abdsoftfsd@gmail.com)"
   ],
   "metadata": {
    "collapsed": false,
    "pycharm": {
     "name": "#%% md\n"
    }
   }
  },
  {
   "cell_type": "code",
   "execution_count": 1,
   "outputs": [],
   "source": [
    "import pandas as pd\n",
    "import os\n"
   ],
   "metadata": {
    "collapsed": false,
    "pycharm": {
     "name": "#%%\n"
    }
   }
  },
  {
   "cell_type": "code",
   "execution_count": 2,
   "outputs": [],
   "source": [
    "master = pd.read_pickle(os.path.join('data','modified', 'master.pickle'))\n",
    "scoring = pd.read_pickle(os.path.join('data','modified', 'scoring_merged.pickle'))\n",
    "team_splits = pd.read_pickle(os.path.join('data','modified', 'team_splits_merged.pickle'))\n"
   ],
   "metadata": {
    "collapsed": false,
    "pycharm": {
     "name": "#%%\n"
    }
   }
  },
  {
   "cell_type": "code",
   "execution_count": 3,
   "outputs": [
    {
     "data": {
      "text/plain": "  firstName    lastName pos   playerID  year tmID    GP    G     A   Pts  \\\n0     Antti       Aalto   C  aaltoan01  1997  ANA   3.0  0.0   0.0   0.0   \n1     Antti       Aalto   C  aaltoan01  1998  ANA  73.0  3.0   5.0   8.0   \n2     Antti       Aalto   C  aaltoan01  1999  ANA  63.0  7.0  11.0  18.0   \n3     Antti       Aalto   C  aaltoan01  2000  ANA  12.0  1.0   1.0   2.0   \n4    Justin  Abdelkader   L  abdelju01  2007  DET   2.0  0.0   0.0   0.0   \n\n     SOG  \n0    1.0  \n1   61.0  \n2  102.0  \n3   18.0  \n4    6.0  ",
      "text/html": "<div>\n<style scoped>\n    .dataframe tbody tr th:only-of-type {\n        vertical-align: middle;\n    }\n\n    .dataframe tbody tr th {\n        vertical-align: top;\n    }\n\n    .dataframe thead th {\n        text-align: right;\n    }\n</style>\n<table border=\"1\" class=\"dataframe\">\n  <thead>\n    <tr style=\"text-align: right;\">\n      <th></th>\n      <th>firstName</th>\n      <th>lastName</th>\n      <th>pos</th>\n      <th>playerID</th>\n      <th>year</th>\n      <th>tmID</th>\n      <th>GP</th>\n      <th>G</th>\n      <th>A</th>\n      <th>Pts</th>\n      <th>SOG</th>\n    </tr>\n  </thead>\n  <tbody>\n    <tr>\n      <th>0</th>\n      <td>Antti</td>\n      <td>Aalto</td>\n      <td>C</td>\n      <td>aaltoan01</td>\n      <td>1997</td>\n      <td>ANA</td>\n      <td>3.0</td>\n      <td>0.0</td>\n      <td>0.0</td>\n      <td>0.0</td>\n      <td>1.0</td>\n    </tr>\n    <tr>\n      <th>1</th>\n      <td>Antti</td>\n      <td>Aalto</td>\n      <td>C</td>\n      <td>aaltoan01</td>\n      <td>1998</td>\n      <td>ANA</td>\n      <td>73.0</td>\n      <td>3.0</td>\n      <td>5.0</td>\n      <td>8.0</td>\n      <td>61.0</td>\n    </tr>\n    <tr>\n      <th>2</th>\n      <td>Antti</td>\n      <td>Aalto</td>\n      <td>C</td>\n      <td>aaltoan01</td>\n      <td>1999</td>\n      <td>ANA</td>\n      <td>63.0</td>\n      <td>7.0</td>\n      <td>11.0</td>\n      <td>18.0</td>\n      <td>102.0</td>\n    </tr>\n    <tr>\n      <th>3</th>\n      <td>Antti</td>\n      <td>Aalto</td>\n      <td>C</td>\n      <td>aaltoan01</td>\n      <td>2000</td>\n      <td>ANA</td>\n      <td>12.0</td>\n      <td>1.0</td>\n      <td>1.0</td>\n      <td>2.0</td>\n      <td>18.0</td>\n    </tr>\n    <tr>\n      <th>4</th>\n      <td>Justin</td>\n      <td>Abdelkader</td>\n      <td>L</td>\n      <td>abdelju01</td>\n      <td>2007</td>\n      <td>DET</td>\n      <td>2.0</td>\n      <td>0.0</td>\n      <td>0.0</td>\n      <td>0.0</td>\n      <td>6.0</td>\n    </tr>\n  </tbody>\n</table>\n</div>"
     },
     "execution_count": 3,
     "metadata": {},
     "output_type": "execute_result"
    }
   ],
   "source": [
    "scoring.head()\n"
   ],
   "metadata": {
    "collapsed": false,
    "pycharm": {
     "name": "#%%\n"
    }
   }
  },
  {
   "cell_type": "code",
   "execution_count": 4,
   "outputs": [
    {
     "data": {
      "text/plain": "               firstName    lastName pos tmID    GP    G     A   Pts    SOG\nplayerID  year                                                             \naaltoan01 1997     Antti       Aalto   C  ANA   3.0  0.0   0.0   0.0    1.0\n          1998     Antti       Aalto   C  ANA  73.0  3.0   5.0   8.0   61.0\n          1999     Antti       Aalto   C  ANA  63.0  7.0  11.0  18.0  102.0\n          2000     Antti       Aalto   C  ANA  12.0  1.0   1.0   2.0   18.0\nabdelju01 2007    Justin  Abdelkader   L  DET   2.0  0.0   0.0   0.0    6.0",
      "text/html": "<div>\n<style scoped>\n    .dataframe tbody tr th:only-of-type {\n        vertical-align: middle;\n    }\n\n    .dataframe tbody tr th {\n        vertical-align: top;\n    }\n\n    .dataframe thead th {\n        text-align: right;\n    }\n</style>\n<table border=\"1\" class=\"dataframe\">\n  <thead>\n    <tr style=\"text-align: right;\">\n      <th></th>\n      <th></th>\n      <th>firstName</th>\n      <th>lastName</th>\n      <th>pos</th>\n      <th>tmID</th>\n      <th>GP</th>\n      <th>G</th>\n      <th>A</th>\n      <th>Pts</th>\n      <th>SOG</th>\n    </tr>\n    <tr>\n      <th>playerID</th>\n      <th>year</th>\n      <th></th>\n      <th></th>\n      <th></th>\n      <th></th>\n      <th></th>\n      <th></th>\n      <th></th>\n      <th></th>\n      <th></th>\n    </tr>\n  </thead>\n  <tbody>\n    <tr>\n      <th rowspan=\"4\" valign=\"top\">aaltoan01</th>\n      <th>1997</th>\n      <td>Antti</td>\n      <td>Aalto</td>\n      <td>C</td>\n      <td>ANA</td>\n      <td>3.0</td>\n      <td>0.0</td>\n      <td>0.0</td>\n      <td>0.0</td>\n      <td>1.0</td>\n    </tr>\n    <tr>\n      <th>1998</th>\n      <td>Antti</td>\n      <td>Aalto</td>\n      <td>C</td>\n      <td>ANA</td>\n      <td>73.0</td>\n      <td>3.0</td>\n      <td>5.0</td>\n      <td>8.0</td>\n      <td>61.0</td>\n    </tr>\n    <tr>\n      <th>1999</th>\n      <td>Antti</td>\n      <td>Aalto</td>\n      <td>C</td>\n      <td>ANA</td>\n      <td>63.0</td>\n      <td>7.0</td>\n      <td>11.0</td>\n      <td>18.0</td>\n      <td>102.0</td>\n    </tr>\n    <tr>\n      <th>2000</th>\n      <td>Antti</td>\n      <td>Aalto</td>\n      <td>C</td>\n      <td>ANA</td>\n      <td>12.0</td>\n      <td>1.0</td>\n      <td>1.0</td>\n      <td>2.0</td>\n      <td>18.0</td>\n    </tr>\n    <tr>\n      <th>abdelju01</th>\n      <th>2007</th>\n      <td>Justin</td>\n      <td>Abdelkader</td>\n      <td>L</td>\n      <td>DET</td>\n      <td>2.0</td>\n      <td>0.0</td>\n      <td>0.0</td>\n      <td>0.0</td>\n      <td>6.0</td>\n    </tr>\n  </tbody>\n</table>\n</div>"
     },
     "execution_count": 4,
     "metadata": {},
     "output_type": "execute_result"
    }
   ],
   "source": [
    "mi = scoring.set_index(['playerID', 'year'])\n",
    "mi.head()\n"
   ],
   "metadata": {
    "collapsed": false,
    "pycharm": {
     "name": "#%%\n"
    }
   }
  },
  {
   "cell_type": "code",
   "execution_count": 5,
   "outputs": [
    {
     "data": {
      "text/plain": "MultiIndex([('aaltoan01', 1997),\n            ('aaltoan01', 1998),\n            ('aaltoan01', 1999),\n            ('aaltoan01', 2000),\n            ('abdelju01', 2007),\n            ('abdelju01', 2008),\n            ('abdelju01', 2009),\n            ('abdelju01', 2010),\n            ('abdelju01', 2011),\n            ( 'abidra01', 2002),\n            ...\n            ('zyuzian01', 1999),\n            ('zyuzian01', 2000),\n            ('zyuzian01', 2001),\n            ('zyuzian01', 2001),\n            ('zyuzian01', 2002),\n            ('zyuzian01', 2002),\n            ('zyuzian01', 2003),\n            ('zyuzian01', 2005),\n            ('zyuzian01', 2006),\n            ('zyuzian01', 2007)],\n           names=['playerID', 'year'], length=28616)"
     },
     "execution_count": 5,
     "metadata": {},
     "output_type": "execute_result"
    }
   ],
   "source": [
    "mi.index\n"
   ],
   "metadata": {
    "collapsed": false,
    "pycharm": {
     "name": "#%%\n"
    }
   }
  },
  {
   "cell_type": "code",
   "execution_count": 6,
   "outputs": [
    {
     "data": {
      "text/plain": "2"
     },
     "execution_count": 6,
     "metadata": {},
     "output_type": "execute_result"
    }
   ],
   "source": [
    "len(mi.index.levels)\n"
   ],
   "metadata": {
    "collapsed": false,
    "pycharm": {
     "name": "#%%\n"
    }
   }
  },
  {
   "cell_type": "code",
   "execution_count": 7,
   "outputs": [
    {
     "data": {
      "text/plain": "2"
     },
     "execution_count": 7,
     "metadata": {},
     "output_type": "execute_result"
    }
   ],
   "source": [
    "mi.index.nlevels\n"
   ],
   "metadata": {
    "collapsed": false,
    "pycharm": {
     "name": "#%%\n"
    }
   }
  },
  {
   "cell_type": "code",
   "execution_count": 8,
   "outputs": [
    {
     "data": {
      "text/plain": "Index(['aaltoan01', 'abdelju01', 'abidra01', 'abrahth01', 'actonke01',\n       'adamlu01', 'adamru01', 'adamsbr01', 'adamscr01', 'adamsgr01',\n       ...\n       'zolniha01', 'zombori01', 'zubaran01', 'zubovil01', 'zubovse01',\n       'zubruda01', 'zuccama01', 'zuckeja01', 'zukemi01', 'zyuzian01'],\n      dtype='object', name='playerID', length=4627)"
     },
     "execution_count": 8,
     "metadata": {},
     "output_type": "execute_result"
    }
   ],
   "source": [
    "mi.index.levels[0]\n"
   ],
   "metadata": {
    "collapsed": false,
    "pycharm": {
     "name": "#%%\n"
    }
   }
  },
  {
   "cell_type": "code",
   "execution_count": 9,
   "outputs": [
    {
     "data": {
      "text/plain": "Int64Index([1980, 1981, 1982, 1983, 1984, 1985, 1986, 1987, 1988, 1989, 1990,\n            1991, 1992, 1993, 1994, 1995, 1996, 1997, 1998, 1999, 2000, 2001,\n            2002, 2003, 2005, 2006, 2007, 2008, 2009, 2010, 2011],\n           dtype='int64', name='year')"
     },
     "execution_count": 9,
     "metadata": {},
     "output_type": "execute_result"
    }
   ],
   "source": [
    "mi.index.levels[1]\n"
   ],
   "metadata": {
    "collapsed": false,
    "pycharm": {
     "name": "#%%\n"
    }
   }
  },
  {
   "cell_type": "code",
   "execution_count": 12,
   "outputs": [
    {
     "data": {
      "text/plain": "year\n1980    68.0\n1981    92.0\n1982    71.0\n1983    87.0\n1984    73.0\nName: G, dtype: float64"
     },
     "execution_count": 12,
     "metadata": {},
     "output_type": "execute_result"
    }
   ],
   "source": [
    "mi.groupby(level='year')['G'].max().head()\n"
   ],
   "metadata": {
    "collapsed": false,
    "pycharm": {
     "name": "#%%\n"
    }
   }
  },
  {
   "cell_type": "code",
   "execution_count": 15,
   "outputs": [
    {
     "data": {
      "text/plain": "year\n1980    (bossymi01, 1980)\n1981    (gretzwa01, 1981)\n1982    (gretzwa01, 1982)\n1983    (gretzwa01, 1983)\n1984    (gretzwa01, 1984)\nName: G, dtype: object"
     },
     "execution_count": 15,
     "metadata": {},
     "output_type": "execute_result"
    }
   ],
   "source": [
    "mi.groupby(level='year')['G'].idxmax().head()\n"
   ],
   "metadata": {
    "collapsed": false,
    "pycharm": {
     "name": "#%%\n"
    }
   }
  },
  {
   "cell_type": "code",
   "execution_count": 19,
   "outputs": [
    {
     "data": {
      "text/plain": "                firstName lastName     G      A\nplayerID  year                                 \nbossymi01 1980       Mike    Bossy  68.0   51.0\ngretzwa01 1981      Wayne  Gretzky  92.0  120.0\n          1982      Wayne  Gretzky  71.0  125.0\n          1983      Wayne  Gretzky  87.0  118.0\n          1984      Wayne  Gretzky  73.0  135.0\nkurrija01 1985       Jari    Kurri  68.0   63.0\ngretzwa01 1986      Wayne  Gretzky  62.0  121.0\nlemiema01 1987      Mario  Lemieux  70.0   98.0\n          1988      Mario  Lemieux  85.0  114.0\nhullbr01  1989      Brett     Hull  72.0   41.0\n          1990      Brett     Hull  86.0   45.0\n          1991      Brett     Hull  70.0   39.0\nmogilal01 1992  Alexander  Mogilny  76.0   51.0\nburepa01  1993      Pavel     Bure  60.0   47.0\nbondrpe01 1994      Peter   Bondra  34.0    9.0\nlemiema01 1995      Mario  Lemieux  69.0   92.0\ntkachke01 1996      Keith  Tkachuk  52.0   34.0\nbondrpe01 1997      Peter   Bondra  52.0   26.0\nselante01 1998      Teemu  Selanne  47.0   60.0\nburepa01  1999      Pavel     Bure  58.0   36.0",
      "text/html": "<div>\n<style scoped>\n    .dataframe tbody tr th:only-of-type {\n        vertical-align: middle;\n    }\n\n    .dataframe tbody tr th {\n        vertical-align: top;\n    }\n\n    .dataframe thead th {\n        text-align: right;\n    }\n</style>\n<table border=\"1\" class=\"dataframe\">\n  <thead>\n    <tr style=\"text-align: right;\">\n      <th></th>\n      <th></th>\n      <th>firstName</th>\n      <th>lastName</th>\n      <th>G</th>\n      <th>A</th>\n    </tr>\n    <tr>\n      <th>playerID</th>\n      <th>year</th>\n      <th></th>\n      <th></th>\n      <th></th>\n      <th></th>\n    </tr>\n  </thead>\n  <tbody>\n    <tr>\n      <th>bossymi01</th>\n      <th>1980</th>\n      <td>Mike</td>\n      <td>Bossy</td>\n      <td>68.0</td>\n      <td>51.0</td>\n    </tr>\n    <tr>\n      <th rowspan=\"4\" valign=\"top\">gretzwa01</th>\n      <th>1981</th>\n      <td>Wayne</td>\n      <td>Gretzky</td>\n      <td>92.0</td>\n      <td>120.0</td>\n    </tr>\n    <tr>\n      <th>1982</th>\n      <td>Wayne</td>\n      <td>Gretzky</td>\n      <td>71.0</td>\n      <td>125.0</td>\n    </tr>\n    <tr>\n      <th>1983</th>\n      <td>Wayne</td>\n      <td>Gretzky</td>\n      <td>87.0</td>\n      <td>118.0</td>\n    </tr>\n    <tr>\n      <th>1984</th>\n      <td>Wayne</td>\n      <td>Gretzky</td>\n      <td>73.0</td>\n      <td>135.0</td>\n    </tr>\n    <tr>\n      <th>kurrija01</th>\n      <th>1985</th>\n      <td>Jari</td>\n      <td>Kurri</td>\n      <td>68.0</td>\n      <td>63.0</td>\n    </tr>\n    <tr>\n      <th>gretzwa01</th>\n      <th>1986</th>\n      <td>Wayne</td>\n      <td>Gretzky</td>\n      <td>62.0</td>\n      <td>121.0</td>\n    </tr>\n    <tr>\n      <th rowspan=\"2\" valign=\"top\">lemiema01</th>\n      <th>1987</th>\n      <td>Mario</td>\n      <td>Lemieux</td>\n      <td>70.0</td>\n      <td>98.0</td>\n    </tr>\n    <tr>\n      <th>1988</th>\n      <td>Mario</td>\n      <td>Lemieux</td>\n      <td>85.0</td>\n      <td>114.0</td>\n    </tr>\n    <tr>\n      <th rowspan=\"3\" valign=\"top\">hullbr01</th>\n      <th>1989</th>\n      <td>Brett</td>\n      <td>Hull</td>\n      <td>72.0</td>\n      <td>41.0</td>\n    </tr>\n    <tr>\n      <th>1990</th>\n      <td>Brett</td>\n      <td>Hull</td>\n      <td>86.0</td>\n      <td>45.0</td>\n    </tr>\n    <tr>\n      <th>1991</th>\n      <td>Brett</td>\n      <td>Hull</td>\n      <td>70.0</td>\n      <td>39.0</td>\n    </tr>\n    <tr>\n      <th>mogilal01</th>\n      <th>1992</th>\n      <td>Alexander</td>\n      <td>Mogilny</td>\n      <td>76.0</td>\n      <td>51.0</td>\n    </tr>\n    <tr>\n      <th>burepa01</th>\n      <th>1993</th>\n      <td>Pavel</td>\n      <td>Bure</td>\n      <td>60.0</td>\n      <td>47.0</td>\n    </tr>\n    <tr>\n      <th>bondrpe01</th>\n      <th>1994</th>\n      <td>Peter</td>\n      <td>Bondra</td>\n      <td>34.0</td>\n      <td>9.0</td>\n    </tr>\n    <tr>\n      <th>lemiema01</th>\n      <th>1995</th>\n      <td>Mario</td>\n      <td>Lemieux</td>\n      <td>69.0</td>\n      <td>92.0</td>\n    </tr>\n    <tr>\n      <th>tkachke01</th>\n      <th>1996</th>\n      <td>Keith</td>\n      <td>Tkachuk</td>\n      <td>52.0</td>\n      <td>34.0</td>\n    </tr>\n    <tr>\n      <th>bondrpe01</th>\n      <th>1997</th>\n      <td>Peter</td>\n      <td>Bondra</td>\n      <td>52.0</td>\n      <td>26.0</td>\n    </tr>\n    <tr>\n      <th>selante01</th>\n      <th>1998</th>\n      <td>Teemu</td>\n      <td>Selanne</td>\n      <td>47.0</td>\n      <td>60.0</td>\n    </tr>\n    <tr>\n      <th>burepa01</th>\n      <th>1999</th>\n      <td>Pavel</td>\n      <td>Bure</td>\n      <td>58.0</td>\n      <td>36.0</td>\n    </tr>\n  </tbody>\n</table>\n</div>"
     },
     "execution_count": 19,
     "metadata": {},
     "output_type": "execute_result"
    }
   ],
   "source": [
    "mi.loc[mi.groupby(level='year')['G'].idxmax()][['firstName', 'lastName', 'G', 'A']].head(20)\n"
   ],
   "metadata": {
    "collapsed": false,
    "pycharm": {
     "name": "#%%\n"
    }
   }
  },
  {
   "cell_type": "code",
   "execution_count": 20,
   "outputs": [
    {
     "data": {
      "text/plain": "               firstName lastName pos tmID    GP     G      A    Pts    SOG\nplayerID  year                                                             \ngretzwa01 1982     Wayne  Gretzky   C  EDM  80.0  71.0  125.0  196.0  348.0",
      "text/html": "<div>\n<style scoped>\n    .dataframe tbody tr th:only-of-type {\n        vertical-align: middle;\n    }\n\n    .dataframe tbody tr th {\n        vertical-align: top;\n    }\n\n    .dataframe thead th {\n        text-align: right;\n    }\n</style>\n<table border=\"1\" class=\"dataframe\">\n  <thead>\n    <tr style=\"text-align: right;\">\n      <th></th>\n      <th></th>\n      <th>firstName</th>\n      <th>lastName</th>\n      <th>pos</th>\n      <th>tmID</th>\n      <th>GP</th>\n      <th>G</th>\n      <th>A</th>\n      <th>Pts</th>\n      <th>SOG</th>\n    </tr>\n    <tr>\n      <th>playerID</th>\n      <th>year</th>\n      <th></th>\n      <th></th>\n      <th></th>\n      <th></th>\n      <th></th>\n      <th></th>\n      <th></th>\n      <th></th>\n      <th></th>\n    </tr>\n  </thead>\n  <tbody>\n    <tr>\n      <th>gretzwa01</th>\n      <th>1982</th>\n      <td>Wayne</td>\n      <td>Gretzky</td>\n      <td>C</td>\n      <td>EDM</td>\n      <td>80.0</td>\n      <td>71.0</td>\n      <td>125.0</td>\n      <td>196.0</td>\n      <td>348.0</td>\n    </tr>\n  </tbody>\n</table>\n</div>"
     },
     "execution_count": 20,
     "metadata": {},
     "output_type": "execute_result"
    }
   ],
   "source": [
    "mi.loc[('gretzwa01', 1982), :]\n"
   ],
   "metadata": {
    "collapsed": false,
    "pycharm": {
     "name": "#%%\n"
    }
   }
  },
  {
   "cell_type": "code",
   "execution_count": 21,
   "outputs": [],
   "source": [
    "idx = pd.IndexSlice\n",
    "mi2 = mi.sort_index()\n"
   ],
   "metadata": {
    "collapsed": false,
    "pycharm": {
     "name": "#%%\n"
    }
   }
  },
  {
   "cell_type": "markdown",
   "source": [
    "for slicing to work correctly, index must be sorted lexicographically first.\n"
   ],
   "metadata": {
    "collapsed": false,
    "pycharm": {
     "name": "#%% md\n"
    }
   }
  },
  {
   "cell_type": "code",
   "execution_count": 28,
   "outputs": [
    {
     "data": {
      "text/plain": "True"
     },
     "execution_count": 28,
     "metadata": {},
     "output_type": "execute_result"
    }
   ],
   "source": [
    "# mi.index.is_lexsorted()\n",
    "# mi.index.is_monotonic_decreasing\n",
    "mi.index.is_monotonic_increasing"
   ],
   "metadata": {
    "collapsed": false,
    "pycharm": {
     "name": "#%%\n"
    }
   }
  },
  {
   "cell_type": "code",
   "execution_count": 29,
   "outputs": [
    {
     "data": {
      "text/plain": "               firstName lastName pos tmID    GP    G     A   Pts    SOG\nplayerID  year                                                          \naaltoan01 1997     Antti    Aalto   C  ANA   3.0  0.0   0.0   0.0    1.0\n          1998     Antti    Aalto   C  ANA  73.0  3.0   5.0   8.0   61.0\n          1999     Antti    Aalto   C  ANA  63.0  7.0  11.0  18.0  102.0\n          2000     Antti    Aalto   C  ANA  12.0  1.0   1.0   2.0   18.0\nadamsbr01 1999     Bryan    Adams   L  ATL   2.0  0.0   0.0   0.0    1.0",
      "text/html": "<div>\n<style scoped>\n    .dataframe tbody tr th:only-of-type {\n        vertical-align: middle;\n    }\n\n    .dataframe tbody tr th {\n        vertical-align: top;\n    }\n\n    .dataframe thead th {\n        text-align: right;\n    }\n</style>\n<table border=\"1\" class=\"dataframe\">\n  <thead>\n    <tr style=\"text-align: right;\">\n      <th></th>\n      <th></th>\n      <th>firstName</th>\n      <th>lastName</th>\n      <th>pos</th>\n      <th>tmID</th>\n      <th>GP</th>\n      <th>G</th>\n      <th>A</th>\n      <th>Pts</th>\n      <th>SOG</th>\n    </tr>\n    <tr>\n      <th>playerID</th>\n      <th>year</th>\n      <th></th>\n      <th></th>\n      <th></th>\n      <th></th>\n      <th></th>\n      <th></th>\n      <th></th>\n      <th></th>\n      <th></th>\n    </tr>\n  </thead>\n  <tbody>\n    <tr>\n      <th rowspan=\"4\" valign=\"top\">aaltoan01</th>\n      <th>1997</th>\n      <td>Antti</td>\n      <td>Aalto</td>\n      <td>C</td>\n      <td>ANA</td>\n      <td>3.0</td>\n      <td>0.0</td>\n      <td>0.0</td>\n      <td>0.0</td>\n      <td>1.0</td>\n    </tr>\n    <tr>\n      <th>1998</th>\n      <td>Antti</td>\n      <td>Aalto</td>\n      <td>C</td>\n      <td>ANA</td>\n      <td>73.0</td>\n      <td>3.0</td>\n      <td>5.0</td>\n      <td>8.0</td>\n      <td>61.0</td>\n    </tr>\n    <tr>\n      <th>1999</th>\n      <td>Antti</td>\n      <td>Aalto</td>\n      <td>C</td>\n      <td>ANA</td>\n      <td>63.0</td>\n      <td>7.0</td>\n      <td>11.0</td>\n      <td>18.0</td>\n      <td>102.0</td>\n    </tr>\n    <tr>\n      <th>2000</th>\n      <td>Antti</td>\n      <td>Aalto</td>\n      <td>C</td>\n      <td>ANA</td>\n      <td>12.0</td>\n      <td>1.0</td>\n      <td>1.0</td>\n      <td>2.0</td>\n      <td>18.0</td>\n    </tr>\n    <tr>\n      <th>adamsbr01</th>\n      <th>1999</th>\n      <td>Bryan</td>\n      <td>Adams</td>\n      <td>L</td>\n      <td>ATL</td>\n      <td>2.0</td>\n      <td>0.0</td>\n      <td>0.0</td>\n      <td>0.0</td>\n      <td>1.0</td>\n    </tr>\n  </tbody>\n</table>\n</div>"
     },
     "execution_count": 29,
     "metadata": {},
     "output_type": "execute_result"
    }
   ],
   "source": [
    "sliced = mi.loc[idx[:, 1997:2000], :]\n",
    "sliced.head()\n"
   ],
   "metadata": {
    "collapsed": false,
    "pycharm": {
     "name": "#%%\n"
    }
   }
  },
  {
   "cell_type": "code",
   "execution_count": 30,
   "outputs": [
    {
     "data": {
      "text/plain": "               firstName lastName pos tmID    GP    G     A   Pts    SOG\nplayerID  year                                                          \naaltoan01 1997     Antti    Aalto   C  ANA   3.0  0.0   0.0   0.0    1.0\n          1999     Antti    Aalto   C  ANA  63.0  7.0  11.0  18.0  102.0\nabidra01  2003     Ramzi     Abid   L  PIT  16.0  3.0   2.0   5.0   35.0\nadamsbr01 1999     Bryan    Adams   L  ATL   2.0  0.0   0.0   0.0    1.0\nadamscr01 2001     Craig    Adams   R  CAR  33.0  0.0   1.0   1.0   17.0",
      "text/html": "<div>\n<style scoped>\n    .dataframe tbody tr th:only-of-type {\n        vertical-align: middle;\n    }\n\n    .dataframe tbody tr th {\n        vertical-align: top;\n    }\n\n    .dataframe thead th {\n        text-align: right;\n    }\n</style>\n<table border=\"1\" class=\"dataframe\">\n  <thead>\n    <tr style=\"text-align: right;\">\n      <th></th>\n      <th></th>\n      <th>firstName</th>\n      <th>lastName</th>\n      <th>pos</th>\n      <th>tmID</th>\n      <th>GP</th>\n      <th>G</th>\n      <th>A</th>\n      <th>Pts</th>\n      <th>SOG</th>\n    </tr>\n    <tr>\n      <th>playerID</th>\n      <th>year</th>\n      <th></th>\n      <th></th>\n      <th></th>\n      <th></th>\n      <th></th>\n      <th></th>\n      <th></th>\n      <th></th>\n      <th></th>\n    </tr>\n  </thead>\n  <tbody>\n    <tr>\n      <th rowspan=\"2\" valign=\"top\">aaltoan01</th>\n      <th>1997</th>\n      <td>Antti</td>\n      <td>Aalto</td>\n      <td>C</td>\n      <td>ANA</td>\n      <td>3.0</td>\n      <td>0.0</td>\n      <td>0.0</td>\n      <td>0.0</td>\n      <td>1.0</td>\n    </tr>\n    <tr>\n      <th>1999</th>\n      <td>Antti</td>\n      <td>Aalto</td>\n      <td>C</td>\n      <td>ANA</td>\n      <td>63.0</td>\n      <td>7.0</td>\n      <td>11.0</td>\n      <td>18.0</td>\n      <td>102.0</td>\n    </tr>\n    <tr>\n      <th>abidra01</th>\n      <th>2003</th>\n      <td>Ramzi</td>\n      <td>Abid</td>\n      <td>L</td>\n      <td>PIT</td>\n      <td>16.0</td>\n      <td>3.0</td>\n      <td>2.0</td>\n      <td>5.0</td>\n      <td>35.0</td>\n    </tr>\n    <tr>\n      <th>adamsbr01</th>\n      <th>1999</th>\n      <td>Bryan</td>\n      <td>Adams</td>\n      <td>L</td>\n      <td>ATL</td>\n      <td>2.0</td>\n      <td>0.0</td>\n      <td>0.0</td>\n      <td>0.0</td>\n      <td>1.0</td>\n    </tr>\n    <tr>\n      <th>adamscr01</th>\n      <th>2001</th>\n      <td>Craig</td>\n      <td>Adams</td>\n      <td>R</td>\n      <td>CAR</td>\n      <td>33.0</td>\n      <td>0.0</td>\n      <td>1.0</td>\n      <td>1.0</td>\n      <td>17.0</td>\n    </tr>\n  </tbody>\n</table>\n</div>"
     },
     "execution_count": 30,
     "metadata": {},
     "output_type": "execute_result"
    }
   ],
   "source": [
    "# range from 1997 to 2004, with a step of 2. (ending range is inclusive in pandas)\n",
    "sliced = mi.loc[idx['aaltoan01': 'adamscr02', 1997:2004:2], :]\n",
    "sliced.head()\n"
   ],
   "metadata": {
    "collapsed": false,
    "pycharm": {
     "name": "#%%\n"
    }
   }
  },
  {
   "cell_type": "code",
   "execution_count": 31,
   "outputs": [],
   "source": [
    "# what if we want to select records from 1997 to 2000, and then 2004 to 2006\n",
    "# no such built-in function available, so we can write our own\n",
    "\n"
   ],
   "metadata": {
    "collapsed": false,
    "pycharm": {
     "name": "#%%\n"
    }
   }
  },
  {
   "cell_type": "code",
   "execution_count": 32,
   "outputs": [
    {
     "data": {
      "text/plain": "array([ 0,  1,  2,  3, 36, 37, 38], dtype=int64)"
     },
     "execution_count": 32,
     "metadata": {},
     "output_type": "execute_result"
    }
   ],
   "source": [
    "locs = mi.index.get_locs(\n",
    "    (idx['aaltoan01': 'adamscr01', 1997:2000])\n",
    ")\n",
    "locs\n"
   ],
   "metadata": {
    "collapsed": false,
    "pycharm": {
     "name": "#%%\n"
    }
   }
  },
  {
   "cell_type": "code",
   "execution_count": 33,
   "outputs": [
    {
     "data": {
      "text/plain": "               firstName lastName pos tmID    GP    G     A   Pts    SOG\nplayerID  year                                                          \naaltoan01 1997     Antti    Aalto   C  ANA   3.0  0.0   0.0   0.0    1.0\n          1998     Antti    Aalto   C  ANA  73.0  3.0   5.0   8.0   61.0\n          1999     Antti    Aalto   C  ANA  63.0  7.0  11.0  18.0  102.0\n          2000     Antti    Aalto   C  ANA  12.0  1.0   1.0   2.0   18.0\nadamsbr01 1999     Bryan    Adams   L  ATL   2.0  0.0   0.0   0.0    1.0",
      "text/html": "<div>\n<style scoped>\n    .dataframe tbody tr th:only-of-type {\n        vertical-align: middle;\n    }\n\n    .dataframe tbody tr th {\n        vertical-align: top;\n    }\n\n    .dataframe thead th {\n        text-align: right;\n    }\n</style>\n<table border=\"1\" class=\"dataframe\">\n  <thead>\n    <tr style=\"text-align: right;\">\n      <th></th>\n      <th></th>\n      <th>firstName</th>\n      <th>lastName</th>\n      <th>pos</th>\n      <th>tmID</th>\n      <th>GP</th>\n      <th>G</th>\n      <th>A</th>\n      <th>Pts</th>\n      <th>SOG</th>\n    </tr>\n    <tr>\n      <th>playerID</th>\n      <th>year</th>\n      <th></th>\n      <th></th>\n      <th></th>\n      <th></th>\n      <th></th>\n      <th></th>\n      <th></th>\n      <th></th>\n      <th></th>\n    </tr>\n  </thead>\n  <tbody>\n    <tr>\n      <th rowspan=\"4\" valign=\"top\">aaltoan01</th>\n      <th>1997</th>\n      <td>Antti</td>\n      <td>Aalto</td>\n      <td>C</td>\n      <td>ANA</td>\n      <td>3.0</td>\n      <td>0.0</td>\n      <td>0.0</td>\n      <td>0.0</td>\n      <td>1.0</td>\n    </tr>\n    <tr>\n      <th>1998</th>\n      <td>Antti</td>\n      <td>Aalto</td>\n      <td>C</td>\n      <td>ANA</td>\n      <td>73.0</td>\n      <td>3.0</td>\n      <td>5.0</td>\n      <td>8.0</td>\n      <td>61.0</td>\n    </tr>\n    <tr>\n      <th>1999</th>\n      <td>Antti</td>\n      <td>Aalto</td>\n      <td>C</td>\n      <td>ANA</td>\n      <td>63.0</td>\n      <td>7.0</td>\n      <td>11.0</td>\n      <td>18.0</td>\n      <td>102.0</td>\n    </tr>\n    <tr>\n      <th>2000</th>\n      <td>Antti</td>\n      <td>Aalto</td>\n      <td>C</td>\n      <td>ANA</td>\n      <td>12.0</td>\n      <td>1.0</td>\n      <td>1.0</td>\n      <td>2.0</td>\n      <td>18.0</td>\n    </tr>\n    <tr>\n      <th>adamsbr01</th>\n      <th>1999</th>\n      <td>Bryan</td>\n      <td>Adams</td>\n      <td>L</td>\n      <td>ATL</td>\n      <td>2.0</td>\n      <td>0.0</td>\n      <td>0.0</td>\n      <td>0.0</td>\n      <td>1.0</td>\n    </tr>\n  </tbody>\n</table>\n</div>"
     },
     "execution_count": 33,
     "metadata": {},
     "output_type": "execute_result"
    }
   ],
   "source": [
    "sliced = mi.iloc[locs, :]\n",
    "sliced.head()\n"
   ],
   "metadata": {
    "collapsed": false,
    "pycharm": {
     "name": "#%%\n"
    }
   }
  },
  {
   "cell_type": "code",
   "execution_count": 34,
   "outputs": [],
   "source": [
    "import numpy as np"
   ],
   "metadata": {
    "collapsed": false,
    "pycharm": {
     "name": "#%%\n"
    }
   }
  },
  {
   "cell_type": "code",
   "execution_count": 35,
   "outputs": [],
   "source": [
    "def get_many_locs(df, slices):\n",
    "    arr = np.empty(0, dtype='int')\n",
    "    for s in slices:\n",
    "        locs = df.index.get_locs((s))\n",
    "        arr = np.concatenate((arr, locs))\n",
    "    return arr"
   ],
   "metadata": {
    "collapsed": false,
    "pycharm": {
     "name": "#%%\n"
    }
   }
  },
  {
   "cell_type": "code",
   "execution_count": 36,
   "outputs": [
    {
     "data": {
      "text/plain": "array([ 0,  1,  2,  3, 36, 37, 38, 12, 13, 42, 43], dtype=int64)"
     },
     "execution_count": 36,
     "metadata": {},
     "output_type": "execute_result"
    }
   ],
   "source": [
    "locs = get_many_locs(\n",
    "    mi,\n",
    "    (\n",
    "        idx['aaltoan01': 'adamscr01', 1997:2000],\n",
    "        idx['aaltoan01': 'adamscr01', 2004:2006]\n",
    "    )\n",
    ")\n",
    "locs\n"
   ],
   "metadata": {
    "collapsed": false,
    "pycharm": {
     "name": "#%%\n"
    }
   }
  },
  {
   "cell_type": "code",
   "execution_count": 37,
   "outputs": [
    {
     "data": {
      "text/plain": "               firstName lastName pos tmID    GP     G     A   Pts    SOG\nplayerID  year                                                           \naaltoan01 1997     Antti    Aalto   C  ANA   3.0   0.0   0.0   0.0    1.0\n          1998     Antti    Aalto   C  ANA  73.0   3.0   5.0   8.0   61.0\n          1999     Antti    Aalto   C  ANA  63.0   7.0  11.0  18.0  102.0\n          2000     Antti    Aalto   C  ANA  12.0   1.0   1.0   2.0   18.0\nadamsbr01 1999     Bryan    Adams   L  ATL   2.0   0.0   0.0   0.0    1.0\n          2000     Bryan    Adams   L  ATL   9.0   0.0   1.0   1.0    3.0\nadamscr01 2000     Craig    Adams   R  CAR  44.0   1.0   0.0   1.0   15.0\nabidra01  2005     Ramzi     Abid   L  ATL   6.0   0.0   2.0   2.0    6.0\n          2006     Ramzi     Abid   L  NAS  13.0   1.0   4.0   5.0   12.0\nadamscr01 2005     Craig    Adams   R  CAR  67.0  10.0  11.0  21.0   68.0",
      "text/html": "<div>\n<style scoped>\n    .dataframe tbody tr th:only-of-type {\n        vertical-align: middle;\n    }\n\n    .dataframe tbody tr th {\n        vertical-align: top;\n    }\n\n    .dataframe thead th {\n        text-align: right;\n    }\n</style>\n<table border=\"1\" class=\"dataframe\">\n  <thead>\n    <tr style=\"text-align: right;\">\n      <th></th>\n      <th></th>\n      <th>firstName</th>\n      <th>lastName</th>\n      <th>pos</th>\n      <th>tmID</th>\n      <th>GP</th>\n      <th>G</th>\n      <th>A</th>\n      <th>Pts</th>\n      <th>SOG</th>\n    </tr>\n    <tr>\n      <th>playerID</th>\n      <th>year</th>\n      <th></th>\n      <th></th>\n      <th></th>\n      <th></th>\n      <th></th>\n      <th></th>\n      <th></th>\n      <th></th>\n      <th></th>\n    </tr>\n  </thead>\n  <tbody>\n    <tr>\n      <th rowspan=\"4\" valign=\"top\">aaltoan01</th>\n      <th>1997</th>\n      <td>Antti</td>\n      <td>Aalto</td>\n      <td>C</td>\n      <td>ANA</td>\n      <td>3.0</td>\n      <td>0.0</td>\n      <td>0.0</td>\n      <td>0.0</td>\n      <td>1.0</td>\n    </tr>\n    <tr>\n      <th>1998</th>\n      <td>Antti</td>\n      <td>Aalto</td>\n      <td>C</td>\n      <td>ANA</td>\n      <td>73.0</td>\n      <td>3.0</td>\n      <td>5.0</td>\n      <td>8.0</td>\n      <td>61.0</td>\n    </tr>\n    <tr>\n      <th>1999</th>\n      <td>Antti</td>\n      <td>Aalto</td>\n      <td>C</td>\n      <td>ANA</td>\n      <td>63.0</td>\n      <td>7.0</td>\n      <td>11.0</td>\n      <td>18.0</td>\n      <td>102.0</td>\n    </tr>\n    <tr>\n      <th>2000</th>\n      <td>Antti</td>\n      <td>Aalto</td>\n      <td>C</td>\n      <td>ANA</td>\n      <td>12.0</td>\n      <td>1.0</td>\n      <td>1.0</td>\n      <td>2.0</td>\n      <td>18.0</td>\n    </tr>\n    <tr>\n      <th rowspan=\"2\" valign=\"top\">adamsbr01</th>\n      <th>1999</th>\n      <td>Bryan</td>\n      <td>Adams</td>\n      <td>L</td>\n      <td>ATL</td>\n      <td>2.0</td>\n      <td>0.0</td>\n      <td>0.0</td>\n      <td>0.0</td>\n      <td>1.0</td>\n    </tr>\n    <tr>\n      <th>2000</th>\n      <td>Bryan</td>\n      <td>Adams</td>\n      <td>L</td>\n      <td>ATL</td>\n      <td>9.0</td>\n      <td>0.0</td>\n      <td>1.0</td>\n      <td>1.0</td>\n      <td>3.0</td>\n    </tr>\n    <tr>\n      <th>adamscr01</th>\n      <th>2000</th>\n      <td>Craig</td>\n      <td>Adams</td>\n      <td>R</td>\n      <td>CAR</td>\n      <td>44.0</td>\n      <td>1.0</td>\n      <td>0.0</td>\n      <td>1.0</td>\n      <td>15.0</td>\n    </tr>\n    <tr>\n      <th rowspan=\"2\" valign=\"top\">abidra01</th>\n      <th>2005</th>\n      <td>Ramzi</td>\n      <td>Abid</td>\n      <td>L</td>\n      <td>ATL</td>\n      <td>6.0</td>\n      <td>0.0</td>\n      <td>2.0</td>\n      <td>2.0</td>\n      <td>6.0</td>\n    </tr>\n    <tr>\n      <th>2006</th>\n      <td>Ramzi</td>\n      <td>Abid</td>\n      <td>L</td>\n      <td>NAS</td>\n      <td>13.0</td>\n      <td>1.0</td>\n      <td>4.0</td>\n      <td>5.0</td>\n      <td>12.0</td>\n    </tr>\n    <tr>\n      <th>adamscr01</th>\n      <th>2005</th>\n      <td>Craig</td>\n      <td>Adams</td>\n      <td>R</td>\n      <td>CAR</td>\n      <td>67.0</td>\n      <td>10.0</td>\n      <td>11.0</td>\n      <td>21.0</td>\n      <td>68.0</td>\n    </tr>\n  </tbody>\n</table>\n</div>"
     },
     "execution_count": 37,
     "metadata": {},
     "output_type": "execute_result"
    }
   ],
   "source": [
    "sliced = mi.iloc[locs, :]\n",
    "sliced.head(10)\n"
   ],
   "metadata": {
    "collapsed": false,
    "pycharm": {
     "name": "#%%\n"
    }
   }
  },
  {
   "cell_type": "code",
   "execution_count": 38,
   "outputs": [
    {
     "data": {
      "text/plain": "               firstName     lastName pos tmID    GP     G     A   Pts    SOG\nplayerID  year                                                               \nabrahth01 1980    Thommy  Abrahamsson   D  HAR  32.0   6.0  11.0  17.0   66.0\nactonke01 1980     Keith        Acton   C  MTL  61.0  15.0  24.0  39.0  101.0\nadamsgr01 1980      Greg        Adams   L  PHI   6.0   3.0   0.0   3.0    6.0\nalleyst01 1980     Steve        Alley   L  HAR   8.0   2.0   2.0   4.0   10.0\nallismi01 1980      Mike      Allison   L  NYR  75.0  26.0  38.0  64.0  122.0",
      "text/html": "<div>\n<style scoped>\n    .dataframe tbody tr th:only-of-type {\n        vertical-align: middle;\n    }\n\n    .dataframe tbody tr th {\n        vertical-align: top;\n    }\n\n    .dataframe thead th {\n        text-align: right;\n    }\n</style>\n<table border=\"1\" class=\"dataframe\">\n  <thead>\n    <tr style=\"text-align: right;\">\n      <th></th>\n      <th></th>\n      <th>firstName</th>\n      <th>lastName</th>\n      <th>pos</th>\n      <th>tmID</th>\n      <th>GP</th>\n      <th>G</th>\n      <th>A</th>\n      <th>Pts</th>\n      <th>SOG</th>\n    </tr>\n    <tr>\n      <th>playerID</th>\n      <th>year</th>\n      <th></th>\n      <th></th>\n      <th></th>\n      <th></th>\n      <th></th>\n      <th></th>\n      <th></th>\n      <th></th>\n      <th></th>\n    </tr>\n  </thead>\n  <tbody>\n    <tr>\n      <th>abrahth01</th>\n      <th>1980</th>\n      <td>Thommy</td>\n      <td>Abrahamsson</td>\n      <td>D</td>\n      <td>HAR</td>\n      <td>32.0</td>\n      <td>6.0</td>\n      <td>11.0</td>\n      <td>17.0</td>\n      <td>66.0</td>\n    </tr>\n    <tr>\n      <th>actonke01</th>\n      <th>1980</th>\n      <td>Keith</td>\n      <td>Acton</td>\n      <td>C</td>\n      <td>MTL</td>\n      <td>61.0</td>\n      <td>15.0</td>\n      <td>24.0</td>\n      <td>39.0</td>\n      <td>101.0</td>\n    </tr>\n    <tr>\n      <th>adamsgr01</th>\n      <th>1980</th>\n      <td>Greg</td>\n      <td>Adams</td>\n      <td>L</td>\n      <td>PHI</td>\n      <td>6.0</td>\n      <td>3.0</td>\n      <td>0.0</td>\n      <td>3.0</td>\n      <td>6.0</td>\n    </tr>\n    <tr>\n      <th>alleyst01</th>\n      <th>1980</th>\n      <td>Steve</td>\n      <td>Alley</td>\n      <td>L</td>\n      <td>HAR</td>\n      <td>8.0</td>\n      <td>2.0</td>\n      <td>2.0</td>\n      <td>4.0</td>\n      <td>10.0</td>\n    </tr>\n    <tr>\n      <th>allismi01</th>\n      <th>1980</th>\n      <td>Mike</td>\n      <td>Allison</td>\n      <td>L</td>\n      <td>NYR</td>\n      <td>75.0</td>\n      <td>26.0</td>\n      <td>38.0</td>\n      <td>64.0</td>\n      <td>122.0</td>\n    </tr>\n  </tbody>\n</table>\n</div>"
     },
     "execution_count": 38,
     "metadata": {},
     "output_type": "execute_result"
    }
   ],
   "source": [
    "mi = mi.sort_index(level='year')\n",
    "mi.head()\n"
   ],
   "metadata": {
    "collapsed": false,
    "pycharm": {
     "name": "#%%\n"
    }
   }
  },
  {
   "cell_type": "code",
   "execution_count": 39,
   "outputs": [
    {
     "data": {
      "text/plain": "False"
     },
     "execution_count": 39,
     "metadata": {},
     "output_type": "execute_result"
    }
   ],
   "source": [
    "mi.index.is_monotonic_increasing\n"
   ],
   "metadata": {
    "collapsed": false,
    "pycharm": {
     "name": "#%%\n"
    }
   }
  },
  {
   "cell_type": "code",
   "execution_count": 40,
   "outputs": [
    {
     "name": "stdout",
     "output_type": "stream",
     "text": [
      "'MultiIndex slicing requires the index to be lexsorted: slicing on levels [1], lexsort depth 0'\n"
     ]
    }
   ],
   "source": [
    "try:\n",
    "    mi.loc[idx[:, 1997:2000], :]\n",
    "except Exception as e:\n",
    "    print(e)\n"
   ],
   "metadata": {
    "collapsed": false,
    "pycharm": {
     "name": "#%%\n"
    }
   }
  },
  {
   "cell_type": "code",
   "execution_count": 42,
   "outputs": [
    {
     "data": {
      "text/plain": "               firstName     lastName pos tmID    GP     G     A   Pts    SOG\nyear playerID                                                                \n1980 abrahth01    Thommy  Abrahamsson   D  HAR  32.0   6.0  11.0  17.0   66.0\n     actonke01     Keith        Acton   C  MTL  61.0  15.0  24.0  39.0  101.0\n     adamsgr01      Greg        Adams   L  PHI   6.0   3.0   0.0   3.0    6.0\n     alleyst01     Steve        Alley   L  HAR   8.0   2.0   2.0   4.0   10.0\n     allismi01      Mike      Allison   L  NYR  75.0  26.0  38.0  64.0  122.0",
      "text/html": "<div>\n<style scoped>\n    .dataframe tbody tr th:only-of-type {\n        vertical-align: middle;\n    }\n\n    .dataframe tbody tr th {\n        vertical-align: top;\n    }\n\n    .dataframe thead th {\n        text-align: right;\n    }\n</style>\n<table border=\"1\" class=\"dataframe\">\n  <thead>\n    <tr style=\"text-align: right;\">\n      <th></th>\n      <th></th>\n      <th>firstName</th>\n      <th>lastName</th>\n      <th>pos</th>\n      <th>tmID</th>\n      <th>GP</th>\n      <th>G</th>\n      <th>A</th>\n      <th>Pts</th>\n      <th>SOG</th>\n    </tr>\n    <tr>\n      <th>year</th>\n      <th>playerID</th>\n      <th></th>\n      <th></th>\n      <th></th>\n      <th></th>\n      <th></th>\n      <th></th>\n      <th></th>\n      <th></th>\n      <th></th>\n    </tr>\n  </thead>\n  <tbody>\n    <tr>\n      <th rowspan=\"5\" valign=\"top\">1980</th>\n      <th>abrahth01</th>\n      <td>Thommy</td>\n      <td>Abrahamsson</td>\n      <td>D</td>\n      <td>HAR</td>\n      <td>32.0</td>\n      <td>6.0</td>\n      <td>11.0</td>\n      <td>17.0</td>\n      <td>66.0</td>\n    </tr>\n    <tr>\n      <th>actonke01</th>\n      <td>Keith</td>\n      <td>Acton</td>\n      <td>C</td>\n      <td>MTL</td>\n      <td>61.0</td>\n      <td>15.0</td>\n      <td>24.0</td>\n      <td>39.0</td>\n      <td>101.0</td>\n    </tr>\n    <tr>\n      <th>adamsgr01</th>\n      <td>Greg</td>\n      <td>Adams</td>\n      <td>L</td>\n      <td>PHI</td>\n      <td>6.0</td>\n      <td>3.0</td>\n      <td>0.0</td>\n      <td>3.0</td>\n      <td>6.0</td>\n    </tr>\n    <tr>\n      <th>alleyst01</th>\n      <td>Steve</td>\n      <td>Alley</td>\n      <td>L</td>\n      <td>HAR</td>\n      <td>8.0</td>\n      <td>2.0</td>\n      <td>2.0</td>\n      <td>4.0</td>\n      <td>10.0</td>\n    </tr>\n    <tr>\n      <th>allismi01</th>\n      <td>Mike</td>\n      <td>Allison</td>\n      <td>L</td>\n      <td>NYR</td>\n      <td>75.0</td>\n      <td>26.0</td>\n      <td>38.0</td>\n      <td>64.0</td>\n      <td>122.0</td>\n    </tr>\n  </tbody>\n</table>\n</div>"
     },
     "execution_count": 42,
     "metadata": {},
     "output_type": "execute_result"
    }
   ],
   "source": [
    "swapped = mi.swaplevel()\n",
    "swapped.head()\n"
   ],
   "metadata": {
    "collapsed": false,
    "pycharm": {
     "name": "#%%\n"
    }
   }
  },
  {
   "cell_type": "code",
   "execution_count": 44,
   "outputs": [
    {
     "data": {
      "text/plain": "True"
     },
     "execution_count": 44,
     "metadata": {},
     "output_type": "execute_result"
    }
   ],
   "source": [
    "swapped.index.is_monotonic_increasing\n"
   ],
   "metadata": {
    "collapsed": false,
    "pycharm": {
     "name": "#%%\n"
    }
   }
  },
  {
   "cell_type": "markdown",
   "source": [
    "# Wide and long formats revisited\n"
   ],
   "metadata": {
    "collapsed": false,
    "pycharm": {
     "name": "#%% md\n"
    }
   }
  },
  {
   "cell_type": "code",
   "execution_count": 45,
   "outputs": [
    {
     "data": {
      "text/plain": "   year tmID  SepW  SepL  SepT  SepOL  OctW  OctL  OctT  OctOL  ...  FebOL  \\\n0  1980  BOS   NaN   NaN   NaN    NaN   2.0   7.0   1.0    NaN  ...    NaN   \n1  1980  BUF   NaN   NaN   NaN    NaN   5.0   2.0   2.0    NaN  ...    NaN   \n2  1980  CAL   NaN   NaN   NaN    NaN   5.0   4.0   2.0    NaN  ...    NaN   \n3  1980  CHI   NaN   NaN   NaN    NaN   6.0   4.0   2.0    NaN  ...    NaN   \n4  1980  COR   NaN   NaN   NaN    NaN   4.0   4.0   2.0    NaN  ...    NaN   \n\n   MarW  MarL  MarT  MarOL  AprW  AprL  AprT  AprOL                 name  \n0   8.0   4.0   3.0    NaN   1.0   2.0   0.0    NaN        Boston Bruins  \n1   8.0   6.0   1.0    NaN   1.0   1.0   1.0    NaN       Buffalo Sabres  \n2   6.0   6.0   2.0    NaN   2.0   0.0   0.0    NaN       Calgary Flames  \n3   4.0   5.0   4.0    NaN   1.0   1.0   1.0    NaN  Chicago Black Hawks  \n4   4.0   9.0   1.0    NaN   0.0   1.0   2.0    NaN     Colorado Rockies  \n\n[5 rows x 35 columns]",
      "text/html": "<div>\n<style scoped>\n    .dataframe tbody tr th:only-of-type {\n        vertical-align: middle;\n    }\n\n    .dataframe tbody tr th {\n        vertical-align: top;\n    }\n\n    .dataframe thead th {\n        text-align: right;\n    }\n</style>\n<table border=\"1\" class=\"dataframe\">\n  <thead>\n    <tr style=\"text-align: right;\">\n      <th></th>\n      <th>year</th>\n      <th>tmID</th>\n      <th>SepW</th>\n      <th>SepL</th>\n      <th>SepT</th>\n      <th>SepOL</th>\n      <th>OctW</th>\n      <th>OctL</th>\n      <th>OctT</th>\n      <th>OctOL</th>\n      <th>...</th>\n      <th>FebOL</th>\n      <th>MarW</th>\n      <th>MarL</th>\n      <th>MarT</th>\n      <th>MarOL</th>\n      <th>AprW</th>\n      <th>AprL</th>\n      <th>AprT</th>\n      <th>AprOL</th>\n      <th>name</th>\n    </tr>\n  </thead>\n  <tbody>\n    <tr>\n      <th>0</th>\n      <td>1980</td>\n      <td>BOS</td>\n      <td>NaN</td>\n      <td>NaN</td>\n      <td>NaN</td>\n      <td>NaN</td>\n      <td>2.0</td>\n      <td>7.0</td>\n      <td>1.0</td>\n      <td>NaN</td>\n      <td>...</td>\n      <td>NaN</td>\n      <td>8.0</td>\n      <td>4.0</td>\n      <td>3.0</td>\n      <td>NaN</td>\n      <td>1.0</td>\n      <td>2.0</td>\n      <td>0.0</td>\n      <td>NaN</td>\n      <td>Boston Bruins</td>\n    </tr>\n    <tr>\n      <th>1</th>\n      <td>1980</td>\n      <td>BUF</td>\n      <td>NaN</td>\n      <td>NaN</td>\n      <td>NaN</td>\n      <td>NaN</td>\n      <td>5.0</td>\n      <td>2.0</td>\n      <td>2.0</td>\n      <td>NaN</td>\n      <td>...</td>\n      <td>NaN</td>\n      <td>8.0</td>\n      <td>6.0</td>\n      <td>1.0</td>\n      <td>NaN</td>\n      <td>1.0</td>\n      <td>1.0</td>\n      <td>1.0</td>\n      <td>NaN</td>\n      <td>Buffalo Sabres</td>\n    </tr>\n    <tr>\n      <th>2</th>\n      <td>1980</td>\n      <td>CAL</td>\n      <td>NaN</td>\n      <td>NaN</td>\n      <td>NaN</td>\n      <td>NaN</td>\n      <td>5.0</td>\n      <td>4.0</td>\n      <td>2.0</td>\n      <td>NaN</td>\n      <td>...</td>\n      <td>NaN</td>\n      <td>6.0</td>\n      <td>6.0</td>\n      <td>2.0</td>\n      <td>NaN</td>\n      <td>2.0</td>\n      <td>0.0</td>\n      <td>0.0</td>\n      <td>NaN</td>\n      <td>Calgary Flames</td>\n    </tr>\n    <tr>\n      <th>3</th>\n      <td>1980</td>\n      <td>CHI</td>\n      <td>NaN</td>\n      <td>NaN</td>\n      <td>NaN</td>\n      <td>NaN</td>\n      <td>6.0</td>\n      <td>4.0</td>\n      <td>2.0</td>\n      <td>NaN</td>\n      <td>...</td>\n      <td>NaN</td>\n      <td>4.0</td>\n      <td>5.0</td>\n      <td>4.0</td>\n      <td>NaN</td>\n      <td>1.0</td>\n      <td>1.0</td>\n      <td>1.0</td>\n      <td>NaN</td>\n      <td>Chicago Black Hawks</td>\n    </tr>\n    <tr>\n      <th>4</th>\n      <td>1980</td>\n      <td>COR</td>\n      <td>NaN</td>\n      <td>NaN</td>\n      <td>NaN</td>\n      <td>NaN</td>\n      <td>4.0</td>\n      <td>4.0</td>\n      <td>2.0</td>\n      <td>NaN</td>\n      <td>...</td>\n      <td>NaN</td>\n      <td>4.0</td>\n      <td>9.0</td>\n      <td>1.0</td>\n      <td>NaN</td>\n      <td>0.0</td>\n      <td>1.0</td>\n      <td>2.0</td>\n      <td>NaN</td>\n      <td>Colorado Rockies</td>\n    </tr>\n  </tbody>\n</table>\n<p>5 rows × 35 columns</p>\n</div>"
     },
     "execution_count": 45,
     "metadata": {},
     "output_type": "execute_result"
    }
   ],
   "source": [
    "team_splits.head(5)\n"
   ],
   "metadata": {
    "collapsed": false,
    "pycharm": {
     "name": "#%%\n"
    }
   }
  },
  {
   "cell_type": "code",
   "execution_count": 46,
   "outputs": [
    {
     "data": {
      "text/plain": "                          SepW  SepL  SepT  SepOL  OctW  OctL  OctT  OctOL  \\\nyear name                                                                    \n1980 Boston Bruins         NaN   NaN   NaN    NaN   2.0   7.0   1.0    NaN   \n     Buffalo Sabres        NaN   NaN   NaN    NaN   5.0   2.0   2.0    NaN   \n     Calgary Flames        NaN   NaN   NaN    NaN   5.0   4.0   2.0    NaN   \n     Chicago Black Hawks   NaN   NaN   NaN    NaN   6.0   4.0   2.0    NaN   \n     Colorado Rockies      NaN   NaN   NaN    NaN   4.0   4.0   2.0    NaN   \n\n                          NovW  NovL  ...  FebT  FebOL  MarW  MarL  MarT  \\\nyear name                             ...                                  \n1980 Boston Bruins         5.0   3.0  ...   2.0    NaN   8.0   4.0   3.0   \n     Buffalo Sabres        8.0   4.0  ...   3.0    NaN   8.0   6.0   1.0   \n     Calgary Flames        5.0   5.0  ...   1.0    NaN   6.0   6.0   2.0   \n     Chicago Black Hawks   3.0   8.0  ...   4.0    NaN   4.0   5.0   4.0   \n     Colorado Rockies      5.0   6.0  ...   2.0    NaN   4.0   9.0   1.0   \n\n                          MarOL  AprW  AprL  AprT  AprOL  \nyear name                                                 \n1980 Boston Bruins          NaN   1.0   2.0   0.0    NaN  \n     Buffalo Sabres         NaN   1.0   1.0   1.0    NaN  \n     Calgary Flames         NaN   2.0   0.0   0.0    NaN  \n     Chicago Black Hawks    NaN   1.0   1.0   1.0    NaN  \n     Colorado Rockies       NaN   0.0   1.0   2.0    NaN  \n\n[5 rows x 32 columns]",
      "text/html": "<div>\n<style scoped>\n    .dataframe tbody tr th:only-of-type {\n        vertical-align: middle;\n    }\n\n    .dataframe tbody tr th {\n        vertical-align: top;\n    }\n\n    .dataframe thead th {\n        text-align: right;\n    }\n</style>\n<table border=\"1\" class=\"dataframe\">\n  <thead>\n    <tr style=\"text-align: right;\">\n      <th></th>\n      <th></th>\n      <th>SepW</th>\n      <th>SepL</th>\n      <th>SepT</th>\n      <th>SepOL</th>\n      <th>OctW</th>\n      <th>OctL</th>\n      <th>OctT</th>\n      <th>OctOL</th>\n      <th>NovW</th>\n      <th>NovL</th>\n      <th>...</th>\n      <th>FebT</th>\n      <th>FebOL</th>\n      <th>MarW</th>\n      <th>MarL</th>\n      <th>MarT</th>\n      <th>MarOL</th>\n      <th>AprW</th>\n      <th>AprL</th>\n      <th>AprT</th>\n      <th>AprOL</th>\n    </tr>\n    <tr>\n      <th>year</th>\n      <th>name</th>\n      <th></th>\n      <th></th>\n      <th></th>\n      <th></th>\n      <th></th>\n      <th></th>\n      <th></th>\n      <th></th>\n      <th></th>\n      <th></th>\n      <th></th>\n      <th></th>\n      <th></th>\n      <th></th>\n      <th></th>\n      <th></th>\n      <th></th>\n      <th></th>\n      <th></th>\n      <th></th>\n      <th></th>\n    </tr>\n  </thead>\n  <tbody>\n    <tr>\n      <th rowspan=\"5\" valign=\"top\">1980</th>\n      <th>Boston Bruins</th>\n      <td>NaN</td>\n      <td>NaN</td>\n      <td>NaN</td>\n      <td>NaN</td>\n      <td>2.0</td>\n      <td>7.0</td>\n      <td>1.0</td>\n      <td>NaN</td>\n      <td>5.0</td>\n      <td>3.0</td>\n      <td>...</td>\n      <td>2.0</td>\n      <td>NaN</td>\n      <td>8.0</td>\n      <td>4.0</td>\n      <td>3.0</td>\n      <td>NaN</td>\n      <td>1.0</td>\n      <td>2.0</td>\n      <td>0.0</td>\n      <td>NaN</td>\n    </tr>\n    <tr>\n      <th>Buffalo Sabres</th>\n      <td>NaN</td>\n      <td>NaN</td>\n      <td>NaN</td>\n      <td>NaN</td>\n      <td>5.0</td>\n      <td>2.0</td>\n      <td>2.0</td>\n      <td>NaN</td>\n      <td>8.0</td>\n      <td>4.0</td>\n      <td>...</td>\n      <td>3.0</td>\n      <td>NaN</td>\n      <td>8.0</td>\n      <td>6.0</td>\n      <td>1.0</td>\n      <td>NaN</td>\n      <td>1.0</td>\n      <td>1.0</td>\n      <td>1.0</td>\n      <td>NaN</td>\n    </tr>\n    <tr>\n      <th>Calgary Flames</th>\n      <td>NaN</td>\n      <td>NaN</td>\n      <td>NaN</td>\n      <td>NaN</td>\n      <td>5.0</td>\n      <td>4.0</td>\n      <td>2.0</td>\n      <td>NaN</td>\n      <td>5.0</td>\n      <td>5.0</td>\n      <td>...</td>\n      <td>1.0</td>\n      <td>NaN</td>\n      <td>6.0</td>\n      <td>6.0</td>\n      <td>2.0</td>\n      <td>NaN</td>\n      <td>2.0</td>\n      <td>0.0</td>\n      <td>0.0</td>\n      <td>NaN</td>\n    </tr>\n    <tr>\n      <th>Chicago Black Hawks</th>\n      <td>NaN</td>\n      <td>NaN</td>\n      <td>NaN</td>\n      <td>NaN</td>\n      <td>6.0</td>\n      <td>4.0</td>\n      <td>2.0</td>\n      <td>NaN</td>\n      <td>3.0</td>\n      <td>8.0</td>\n      <td>...</td>\n      <td>4.0</td>\n      <td>NaN</td>\n      <td>4.0</td>\n      <td>5.0</td>\n      <td>4.0</td>\n      <td>NaN</td>\n      <td>1.0</td>\n      <td>1.0</td>\n      <td>1.0</td>\n      <td>NaN</td>\n    </tr>\n    <tr>\n      <th>Colorado Rockies</th>\n      <td>NaN</td>\n      <td>NaN</td>\n      <td>NaN</td>\n      <td>NaN</td>\n      <td>4.0</td>\n      <td>4.0</td>\n      <td>2.0</td>\n      <td>NaN</td>\n      <td>5.0</td>\n      <td>6.0</td>\n      <td>...</td>\n      <td>2.0</td>\n      <td>NaN</td>\n      <td>4.0</td>\n      <td>9.0</td>\n      <td>1.0</td>\n      <td>NaN</td>\n      <td>0.0</td>\n      <td>1.0</td>\n      <td>2.0</td>\n      <td>NaN</td>\n    </tr>\n  </tbody>\n</table>\n<p>5 rows × 32 columns</p>\n</div>"
     },
     "execution_count": 46,
     "metadata": {},
     "output_type": "execute_result"
    }
   ],
   "source": [
    "team_splits = team_splits.drop(columns=['tmID'])\n",
    "team_splits = team_splits.set_index(['year', 'name'])\n",
    "team_splits.head()\n"
   ],
   "metadata": {
    "collapsed": false,
    "pycharm": {
     "name": "#%%\n"
    }
   }
  },
  {
   "cell_type": "code",
   "execution_count": 47,
   "outputs": [
    {
     "name": "stdout",
     "output_type": "stream",
     "text": [
      "Index(['Sep', 'Sep', 'Sep', 'Sep', 'Oct', 'Oct', 'Oct', 'Oct', 'Nov', 'Nov',\n",
      "       'Nov', 'Nov', 'Dec', 'Dec', 'Dec', 'Dec', 'Jan', 'Jan', 'Jan', 'Jan',\n",
      "       'Feb', 'Feb', 'Feb', 'Feb', 'Mar', 'Mar', 'Mar', 'Mar', 'Apr', 'Apr',\n",
      "       'Apr', 'Apr'],\n",
      "      dtype='object')\n",
      "Index(['W', 'L', 'T', 'OL', 'W', 'L', 'T', 'OL', 'W', 'L', 'T', 'OL', 'W', 'L',\n",
      "       'T', 'OL', 'W', 'L', 'T', 'OL', 'W', 'L', 'T', 'OL', 'W', 'L', 'T',\n",
      "       'OL', 'W', 'L', 'T', 'OL'],\n",
      "      dtype='object')\n"
     ]
    }
   ],
   "source": [
    "months = team_splits.columns.map(lambda x: x[0:3])\n",
    "metrics = team_splits.columns.map(lambda x: x[3:len(x)])\n",
    "\n",
    "print(months)\n",
    "print(metrics)\n"
   ],
   "metadata": {
    "collapsed": false,
    "pycharm": {
     "name": "#%%\n"
    }
   }
  },
  {
   "cell_type": "code",
   "execution_count": 48,
   "outputs": [
    {
     "name": "stdout",
     "output_type": "stream",
     "text": [
      "Index(['Sep', 'Sep', 'Sep', 'Sep', 'Oct', 'Oct', 'Oct', 'Oct', 'Nov', 'Nov',\n",
      "       'Nov', 'Nov', 'Dec', 'Dec', 'Dec', 'Dec', 'Jan', 'Jan', 'Jan', 'Jan',\n",
      "       'Feb', 'Feb', 'Feb', 'Feb', 'Mar', 'Mar', 'Mar', 'Mar', 'Apr', 'Apr',\n",
      "       'Apr', 'Apr'],\n",
      "      dtype='object')\n",
      "Index(['W', 'L', 'T', 'OL', 'W', 'L', 'T', 'OL', 'W', 'L', 'T', 'OL', 'W', 'L',\n",
      "       'T', 'OL', 'W', 'L', 'T', 'OL', 'W', 'L', 'T', 'OL', 'W', 'L', 'T',\n",
      "       'OL', 'W', 'L', 'T', 'OL'],\n",
      "      dtype='object')\n"
     ]
    }
   ],
   "source": [
    "months = team_splits.columns.map(lambda x: x[0:3])\n",
    "metrics = team_splits.columns.map(lambda x: x[3:])\n",
    "\n",
    "print(months)\n",
    "print(metrics)"
   ],
   "metadata": {
    "collapsed": false,
    "pycharm": {
     "name": "#%%\n"
    }
   }
  },
  {
   "cell_type": "code",
   "execution_count": 51,
   "outputs": [
    {
     "data": {
      "text/plain": "MultiIndex([('Sep',  'W'),\n            ('Sep',  'L'),\n            ('Sep',  'T'),\n            ('Sep', 'OL'),\n            ('Oct',  'W'),\n            ('Oct',  'L'),\n            ('Oct',  'T'),\n            ('Oct', 'OL'),\n            ('Nov',  'W'),\n            ('Nov',  'L'),\n            ('Nov',  'T'),\n            ('Nov', 'OL'),\n            ('Dec',  'W'),\n            ('Dec',  'L'),\n            ('Dec',  'T'),\n            ('Dec', 'OL'),\n            ('Jan',  'W'),\n            ('Jan',  'L'),\n            ('Jan',  'T'),\n            ('Jan', 'OL'),\n            ('Feb',  'W'),\n            ('Feb',  'L'),\n            ('Feb',  'T'),\n            ('Feb', 'OL'),\n            ('Mar',  'W'),\n            ('Mar',  'L'),\n            ('Mar',  'T'),\n            ('Mar', 'OL'),\n            ('Apr',  'W'),\n            ('Apr',  'L'),\n            ('Apr',  'T'),\n            ('Apr', 'OL')],\n           )"
     },
     "execution_count": 51,
     "metadata": {},
     "output_type": "execute_result"
    }
   ],
   "source": [
    "midx = pd.MultiIndex.from_arrays([months, metrics])\n",
    "midx\n"
   ],
   "metadata": {
    "collapsed": false,
    "pycharm": {
     "name": "#%%\n"
    }
   }
  },
  {
   "cell_type": "code",
   "execution_count": 52,
   "outputs": [
    {
     "data": {
      "text/plain": "                         Sep              Oct                Nov       ...  \\\n                           W   L   T  OL    W    L    T  OL    W    L  ...   \nyear name                                                              ...   \n1980 Boston Bruins       NaN NaN NaN NaN  2.0  7.0  1.0 NaN  5.0  3.0  ...   \n     Buffalo Sabres      NaN NaN NaN NaN  5.0  2.0  2.0 NaN  8.0  4.0  ...   \n     Calgary Flames      NaN NaN NaN NaN  5.0  4.0  2.0 NaN  5.0  5.0  ...   \n     Chicago Black Hawks NaN NaN NaN NaN  6.0  4.0  2.0 NaN  3.0  8.0  ...   \n     Colorado Rockies    NaN NaN NaN NaN  4.0  4.0  2.0 NaN  5.0  6.0  ...   \n\n                          Feb      Mar                Apr                \n                            T  OL    W    L    T  OL    W    L    T  OL  \nyear name                                                                \n1980 Boston Bruins        2.0 NaN  8.0  4.0  3.0 NaN  1.0  2.0  0.0 NaN  \n     Buffalo Sabres       3.0 NaN  8.0  6.0  1.0 NaN  1.0  1.0  1.0 NaN  \n     Calgary Flames       1.0 NaN  6.0  6.0  2.0 NaN  2.0  0.0  0.0 NaN  \n     Chicago Black Hawks  4.0 NaN  4.0  5.0  4.0 NaN  1.0  1.0  1.0 NaN  \n     Colorado Rockies     2.0 NaN  4.0  9.0  1.0 NaN  0.0  1.0  2.0 NaN  \n\n[5 rows x 32 columns]",
      "text/html": "<div>\n<style scoped>\n    .dataframe tbody tr th:only-of-type {\n        vertical-align: middle;\n    }\n\n    .dataframe tbody tr th {\n        vertical-align: top;\n    }\n\n    .dataframe thead tr th {\n        text-align: left;\n    }\n\n    .dataframe thead tr:last-of-type th {\n        text-align: right;\n    }\n</style>\n<table border=\"1\" class=\"dataframe\">\n  <thead>\n    <tr>\n      <th></th>\n      <th></th>\n      <th colspan=\"4\" halign=\"left\">Sep</th>\n      <th colspan=\"4\" halign=\"left\">Oct</th>\n      <th colspan=\"2\" halign=\"left\">Nov</th>\n      <th>...</th>\n      <th colspan=\"2\" halign=\"left\">Feb</th>\n      <th colspan=\"4\" halign=\"left\">Mar</th>\n      <th colspan=\"4\" halign=\"left\">Apr</th>\n    </tr>\n    <tr>\n      <th></th>\n      <th></th>\n      <th>W</th>\n      <th>L</th>\n      <th>T</th>\n      <th>OL</th>\n      <th>W</th>\n      <th>L</th>\n      <th>T</th>\n      <th>OL</th>\n      <th>W</th>\n      <th>L</th>\n      <th>...</th>\n      <th>T</th>\n      <th>OL</th>\n      <th>W</th>\n      <th>L</th>\n      <th>T</th>\n      <th>OL</th>\n      <th>W</th>\n      <th>L</th>\n      <th>T</th>\n      <th>OL</th>\n    </tr>\n    <tr>\n      <th>year</th>\n      <th>name</th>\n      <th></th>\n      <th></th>\n      <th></th>\n      <th></th>\n      <th></th>\n      <th></th>\n      <th></th>\n      <th></th>\n      <th></th>\n      <th></th>\n      <th></th>\n      <th></th>\n      <th></th>\n      <th></th>\n      <th></th>\n      <th></th>\n      <th></th>\n      <th></th>\n      <th></th>\n      <th></th>\n      <th></th>\n    </tr>\n  </thead>\n  <tbody>\n    <tr>\n      <th rowspan=\"5\" valign=\"top\">1980</th>\n      <th>Boston Bruins</th>\n      <td>NaN</td>\n      <td>NaN</td>\n      <td>NaN</td>\n      <td>NaN</td>\n      <td>2.0</td>\n      <td>7.0</td>\n      <td>1.0</td>\n      <td>NaN</td>\n      <td>5.0</td>\n      <td>3.0</td>\n      <td>...</td>\n      <td>2.0</td>\n      <td>NaN</td>\n      <td>8.0</td>\n      <td>4.0</td>\n      <td>3.0</td>\n      <td>NaN</td>\n      <td>1.0</td>\n      <td>2.0</td>\n      <td>0.0</td>\n      <td>NaN</td>\n    </tr>\n    <tr>\n      <th>Buffalo Sabres</th>\n      <td>NaN</td>\n      <td>NaN</td>\n      <td>NaN</td>\n      <td>NaN</td>\n      <td>5.0</td>\n      <td>2.0</td>\n      <td>2.0</td>\n      <td>NaN</td>\n      <td>8.0</td>\n      <td>4.0</td>\n      <td>...</td>\n      <td>3.0</td>\n      <td>NaN</td>\n      <td>8.0</td>\n      <td>6.0</td>\n      <td>1.0</td>\n      <td>NaN</td>\n      <td>1.0</td>\n      <td>1.0</td>\n      <td>1.0</td>\n      <td>NaN</td>\n    </tr>\n    <tr>\n      <th>Calgary Flames</th>\n      <td>NaN</td>\n      <td>NaN</td>\n      <td>NaN</td>\n      <td>NaN</td>\n      <td>5.0</td>\n      <td>4.0</td>\n      <td>2.0</td>\n      <td>NaN</td>\n      <td>5.0</td>\n      <td>5.0</td>\n      <td>...</td>\n      <td>1.0</td>\n      <td>NaN</td>\n      <td>6.0</td>\n      <td>6.0</td>\n      <td>2.0</td>\n      <td>NaN</td>\n      <td>2.0</td>\n      <td>0.0</td>\n      <td>0.0</td>\n      <td>NaN</td>\n    </tr>\n    <tr>\n      <th>Chicago Black Hawks</th>\n      <td>NaN</td>\n      <td>NaN</td>\n      <td>NaN</td>\n      <td>NaN</td>\n      <td>6.0</td>\n      <td>4.0</td>\n      <td>2.0</td>\n      <td>NaN</td>\n      <td>3.0</td>\n      <td>8.0</td>\n      <td>...</td>\n      <td>4.0</td>\n      <td>NaN</td>\n      <td>4.0</td>\n      <td>5.0</td>\n      <td>4.0</td>\n      <td>NaN</td>\n      <td>1.0</td>\n      <td>1.0</td>\n      <td>1.0</td>\n      <td>NaN</td>\n    </tr>\n    <tr>\n      <th>Colorado Rockies</th>\n      <td>NaN</td>\n      <td>NaN</td>\n      <td>NaN</td>\n      <td>NaN</td>\n      <td>4.0</td>\n      <td>4.0</td>\n      <td>2.0</td>\n      <td>NaN</td>\n      <td>5.0</td>\n      <td>6.0</td>\n      <td>...</td>\n      <td>2.0</td>\n      <td>NaN</td>\n      <td>4.0</td>\n      <td>9.0</td>\n      <td>1.0</td>\n      <td>NaN</td>\n      <td>0.0</td>\n      <td>1.0</td>\n      <td>2.0</td>\n      <td>NaN</td>\n    </tr>\n  </tbody>\n</table>\n<p>5 rows × 32 columns</p>\n</div>"
     },
     "execution_count": 52,
     "metadata": {},
     "output_type": "execute_result"
    }
   ],
   "source": [
    "team_splits.columns = midx\n",
    "team_splits.head()"
   ],
   "metadata": {
    "collapsed": false,
    "pycharm": {
     "name": "#%%\n"
    }
   }
  },
  {
   "cell_type": "code",
   "execution_count": 53,
   "outputs": [
    {
     "data": {
      "text/plain": "                           L  OL    T    W\nyear name                                 \n1980 Boston Bruins  Apr  2.0 NaN  0.0  1.0\n                    Dec  6.0 NaN  1.0  6.0\n                    Feb  4.0 NaN  2.0  6.0\n                    Jan  4.0 NaN  1.0  9.0\n                    Mar  4.0 NaN  3.0  8.0\n                    Nov  3.0 NaN  5.0  5.0\n                    Oct  7.0 NaN  1.0  2.0\n     Buffalo Sabres Apr  1.0 NaN  1.0  1.0\n                    Dec  3.0 NaN  4.0  5.0\n                    Feb  3.0 NaN  3.0  6.0",
      "text/html": "<div>\n<style scoped>\n    .dataframe tbody tr th:only-of-type {\n        vertical-align: middle;\n    }\n\n    .dataframe tbody tr th {\n        vertical-align: top;\n    }\n\n    .dataframe thead th {\n        text-align: right;\n    }\n</style>\n<table border=\"1\" class=\"dataframe\">\n  <thead>\n    <tr style=\"text-align: right;\">\n      <th></th>\n      <th></th>\n      <th></th>\n      <th>L</th>\n      <th>OL</th>\n      <th>T</th>\n      <th>W</th>\n    </tr>\n    <tr>\n      <th>year</th>\n      <th>name</th>\n      <th></th>\n      <th></th>\n      <th></th>\n      <th></th>\n      <th></th>\n    </tr>\n  </thead>\n  <tbody>\n    <tr>\n      <th rowspan=\"10\" valign=\"top\">1980</th>\n      <th rowspan=\"7\" valign=\"top\">Boston Bruins</th>\n      <th>Apr</th>\n      <td>2.0</td>\n      <td>NaN</td>\n      <td>0.0</td>\n      <td>1.0</td>\n    </tr>\n    <tr>\n      <th>Dec</th>\n      <td>6.0</td>\n      <td>NaN</td>\n      <td>1.0</td>\n      <td>6.0</td>\n    </tr>\n    <tr>\n      <th>Feb</th>\n      <td>4.0</td>\n      <td>NaN</td>\n      <td>2.0</td>\n      <td>6.0</td>\n    </tr>\n    <tr>\n      <th>Jan</th>\n      <td>4.0</td>\n      <td>NaN</td>\n      <td>1.0</td>\n      <td>9.0</td>\n    </tr>\n    <tr>\n      <th>Mar</th>\n      <td>4.0</td>\n      <td>NaN</td>\n      <td>3.0</td>\n      <td>8.0</td>\n    </tr>\n    <tr>\n      <th>Nov</th>\n      <td>3.0</td>\n      <td>NaN</td>\n      <td>5.0</td>\n      <td>5.0</td>\n    </tr>\n    <tr>\n      <th>Oct</th>\n      <td>7.0</td>\n      <td>NaN</td>\n      <td>1.0</td>\n      <td>2.0</td>\n    </tr>\n    <tr>\n      <th rowspan=\"3\" valign=\"top\">Buffalo Sabres</th>\n      <th>Apr</th>\n      <td>1.0</td>\n      <td>NaN</td>\n      <td>1.0</td>\n      <td>1.0</td>\n    </tr>\n    <tr>\n      <th>Dec</th>\n      <td>3.0</td>\n      <td>NaN</td>\n      <td>4.0</td>\n      <td>5.0</td>\n    </tr>\n    <tr>\n      <th>Feb</th>\n      <td>3.0</td>\n      <td>NaN</td>\n      <td>3.0</td>\n      <td>6.0</td>\n    </tr>\n  </tbody>\n</table>\n</div>"
     },
     "execution_count": 53,
     "metadata": {},
     "output_type": "execute_result"
    }
   ],
   "source": [
    "team_splits = team_splits.stack(level=0)\n",
    "team_splits.head(10)\n"
   ],
   "metadata": {
    "collapsed": false,
    "pycharm": {
     "name": "#%%\n"
    }
   }
  },
  {
   "cell_type": "code",
   "execution_count": 54,
   "outputs": [
    {
     "data": {
      "text/plain": "                          L  OL    T    W\nyear     name                            \n1980 Apr Boston Bruins  2.0 NaN  0.0  1.0\n     Dec Boston Bruins  6.0 NaN  1.0  6.0\n     Feb Boston Bruins  4.0 NaN  2.0  6.0\n     Jan Boston Bruins  4.0 NaN  1.0  9.0\n     Mar Boston Bruins  4.0 NaN  3.0  8.0",
      "text/html": "<div>\n<style scoped>\n    .dataframe tbody tr th:only-of-type {\n        vertical-align: middle;\n    }\n\n    .dataframe tbody tr th {\n        vertical-align: top;\n    }\n\n    .dataframe thead th {\n        text-align: right;\n    }\n</style>\n<table border=\"1\" class=\"dataframe\">\n  <thead>\n    <tr style=\"text-align: right;\">\n      <th></th>\n      <th></th>\n      <th></th>\n      <th>L</th>\n      <th>OL</th>\n      <th>T</th>\n      <th>W</th>\n    </tr>\n    <tr>\n      <th>year</th>\n      <th></th>\n      <th>name</th>\n      <th></th>\n      <th></th>\n      <th></th>\n      <th></th>\n    </tr>\n  </thead>\n  <tbody>\n    <tr>\n      <th rowspan=\"5\" valign=\"top\">1980</th>\n      <th>Apr</th>\n      <th>Boston Bruins</th>\n      <td>2.0</td>\n      <td>NaN</td>\n      <td>0.0</td>\n      <td>1.0</td>\n    </tr>\n    <tr>\n      <th>Dec</th>\n      <th>Boston Bruins</th>\n      <td>6.0</td>\n      <td>NaN</td>\n      <td>1.0</td>\n      <td>6.0</td>\n    </tr>\n    <tr>\n      <th>Feb</th>\n      <th>Boston Bruins</th>\n      <td>4.0</td>\n      <td>NaN</td>\n      <td>2.0</td>\n      <td>6.0</td>\n    </tr>\n    <tr>\n      <th>Jan</th>\n      <th>Boston Bruins</th>\n      <td>4.0</td>\n      <td>NaN</td>\n      <td>1.0</td>\n      <td>9.0</td>\n    </tr>\n    <tr>\n      <th>Mar</th>\n      <th>Boston Bruins</th>\n      <td>4.0</td>\n      <td>NaN</td>\n      <td>3.0</td>\n      <td>8.0</td>\n    </tr>\n  </tbody>\n</table>\n</div>"
     },
     "execution_count": 54,
     "metadata": {},
     "output_type": "execute_result"
    }
   ],
   "source": [
    "team_splits = team_splits.swaplevel(1, 2)\n",
    "team_splits.head()\n"
   ],
   "metadata": {
    "collapsed": false,
    "pycharm": {
     "name": "#%%\n"
    }
   }
  },
  {
   "cell_type": "code",
   "execution_count": 55,
   "outputs": [
    {
     "data": {
      "text/plain": "                          L  OL    T    W\nname          year                       \nBoston Bruins 1980 Apr  2.0 NaN  0.0  1.0\n                   Dec  6.0 NaN  1.0  6.0\n                   Feb  4.0 NaN  2.0  6.0\n                   Jan  4.0 NaN  1.0  9.0\n                   Mar  4.0 NaN  3.0  8.0",
      "text/html": "<div>\n<style scoped>\n    .dataframe tbody tr th:only-of-type {\n        vertical-align: middle;\n    }\n\n    .dataframe tbody tr th {\n        vertical-align: top;\n    }\n\n    .dataframe thead th {\n        text-align: right;\n    }\n</style>\n<table border=\"1\" class=\"dataframe\">\n  <thead>\n    <tr style=\"text-align: right;\">\n      <th></th>\n      <th></th>\n      <th></th>\n      <th>L</th>\n      <th>OL</th>\n      <th>T</th>\n      <th>W</th>\n    </tr>\n    <tr>\n      <th>name</th>\n      <th>year</th>\n      <th></th>\n      <th></th>\n      <th></th>\n      <th></th>\n      <th></th>\n    </tr>\n  </thead>\n  <tbody>\n    <tr>\n      <th rowspan=\"5\" valign=\"top\">Boston Bruins</th>\n      <th rowspan=\"5\" valign=\"top\">1980</th>\n      <th>Apr</th>\n      <td>2.0</td>\n      <td>NaN</td>\n      <td>0.0</td>\n      <td>1.0</td>\n    </tr>\n    <tr>\n      <th>Dec</th>\n      <td>6.0</td>\n      <td>NaN</td>\n      <td>1.0</td>\n      <td>6.0</td>\n    </tr>\n    <tr>\n      <th>Feb</th>\n      <td>4.0</td>\n      <td>NaN</td>\n      <td>2.0</td>\n      <td>6.0</td>\n    </tr>\n    <tr>\n      <th>Jan</th>\n      <td>4.0</td>\n      <td>NaN</td>\n      <td>1.0</td>\n      <td>9.0</td>\n    </tr>\n    <tr>\n      <th>Mar</th>\n      <td>4.0</td>\n      <td>NaN</td>\n      <td>3.0</td>\n      <td>8.0</td>\n    </tr>\n  </tbody>\n</table>\n</div>"
     },
     "execution_count": 55,
     "metadata": {},
     "output_type": "execute_result"
    }
   ],
   "source": [
    "team_splits = team_splits.reorder_levels([2,0,1])\n",
    "team_splits.head()\n"
   ],
   "metadata": {
    "collapsed": false,
    "pycharm": {
     "name": "#%%\n"
    }
   }
  },
  {
   "cell_type": "code",
   "execution_count": 59,
   "outputs": [
    {
     "data": {
      "text/plain": "                            L  OL    T    W\nname          year month                   \nBoston Bruins 1980 Apr    2.0 NaN  0.0  1.0\n                   Dec    6.0 NaN  1.0  6.0\n                   Feb    4.0 NaN  2.0  6.0\n                   Jan    4.0 NaN  1.0  9.0\n                   Mar    4.0 NaN  3.0  8.0",
      "text/html": "<div>\n<style scoped>\n    .dataframe tbody tr th:only-of-type {\n        vertical-align: middle;\n    }\n\n    .dataframe tbody tr th {\n        vertical-align: top;\n    }\n\n    .dataframe thead th {\n        text-align: right;\n    }\n</style>\n<table border=\"1\" class=\"dataframe\">\n  <thead>\n    <tr style=\"text-align: right;\">\n      <th></th>\n      <th></th>\n      <th></th>\n      <th>L</th>\n      <th>OL</th>\n      <th>T</th>\n      <th>W</th>\n    </tr>\n    <tr>\n      <th>name</th>\n      <th>year</th>\n      <th>month</th>\n      <th></th>\n      <th></th>\n      <th></th>\n      <th></th>\n    </tr>\n  </thead>\n  <tbody>\n    <tr>\n      <th rowspan=\"5\" valign=\"top\">Boston Bruins</th>\n      <th rowspan=\"5\" valign=\"top\">1980</th>\n      <th>Apr</th>\n      <td>2.0</td>\n      <td>NaN</td>\n      <td>0.0</td>\n      <td>1.0</td>\n    </tr>\n    <tr>\n      <th>Dec</th>\n      <td>6.0</td>\n      <td>NaN</td>\n      <td>1.0</td>\n      <td>6.0</td>\n    </tr>\n    <tr>\n      <th>Feb</th>\n      <td>4.0</td>\n      <td>NaN</td>\n      <td>2.0</td>\n      <td>6.0</td>\n    </tr>\n    <tr>\n      <th>Jan</th>\n      <td>4.0</td>\n      <td>NaN</td>\n      <td>1.0</td>\n      <td>9.0</td>\n    </tr>\n    <tr>\n      <th>Mar</th>\n      <td>4.0</td>\n      <td>NaN</td>\n      <td>3.0</td>\n      <td>8.0</td>\n    </tr>\n  </tbody>\n</table>\n</div>"
     },
     "execution_count": 59,
     "metadata": {},
     "output_type": "execute_result"
    }
   ],
   "source": [
    "team_splits.index.set_names('month', level=2, inplace=True)\n",
    "team_splits.head()\n"
   ],
   "metadata": {
    "collapsed": false,
    "pycharm": {
     "name": "#%%\n"
    }
   }
  },
  {
   "cell_type": "code",
   "execution_count": 61,
   "outputs": [
    {
     "data": {
      "text/plain": "                           L    OL     T     W\nname              year                        \nAnaheim Ducks     2006  20.0  14.0   0.0  48.0\n                  2007  27.0   8.0   0.0  47.0\n                  2008  33.0   7.0   0.0  42.0\n                  2009  32.0  11.0   0.0  39.0\n                  2010  30.0   5.0   0.0  47.0\n                  2011  36.0  12.0   0.0  34.0\nAtlanta Thrashers 1999  57.0   4.0   7.0  14.0\n                  2000  45.0   2.0  12.0  23.0\n                  2001  47.0   5.0  11.0  19.0\n                  2002  39.0   5.0   7.0  31.0",
      "text/html": "<div>\n<style scoped>\n    .dataframe tbody tr th:only-of-type {\n        vertical-align: middle;\n    }\n\n    .dataframe tbody tr th {\n        vertical-align: top;\n    }\n\n    .dataframe thead th {\n        text-align: right;\n    }\n</style>\n<table border=\"1\" class=\"dataframe\">\n  <thead>\n    <tr style=\"text-align: right;\">\n      <th></th>\n      <th></th>\n      <th>L</th>\n      <th>OL</th>\n      <th>T</th>\n      <th>W</th>\n    </tr>\n    <tr>\n      <th>name</th>\n      <th>year</th>\n      <th></th>\n      <th></th>\n      <th></th>\n      <th></th>\n    </tr>\n  </thead>\n  <tbody>\n    <tr>\n      <th rowspan=\"6\" valign=\"top\">Anaheim Ducks</th>\n      <th>2006</th>\n      <td>20.0</td>\n      <td>14.0</td>\n      <td>0.0</td>\n      <td>48.0</td>\n    </tr>\n    <tr>\n      <th>2007</th>\n      <td>27.0</td>\n      <td>8.0</td>\n      <td>0.0</td>\n      <td>47.0</td>\n    </tr>\n    <tr>\n      <th>2008</th>\n      <td>33.0</td>\n      <td>7.0</td>\n      <td>0.0</td>\n      <td>42.0</td>\n    </tr>\n    <tr>\n      <th>2009</th>\n      <td>32.0</td>\n      <td>11.0</td>\n      <td>0.0</td>\n      <td>39.0</td>\n    </tr>\n    <tr>\n      <th>2010</th>\n      <td>30.0</td>\n      <td>5.0</td>\n      <td>0.0</td>\n      <td>47.0</td>\n    </tr>\n    <tr>\n      <th>2011</th>\n      <td>36.0</td>\n      <td>12.0</td>\n      <td>0.0</td>\n      <td>34.0</td>\n    </tr>\n    <tr>\n      <th rowspan=\"4\" valign=\"top\">Atlanta Thrashers</th>\n      <th>1999</th>\n      <td>57.0</td>\n      <td>4.0</td>\n      <td>7.0</td>\n      <td>14.0</td>\n    </tr>\n    <tr>\n      <th>2000</th>\n      <td>45.0</td>\n      <td>2.0</td>\n      <td>12.0</td>\n      <td>23.0</td>\n    </tr>\n    <tr>\n      <th>2001</th>\n      <td>47.0</td>\n      <td>5.0</td>\n      <td>11.0</td>\n      <td>19.0</td>\n    </tr>\n    <tr>\n      <th>2002</th>\n      <td>39.0</td>\n      <td>5.0</td>\n      <td>7.0</td>\n      <td>31.0</td>\n    </tr>\n  </tbody>\n</table>\n</div>"
     },
     "execution_count": 61,
     "metadata": {},
     "output_type": "execute_result"
    }
   ],
   "source": [
    "team_splits.groupby(level=['name', 'year']).sum().head(10)\n"
   ],
   "metadata": {
    "collapsed": false,
    "pycharm": {
     "name": "#%%\n"
    }
   }
  },
  {
   "cell_type": "code",
   "execution_count": 68,
   "outputs": [
    {
     "data": {
      "text/plain": "False"
     },
     "execution_count": 68,
     "metadata": {},
     "output_type": "execute_result"
    }
   ],
   "source": [
    "idx = pd.IndexSlice\n",
    "\n",
    "team_splits.index.is_monotonic_increasing"
   ],
   "metadata": {
    "collapsed": false,
    "pycharm": {
     "name": "#%%\n"
    }
   }
  },
  {
   "cell_type": "code",
   "execution_count": 73,
   "outputs": [
    {
     "data": {
      "text/plain": "True"
     },
     "execution_count": 73,
     "metadata": {},
     "output_type": "execute_result"
    }
   ],
   "source": [
    "team_splits.sort_index(inplace=True)\n",
    "team_splits.index.is_monotonic_increasing"
   ],
   "metadata": {
    "collapsed": false,
    "pycharm": {
     "name": "#%%\n"
    }
   }
  },
  {
   "cell_type": "code",
   "execution_count": 75,
   "outputs": [
    {
     "data": {
      "text/plain": "         L   OL   T     W\nmonth                    \nApr    0.0  2.0 NaN   1.0\nDec    5.0  0.0 NaN   9.0\nFeb    5.0  2.0 NaN   5.0\nJan    5.0  2.0 NaN   4.0\nMar    3.0  2.0 NaN  10.0\nNov    2.0  3.0 NaN  10.0\nOct    0.0  3.0 NaN   9.0",
      "text/html": "<div>\n<style scoped>\n    .dataframe tbody tr th:only-of-type {\n        vertical-align: middle;\n    }\n\n    .dataframe tbody tr th {\n        vertical-align: top;\n    }\n\n    .dataframe thead th {\n        text-align: right;\n    }\n</style>\n<table border=\"1\" class=\"dataframe\">\n  <thead>\n    <tr style=\"text-align: right;\">\n      <th></th>\n      <th>L</th>\n      <th>OL</th>\n      <th>T</th>\n      <th>W</th>\n    </tr>\n    <tr>\n      <th>month</th>\n      <th></th>\n      <th></th>\n      <th></th>\n      <th></th>\n    </tr>\n  </thead>\n  <tbody>\n    <tr>\n      <th>Apr</th>\n      <td>0.0</td>\n      <td>2.0</td>\n      <td>NaN</td>\n      <td>1.0</td>\n    </tr>\n    <tr>\n      <th>Dec</th>\n      <td>5.0</td>\n      <td>0.0</td>\n      <td>NaN</td>\n      <td>9.0</td>\n    </tr>\n    <tr>\n      <th>Feb</th>\n      <td>5.0</td>\n      <td>2.0</td>\n      <td>NaN</td>\n      <td>5.0</td>\n    </tr>\n    <tr>\n      <th>Jan</th>\n      <td>5.0</td>\n      <td>2.0</td>\n      <td>NaN</td>\n      <td>4.0</td>\n    </tr>\n    <tr>\n      <th>Mar</th>\n      <td>3.0</td>\n      <td>2.0</td>\n      <td>NaN</td>\n      <td>10.0</td>\n    </tr>\n    <tr>\n      <th>Nov</th>\n      <td>2.0</td>\n      <td>3.0</td>\n      <td>NaN</td>\n      <td>10.0</td>\n    </tr>\n    <tr>\n      <th>Oct</th>\n      <td>0.0</td>\n      <td>3.0</td>\n      <td>NaN</td>\n      <td>9.0</td>\n    </tr>\n  </tbody>\n</table>\n</div>"
     },
     "execution_count": 75,
     "metadata": {},
     "output_type": "execute_result"
    }
   ],
   "source": [
    "team_splits.loc[idx['Anaheim Ducks', 2006]]\n"
   ],
   "metadata": {
    "collapsed": false,
    "pycharm": {
     "name": "#%%\n"
    }
   }
  },
  {
   "cell_type": "code",
   "execution_count": 76,
   "outputs": [
    {
     "data": {
      "text/plain": "MultiIndex([('Anaheim Ducks', 2006, 'Apr'),\n            ('Anaheim Ducks', 2006, 'Dec'),\n            ('Anaheim Ducks', 2006, 'Feb'),\n            ('Anaheim Ducks', 2006, 'Jan'),\n            ('Anaheim Ducks', 2006, 'Mar'),\n            ('Anaheim Ducks', 2006, 'Nov'),\n            ('Anaheim Ducks', 2006, 'Oct'),\n            ('Anaheim Ducks', 2007, 'Apr'),\n            ('Anaheim Ducks', 2007, 'Dec'),\n            ('Anaheim Ducks', 2007, 'Feb'),\n            ...\n            ('Winnipeg Jets', 1995, 'Mar'),\n            ('Winnipeg Jets', 1995, 'Nov'),\n            ('Winnipeg Jets', 1995, 'Oct'),\n            ('Winnipeg Jets', 2011, 'Apr'),\n            ('Winnipeg Jets', 2011, 'Dec'),\n            ('Winnipeg Jets', 2011, 'Feb'),\n            ('Winnipeg Jets', 2011, 'Jan'),\n            ('Winnipeg Jets', 2011, 'Mar'),\n            ('Winnipeg Jets', 2011, 'Nov'),\n            ('Winnipeg Jets', 2011, 'Oct')],\n           names=['name', 'year', 'month'], length=5435)"
     },
     "execution_count": 76,
     "metadata": {},
     "output_type": "execute_result"
    }
   ],
   "source": [
    "team_splits.index\n"
   ],
   "metadata": {
    "collapsed": false,
    "pycharm": {
     "name": "#%%\n"
    }
   }
  },
  {
   "cell_type": "code",
   "execution_count": 82,
   "outputs": [],
   "source": [
    "unstacked = team_splits.unstack(level=['year', 'month'])\n"
   ],
   "metadata": {
    "collapsed": false,
    "pycharm": {
     "name": "#%%\n"
    }
   }
  },
  {
   "cell_type": "code",
   "execution_count": 83,
   "outputs": [
    {
     "data": {
      "text/plain": "                     L                                               ...    W  \\\nyear              2006                               2007            ... 1997   \nmonth              Apr  Dec  Feb  Jan  Mar  Nov  Oct  Apr  Dec  Feb  ...  Mar   \nname                                                                 ...        \nAnaheim Ducks      0.0  5.0  5.0  5.0  3.0  2.0  0.0  0.0  6.0  2.0  ...  NaN   \nAtlanta Thrashers  1.0  4.0  7.0  5.0  4.0  5.0  2.0  1.0  7.0  6.0  ...  NaN   \nBoston Bruins      4.0  5.0  5.0  9.0  9.0  4.0  5.0  1.0  8.0  4.0  ...  9.0   \nBuffalo Sabres     1.0  4.0  2.0  7.0  5.0  3.0  0.0  1.0  5.0  4.0  ...  9.0   \nCalgary Flames     4.0  4.0  4.0  3.0  4.0  4.0  6.0  1.0  1.0  6.0  ...  8.0   \n\n                                                                \nyear                        1998                                \nmonth              Nov  Oct  Apr  Dec  Feb  Jan  Mar  Nov  Oct  \nname                                                            \nAnaheim Ducks      NaN  NaN  NaN  NaN  NaN  NaN  NaN  NaN  NaN  \nAtlanta Thrashers  NaN  NaN  NaN  NaN  NaN  NaN  NaN  NaN  NaN  \nBoston Bruins      4.0  7.0  7.0  6.0  5.0  4.0  7.0  6.0  4.0  \nBuffalo Sabres     3.0  4.0  4.0  9.0  4.0  5.0  5.0  6.0  4.0  \nCalgary Flames     2.0  3.0  2.0  4.0  5.0  4.0  7.0  6.0  2.0  \n\n[5 rows x 856 columns]",
      "text/html": "<div>\n<style scoped>\n    .dataframe tbody tr th:only-of-type {\n        vertical-align: middle;\n    }\n\n    .dataframe tbody tr th {\n        vertical-align: top;\n    }\n\n    .dataframe thead tr th {\n        text-align: left;\n    }\n\n    .dataframe thead tr:last-of-type th {\n        text-align: right;\n    }\n</style>\n<table border=\"1\" class=\"dataframe\">\n  <thead>\n    <tr>\n      <th></th>\n      <th colspan=\"10\" halign=\"left\">L</th>\n      <th>...</th>\n      <th colspan=\"10\" halign=\"left\">W</th>\n    </tr>\n    <tr>\n      <th>year</th>\n      <th colspan=\"7\" halign=\"left\">2006</th>\n      <th colspan=\"3\" halign=\"left\">2007</th>\n      <th>...</th>\n      <th colspan=\"3\" halign=\"left\">1997</th>\n      <th colspan=\"7\" halign=\"left\">1998</th>\n    </tr>\n    <tr>\n      <th>month</th>\n      <th>Apr</th>\n      <th>Dec</th>\n      <th>Feb</th>\n      <th>Jan</th>\n      <th>Mar</th>\n      <th>Nov</th>\n      <th>Oct</th>\n      <th>Apr</th>\n      <th>Dec</th>\n      <th>Feb</th>\n      <th>...</th>\n      <th>Mar</th>\n      <th>Nov</th>\n      <th>Oct</th>\n      <th>Apr</th>\n      <th>Dec</th>\n      <th>Feb</th>\n      <th>Jan</th>\n      <th>Mar</th>\n      <th>Nov</th>\n      <th>Oct</th>\n    </tr>\n    <tr>\n      <th>name</th>\n      <th></th>\n      <th></th>\n      <th></th>\n      <th></th>\n      <th></th>\n      <th></th>\n      <th></th>\n      <th></th>\n      <th></th>\n      <th></th>\n      <th></th>\n      <th></th>\n      <th></th>\n      <th></th>\n      <th></th>\n      <th></th>\n      <th></th>\n      <th></th>\n      <th></th>\n      <th></th>\n      <th></th>\n    </tr>\n  </thead>\n  <tbody>\n    <tr>\n      <th>Anaheim Ducks</th>\n      <td>0.0</td>\n      <td>5.0</td>\n      <td>5.0</td>\n      <td>5.0</td>\n      <td>3.0</td>\n      <td>2.0</td>\n      <td>0.0</td>\n      <td>0.0</td>\n      <td>6.0</td>\n      <td>2.0</td>\n      <td>...</td>\n      <td>NaN</td>\n      <td>NaN</td>\n      <td>NaN</td>\n      <td>NaN</td>\n      <td>NaN</td>\n      <td>NaN</td>\n      <td>NaN</td>\n      <td>NaN</td>\n      <td>NaN</td>\n      <td>NaN</td>\n    </tr>\n    <tr>\n      <th>Atlanta Thrashers</th>\n      <td>1.0</td>\n      <td>4.0</td>\n      <td>7.0</td>\n      <td>5.0</td>\n      <td>4.0</td>\n      <td>5.0</td>\n      <td>2.0</td>\n      <td>1.0</td>\n      <td>7.0</td>\n      <td>6.0</td>\n      <td>...</td>\n      <td>NaN</td>\n      <td>NaN</td>\n      <td>NaN</td>\n      <td>NaN</td>\n      <td>NaN</td>\n      <td>NaN</td>\n      <td>NaN</td>\n      <td>NaN</td>\n      <td>NaN</td>\n      <td>NaN</td>\n    </tr>\n    <tr>\n      <th>Boston Bruins</th>\n      <td>4.0</td>\n      <td>5.0</td>\n      <td>5.0</td>\n      <td>9.0</td>\n      <td>9.0</td>\n      <td>4.0</td>\n      <td>5.0</td>\n      <td>1.0</td>\n      <td>8.0</td>\n      <td>4.0</td>\n      <td>...</td>\n      <td>9.0</td>\n      <td>4.0</td>\n      <td>7.0</td>\n      <td>7.0</td>\n      <td>6.0</td>\n      <td>5.0</td>\n      <td>4.0</td>\n      <td>7.0</td>\n      <td>6.0</td>\n      <td>4.0</td>\n    </tr>\n    <tr>\n      <th>Buffalo Sabres</th>\n      <td>1.0</td>\n      <td>4.0</td>\n      <td>2.0</td>\n      <td>7.0</td>\n      <td>5.0</td>\n      <td>3.0</td>\n      <td>0.0</td>\n      <td>1.0</td>\n      <td>5.0</td>\n      <td>4.0</td>\n      <td>...</td>\n      <td>9.0</td>\n      <td>3.0</td>\n      <td>4.0</td>\n      <td>4.0</td>\n      <td>9.0</td>\n      <td>4.0</td>\n      <td>5.0</td>\n      <td>5.0</td>\n      <td>6.0</td>\n      <td>4.0</td>\n    </tr>\n    <tr>\n      <th>Calgary Flames</th>\n      <td>4.0</td>\n      <td>4.0</td>\n      <td>4.0</td>\n      <td>3.0</td>\n      <td>4.0</td>\n      <td>4.0</td>\n      <td>6.0</td>\n      <td>1.0</td>\n      <td>1.0</td>\n      <td>6.0</td>\n      <td>...</td>\n      <td>8.0</td>\n      <td>2.0</td>\n      <td>3.0</td>\n      <td>2.0</td>\n      <td>4.0</td>\n      <td>5.0</td>\n      <td>4.0</td>\n      <td>7.0</td>\n      <td>6.0</td>\n      <td>2.0</td>\n    </tr>\n  </tbody>\n</table>\n<p>5 rows × 856 columns</p>\n</div>"
     },
     "execution_count": 83,
     "metadata": {},
     "output_type": "execute_result"
    }
   ],
   "source": [
    "unstacked.head()\n"
   ],
   "metadata": {
    "collapsed": false,
    "pycharm": {
     "name": "#%%\n"
    }
   }
  },
  {
   "cell_type": "code",
   "execution_count": 84,
   "outputs": [
    {
     "data": {
      "text/plain": "Index(['Anaheim Ducks', 'Atlanta Thrashers', 'Boston Bruins', 'Buffalo Sabres',\n       'Calgary Flames', 'Carolina Hurricanes', 'Chicago Black Hawks',\n       'Chicago Blackhawks', 'Colorado Avalanche', 'Colorado Rockies',\n       'Columbus Blue Jackets', 'Dallas Stars', 'Detroit Red Wings',\n       'Edmonton Oilers', 'Florida Panthers', 'Hartford Whalers',\n       'Los Angeles Kings', 'Mighty Ducks of Anaheim', 'Minnesota North Stars',\n       'Minnesota Wild', 'Montreal Canadiens', 'Nashville Predators',\n       'New Jersey Devils', 'New York Islanders', 'New York Rangers',\n       'Ottawa Senators', 'Philadelphia Flyers', 'Phoenix Coyotes',\n       'Pittsburgh Penguins', 'Quebec Nordiques', 'San Jose Sharks',\n       'St. Louis Blues', 'Tampa Bay Lightning', 'Toronto Maple Leafs',\n       'Vancouver Canucks', 'Washington Capitals', 'Winnipeg Jets'],\n      dtype='object', name='name')"
     },
     "execution_count": 84,
     "metadata": {},
     "output_type": "execute_result"
    }
   ],
   "source": [
    "unstacked.index\n"
   ],
   "metadata": {
    "collapsed": false,
    "pycharm": {
     "name": "#%%\n"
    }
   }
  },
  {
   "cell_type": "code",
   "execution_count": 85,
   "outputs": [
    {
     "data": {
      "text/plain": "1"
     },
     "execution_count": 85,
     "metadata": {},
     "output_type": "execute_result"
    }
   ],
   "source": [
    "unstacked.index.nlevels\n"
   ],
   "metadata": {
    "collapsed": false,
    "pycharm": {
     "name": "#%%\n"
    }
   }
  },
  {
   "cell_type": "code",
   "execution_count": 86,
   "outputs": [
    {
     "data": {
      "text/plain": "MultiIndex([('L', 2006, 'Apr'),\n            ('L', 2006, 'Dec'),\n            ('L', 2006, 'Feb'),\n            ('L', 2006, 'Jan'),\n            ('L', 2006, 'Mar'),\n            ('L', 2006, 'Nov'),\n            ('L', 2006, 'Oct'),\n            ('L', 2007, 'Apr'),\n            ('L', 2007, 'Dec'),\n            ('L', 2007, 'Feb'),\n            ...\n            ('W', 1997, 'Mar'),\n            ('W', 1997, 'Nov'),\n            ('W', 1997, 'Oct'),\n            ('W', 1998, 'Apr'),\n            ('W', 1998, 'Dec'),\n            ('W', 1998, 'Feb'),\n            ('W', 1998, 'Jan'),\n            ('W', 1998, 'Mar'),\n            ('W', 1998, 'Nov'),\n            ('W', 1998, 'Oct')],\n           names=[None, 'year', 'month'], length=856)"
     },
     "execution_count": 86,
     "metadata": {},
     "output_type": "execute_result"
    }
   ],
   "source": [
    "unstacked.columns\n"
   ],
   "metadata": {
    "collapsed": false,
    "pycharm": {
     "name": "#%%\n"
    }
   }
  },
  {
   "cell_type": "code",
   "execution_count": 90,
   "outputs": [
    {
     "data": {
      "text/plain": "FrozenList([None, 'year', 'month'])"
     },
     "execution_count": 90,
     "metadata": {},
     "output_type": "execute_result"
    }
   ],
   "source": [
    "unstacked.columns.names\n"
   ],
   "metadata": {
    "collapsed": false,
    "pycharm": {
     "name": "#%%\n"
    }
   }
  },
  {
   "cell_type": "code",
   "execution_count": 91,
   "outputs": [],
   "source": [
    "unstacked.columns.names = ['metrics', 'year', 'month']\n"
   ],
   "metadata": {
    "collapsed": false,
    "pycharm": {
     "name": "#%%\n"
    }
   }
  },
  {
   "cell_type": "code",
   "execution_count": 92,
   "outputs": [
    {
     "data": {
      "text/plain": "metrics              L                                               ...    W  \\\nyear              2006                               2007            ... 1997   \nmonth              Apr  Dec  Feb  Jan  Mar  Nov  Oct  Apr  Dec  Feb  ...  Mar   \nname                                                                 ...        \nAnaheim Ducks      0.0  5.0  5.0  5.0  3.0  2.0  0.0  0.0  6.0  2.0  ...  NaN   \nAtlanta Thrashers  1.0  4.0  7.0  5.0  4.0  5.0  2.0  1.0  7.0  6.0  ...  NaN   \nBoston Bruins      4.0  5.0  5.0  9.0  9.0  4.0  5.0  1.0  8.0  4.0  ...  9.0   \nBuffalo Sabres     1.0  4.0  2.0  7.0  5.0  3.0  0.0  1.0  5.0  4.0  ...  9.0   \nCalgary Flames     4.0  4.0  4.0  3.0  4.0  4.0  6.0  1.0  1.0  6.0  ...  8.0   \n\nmetrics                                                         \nyear                        1998                                \nmonth              Nov  Oct  Apr  Dec  Feb  Jan  Mar  Nov  Oct  \nname                                                            \nAnaheim Ducks      NaN  NaN  NaN  NaN  NaN  NaN  NaN  NaN  NaN  \nAtlanta Thrashers  NaN  NaN  NaN  NaN  NaN  NaN  NaN  NaN  NaN  \nBoston Bruins      4.0  7.0  7.0  6.0  5.0  4.0  7.0  6.0  4.0  \nBuffalo Sabres     3.0  4.0  4.0  9.0  4.0  5.0  5.0  6.0  4.0  \nCalgary Flames     2.0  3.0  2.0  4.0  5.0  4.0  7.0  6.0  2.0  \n\n[5 rows x 856 columns]",
      "text/html": "<div>\n<style scoped>\n    .dataframe tbody tr th:only-of-type {\n        vertical-align: middle;\n    }\n\n    .dataframe tbody tr th {\n        vertical-align: top;\n    }\n\n    .dataframe thead tr th {\n        text-align: left;\n    }\n\n    .dataframe thead tr:last-of-type th {\n        text-align: right;\n    }\n</style>\n<table border=\"1\" class=\"dataframe\">\n  <thead>\n    <tr>\n      <th>metrics</th>\n      <th colspan=\"10\" halign=\"left\">L</th>\n      <th>...</th>\n      <th colspan=\"10\" halign=\"left\">W</th>\n    </tr>\n    <tr>\n      <th>year</th>\n      <th colspan=\"7\" halign=\"left\">2006</th>\n      <th colspan=\"3\" halign=\"left\">2007</th>\n      <th>...</th>\n      <th colspan=\"3\" halign=\"left\">1997</th>\n      <th colspan=\"7\" halign=\"left\">1998</th>\n    </tr>\n    <tr>\n      <th>month</th>\n      <th>Apr</th>\n      <th>Dec</th>\n      <th>Feb</th>\n      <th>Jan</th>\n      <th>Mar</th>\n      <th>Nov</th>\n      <th>Oct</th>\n      <th>Apr</th>\n      <th>Dec</th>\n      <th>Feb</th>\n      <th>...</th>\n      <th>Mar</th>\n      <th>Nov</th>\n      <th>Oct</th>\n      <th>Apr</th>\n      <th>Dec</th>\n      <th>Feb</th>\n      <th>Jan</th>\n      <th>Mar</th>\n      <th>Nov</th>\n      <th>Oct</th>\n    </tr>\n    <tr>\n      <th>name</th>\n      <th></th>\n      <th></th>\n      <th></th>\n      <th></th>\n      <th></th>\n      <th></th>\n      <th></th>\n      <th></th>\n      <th></th>\n      <th></th>\n      <th></th>\n      <th></th>\n      <th></th>\n      <th></th>\n      <th></th>\n      <th></th>\n      <th></th>\n      <th></th>\n      <th></th>\n      <th></th>\n      <th></th>\n    </tr>\n  </thead>\n  <tbody>\n    <tr>\n      <th>Anaheim Ducks</th>\n      <td>0.0</td>\n      <td>5.0</td>\n      <td>5.0</td>\n      <td>5.0</td>\n      <td>3.0</td>\n      <td>2.0</td>\n      <td>0.0</td>\n      <td>0.0</td>\n      <td>6.0</td>\n      <td>2.0</td>\n      <td>...</td>\n      <td>NaN</td>\n      <td>NaN</td>\n      <td>NaN</td>\n      <td>NaN</td>\n      <td>NaN</td>\n      <td>NaN</td>\n      <td>NaN</td>\n      <td>NaN</td>\n      <td>NaN</td>\n      <td>NaN</td>\n    </tr>\n    <tr>\n      <th>Atlanta Thrashers</th>\n      <td>1.0</td>\n      <td>4.0</td>\n      <td>7.0</td>\n      <td>5.0</td>\n      <td>4.0</td>\n      <td>5.0</td>\n      <td>2.0</td>\n      <td>1.0</td>\n      <td>7.0</td>\n      <td>6.0</td>\n      <td>...</td>\n      <td>NaN</td>\n      <td>NaN</td>\n      <td>NaN</td>\n      <td>NaN</td>\n      <td>NaN</td>\n      <td>NaN</td>\n      <td>NaN</td>\n      <td>NaN</td>\n      <td>NaN</td>\n      <td>NaN</td>\n    </tr>\n    <tr>\n      <th>Boston Bruins</th>\n      <td>4.0</td>\n      <td>5.0</td>\n      <td>5.0</td>\n      <td>9.0</td>\n      <td>9.0</td>\n      <td>4.0</td>\n      <td>5.0</td>\n      <td>1.0</td>\n      <td>8.0</td>\n      <td>4.0</td>\n      <td>...</td>\n      <td>9.0</td>\n      <td>4.0</td>\n      <td>7.0</td>\n      <td>7.0</td>\n      <td>6.0</td>\n      <td>5.0</td>\n      <td>4.0</td>\n      <td>7.0</td>\n      <td>6.0</td>\n      <td>4.0</td>\n    </tr>\n    <tr>\n      <th>Buffalo Sabres</th>\n      <td>1.0</td>\n      <td>4.0</td>\n      <td>2.0</td>\n      <td>7.0</td>\n      <td>5.0</td>\n      <td>3.0</td>\n      <td>0.0</td>\n      <td>1.0</td>\n      <td>5.0</td>\n      <td>4.0</td>\n      <td>...</td>\n      <td>9.0</td>\n      <td>3.0</td>\n      <td>4.0</td>\n      <td>4.0</td>\n      <td>9.0</td>\n      <td>4.0</td>\n      <td>5.0</td>\n      <td>5.0</td>\n      <td>6.0</td>\n      <td>4.0</td>\n    </tr>\n    <tr>\n      <th>Calgary Flames</th>\n      <td>4.0</td>\n      <td>4.0</td>\n      <td>4.0</td>\n      <td>3.0</td>\n      <td>4.0</td>\n      <td>4.0</td>\n      <td>6.0</td>\n      <td>1.0</td>\n      <td>1.0</td>\n      <td>6.0</td>\n      <td>...</td>\n      <td>8.0</td>\n      <td>2.0</td>\n      <td>3.0</td>\n      <td>2.0</td>\n      <td>4.0</td>\n      <td>5.0</td>\n      <td>4.0</td>\n      <td>7.0</td>\n      <td>6.0</td>\n      <td>2.0</td>\n    </tr>\n  </tbody>\n</table>\n<p>5 rows × 856 columns</p>\n</div>"
     },
     "execution_count": 92,
     "metadata": {},
     "output_type": "execute_result"
    }
   ],
   "source": [
    "unstacked.head()\n"
   ],
   "metadata": {
    "collapsed": false,
    "pycharm": {
     "name": "#%%\n"
    }
   }
  },
  {
   "cell_type": "code",
   "execution_count": 93,
   "outputs": [],
   "source": [
    "unstacked_copy = unstacked.copy()\n"
   ],
   "metadata": {
    "collapsed": false,
    "pycharm": {
     "name": "#%%\n"
    }
   }
  },
  {
   "cell_type": "code",
   "execution_count": 94,
   "outputs": [
    {
     "data": {
      "text/plain": "year              2006                               2007            ... 1997  \\\nmonth              Apr  Dec  Feb  Jan  Mar  Nov  Oct  Apr  Dec  Feb  ...  Mar   \nmetrics              L    L    L    L    L    L    L    L    L    L  ...    W   \nname                                                                 ...        \nAnaheim Ducks      0.0  5.0  5.0  5.0  3.0  2.0  0.0  0.0  6.0  2.0  ...  NaN   \nAtlanta Thrashers  1.0  4.0  7.0  5.0  4.0  5.0  2.0  1.0  7.0  6.0  ...  NaN   \nBoston Bruins      4.0  5.0  5.0  9.0  9.0  4.0  5.0  1.0  8.0  4.0  ...  9.0   \nBuffalo Sabres     1.0  4.0  2.0  7.0  5.0  3.0  0.0  1.0  5.0  4.0  ...  9.0   \nCalgary Flames     4.0  4.0  4.0  3.0  4.0  4.0  6.0  1.0  1.0  6.0  ...  8.0   \n\nyear                        1998                                \nmonth              Nov  Oct  Apr  Dec  Feb  Jan  Mar  Nov  Oct  \nmetrics              W    W    W    W    W    W    W    W    W  \nname                                                            \nAnaheim Ducks      NaN  NaN  NaN  NaN  NaN  NaN  NaN  NaN  NaN  \nAtlanta Thrashers  NaN  NaN  NaN  NaN  NaN  NaN  NaN  NaN  NaN  \nBoston Bruins      4.0  7.0  7.0  6.0  5.0  4.0  7.0  6.0  4.0  \nBuffalo Sabres     3.0  4.0  4.0  9.0  4.0  5.0  5.0  6.0  4.0  \nCalgary Flames     2.0  3.0  2.0  4.0  5.0  4.0  7.0  6.0  2.0  \n\n[5 rows x 856 columns]",
      "text/html": "<div>\n<style scoped>\n    .dataframe tbody tr th:only-of-type {\n        vertical-align: middle;\n    }\n\n    .dataframe tbody tr th {\n        vertical-align: top;\n    }\n\n    .dataframe thead tr th {\n        text-align: left;\n    }\n\n    .dataframe thead tr:last-of-type th {\n        text-align: right;\n    }\n</style>\n<table border=\"1\" class=\"dataframe\">\n  <thead>\n    <tr>\n      <th>year</th>\n      <th colspan=\"7\" halign=\"left\">2006</th>\n      <th colspan=\"3\" halign=\"left\">2007</th>\n      <th>...</th>\n      <th colspan=\"3\" halign=\"left\">1997</th>\n      <th colspan=\"7\" halign=\"left\">1998</th>\n    </tr>\n    <tr>\n      <th>month</th>\n      <th>Apr</th>\n      <th>Dec</th>\n      <th>Feb</th>\n      <th>Jan</th>\n      <th>Mar</th>\n      <th>Nov</th>\n      <th>Oct</th>\n      <th>Apr</th>\n      <th>Dec</th>\n      <th>Feb</th>\n      <th>...</th>\n      <th>Mar</th>\n      <th>Nov</th>\n      <th>Oct</th>\n      <th>Apr</th>\n      <th>Dec</th>\n      <th>Feb</th>\n      <th>Jan</th>\n      <th>Mar</th>\n      <th>Nov</th>\n      <th>Oct</th>\n    </tr>\n    <tr>\n      <th>metrics</th>\n      <th>L</th>\n      <th>L</th>\n      <th>L</th>\n      <th>L</th>\n      <th>L</th>\n      <th>L</th>\n      <th>L</th>\n      <th>L</th>\n      <th>L</th>\n      <th>L</th>\n      <th>...</th>\n      <th>W</th>\n      <th>W</th>\n      <th>W</th>\n      <th>W</th>\n      <th>W</th>\n      <th>W</th>\n      <th>W</th>\n      <th>W</th>\n      <th>W</th>\n      <th>W</th>\n    </tr>\n    <tr>\n      <th>name</th>\n      <th></th>\n      <th></th>\n      <th></th>\n      <th></th>\n      <th></th>\n      <th></th>\n      <th></th>\n      <th></th>\n      <th></th>\n      <th></th>\n      <th></th>\n      <th></th>\n      <th></th>\n      <th></th>\n      <th></th>\n      <th></th>\n      <th></th>\n      <th></th>\n      <th></th>\n      <th></th>\n      <th></th>\n    </tr>\n  </thead>\n  <tbody>\n    <tr>\n      <th>Anaheim Ducks</th>\n      <td>0.0</td>\n      <td>5.0</td>\n      <td>5.0</td>\n      <td>5.0</td>\n      <td>3.0</td>\n      <td>2.0</td>\n      <td>0.0</td>\n      <td>0.0</td>\n      <td>6.0</td>\n      <td>2.0</td>\n      <td>...</td>\n      <td>NaN</td>\n      <td>NaN</td>\n      <td>NaN</td>\n      <td>NaN</td>\n      <td>NaN</td>\n      <td>NaN</td>\n      <td>NaN</td>\n      <td>NaN</td>\n      <td>NaN</td>\n      <td>NaN</td>\n    </tr>\n    <tr>\n      <th>Atlanta Thrashers</th>\n      <td>1.0</td>\n      <td>4.0</td>\n      <td>7.0</td>\n      <td>5.0</td>\n      <td>4.0</td>\n      <td>5.0</td>\n      <td>2.0</td>\n      <td>1.0</td>\n      <td>7.0</td>\n      <td>6.0</td>\n      <td>...</td>\n      <td>NaN</td>\n      <td>NaN</td>\n      <td>NaN</td>\n      <td>NaN</td>\n      <td>NaN</td>\n      <td>NaN</td>\n      <td>NaN</td>\n      <td>NaN</td>\n      <td>NaN</td>\n      <td>NaN</td>\n    </tr>\n    <tr>\n      <th>Boston Bruins</th>\n      <td>4.0</td>\n      <td>5.0</td>\n      <td>5.0</td>\n      <td>9.0</td>\n      <td>9.0</td>\n      <td>4.0</td>\n      <td>5.0</td>\n      <td>1.0</td>\n      <td>8.0</td>\n      <td>4.0</td>\n      <td>...</td>\n      <td>9.0</td>\n      <td>4.0</td>\n      <td>7.0</td>\n      <td>7.0</td>\n      <td>6.0</td>\n      <td>5.0</td>\n      <td>4.0</td>\n      <td>7.0</td>\n      <td>6.0</td>\n      <td>4.0</td>\n    </tr>\n    <tr>\n      <th>Buffalo Sabres</th>\n      <td>1.0</td>\n      <td>4.0</td>\n      <td>2.0</td>\n      <td>7.0</td>\n      <td>5.0</td>\n      <td>3.0</td>\n      <td>0.0</td>\n      <td>1.0</td>\n      <td>5.0</td>\n      <td>4.0</td>\n      <td>...</td>\n      <td>9.0</td>\n      <td>3.0</td>\n      <td>4.0</td>\n      <td>4.0</td>\n      <td>9.0</td>\n      <td>4.0</td>\n      <td>5.0</td>\n      <td>5.0</td>\n      <td>6.0</td>\n      <td>4.0</td>\n    </tr>\n    <tr>\n      <th>Calgary Flames</th>\n      <td>4.0</td>\n      <td>4.0</td>\n      <td>4.0</td>\n      <td>3.0</td>\n      <td>4.0</td>\n      <td>4.0</td>\n      <td>6.0</td>\n      <td>1.0</td>\n      <td>1.0</td>\n      <td>6.0</td>\n      <td>...</td>\n      <td>8.0</td>\n      <td>2.0</td>\n      <td>3.0</td>\n      <td>2.0</td>\n      <td>4.0</td>\n      <td>5.0</td>\n      <td>4.0</td>\n      <td>7.0</td>\n      <td>6.0</td>\n      <td>2.0</td>\n    </tr>\n  </tbody>\n</table>\n<p>5 rows × 856 columns</p>\n</div>"
     },
     "execution_count": 94,
     "metadata": {},
     "output_type": "execute_result"
    }
   ],
   "source": [
    "unstacked.columns = unstacked.columns.reorder_levels([1,2,0])\n",
    "unstacked.head()\n"
   ],
   "metadata": {
    "collapsed": false,
    "pycharm": {
     "name": "#%%\n"
    }
   }
  },
  {
   "cell_type": "code",
   "execution_count": 95,
   "outputs": [],
   "source": [
    "team_splits.to_pickle(os.path.join('data', 'modified', 'team_splits_mi.pickle'))\n",
    "mi.to_pickle(os.path.join('data', 'modified', 'scoring_mi.pickle'))\n",
    "\n",
    "team_splits.to_csv(os.path.join('data', 'modified', 'team_splits_mi.csv'))\n",
    "mi.to_csv(os.path.join('data', 'modified', 'scoring_mi.csv'))\n"
   ],
   "metadata": {
    "collapsed": false,
    "pycharm": {
     "name": "#%%\n"
    }
   }
  },
  {
   "cell_type": "code",
   "execution_count": 96,
   "outputs": [],
   "source": [
    "unstacked.to_csv(os.path.join('data', 'modified', 'team_splits_unstacked.csv'))\n"
   ],
   "metadata": {
    "collapsed": false,
    "pycharm": {
     "name": "#%%\n"
    }
   }
  },
  {
   "cell_type": "code",
   "execution_count": null,
   "outputs": [],
   "source": [],
   "metadata": {
    "collapsed": false,
    "pycharm": {
     "name": "#%%\n"
    }
   }
  }
 ],
 "metadata": {
  "kernelspec": {
   "display_name": "Python 3",
   "language": "python",
   "name": "python3"
  },
  "language_info": {
   "codemirror_mode": {
    "name": "ipython",
    "version": 2
   },
   "file_extension": ".py",
   "mimetype": "text/x-python",
   "name": "python",
   "nbconvert_exporter": "python",
   "pygments_lexer": "ipython2",
   "version": "2.7.6"
  }
 },
 "nbformat": 4,
 "nbformat_minor": 0
}