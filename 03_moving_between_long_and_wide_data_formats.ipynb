{
 "cells": [
  {
   "cell_type": "markdown",
   "source": [
    "# Advanced Pandas - Moving Between Long and Wide Data Formats\n",
    "**Abid Ali**\n",
    "\n",
    "Skype: Abd.Soft\n",
    "\n",
    "Email: [abdsoftfsd@gmail.com](mailto:abdsoftfsd@gmail.com)"
   ],
   "metadata": {
    "collapsed": false,
    "pycharm": {
     "name": "#%% md\n"
    }
   }
  },
  {
   "cell_type": "markdown",
   "source": [
    "\"The information used herein was obtained free of charge from and is\n",
    "copyrighted by the Hockey Databank project.  For more information about the\n",
    "Hockey Databank project please visit\n",
    "[http://sports.groups.yahoo.com/group/hockey-databank](http://sports.groups.yahoo.com/group/hockey-databank)\""
   ],
   "metadata": {
    "collapsed": false,
    "pycharm": {
     "name": "#%% md\n"
    }
   }
  },
  {
   "cell_type": "code",
   "execution_count": 1,
   "outputs": [],
   "source": [
    "import pandas as pd\n",
    "import os\n"
   ],
   "metadata": {
    "collapsed": false,
    "pycharm": {
     "name": "#%%\n"
    }
   }
  },
  {
   "cell_type": "code",
   "execution_count": 2,
   "outputs": [],
   "source": [
    "scoring = pd.read_pickle(os.path.join('data', 'modified', 'scoring_merged.pickle'))\n",
    "team_splits = pd.read_pickle(os.path.join('data', 'modified', 'team_splits_merged.pickle'))\n"
   ],
   "metadata": {
    "collapsed": false,
    "pycharm": {
     "name": "#%%\n"
    }
   }
  },
  {
   "cell_type": "code",
   "execution_count": 3,
   "outputs": [
    {
     "data": {
      "text/plain": "  firstName lastName pos   playerID  year tmID    GP    G     A   Pts    SOG\n0     Antti    Aalto   C  aaltoan01  1997  ANA   3.0  0.0   0.0   0.0    1.0\n1     Antti    Aalto   C  aaltoan01  1998  ANA  73.0  3.0   5.0   8.0   61.0\n2     Antti    Aalto   C  aaltoan01  1999  ANA  63.0  7.0  11.0  18.0  102.0",
      "text/html": "<div>\n<style scoped>\n    .dataframe tbody tr th:only-of-type {\n        vertical-align: middle;\n    }\n\n    .dataframe tbody tr th {\n        vertical-align: top;\n    }\n\n    .dataframe thead th {\n        text-align: right;\n    }\n</style>\n<table border=\"1\" class=\"dataframe\">\n  <thead>\n    <tr style=\"text-align: right;\">\n      <th></th>\n      <th>firstName</th>\n      <th>lastName</th>\n      <th>pos</th>\n      <th>playerID</th>\n      <th>year</th>\n      <th>tmID</th>\n      <th>GP</th>\n      <th>G</th>\n      <th>A</th>\n      <th>Pts</th>\n      <th>SOG</th>\n    </tr>\n  </thead>\n  <tbody>\n    <tr>\n      <th>0</th>\n      <td>Antti</td>\n      <td>Aalto</td>\n      <td>C</td>\n      <td>aaltoan01</td>\n      <td>1997</td>\n      <td>ANA</td>\n      <td>3.0</td>\n      <td>0.0</td>\n      <td>0.0</td>\n      <td>0.0</td>\n      <td>1.0</td>\n    </tr>\n    <tr>\n      <th>1</th>\n      <td>Antti</td>\n      <td>Aalto</td>\n      <td>C</td>\n      <td>aaltoan01</td>\n      <td>1998</td>\n      <td>ANA</td>\n      <td>73.0</td>\n      <td>3.0</td>\n      <td>5.0</td>\n      <td>8.0</td>\n      <td>61.0</td>\n    </tr>\n    <tr>\n      <th>2</th>\n      <td>Antti</td>\n      <td>Aalto</td>\n      <td>C</td>\n      <td>aaltoan01</td>\n      <td>1999</td>\n      <td>ANA</td>\n      <td>63.0</td>\n      <td>7.0</td>\n      <td>11.0</td>\n      <td>18.0</td>\n      <td>102.0</td>\n    </tr>\n  </tbody>\n</table>\n</div>"
     },
     "execution_count": 3,
     "metadata": {},
     "output_type": "execute_result"
    }
   ],
   "source": [
    "scoring.head(3)\n"
   ],
   "metadata": {
    "collapsed": false,
    "pycharm": {
     "name": "#%%\n"
    }
   }
  },
  {
   "cell_type": "code",
   "execution_count": 4,
   "outputs": [
    {
     "data": {
      "text/plain": "   year tmID  SepW  SepL  SepT  SepOL  OctW  OctL  OctT  OctOL  ...  FebOL  \\\n0  1980  BOS   NaN   NaN   NaN    NaN   2.0   7.0   1.0    NaN  ...    NaN   \n1  1980  BUF   NaN   NaN   NaN    NaN   5.0   2.0   2.0    NaN  ...    NaN   \n2  1980  CAL   NaN   NaN   NaN    NaN   5.0   4.0   2.0    NaN  ...    NaN   \n\n   MarW  MarL  MarT  MarOL  AprW  AprL  AprT  AprOL            name  \n0   8.0   4.0   3.0    NaN   1.0   2.0   0.0    NaN   Boston Bruins  \n1   8.0   6.0   1.0    NaN   1.0   1.0   1.0    NaN  Buffalo Sabres  \n2   6.0   6.0   2.0    NaN   2.0   0.0   0.0    NaN  Calgary Flames  \n\n[3 rows x 35 columns]",
      "text/html": "<div>\n<style scoped>\n    .dataframe tbody tr th:only-of-type {\n        vertical-align: middle;\n    }\n\n    .dataframe tbody tr th {\n        vertical-align: top;\n    }\n\n    .dataframe thead th {\n        text-align: right;\n    }\n</style>\n<table border=\"1\" class=\"dataframe\">\n  <thead>\n    <tr style=\"text-align: right;\">\n      <th></th>\n      <th>year</th>\n      <th>tmID</th>\n      <th>SepW</th>\n      <th>SepL</th>\n      <th>SepT</th>\n      <th>SepOL</th>\n      <th>OctW</th>\n      <th>OctL</th>\n      <th>OctT</th>\n      <th>OctOL</th>\n      <th>...</th>\n      <th>FebOL</th>\n      <th>MarW</th>\n      <th>MarL</th>\n      <th>MarT</th>\n      <th>MarOL</th>\n      <th>AprW</th>\n      <th>AprL</th>\n      <th>AprT</th>\n      <th>AprOL</th>\n      <th>name</th>\n    </tr>\n  </thead>\n  <tbody>\n    <tr>\n      <th>0</th>\n      <td>1980</td>\n      <td>BOS</td>\n      <td>NaN</td>\n      <td>NaN</td>\n      <td>NaN</td>\n      <td>NaN</td>\n      <td>2.0</td>\n      <td>7.0</td>\n      <td>1.0</td>\n      <td>NaN</td>\n      <td>...</td>\n      <td>NaN</td>\n      <td>8.0</td>\n      <td>4.0</td>\n      <td>3.0</td>\n      <td>NaN</td>\n      <td>1.0</td>\n      <td>2.0</td>\n      <td>0.0</td>\n      <td>NaN</td>\n      <td>Boston Bruins</td>\n    </tr>\n    <tr>\n      <th>1</th>\n      <td>1980</td>\n      <td>BUF</td>\n      <td>NaN</td>\n      <td>NaN</td>\n      <td>NaN</td>\n      <td>NaN</td>\n      <td>5.0</td>\n      <td>2.0</td>\n      <td>2.0</td>\n      <td>NaN</td>\n      <td>...</td>\n      <td>NaN</td>\n      <td>8.0</td>\n      <td>6.0</td>\n      <td>1.0</td>\n      <td>NaN</td>\n      <td>1.0</td>\n      <td>1.0</td>\n      <td>1.0</td>\n      <td>NaN</td>\n      <td>Buffalo Sabres</td>\n    </tr>\n    <tr>\n      <th>2</th>\n      <td>1980</td>\n      <td>CAL</td>\n      <td>NaN</td>\n      <td>NaN</td>\n      <td>NaN</td>\n      <td>NaN</td>\n      <td>5.0</td>\n      <td>4.0</td>\n      <td>2.0</td>\n      <td>NaN</td>\n      <td>...</td>\n      <td>NaN</td>\n      <td>6.0</td>\n      <td>6.0</td>\n      <td>2.0</td>\n      <td>NaN</td>\n      <td>2.0</td>\n      <td>0.0</td>\n      <td>0.0</td>\n      <td>NaN</td>\n      <td>Calgary Flames</td>\n    </tr>\n  </tbody>\n</table>\n<p>3 rows × 35 columns</p>\n</div>"
     },
     "execution_count": 4,
     "metadata": {},
     "output_type": "execute_result"
    }
   ],
   "source": [
    "team_splits.head(3)\n"
   ],
   "metadata": {
    "collapsed": false,
    "pycharm": {
     "name": "#%%\n"
    }
   }
  },
  {
   "cell_type": "code",
   "execution_count": 7,
   "outputs": [
    {
     "data": {
      "text/plain": "(2957, 11)"
     },
     "execution_count": 7,
     "metadata": {},
     "output_type": "execute_result"
    }
   ],
   "source": [
    "# select 2001, 2002, 2003 records only\n",
    "three_years = scoring.loc[(scoring.year > 2000) & (scoring.year < 2004)]\n",
    "\n",
    "# One record per player per year\n",
    "three_years = three_years.drop_duplicates(subset=['playerID', 'year'])\n",
    "three_years.shape"
   ],
   "metadata": {
    "collapsed": false,
    "pycharm": {
     "name": "#%%\n"
    }
   }
  },
  {
   "cell_type": "code",
   "execution_count": 14,
   "outputs": [
    {
     "data": {
      "text/plain": "Index(['mcallch01', 'dingmch01', 'parkesc01'], dtype='object')"
     },
     "execution_count": 14,
     "metadata": {},
     "output_type": "execute_result"
    }
   ],
   "source": [
    "# Get three random players with complete history between 2001-2003\n",
    "counts = three_years['playerID'].value_counts()\n",
    "ids = counts[counts == 3].sample(3).index\n",
    "ids"
   ],
   "metadata": {
    "collapsed": false,
    "pycharm": {
     "name": "#%%\n"
    }
   }
  },
  {
   "cell_type": "code",
   "execution_count": 22,
   "outputs": [
    {
     "data": {
      "text/plain": "        playerID  year    G\n5814   dingmch01  2001  0.0\n5816   dingmch01  2002  2.0\n5817   dingmch01  2003  1.0\n16254  mcallch01  2001  0.0\n16255  mcallch01  2002  0.0\n16257  mcallch01  2003  0.0\n19566  parkesc01  2001  1.0\n19567  parkesc01  2002  1.0\n19568  parkesc01  2003  1.0",
      "text/html": "<div>\n<style scoped>\n    .dataframe tbody tr th:only-of-type {\n        vertical-align: middle;\n    }\n\n    .dataframe tbody tr th {\n        vertical-align: top;\n    }\n\n    .dataframe thead th {\n        text-align: right;\n    }\n</style>\n<table border=\"1\" class=\"dataframe\">\n  <thead>\n    <tr style=\"text-align: right;\">\n      <th></th>\n      <th>playerID</th>\n      <th>year</th>\n      <th>G</th>\n    </tr>\n  </thead>\n  <tbody>\n    <tr>\n      <th>5814</th>\n      <td>dingmch01</td>\n      <td>2001</td>\n      <td>0.0</td>\n    </tr>\n    <tr>\n      <th>5816</th>\n      <td>dingmch01</td>\n      <td>2002</td>\n      <td>2.0</td>\n    </tr>\n    <tr>\n      <th>5817</th>\n      <td>dingmch01</td>\n      <td>2003</td>\n      <td>1.0</td>\n    </tr>\n    <tr>\n      <th>16254</th>\n      <td>mcallch01</td>\n      <td>2001</td>\n      <td>0.0</td>\n    </tr>\n    <tr>\n      <th>16255</th>\n      <td>mcallch01</td>\n      <td>2002</td>\n      <td>0.0</td>\n    </tr>\n    <tr>\n      <th>16257</th>\n      <td>mcallch01</td>\n      <td>2003</td>\n      <td>0.0</td>\n    </tr>\n    <tr>\n      <th>19566</th>\n      <td>parkesc01</td>\n      <td>2001</td>\n      <td>1.0</td>\n    </tr>\n    <tr>\n      <th>19567</th>\n      <td>parkesc01</td>\n      <td>2002</td>\n      <td>1.0</td>\n    </tr>\n    <tr>\n      <th>19568</th>\n      <td>parkesc01</td>\n      <td>2003</td>\n      <td>1.0</td>\n    </tr>\n  </tbody>\n</table>\n</div>"
     },
     "execution_count": 22,
     "metadata": {},
     "output_type": "execute_result"
    }
   ],
   "source": [
    "# Get actual records corresponding for those players\n",
    "df3 = three_years.loc[three_years['playerID'].isin(ids)]\n",
    "basic_df3 = df3[['playerID', 'year', 'G']]\n",
    "basic_df3"
   ],
   "metadata": {
    "collapsed": false,
    "pycharm": {
     "name": "#%%\n"
    }
   }
  },
  {
   "cell_type": "code",
   "execution_count": 24,
   "outputs": [
    {
     "data": {
      "text/plain": "year       2001  2002  2003\nplayerID                   \ndingmch01   0.0   2.0   1.0\nmcallch01   0.0   0.0   0.0\nparkesc01   1.0   1.0   1.0",
      "text/html": "<div>\n<style scoped>\n    .dataframe tbody tr th:only-of-type {\n        vertical-align: middle;\n    }\n\n    .dataframe tbody tr th {\n        vertical-align: top;\n    }\n\n    .dataframe thead th {\n        text-align: right;\n    }\n</style>\n<table border=\"1\" class=\"dataframe\">\n  <thead>\n    <tr style=\"text-align: right;\">\n      <th>year</th>\n      <th>2001</th>\n      <th>2002</th>\n      <th>2003</th>\n    </tr>\n    <tr>\n      <th>playerID</th>\n      <th></th>\n      <th></th>\n      <th></th>\n    </tr>\n  </thead>\n  <tbody>\n    <tr>\n      <th>dingmch01</th>\n      <td>0.0</td>\n      <td>2.0</td>\n      <td>1.0</td>\n    </tr>\n    <tr>\n      <th>mcallch01</th>\n      <td>0.0</td>\n      <td>0.0</td>\n      <td>0.0</td>\n    </tr>\n    <tr>\n      <th>parkesc01</th>\n      <td>1.0</td>\n      <td>1.0</td>\n      <td>1.0</td>\n    </tr>\n  </tbody>\n</table>\n</div>"
     },
     "execution_count": 24,
     "metadata": {},
     "output_type": "execute_result"
    }
   ],
   "source": [
    "pivot = basic_df3.pivot(index=\"playerID\", columns=\"year\", values=\"G\")\n",
    "pivot\n"
   ],
   "metadata": {
    "collapsed": false,
    "pycharm": {
     "name": "#%%\n"
    }
   }
  },
  {
   "cell_type": "code",
   "execution_count": 25,
   "outputs": [
    {
     "data": {
      "text/plain": "Index(['dingmch01', 'mcallch01', 'parkesc01'], dtype='object', name='playerID')"
     },
     "execution_count": 25,
     "metadata": {},
     "output_type": "execute_result"
    }
   ],
   "source": [
    "pivot.index\n"
   ],
   "metadata": {
    "collapsed": false,
    "pycharm": {
     "name": "#%%\n"
    }
   }
  },
  {
   "cell_type": "code",
   "execution_count": 26,
   "outputs": [
    {
     "data": {
      "text/plain": "Int64Index([2001, 2002, 2003], dtype='int64', name='year')"
     },
     "execution_count": 26,
     "metadata": {},
     "output_type": "execute_result"
    }
   ],
   "source": [
    "pivot.columns\n"
   ],
   "metadata": {
    "collapsed": false,
    "pycharm": {
     "name": "#%%\n"
    }
   }
  },
  {
   "cell_type": "code",
   "execution_count": 28,
   "outputs": [
    {
     "data": {
      "text/plain": "           2001  2002  2003\ndingmch01   0.0   2.0   1.0\nmcallch01   0.0   0.0   0.0\nparkesc01   1.0   1.0   1.0",
      "text/html": "<div>\n<style scoped>\n    .dataframe tbody tr th:only-of-type {\n        vertical-align: middle;\n    }\n\n    .dataframe tbody tr th {\n        vertical-align: top;\n    }\n\n    .dataframe thead th {\n        text-align: right;\n    }\n</style>\n<table border=\"1\" class=\"dataframe\">\n  <thead>\n    <tr style=\"text-align: right;\">\n      <th></th>\n      <th>2001</th>\n      <th>2002</th>\n      <th>2003</th>\n    </tr>\n  </thead>\n  <tbody>\n    <tr>\n      <th>dingmch01</th>\n      <td>0.0</td>\n      <td>2.0</td>\n      <td>1.0</td>\n    </tr>\n    <tr>\n      <th>mcallch01</th>\n      <td>0.0</td>\n      <td>0.0</td>\n      <td>0.0</td>\n    </tr>\n    <tr>\n      <th>parkesc01</th>\n      <td>1.0</td>\n      <td>1.0</td>\n      <td>1.0</td>\n    </tr>\n  </tbody>\n</table>\n</div>"
     },
     "execution_count": 28,
     "metadata": {},
     "output_type": "execute_result"
    }
   ],
   "source": [
    "pivot.index.name = None\n",
    "pivot.columns.name = None\n",
    "pivot"
   ],
   "metadata": {
    "collapsed": false,
    "pycharm": {
     "name": "#%%\n"
    }
   }
  },
  {
   "cell_type": "code",
   "execution_count": 29,
   "outputs": [
    {
     "data": {
      "text/plain": "year       2001  2002  2003\nplayerID                   \ndingmch01   0.0   2.0   1.0\nmcallch01   0.0   0.0   0.0\nparkesc01   1.0   1.0   1.0",
      "text/html": "<div>\n<style scoped>\n    .dataframe tbody tr th:only-of-type {\n        vertical-align: middle;\n    }\n\n    .dataframe tbody tr th {\n        vertical-align: top;\n    }\n\n    .dataframe thead th {\n        text-align: right;\n    }\n</style>\n<table border=\"1\" class=\"dataframe\">\n  <thead>\n    <tr style=\"text-align: right;\">\n      <th>year</th>\n      <th>2001</th>\n      <th>2002</th>\n      <th>2003</th>\n    </tr>\n    <tr>\n      <th>playerID</th>\n      <th></th>\n      <th></th>\n      <th></th>\n    </tr>\n  </thead>\n  <tbody>\n    <tr>\n      <th>dingmch01</th>\n      <td>0.0</td>\n      <td>2.0</td>\n      <td>1.0</td>\n    </tr>\n    <tr>\n      <th>mcallch01</th>\n      <td>0.0</td>\n      <td>0.0</td>\n      <td>0.0</td>\n    </tr>\n    <tr>\n      <th>parkesc01</th>\n      <td>1.0</td>\n      <td>1.0</td>\n      <td>1.0</td>\n    </tr>\n  </tbody>\n</table>\n</div>"
     },
     "execution_count": 29,
     "metadata": {},
     "output_type": "execute_result"
    }
   ],
   "source": [
    "pivot.index.name = 'playerID'\n",
    "pivot.columns.name = 'year'\n",
    "pivot\n"
   ],
   "metadata": {
    "collapsed": false,
    "pycharm": {
     "name": "#%%\n"
    }
   }
  },
  {
   "cell_type": "code",
   "execution_count": 30,
   "outputs": [
    {
     "data": {
      "text/plain": "<AxesSubplot:xlabel='playerID'>"
     },
     "execution_count": 30,
     "metadata": {},
     "output_type": "execute_result"
    },
    {
     "data": {
      "text/plain": "<Figure size 432x288 with 1 Axes>",
      "image/png": "[encoded data removed]"
     },
     "metadata": {
      "needs_background": "light"
     },
     "output_type": "display_data"
    }
   ],
   "source": [
    "basic_df3.set_index('playerID').plot.bar()\n"
   ],
   "metadata": {
    "collapsed": false,
    "pycharm": {
     "name": "#%%\n"
    }
   }
  },
  {
   "cell_type": "code",
   "execution_count": 31,
   "outputs": [
    {
     "data": {
      "text/plain": "<AxesSubplot:xlabel='playerID'>"
     },
     "execution_count": 31,
     "metadata": {},
     "output_type": "execute_result"
    },
    {
     "data": {
      "text/plain": "<Figure size 432x288 with 1 Axes>",
      "image/png": "[encoded data removed]"
     },
     "metadata": {
      "needs_background": "light"
     },
     "output_type": "display_data"
    }
   ],
   "source": [
    "pivot.plot.bar()\n"
   ],
   "metadata": {
    "collapsed": false,
    "pycharm": {
     "name": "#%%\n"
    }
   }
  },
  {
   "cell_type": "markdown",
   "source": [
    "As clearly visible in above graphs, sometimes it is important to change the data format to get most value out of data.\n",
    "Although we can change the matplotlib config to get the required result in the plots, but it is more convenient to\n",
    "change the data format to get the most value out of the data, and it increases productivity.\n"
   ],
   "metadata": {
    "collapsed": false,
    "pycharm": {
     "name": "#%% md\n"
    }
   }
  },
  {
   "cell_type": "code",
   "execution_count": 36,
   "outputs": [
    {
     "data": {
      "text/plain": "    playerID  2001  2002  2003\n0  dingmch01   0.0   2.0   1.0\n1  mcallch01   0.0   0.0   0.0\n2  parkesc01   1.0   1.0   1.0",
      "text/html": "<div>\n<style scoped>\n    .dataframe tbody tr th:only-of-type {\n        vertical-align: middle;\n    }\n\n    .dataframe tbody tr th {\n        vertical-align: top;\n    }\n\n    .dataframe thead th {\n        text-align: right;\n    }\n</style>\n<table border=\"1\" class=\"dataframe\">\n  <thead>\n    <tr style=\"text-align: right;\">\n      <th></th>\n      <th>playerID</th>\n      <th>2001</th>\n      <th>2002</th>\n      <th>2003</th>\n    </tr>\n  </thead>\n  <tbody>\n    <tr>\n      <th>0</th>\n      <td>dingmch01</td>\n      <td>0.0</td>\n      <td>2.0</td>\n      <td>1.0</td>\n    </tr>\n    <tr>\n      <th>1</th>\n      <td>mcallch01</td>\n      <td>0.0</td>\n      <td>0.0</td>\n      <td>0.0</td>\n    </tr>\n    <tr>\n      <th>2</th>\n      <td>parkesc01</td>\n      <td>1.0</td>\n      <td>1.0</td>\n      <td>1.0</td>\n    </tr>\n  </tbody>\n</table>\n</div>"
     },
     "execution_count": 36,
     "metadata": {},
     "output_type": "execute_result"
    }
   ],
   "source": [
    "pivot = pivot.reset_index()\n",
    "pivot.columns.name = None\n",
    "pivot"
   ],
   "metadata": {
    "collapsed": false,
    "pycharm": {
     "name": "#%%\n"
    }
   }
  },
  {
   "cell_type": "code",
   "execution_count": 37,
   "outputs": [
    {
     "data": {
      "text/plain": "    variable      value\n0   playerID  dingmch01\n1   playerID  mcallch01\n2   playerID  parkesc01\n3       2001        0.0\n4       2001        0.0\n5       2001        1.0\n6       2002        2.0\n7       2002        0.0\n8       2002        1.0\n9       2003        1.0\n10      2003        0.0\n11      2003        1.0",
      "text/html": "<div>\n<style scoped>\n    .dataframe tbody tr th:only-of-type {\n        vertical-align: middle;\n    }\n\n    .dataframe tbody tr th {\n        vertical-align: top;\n    }\n\n    .dataframe thead th {\n        text-align: right;\n    }\n</style>\n<table border=\"1\" class=\"dataframe\">\n  <thead>\n    <tr style=\"text-align: right;\">\n      <th></th>\n      <th>variable</th>\n      <th>value</th>\n    </tr>\n  </thead>\n  <tbody>\n    <tr>\n      <th>0</th>\n      <td>playerID</td>\n      <td>dingmch01</td>\n    </tr>\n    <tr>\n      <th>1</th>\n      <td>playerID</td>\n      <td>mcallch01</td>\n    </tr>\n    <tr>\n      <th>2</th>\n      <td>playerID</td>\n      <td>parkesc01</td>\n    </tr>\n    <tr>\n      <th>3</th>\n      <td>2001</td>\n      <td>0.0</td>\n    </tr>\n    <tr>\n      <th>4</th>\n      <td>2001</td>\n      <td>0.0</td>\n    </tr>\n    <tr>\n      <th>5</th>\n      <td>2001</td>\n      <td>1.0</td>\n    </tr>\n    <tr>\n      <th>6</th>\n      <td>2002</td>\n      <td>2.0</td>\n    </tr>\n    <tr>\n      <th>7</th>\n      <td>2002</td>\n      <td>0.0</td>\n    </tr>\n    <tr>\n      <th>8</th>\n      <td>2002</td>\n      <td>1.0</td>\n    </tr>\n    <tr>\n      <th>9</th>\n      <td>2003</td>\n      <td>1.0</td>\n    </tr>\n    <tr>\n      <th>10</th>\n      <td>2003</td>\n      <td>0.0</td>\n    </tr>\n    <tr>\n      <th>11</th>\n      <td>2003</td>\n      <td>1.0</td>\n    </tr>\n  </tbody>\n</table>\n</div>"
     },
     "execution_count": 37,
     "metadata": {},
     "output_type": "execute_result"
    }
   ],
   "source": [
    "pivot.melt()"
   ],
   "metadata": {
    "collapsed": false,
    "pycharm": {
     "name": "#%%\n"
    }
   }
  },
  {
   "cell_type": "code",
   "execution_count": 39,
   "outputs": [
    {
     "data": {
      "text/plain": "    playerID variable  value\n0  dingmch01     2001    0.0\n1  mcallch01     2001    0.0\n2  parkesc01     2001    1.0\n3  dingmch01     2002    2.0\n4  mcallch01     2002    0.0\n5  parkesc01     2002    1.0\n6  dingmch01     2003    1.0\n7  mcallch01     2003    0.0\n8  parkesc01     2003    1.0",
      "text/html": "<div>\n<style scoped>\n    .dataframe tbody tr th:only-of-type {\n        vertical-align: middle;\n    }\n\n    .dataframe tbody tr th {\n        vertical-align: top;\n    }\n\n    .dataframe thead th {\n        text-align: right;\n    }\n</style>\n<table border=\"1\" class=\"dataframe\">\n  <thead>\n    <tr style=\"text-align: right;\">\n      <th></th>\n      <th>playerID</th>\n      <th>variable</th>\n      <th>value</th>\n    </tr>\n  </thead>\n  <tbody>\n    <tr>\n      <th>0</th>\n      <td>dingmch01</td>\n      <td>2001</td>\n      <td>0.0</td>\n    </tr>\n    <tr>\n      <th>1</th>\n      <td>mcallch01</td>\n      <td>2001</td>\n      <td>0.0</td>\n    </tr>\n    <tr>\n      <th>2</th>\n      <td>parkesc01</td>\n      <td>2001</td>\n      <td>1.0</td>\n    </tr>\n    <tr>\n      <th>3</th>\n      <td>dingmch01</td>\n      <td>2002</td>\n      <td>2.0</td>\n    </tr>\n    <tr>\n      <th>4</th>\n      <td>mcallch01</td>\n      <td>2002</td>\n      <td>0.0</td>\n    </tr>\n    <tr>\n      <th>5</th>\n      <td>parkesc01</td>\n      <td>2002</td>\n      <td>1.0</td>\n    </tr>\n    <tr>\n      <th>6</th>\n      <td>dingmch01</td>\n      <td>2003</td>\n      <td>1.0</td>\n    </tr>\n    <tr>\n      <th>7</th>\n      <td>mcallch01</td>\n      <td>2003</td>\n      <td>0.0</td>\n    </tr>\n    <tr>\n      <th>8</th>\n      <td>parkesc01</td>\n      <td>2003</td>\n      <td>1.0</td>\n    </tr>\n  </tbody>\n</table>\n</div>"
     },
     "execution_count": 39,
     "metadata": {},
     "output_type": "execute_result"
    }
   ],
   "source": [
    "pivot.melt(id_vars=\"playerID\")\n"
   ],
   "metadata": {
    "collapsed": false,
    "pycharm": {
     "name": "#%%\n"
    }
   }
  },
  {
   "cell_type": "code",
   "execution_count": 40,
   "outputs": [
    {
     "data": {
      "text/plain": "    playerID  year  goals\n0  dingmch01  2001    0.0\n1  mcallch01  2001    0.0\n2  parkesc01  2001    1.0\n3  dingmch01  2002    2.0\n4  mcallch01  2002    0.0\n5  parkesc01  2002    1.0\n6  dingmch01  2003    1.0\n7  mcallch01  2003    0.0\n8  parkesc01  2003    1.0",
      "text/html": "<div>\n<style scoped>\n    .dataframe tbody tr th:only-of-type {\n        vertical-align: middle;\n    }\n\n    .dataframe tbody tr th {\n        vertical-align: top;\n    }\n\n    .dataframe thead th {\n        text-align: right;\n    }\n</style>\n<table border=\"1\" class=\"dataframe\">\n  <thead>\n    <tr style=\"text-align: right;\">\n      <th></th>\n      <th>playerID</th>\n      <th>year</th>\n      <th>goals</th>\n    </tr>\n  </thead>\n  <tbody>\n    <tr>\n      <th>0</th>\n      <td>dingmch01</td>\n      <td>2001</td>\n      <td>0.0</td>\n    </tr>\n    <tr>\n      <th>1</th>\n      <td>mcallch01</td>\n      <td>2001</td>\n      <td>0.0</td>\n    </tr>\n    <tr>\n      <th>2</th>\n      <td>parkesc01</td>\n      <td>2001</td>\n      <td>1.0</td>\n    </tr>\n    <tr>\n      <th>3</th>\n      <td>dingmch01</td>\n      <td>2002</td>\n      <td>2.0</td>\n    </tr>\n    <tr>\n      <th>4</th>\n      <td>mcallch01</td>\n      <td>2002</td>\n      <td>0.0</td>\n    </tr>\n    <tr>\n      <th>5</th>\n      <td>parkesc01</td>\n      <td>2002</td>\n      <td>1.0</td>\n    </tr>\n    <tr>\n      <th>6</th>\n      <td>dingmch01</td>\n      <td>2003</td>\n      <td>1.0</td>\n    </tr>\n    <tr>\n      <th>7</th>\n      <td>mcallch01</td>\n      <td>2003</td>\n      <td>0.0</td>\n    </tr>\n    <tr>\n      <th>8</th>\n      <td>parkesc01</td>\n      <td>2003</td>\n      <td>1.0</td>\n    </tr>\n  </tbody>\n</table>\n</div>"
     },
     "execution_count": 40,
     "metadata": {},
     "output_type": "execute_result"
    }
   ],
   "source": [
    "pivot.melt(id_vars=\"playerID\", var_name='year', value_name='goals')\n"
   ],
   "metadata": {
    "collapsed": false,
    "pycharm": {
     "name": "#%%\n"
    }
   }
  },
  {
   "cell_type": "code",
   "execution_count": 41,
   "outputs": [
    {
     "data": {
      "text/plain": "    playerID  year  goals\n0  dingmch01  2001    0.0\n1  mcallch01  2001    0.0\n2  parkesc01  2001    1.0\n3  dingmch01  2002    2.0\n4  mcallch01  2002    0.0\n5  parkesc01  2002    1.0",
      "text/html": "<div>\n<style scoped>\n    .dataframe tbody tr th:only-of-type {\n        vertical-align: middle;\n    }\n\n    .dataframe tbody tr th {\n        vertical-align: top;\n    }\n\n    .dataframe thead th {\n        text-align: right;\n    }\n</style>\n<table border=\"1\" class=\"dataframe\">\n  <thead>\n    <tr style=\"text-align: right;\">\n      <th></th>\n      <th>playerID</th>\n      <th>year</th>\n      <th>goals</th>\n    </tr>\n  </thead>\n  <tbody>\n    <tr>\n      <th>0</th>\n      <td>dingmch01</td>\n      <td>2001</td>\n      <td>0.0</td>\n    </tr>\n    <tr>\n      <th>1</th>\n      <td>mcallch01</td>\n      <td>2001</td>\n      <td>0.0</td>\n    </tr>\n    <tr>\n      <th>2</th>\n      <td>parkesc01</td>\n      <td>2001</td>\n      <td>1.0</td>\n    </tr>\n    <tr>\n      <th>3</th>\n      <td>dingmch01</td>\n      <td>2002</td>\n      <td>2.0</td>\n    </tr>\n    <tr>\n      <th>4</th>\n      <td>mcallch01</td>\n      <td>2002</td>\n      <td>0.0</td>\n    </tr>\n    <tr>\n      <th>5</th>\n      <td>parkesc01</td>\n      <td>2002</td>\n      <td>1.0</td>\n    </tr>\n  </tbody>\n</table>\n</div>"
     },
     "execution_count": 41,
     "metadata": {},
     "output_type": "execute_result"
    }
   ],
   "source": [
    "pivot.melt(id_vars='playerID', var_name='year', value_name='goals', value_vars=[2001, 2002])\n"
   ],
   "metadata": {
    "collapsed": false,
    "pycharm": {
     "name": "#%%\n"
    }
   }
  },
  {
   "cell_type": "code",
   "execution_count": 42,
   "outputs": [
    {
     "data": {
      "text/plain": "        playerID tmID  year    G\n5814   dingmch01  CAR  2001  0.0\n5816   dingmch01  TBL  2002  2.0\n5817   dingmch01  TBL  2003  1.0\n16254  mcallch01  PHI  2001  0.0\n16255  mcallch01  PHI  2002  0.0\n16257  mcallch01  COL  2003  0.0\n19566  parkesc01  COL  2001  1.0\n19567  parkesc01  COL  2002  1.0\n19568  parkesc01  SJS  2003  1.0",
      "text/html": "<div>\n<style scoped>\n    .dataframe tbody tr th:only-of-type {\n        vertical-align: middle;\n    }\n\n    .dataframe tbody tr th {\n        vertical-align: top;\n    }\n\n    .dataframe thead th {\n        text-align: right;\n    }\n</style>\n<table border=\"1\" class=\"dataframe\">\n  <thead>\n    <tr style=\"text-align: right;\">\n      <th></th>\n      <th>playerID</th>\n      <th>tmID</th>\n      <th>year</th>\n      <th>G</th>\n    </tr>\n  </thead>\n  <tbody>\n    <tr>\n      <th>5814</th>\n      <td>dingmch01</td>\n      <td>CAR</td>\n      <td>2001</td>\n      <td>0.0</td>\n    </tr>\n    <tr>\n      <th>5816</th>\n      <td>dingmch01</td>\n      <td>TBL</td>\n      <td>2002</td>\n      <td>2.0</td>\n    </tr>\n    <tr>\n      <th>5817</th>\n      <td>dingmch01</td>\n      <td>TBL</td>\n      <td>2003</td>\n      <td>1.0</td>\n    </tr>\n    <tr>\n      <th>16254</th>\n      <td>mcallch01</td>\n      <td>PHI</td>\n      <td>2001</td>\n      <td>0.0</td>\n    </tr>\n    <tr>\n      <th>16255</th>\n      <td>mcallch01</td>\n      <td>PHI</td>\n      <td>2002</td>\n      <td>0.0</td>\n    </tr>\n    <tr>\n      <th>16257</th>\n      <td>mcallch01</td>\n      <td>COL</td>\n      <td>2003</td>\n      <td>0.0</td>\n    </tr>\n    <tr>\n      <th>19566</th>\n      <td>parkesc01</td>\n      <td>COL</td>\n      <td>2001</td>\n      <td>1.0</td>\n    </tr>\n    <tr>\n      <th>19567</th>\n      <td>parkesc01</td>\n      <td>COL</td>\n      <td>2002</td>\n      <td>1.0</td>\n    </tr>\n    <tr>\n      <th>19568</th>\n      <td>parkesc01</td>\n      <td>SJS</td>\n      <td>2003</td>\n      <td>1.0</td>\n    </tr>\n  </tbody>\n</table>\n</div>"
     },
     "execution_count": 42,
     "metadata": {},
     "output_type": "execute_result"
    }
   ],
   "source": [
    "larger_df3 = df3[['playerID', 'tmID', 'year', 'G']]\n",
    "larger_df3\n"
   ],
   "metadata": {
    "collapsed": false,
    "pycharm": {
     "name": "#%%\n"
    }
   }
  },
  {
   "cell_type": "code",
   "execution_count": 45,
   "outputs": [
    {
     "name": "stdout",
     "output_type": "stream",
     "text": [
      "year            2001  2002  2003\n",
      "playerID  tmID                  \n",
      "dingmch01 CAR    0.0   NaN   NaN\n",
      "          TBL    NaN   2.0   1.0\n",
      "mcallch01 PHI    0.0   0.0   NaN\n",
      "          COL    NaN   NaN   0.0\n",
      "parkesc01 COL    1.0   1.0   NaN\n",
      "          SJS    NaN   NaN   1.0\n"
     ]
    }
   ],
   "source": [
    "try:\n",
    "    result = larger_df3.pivot(index=['playerID', 'tmID'], columns='year', values='G')\n",
    "    print(result)\n",
    "except Exception as e:\n",
    "    print(e)\n"
   ],
   "metadata": {
    "collapsed": false,
    "pycharm": {
     "name": "#%%\n"
    }
   }
  },
  {
   "cell_type": "code",
   "execution_count": 47,
   "outputs": [
    {
     "data": {
      "text/plain": "year            2001  2002  2003\nplayerID  tmID                  \ndingmch01 CAR    0.0   NaN   NaN\n          TBL    NaN   2.0   1.0\nmcallch01 PHI    0.0   0.0   NaN\n          COL    NaN   NaN   0.0\nparkesc01 COL    1.0   1.0   NaN\n          SJS    NaN   NaN   1.0",
      "text/html": "<div>\n<style scoped>\n    .dataframe tbody tr th:only-of-type {\n        vertical-align: middle;\n    }\n\n    .dataframe tbody tr th {\n        vertical-align: top;\n    }\n\n    .dataframe thead th {\n        text-align: right;\n    }\n</style>\n<table border=\"1\" class=\"dataframe\">\n  <thead>\n    <tr style=\"text-align: right;\">\n      <th></th>\n      <th>year</th>\n      <th>2001</th>\n      <th>2002</th>\n      <th>2003</th>\n    </tr>\n    <tr>\n      <th>playerID</th>\n      <th>tmID</th>\n      <th></th>\n      <th></th>\n      <th></th>\n    </tr>\n  </thead>\n  <tbody>\n    <tr>\n      <th rowspan=\"2\" valign=\"top\">dingmch01</th>\n      <th>CAR</th>\n      <td>0.0</td>\n      <td>NaN</td>\n      <td>NaN</td>\n    </tr>\n    <tr>\n      <th>TBL</th>\n      <td>NaN</td>\n      <td>2.0</td>\n      <td>1.0</td>\n    </tr>\n    <tr>\n      <th rowspan=\"2\" valign=\"top\">mcallch01</th>\n      <th>PHI</th>\n      <td>0.0</td>\n      <td>0.0</td>\n      <td>NaN</td>\n    </tr>\n    <tr>\n      <th>COL</th>\n      <td>NaN</td>\n      <td>NaN</td>\n      <td>0.0</td>\n    </tr>\n    <tr>\n      <th rowspan=\"2\" valign=\"top\">parkesc01</th>\n      <th>COL</th>\n      <td>1.0</td>\n      <td>1.0</td>\n      <td>NaN</td>\n    </tr>\n    <tr>\n      <th>SJS</th>\n      <td>NaN</td>\n      <td>NaN</td>\n      <td>1.0</td>\n    </tr>\n  </tbody>\n</table>\n</div>"
     },
     "execution_count": 47,
     "metadata": {},
     "output_type": "execute_result"
    }
   ],
   "source": [
    "larger_pivot = larger_df3.pivot(index=['playerID', 'tmID'], columns='year', values='G')\n",
    "larger_pivot"
   ],
   "metadata": {
    "collapsed": false,
    "pycharm": {
     "name": "#%%\n"
    }
   }
  },
  {
   "cell_type": "code",
   "execution_count": 48,
   "outputs": [
    {
     "data": {
      "text/plain": "MultiIndex([('dingmch01', 'CAR'),\n            ('dingmch01', 'TBL'),\n            ('mcallch01', 'PHI'),\n            ('mcallch01', 'COL'),\n            ('parkesc01', 'COL'),\n            ('parkesc01', 'SJS')],\n           names=['playerID', 'tmID'])"
     },
     "execution_count": 48,
     "metadata": {},
     "output_type": "execute_result"
    }
   ],
   "source": [
    "larger_pivot.index\n"
   ],
   "metadata": {
    "collapsed": false,
    "pycharm": {
     "name": "#%%\n"
    }
   }
  },
  {
   "cell_type": "code",
   "execution_count": 49,
   "outputs": [
    {
     "data": {
      "text/plain": "        playerID  year    G    A\n5814   dingmch01  2001  0.0  1.0\n5816   dingmch01  2002  2.0  1.0\n5817   dingmch01  2003  1.0  5.0\n16254  mcallch01  2001  0.0  5.0\n16255  mcallch01  2002  0.0  0.0\n16257  mcallch01  2003  0.0  0.0\n19566  parkesc01  2001  1.0  4.0\n19567  parkesc01  2002  1.0  3.0\n19568  parkesc01  2003  1.0  3.0",
      "text/html": "<div>\n<style scoped>\n    .dataframe tbody tr th:only-of-type {\n        vertical-align: middle;\n    }\n\n    .dataframe tbody tr th {\n        vertical-align: top;\n    }\n\n    .dataframe thead th {\n        text-align: right;\n    }\n</style>\n<table border=\"1\" class=\"dataframe\">\n  <thead>\n    <tr style=\"text-align: right;\">\n      <th></th>\n      <th>playerID</th>\n      <th>year</th>\n      <th>G</th>\n      <th>A</th>\n    </tr>\n  </thead>\n  <tbody>\n    <tr>\n      <th>5814</th>\n      <td>dingmch01</td>\n      <td>2001</td>\n      <td>0.0</td>\n      <td>1.0</td>\n    </tr>\n    <tr>\n      <th>5816</th>\n      <td>dingmch01</td>\n      <td>2002</td>\n      <td>2.0</td>\n      <td>1.0</td>\n    </tr>\n    <tr>\n      <th>5817</th>\n      <td>dingmch01</td>\n      <td>2003</td>\n      <td>1.0</td>\n      <td>5.0</td>\n    </tr>\n    <tr>\n      <th>16254</th>\n      <td>mcallch01</td>\n      <td>2001</td>\n      <td>0.0</td>\n      <td>5.0</td>\n    </tr>\n    <tr>\n      <th>16255</th>\n      <td>mcallch01</td>\n      <td>2002</td>\n      <td>0.0</td>\n      <td>0.0</td>\n    </tr>\n    <tr>\n      <th>16257</th>\n      <td>mcallch01</td>\n      <td>2003</td>\n      <td>0.0</td>\n      <td>0.0</td>\n    </tr>\n    <tr>\n      <th>19566</th>\n      <td>parkesc01</td>\n      <td>2001</td>\n      <td>1.0</td>\n      <td>4.0</td>\n    </tr>\n    <tr>\n      <th>19567</th>\n      <td>parkesc01</td>\n      <td>2002</td>\n      <td>1.0</td>\n      <td>3.0</td>\n    </tr>\n    <tr>\n      <th>19568</th>\n      <td>parkesc01</td>\n      <td>2003</td>\n      <td>1.0</td>\n      <td>3.0</td>\n    </tr>\n  </tbody>\n</table>\n</div>"
     },
     "execution_count": 49,
     "metadata": {},
     "output_type": "execute_result"
    }
   ],
   "source": [
    "larger_df3 = df3[['playerID', 'year', 'G', 'A']]\n",
    "larger_df3\n"
   ],
   "metadata": {
    "collapsed": false,
    "pycharm": {
     "name": "#%%\n"
    }
   }
  },
  {
   "cell_type": "code",
   "execution_count": 50,
   "outputs": [
    {
     "data": {
      "text/plain": "             G              A          \nyear      2001 2002 2003 2001 2002 2003\nplayerID                               \ndingmch01  0.0  2.0  1.0  1.0  1.0  5.0\nmcallch01  0.0  0.0  0.0  5.0  0.0  0.0\nparkesc01  1.0  1.0  1.0  4.0  3.0  3.0",
      "text/html": "<div>\n<style scoped>\n    .dataframe tbody tr th:only-of-type {\n        vertical-align: middle;\n    }\n\n    .dataframe tbody tr th {\n        vertical-align: top;\n    }\n\n    .dataframe thead tr th {\n        text-align: left;\n    }\n\n    .dataframe thead tr:last-of-type th {\n        text-align: right;\n    }\n</style>\n<table border=\"1\" class=\"dataframe\">\n  <thead>\n    <tr>\n      <th></th>\n      <th colspan=\"3\" halign=\"left\">G</th>\n      <th colspan=\"3\" halign=\"left\">A</th>\n    </tr>\n    <tr>\n      <th>year</th>\n      <th>2001</th>\n      <th>2002</th>\n      <th>2003</th>\n      <th>2001</th>\n      <th>2002</th>\n      <th>2003</th>\n    </tr>\n    <tr>\n      <th>playerID</th>\n      <th></th>\n      <th></th>\n      <th></th>\n      <th></th>\n      <th></th>\n      <th></th>\n    </tr>\n  </thead>\n  <tbody>\n    <tr>\n      <th>dingmch01</th>\n      <td>0.0</td>\n      <td>2.0</td>\n      <td>1.0</td>\n      <td>1.0</td>\n      <td>1.0</td>\n      <td>5.0</td>\n    </tr>\n    <tr>\n      <th>mcallch01</th>\n      <td>0.0</td>\n      <td>0.0</td>\n      <td>0.0</td>\n      <td>5.0</td>\n      <td>0.0</td>\n      <td>0.0</td>\n    </tr>\n    <tr>\n      <th>parkesc01</th>\n      <td>1.0</td>\n      <td>1.0</td>\n      <td>1.0</td>\n      <td>4.0</td>\n      <td>3.0</td>\n      <td>3.0</td>\n    </tr>\n  </tbody>\n</table>\n</div>"
     },
     "execution_count": 50,
     "metadata": {},
     "output_type": "execute_result"
    }
   ],
   "source": [
    "larger_pivot = larger_df3.pivot(index=\"playerID\", columns='year', values=['G', 'A'])\n",
    "larger_pivot\n"
   ],
   "metadata": {
    "collapsed": false,
    "pycharm": {
     "name": "#%%\n"
    }
   }
  },
  {
   "cell_type": "code",
   "execution_count": 51,
   "outputs": [
    {
     "data": {
      "text/plain": "Index(['dingmch01', 'mcallch01', 'parkesc01'], dtype='object', name='playerID')"
     },
     "execution_count": 51,
     "metadata": {},
     "output_type": "execute_result"
    }
   ],
   "source": [
    "larger_pivot.index\n"
   ],
   "metadata": {
    "collapsed": false,
    "pycharm": {
     "name": "#%%\n"
    }
   }
  },
  {
   "cell_type": "code",
   "execution_count": 52,
   "outputs": [
    {
     "data": {
      "text/plain": "MultiIndex([('G', 2001),\n            ('G', 2002),\n            ('G', 2003),\n            ('A', 2001),\n            ('A', 2002),\n            ('A', 2003)],\n           names=[None, 'year'])"
     },
     "execution_count": 52,
     "metadata": {},
     "output_type": "execute_result"
    }
   ],
   "source": [
    "larger_pivot.columns\n"
   ],
   "metadata": {
    "collapsed": false,
    "pycharm": {
     "name": "#%%\n"
    }
   }
  },
  {
   "cell_type": "code",
   "execution_count": null,
   "outputs": [],
   "source": [],
   "metadata": {
    "collapsed": false,
    "pycharm": {
     "name": "#%%\n"
    }
   }
  }
 ],
 "metadata": {
  "kernelspec": {
   "display_name": "Python 3",
   "language": "python",
   "name": "python3"
  },
  "language_info": {
   "codemirror_mode": {
    "name": "ipython",
    "version": 2
   },
   "file_extension": ".py",
   "mimetype": "text/x-python",
   "name": "python",
   "nbconvert_exporter": "python",
   "pygments_lexer": "ipython2",
   "version": "2.7.6"
  }
 },
 "nbformat": 4,
 "nbformat_minor": 0
}