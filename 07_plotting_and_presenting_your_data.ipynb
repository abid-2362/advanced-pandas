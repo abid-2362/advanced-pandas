{
 "cells": [
  {
   "cell_type": "markdown",
   "source": [
    "# Advanced Pandas - Plotting and presenting your data\n",
    "**Abid Ali**\n",
    "\n",
    "Skype: Abd.Soft\n",
    "\n",
    "Email: [abdsoftfsd@gmail.com](mailto:abdsoftfsd@gmail.com)"
   ],
   "metadata": {
    "collapsed": false,
    "pycharm": {
     "name": "#%% md\n"
    }
   }
  },
  {
   "cell_type": "code",
   "execution_count": 120,
   "outputs": [],
   "source": [
    "import pandas as pd\n",
    "import os\n"
   ],
   "metadata": {
    "collapsed": false,
    "pycharm": {
     "name": "#%%\n"
    }
   }
  },
  {
   "cell_type": "code",
   "execution_count": 121,
   "outputs": [],
   "source": [
    "team_splits = pd.read_pickle(os.path.join('data', 'modified', 'team_splits_periods.pickle'))\n",
    "scoring = pd.read_pickle(os.path.join('data', 'modified', 'scoring.pickle'))\n"
   ],
   "metadata": {
    "collapsed": false,
    "pycharm": {
     "name": "#%%\n"
    }
   }
  },
  {
   "cell_type": "code",
   "execution_count": 122,
   "outputs": [
    {
     "data": {
      "text/plain": "                  name    L   OL   T     W\nmonth                                     \n2006-01  Anaheim Ducks  5.0  2.0 NaN   4.0\n2006-02  Anaheim Ducks  5.0  2.0 NaN   5.0\n2006-03  Anaheim Ducks  3.0  2.0 NaN  10.0\n2006-04  Anaheim Ducks  0.0  2.0 NaN   1.0\n2006-10  Anaheim Ducks  0.0  3.0 NaN   9.0\n2006-11  Anaheim Ducks  2.0  3.0 NaN  10.0\n2006-12  Anaheim Ducks  5.0  0.0 NaN   9.0\n2007-01  Anaheim Ducks  4.0  1.0 NaN   8.0\n2007-02  Anaheim Ducks  2.0  1.0 NaN  10.0\n2007-03  Anaheim Ducks  4.0  1.0 NaN   8.0",
      "text/html": "<div>\n<style scoped>\n    .dataframe tbody tr th:only-of-type {\n        vertical-align: middle;\n    }\n\n    .dataframe tbody tr th {\n        vertical-align: top;\n    }\n\n    .dataframe thead th {\n        text-align: right;\n    }\n</style>\n<table border=\"1\" class=\"dataframe\">\n  <thead>\n    <tr style=\"text-align: right;\">\n      <th></th>\n      <th>name</th>\n      <th>L</th>\n      <th>OL</th>\n      <th>T</th>\n      <th>W</th>\n    </tr>\n    <tr>\n      <th>month</th>\n      <th></th>\n      <th></th>\n      <th></th>\n      <th></th>\n      <th></th>\n    </tr>\n  </thead>\n  <tbody>\n    <tr>\n      <th>2006-01</th>\n      <td>Anaheim Ducks</td>\n      <td>5.0</td>\n      <td>2.0</td>\n      <td>NaN</td>\n      <td>4.0</td>\n    </tr>\n    <tr>\n      <th>2006-02</th>\n      <td>Anaheim Ducks</td>\n      <td>5.0</td>\n      <td>2.0</td>\n      <td>NaN</td>\n      <td>5.0</td>\n    </tr>\n    <tr>\n      <th>2006-03</th>\n      <td>Anaheim Ducks</td>\n      <td>3.0</td>\n      <td>2.0</td>\n      <td>NaN</td>\n      <td>10.0</td>\n    </tr>\n    <tr>\n      <th>2006-04</th>\n      <td>Anaheim Ducks</td>\n      <td>0.0</td>\n      <td>2.0</td>\n      <td>NaN</td>\n      <td>1.0</td>\n    </tr>\n    <tr>\n      <th>2006-10</th>\n      <td>Anaheim Ducks</td>\n      <td>0.0</td>\n      <td>3.0</td>\n      <td>NaN</td>\n      <td>9.0</td>\n    </tr>\n    <tr>\n      <th>2006-11</th>\n      <td>Anaheim Ducks</td>\n      <td>2.0</td>\n      <td>3.0</td>\n      <td>NaN</td>\n      <td>10.0</td>\n    </tr>\n    <tr>\n      <th>2006-12</th>\n      <td>Anaheim Ducks</td>\n      <td>5.0</td>\n      <td>0.0</td>\n      <td>NaN</td>\n      <td>9.0</td>\n    </tr>\n    <tr>\n      <th>2007-01</th>\n      <td>Anaheim Ducks</td>\n      <td>4.0</td>\n      <td>1.0</td>\n      <td>NaN</td>\n      <td>8.0</td>\n    </tr>\n    <tr>\n      <th>2007-02</th>\n      <td>Anaheim Ducks</td>\n      <td>2.0</td>\n      <td>1.0</td>\n      <td>NaN</td>\n      <td>10.0</td>\n    </tr>\n    <tr>\n      <th>2007-03</th>\n      <td>Anaheim Ducks</td>\n      <td>4.0</td>\n      <td>1.0</td>\n      <td>NaN</td>\n      <td>8.0</td>\n    </tr>\n  </tbody>\n</table>\n</div>"
     },
     "execution_count": 122,
     "metadata": {},
     "output_type": "execute_result"
    }
   ],
   "source": [
    "ducks = team_splits.loc[team_splits['name'] == 'Anaheim Ducks', :]\n",
    "ducks = ducks.sort_index()\n",
    "ducks.head(10)\n"
   ],
   "metadata": {
    "collapsed": false,
    "pycharm": {
     "name": "#%%\n"
    }
   }
  },
  {
   "cell_type": "code",
   "execution_count": 123,
   "outputs": [
    {
     "data": {
      "text/plain": "          L    OL    T     W\nmonth                       \n2006   20.0  14.0  0.0  48.0\n2007   27.0   8.0  0.0  47.0\n2008   33.0   7.0  0.0  42.0\n2009   32.0  11.0  0.0  39.0\n2010   30.0   5.0  0.0  47.0\n2011   36.0  12.0  0.0  34.0",
      "text/html": "<div>\n<style scoped>\n    .dataframe tbody tr th:only-of-type {\n        vertical-align: middle;\n    }\n\n    .dataframe tbody tr th {\n        vertical-align: top;\n    }\n\n    .dataframe thead th {\n        text-align: right;\n    }\n</style>\n<table border=\"1\" class=\"dataframe\">\n  <thead>\n    <tr style=\"text-align: right;\">\n      <th></th>\n      <th>L</th>\n      <th>OL</th>\n      <th>T</th>\n      <th>W</th>\n    </tr>\n    <tr>\n      <th>month</th>\n      <th></th>\n      <th></th>\n      <th></th>\n      <th></th>\n    </tr>\n  </thead>\n  <tbody>\n    <tr>\n      <th>2006</th>\n      <td>20.0</td>\n      <td>14.0</td>\n      <td>0.0</td>\n      <td>48.0</td>\n    </tr>\n    <tr>\n      <th>2007</th>\n      <td>27.0</td>\n      <td>8.0</td>\n      <td>0.0</td>\n      <td>47.0</td>\n    </tr>\n    <tr>\n      <th>2008</th>\n      <td>33.0</td>\n      <td>7.0</td>\n      <td>0.0</td>\n      <td>42.0</td>\n    </tr>\n    <tr>\n      <th>2009</th>\n      <td>32.0</td>\n      <td>11.0</td>\n      <td>0.0</td>\n      <td>39.0</td>\n    </tr>\n    <tr>\n      <th>2010</th>\n      <td>30.0</td>\n      <td>5.0</td>\n      <td>0.0</td>\n      <td>47.0</td>\n    </tr>\n    <tr>\n      <th>2011</th>\n      <td>36.0</td>\n      <td>12.0</td>\n      <td>0.0</td>\n      <td>34.0</td>\n    </tr>\n  </tbody>\n</table>\n</div>"
     },
     "execution_count": 123,
     "metadata": {},
     "output_type": "execute_result"
    }
   ],
   "source": [
    "ducks.resample('A').sum()\n"
   ],
   "metadata": {
    "collapsed": false,
    "pycharm": {
     "name": "#%%\n"
    }
   }
  },
  {
   "cell_type": "code",
   "execution_count": 124,
   "outputs": [],
   "source": [
    "ducks_index = ducks.to_timestamp().index.map(\n",
    "    lambda x:\n",
    "    x + pd.DateOffset(years=1) if x.month < 5\n",
    "    else x\n",
    ")\n",
    "# ducks.index = ducks_index\n",
    "# ducks = ducks.sort_index()\n",
    "# ducks.head()"
   ],
   "metadata": {
    "collapsed": false,
    "pycharm": {
     "name": "#%%\n"
    }
   }
  },
  {
   "cell_type": "code",
   "execution_count": 125,
   "outputs": [
    {
     "data": {
      "text/plain": "DatetimeIndex(['2007-01-01', '2007-02-01', '2007-03-01', '2007-04-01',\n               '2006-10-01', '2006-11-01', '2006-12-01', '2008-01-01',\n               '2008-02-01', '2008-03-01', '2008-04-01', '2007-09-01',\n               '2007-10-01', '2007-11-01', '2007-12-01', '2009-01-01',\n               '2009-02-01', '2009-03-01', '2009-04-01', '2008-10-01',\n               '2008-11-01', '2008-12-01', '2010-01-01', '2010-02-01',\n               '2010-03-01', '2010-04-01', '2009-10-01', '2009-11-01',\n               '2009-12-01', '2011-01-01', '2011-02-01', '2011-03-01',\n               '2011-04-01', '2010-10-01', '2010-11-01', '2010-12-01',\n               '2012-01-01', '2012-02-01', '2012-03-01', '2012-04-01',\n               '2011-10-01', '2011-11-01', '2011-12-01'],\n              dtype='datetime64[ns]', name='month', freq=None)"
     },
     "execution_count": 125,
     "metadata": {},
     "output_type": "execute_result"
    }
   ],
   "source": [
    "ducks_index"
   ],
   "metadata": {
    "collapsed": false,
    "pycharm": {
     "name": "#%%\n"
    }
   }
  },
  {
   "cell_type": "code",
   "execution_count": 126,
   "outputs": [],
   "source": [
    "ducks.index = ducks_index\n"
   ],
   "metadata": {
    "collapsed": false,
    "pycharm": {
     "name": "#%%\n"
    }
   }
  },
  {
   "cell_type": "code",
   "execution_count": 127,
   "outputs": [
    {
     "data": {
      "text/plain": "                     name    L   OL   T     W\nmonth                                        \n2006-10-01  Anaheim Ducks  0.0  3.0 NaN   9.0\n2006-11-01  Anaheim Ducks  2.0  3.0 NaN  10.0\n2006-12-01  Anaheim Ducks  5.0  0.0 NaN   9.0\n2007-01-01  Anaheim Ducks  5.0  2.0 NaN   4.0\n2007-02-01  Anaheim Ducks  5.0  2.0 NaN   5.0",
      "text/html": "<div>\n<style scoped>\n    .dataframe tbody tr th:only-of-type {\n        vertical-align: middle;\n    }\n\n    .dataframe tbody tr th {\n        vertical-align: top;\n    }\n\n    .dataframe thead th {\n        text-align: right;\n    }\n</style>\n<table border=\"1\" class=\"dataframe\">\n  <thead>\n    <tr style=\"text-align: right;\">\n      <th></th>\n      <th>name</th>\n      <th>L</th>\n      <th>OL</th>\n      <th>T</th>\n      <th>W</th>\n    </tr>\n    <tr>\n      <th>month</th>\n      <th></th>\n      <th></th>\n      <th></th>\n      <th></th>\n      <th></th>\n    </tr>\n  </thead>\n  <tbody>\n    <tr>\n      <th>2006-10-01</th>\n      <td>Anaheim Ducks</td>\n      <td>0.0</td>\n      <td>3.0</td>\n      <td>NaN</td>\n      <td>9.0</td>\n    </tr>\n    <tr>\n      <th>2006-11-01</th>\n      <td>Anaheim Ducks</td>\n      <td>2.0</td>\n      <td>3.0</td>\n      <td>NaN</td>\n      <td>10.0</td>\n    </tr>\n    <tr>\n      <th>2006-12-01</th>\n      <td>Anaheim Ducks</td>\n      <td>5.0</td>\n      <td>0.0</td>\n      <td>NaN</td>\n      <td>9.0</td>\n    </tr>\n    <tr>\n      <th>2007-01-01</th>\n      <td>Anaheim Ducks</td>\n      <td>5.0</td>\n      <td>2.0</td>\n      <td>NaN</td>\n      <td>4.0</td>\n    </tr>\n    <tr>\n      <th>2007-02-01</th>\n      <td>Anaheim Ducks</td>\n      <td>5.0</td>\n      <td>2.0</td>\n      <td>NaN</td>\n      <td>5.0</td>\n    </tr>\n  </tbody>\n</table>\n</div>"
     },
     "execution_count": 127,
     "metadata": {},
     "output_type": "execute_result"
    }
   ],
   "source": [
    "ducks = ducks.sort_index()\n",
    "ducks.head()\n"
   ],
   "metadata": {
    "collapsed": false,
    "pycharm": {
     "name": "#%%\n"
    }
   }
  },
  {
   "cell_type": "code",
   "execution_count": 128,
   "outputs": [
    {
     "data": {
      "text/plain": "<pandas.core.resample.DatetimeIndexResampler object at 0x0000026BC69B64F0>"
     },
     "execution_count": 128,
     "metadata": {},
     "output_type": "execute_result"
    }
   ],
   "source": [
    "resampler = ducks.resample('A-JUN')\n",
    "resampler\n"
   ],
   "metadata": {
    "collapsed": false,
    "pycharm": {
     "name": "#%%\n"
    }
   }
  },
  {
   "cell_type": "code",
   "execution_count": 129,
   "outputs": [
    {
     "data": {
      "text/plain": "               L    OL    T     W\nmonth                            \n2007-06-30  20.0  14.0  0.0  48.0\n2008-06-30  27.0   8.0  0.0  47.0\n2009-06-30  33.0   7.0  0.0  42.0\n2010-06-30  32.0  11.0  0.0  39.0\n2011-06-30  30.0   5.0  0.0  47.0\n2012-06-30  36.0  12.0  0.0  34.0",
      "text/html": "<div>\n<style scoped>\n    .dataframe tbody tr th:only-of-type {\n        vertical-align: middle;\n    }\n\n    .dataframe tbody tr th {\n        vertical-align: top;\n    }\n\n    .dataframe thead th {\n        text-align: right;\n    }\n</style>\n<table border=\"1\" class=\"dataframe\">\n  <thead>\n    <tr style=\"text-align: right;\">\n      <th></th>\n      <th>L</th>\n      <th>OL</th>\n      <th>T</th>\n      <th>W</th>\n    </tr>\n    <tr>\n      <th>month</th>\n      <th></th>\n      <th></th>\n      <th></th>\n      <th></th>\n    </tr>\n  </thead>\n  <tbody>\n    <tr>\n      <th>2007-06-30</th>\n      <td>20.0</td>\n      <td>14.0</td>\n      <td>0.0</td>\n      <td>48.0</td>\n    </tr>\n    <tr>\n      <th>2008-06-30</th>\n      <td>27.0</td>\n      <td>8.0</td>\n      <td>0.0</td>\n      <td>47.0</td>\n    </tr>\n    <tr>\n      <th>2009-06-30</th>\n      <td>33.0</td>\n      <td>7.0</td>\n      <td>0.0</td>\n      <td>42.0</td>\n    </tr>\n    <tr>\n      <th>2010-06-30</th>\n      <td>32.0</td>\n      <td>11.0</td>\n      <td>0.0</td>\n      <td>39.0</td>\n    </tr>\n    <tr>\n      <th>2011-06-30</th>\n      <td>30.0</td>\n      <td>5.0</td>\n      <td>0.0</td>\n      <td>47.0</td>\n    </tr>\n    <tr>\n      <th>2012-06-30</th>\n      <td>36.0</td>\n      <td>12.0</td>\n      <td>0.0</td>\n      <td>34.0</td>\n    </tr>\n  </tbody>\n</table>\n</div>"
     },
     "execution_count": 129,
     "metadata": {},
     "output_type": "execute_result"
    }
   ],
   "source": [
    "resampler.sum()"
   ],
   "metadata": {
    "collapsed": false,
    "pycharm": {
     "name": "#%%\n"
    }
   }
  },
  {
   "cell_type": "code",
   "execution_count": 130,
   "outputs": [
    {
     "data": {
      "text/plain": "                 W     L\nmonth                   \n2007-06-30 0   9.0   0.0\n           1  19.0   2.0\n           2  28.0   7.0\n           3  32.0  12.0\n           4  37.0  17.0\n           5  47.0  20.0\n           6  48.0  20.0\n2008-06-30 0   1.0   1.0",
      "text/html": "<div>\n<style scoped>\n    .dataframe tbody tr th:only-of-type {\n        vertical-align: middle;\n    }\n\n    .dataframe tbody tr th {\n        vertical-align: top;\n    }\n\n    .dataframe thead th {\n        text-align: right;\n    }\n</style>\n<table border=\"1\" class=\"dataframe\">\n  <thead>\n    <tr style=\"text-align: right;\">\n      <th></th>\n      <th></th>\n      <th>W</th>\n      <th>L</th>\n    </tr>\n    <tr>\n      <th>month</th>\n      <th></th>\n      <th></th>\n      <th></th>\n    </tr>\n  </thead>\n  <tbody>\n    <tr>\n      <th rowspan=\"7\" valign=\"top\">2007-06-30</th>\n      <th>0</th>\n      <td>9.0</td>\n      <td>0.0</td>\n    </tr>\n    <tr>\n      <th>1</th>\n      <td>19.0</td>\n      <td>2.0</td>\n    </tr>\n    <tr>\n      <th>2</th>\n      <td>28.0</td>\n      <td>7.0</td>\n    </tr>\n    <tr>\n      <th>3</th>\n      <td>32.0</td>\n      <td>12.0</td>\n    </tr>\n    <tr>\n      <th>4</th>\n      <td>37.0</td>\n      <td>17.0</td>\n    </tr>\n    <tr>\n      <th>5</th>\n      <td>47.0</td>\n      <td>20.0</td>\n    </tr>\n    <tr>\n      <th>6</th>\n      <td>48.0</td>\n      <td>20.0</td>\n    </tr>\n    <tr>\n      <th>2008-06-30</th>\n      <th>0</th>\n      <td>1.0</td>\n      <td>1.0</td>\n    </tr>\n  </tbody>\n</table>\n</div>"
     },
     "execution_count": 130,
     "metadata": {},
     "output_type": "execute_result"
    }
   ],
   "source": [
    "# we can't do this; resampler.expanding().sum()\n",
    "# but we can do this\n",
    "res = resampler.apply(\n",
    "    lambda x: x.reset_index()[[\"W\", \"L\"]].expanding().sum()\n",
    ")\n",
    "res.head(8)\n"
   ],
   "metadata": {
    "collapsed": false,
    "pycharm": {
     "name": "#%%\n"
    }
   }
  },
  {
   "cell_type": "code",
   "execution_count": 131,
   "outputs": [
    {
     "data": {
      "text/plain": "               W     L\nmonth                 \n2006-10-01   9.0   0.0\n2006-11-01  19.0   2.0\n2006-12-01  28.0   7.0\n2007-01-01  32.0  12.0\n2007-02-01  37.0  17.0",
      "text/html": "<div>\n<style scoped>\n    .dataframe tbody tr th:only-of-type {\n        vertical-align: middle;\n    }\n\n    .dataframe tbody tr th {\n        vertical-align: top;\n    }\n\n    .dataframe thead th {\n        text-align: right;\n    }\n</style>\n<table border=\"1\" class=\"dataframe\">\n  <thead>\n    <tr style=\"text-align: right;\">\n      <th></th>\n      <th>W</th>\n      <th>L</th>\n    </tr>\n    <tr>\n      <th>month</th>\n      <th></th>\n      <th></th>\n    </tr>\n  </thead>\n  <tbody>\n    <tr>\n      <th>2006-10-01</th>\n      <td>9.0</td>\n      <td>0.0</td>\n    </tr>\n    <tr>\n      <th>2006-11-01</th>\n      <td>19.0</td>\n      <td>2.0</td>\n    </tr>\n    <tr>\n      <th>2006-12-01</th>\n      <td>28.0</td>\n      <td>7.0</td>\n    </tr>\n    <tr>\n      <th>2007-01-01</th>\n      <td>32.0</td>\n      <td>12.0</td>\n    </tr>\n    <tr>\n      <th>2007-02-01</th>\n      <td>37.0</td>\n      <td>17.0</td>\n    </tr>\n  </tbody>\n</table>\n</div>"
     },
     "execution_count": 131,
     "metadata": {},
     "output_type": "execute_result"
    }
   ],
   "source": [
    "res.index = ducks.index\n",
    "res.head()\n"
   ],
   "metadata": {
    "collapsed": false,
    "pycharm": {
     "name": "#%%\n"
    }
   }
  },
  {
   "cell_type": "code",
   "execution_count": 132,
   "outputs": [
    {
     "data": {
      "text/plain": "               W     L\nmonth                 \n2006-10-01   9.0   0.0\n2006-11-01  19.0   2.0\n2006-12-01  28.0   7.0\n2007-01-01  32.0  12.0\n2007-02-01  37.0  17.0\n2007-03-01  47.0  20.0\n2007-04-01  48.0  20.0\n2007-05-01   NaN   NaN\n2007-06-01   NaN   NaN\n2007-07-01   NaN   NaN",
      "text/html": "<div>\n<style scoped>\n    .dataframe tbody tr th:only-of-type {\n        vertical-align: middle;\n    }\n\n    .dataframe tbody tr th {\n        vertical-align: top;\n    }\n\n    .dataframe thead th {\n        text-align: right;\n    }\n</style>\n<table border=\"1\" class=\"dataframe\">\n  <thead>\n    <tr style=\"text-align: right;\">\n      <th></th>\n      <th>W</th>\n      <th>L</th>\n    </tr>\n    <tr>\n      <th>month</th>\n      <th></th>\n      <th></th>\n    </tr>\n  </thead>\n  <tbody>\n    <tr>\n      <th>2006-10-01</th>\n      <td>9.0</td>\n      <td>0.0</td>\n    </tr>\n    <tr>\n      <th>2006-11-01</th>\n      <td>19.0</td>\n      <td>2.0</td>\n    </tr>\n    <tr>\n      <th>2006-12-01</th>\n      <td>28.0</td>\n      <td>7.0</td>\n    </tr>\n    <tr>\n      <th>2007-01-01</th>\n      <td>32.0</td>\n      <td>12.0</td>\n    </tr>\n    <tr>\n      <th>2007-02-01</th>\n      <td>37.0</td>\n      <td>17.0</td>\n    </tr>\n    <tr>\n      <th>2007-03-01</th>\n      <td>47.0</td>\n      <td>20.0</td>\n    </tr>\n    <tr>\n      <th>2007-04-01</th>\n      <td>48.0</td>\n      <td>20.0</td>\n    </tr>\n    <tr>\n      <th>2007-05-01</th>\n      <td>NaN</td>\n      <td>NaN</td>\n    </tr>\n    <tr>\n      <th>2007-06-01</th>\n      <td>NaN</td>\n      <td>NaN</td>\n    </tr>\n    <tr>\n      <th>2007-07-01</th>\n      <td>NaN</td>\n      <td>NaN</td>\n    </tr>\n  </tbody>\n</table>\n</div>"
     },
     "execution_count": 132,
     "metadata": {},
     "output_type": "execute_result"
    }
   ],
   "source": [
    "final = res.asfreq(pd.tseries.offsets.MonthBegin())\n",
    "final.head(10)\n"
   ],
   "metadata": {
    "collapsed": false,
    "pycharm": {
     "name": "#%%\n"
    }
   }
  },
  {
   "cell_type": "code",
   "execution_count": 133,
   "outputs": [],
   "source": [
    "# final = final.reset_index()\n",
    "fdf = final.reset_index()"
   ],
   "metadata": {
    "collapsed": false,
    "pycharm": {
     "name": "#%%\n"
    }
   }
  },
  {
   "cell_type": "code",
   "execution_count": 134,
   "outputs": [
    {
     "data": {
      "text/plain": "       month     W     L\n0 2006-10-01   9.0   0.0\n1 2006-11-01  19.0   2.0\n2 2006-12-01  28.0   7.0\n3 2007-01-01  32.0  12.0\n4 2007-02-01  37.0  17.0",
      "text/html": "<div>\n<style scoped>\n    .dataframe tbody tr th:only-of-type {\n        vertical-align: middle;\n    }\n\n    .dataframe tbody tr th {\n        vertical-align: top;\n    }\n\n    .dataframe thead th {\n        text-align: right;\n    }\n</style>\n<table border=\"1\" class=\"dataframe\">\n  <thead>\n    <tr style=\"text-align: right;\">\n      <th></th>\n      <th>month</th>\n      <th>W</th>\n      <th>L</th>\n    </tr>\n  </thead>\n  <tbody>\n    <tr>\n      <th>0</th>\n      <td>2006-10-01</td>\n      <td>9.0</td>\n      <td>0.0</td>\n    </tr>\n    <tr>\n      <th>1</th>\n      <td>2006-11-01</td>\n      <td>19.0</td>\n      <td>2.0</td>\n    </tr>\n    <tr>\n      <th>2</th>\n      <td>2006-12-01</td>\n      <td>28.0</td>\n      <td>7.0</td>\n    </tr>\n    <tr>\n      <th>3</th>\n      <td>2007-01-01</td>\n      <td>32.0</td>\n      <td>12.0</td>\n    </tr>\n    <tr>\n      <th>4</th>\n      <td>2007-02-01</td>\n      <td>37.0</td>\n      <td>17.0</td>\n    </tr>\n  </tbody>\n</table>\n</div>"
     },
     "execution_count": 134,
     "metadata": {},
     "output_type": "execute_result"
    }
   ],
   "source": [
    "fdf.head()"
   ],
   "metadata": {
    "collapsed": false,
    "pycharm": {
     "name": "#%%\n"
    }
   }
  },
  {
   "cell_type": "code",
   "execution_count": 135,
   "outputs": [
    {
     "name": "stdout",
     "output_type": "stream",
     "text": [
      "Requirement already satisfied: bokeh in c:\\users\\hp\\anaconda3\\lib\\site-packages (2.4.1)\n",
      "Requirement already satisfied: Jinja2>=2.9 in c:\\users\\hp\\anaconda3\\lib\\site-packages (from bokeh) (2.11.3)\n",
      "Requirement already satisfied: packaging>=16.8 in c:\\users\\hp\\anaconda3\\lib\\site-packages (from bokeh) (21.0)\n",
      "Requirement already satisfied: tornado>=5.1 in c:\\users\\hp\\anaconda3\\lib\\site-packages (from bokeh) (6.1)\n",
      "Requirement already satisfied: pillow>=7.1.0 in c:\\users\\hp\\anaconda3\\lib\\site-packages (from bokeh) (8.4.0)\n",
      "Requirement already satisfied: typing-extensions>=3.10.0 in c:\\users\\hp\\anaconda3\\lib\\site-packages (from bokeh) (3.10.0.2)\n",
      "Requirement already satisfied: PyYAML>=3.10 in c:\\users\\hp\\anaconda3\\lib\\site-packages (from bokeh) (6.0)\n",
      "Requirement already satisfied: numpy>=1.11.3 in c:\\users\\hp\\anaconda3\\lib\\site-packages (from bokeh) (1.20.3)\n",
      "Requirement already satisfied: MarkupSafe>=0.23 in c:\\users\\hp\\anaconda3\\lib\\site-packages (from Jinja2>=2.9->bokeh) (1.1.1)\n",
      "Requirement already satisfied: pyparsing>=2.0.2 in c:\\users\\hp\\anaconda3\\lib\\site-packages (from packaging>=16.8->bokeh) (3.0.4)\n"
     ]
    }
   ],
   "source": [
    "!pip install bokeh"
   ],
   "metadata": {
    "collapsed": false,
    "pycharm": {
     "name": "#%%\n"
    }
   }
  },
  {
   "cell_type": "code",
   "execution_count": 136,
   "outputs": [
    {
     "data": {
      "text/html": "\n    <div class=\"bk-root\">\n        <a href=\"https://bokeh.org\" target=\"_blank\" class=\"bk-logo bk-logo-small bk-logo-notebook\"></a>\n        <span id=\"8151\">Loading BokehJS ...</span>\n    </div>"
     },
     "metadata": {},
     "output_type": "display_data"
    },
    {
     "data": {
      "application/javascript": "\n(function(root) {\n  function now() {\n    return new Date();\n  }\n\n  const force = true;\n\n  if (typeof root._bokeh_onload_callbacks === \"undefined\" || force === true) {\n    root._bokeh_onload_callbacks = [];\n    root._bokeh_is_loading = undefined;\n  }\n\n  const JS_MIME_TYPE = 'application/javascript';\n  const HTML_MIME_TYPE = 'text/html';\n  const EXEC_MIME_TYPE = 'application/vnd.bokehjs_exec.v0+json';\n  const CLASS_NAME = 'output_bokeh rendered_html';\n\n  /**\n   * Render data to the DOM node\n   */\n  function render(props, node) {\n    const script = document.createElement(\"script\");\n    node.appendChild(script);\n  }\n\n  /**\n   * Handle when an output is cleared or removed\n   */\n  function handleClearOutput(event, handle) {\n    const cell = handle.cell;\n\n    const id = cell.output_area._bokeh_element_id;\n    const server_id = cell.output_area._bokeh_server_id;\n    // Clean up Bokeh references\n    if (id != null && id in Bokeh.index) {\n      Bokeh.index[id].model.document.clear();\n      delete Bokeh.index[id];\n    }\n\n    if (server_id !== undefined) {\n      // Clean up Bokeh references\n      const cmd_clean = \"from bokeh.io.state import curstate; print(curstate().uuid_to_server['\" + server_id + \"'].get_sessions()[0].document.roots[0]._id)\";\n      cell.notebook.kernel.execute(cmd_clean, {\n        iopub: {\n          output: function(msg) {\n            const id = msg.content.text.trim();\n            if (id in Bokeh.index) {\n              Bokeh.index[id].model.document.clear();\n              delete Bokeh.index[id];\n            }\n          }\n        }\n      });\n      // Destroy server and session\n      const cmd_destroy = \"import bokeh.io.notebook as ion; ion.destroy_server('\" + server_id + \"')\";\n      cell.notebook.kernel.execute(cmd_destroy);\n    }\n  }\n\n  /**\n   * Handle when a new output is added\n   */\n  function handleAddOutput(event, handle) {\n    const output_area = handle.output_area;\n    const output = handle.output;\n\n    // limit handleAddOutput to display_data with EXEC_MIME_TYPE content only\n    if ((output.output_type != \"display_data\") || (!Object.prototype.hasOwnProperty.call(output.data, EXEC_MIME_TYPE))) {\n      return\n    }\n\n    const toinsert = output_area.element.find(\".\" + CLASS_NAME.split(' ')[0]);\n\n    if (output.metadata[EXEC_MIME_TYPE][\"id\"] !== undefined) {\n      toinsert[toinsert.length - 1].firstChild.textContent = output.data[JS_MIME_TYPE];\n      // store reference to embed id on output_area\n      output_area._bokeh_element_id = output.metadata[EXEC_MIME_TYPE][\"id\"];\n    }\n    if (output.metadata[EXEC_MIME_TYPE][\"server_id\"] !== undefined) {\n      const bk_div = document.createElement(\"div\");\n      bk_div.innerHTML = output.data[HTML_MIME_TYPE];\n      const script_attrs = bk_div.children[0].attributes;\n      for (let i = 0; i < script_attrs.length; i++) {\n        toinsert[toinsert.length - 1].firstChild.setAttribute(script_attrs[i].name, script_attrs[i].value);\n        toinsert[toinsert.length - 1].firstChild.textContent = bk_div.children[0].textContent\n      }\n      // store reference to server id on output_area\n      output_area._bokeh_server_id = output.metadata[EXEC_MIME_TYPE][\"server_id\"];\n    }\n  }\n\n  function register_renderer(events, OutputArea) {\n\n    function append_mime(data, metadata, element) {\n      // create a DOM node to render to\n      const toinsert = this.create_output_subarea(\n        metadata,\n        CLASS_NAME,\n        EXEC_MIME_TYPE\n      );\n      this.keyboard_manager.register_events(toinsert);\n      // Render to node\n      const props = {data: data, metadata: metadata[EXEC_MIME_TYPE]};\n      render(props, toinsert[toinsert.length - 1]);\n      element.append(toinsert);\n      return toinsert\n    }\n\n    /* Handle when an output is cleared or removed */\n    events.on('clear_output.CodeCell', handleClearOutput);\n    events.on('delete.Cell', handleClearOutput);\n\n    /* Handle when a new output is added */\n    events.on('output_added.OutputArea', handleAddOutput);\n\n    /**\n     * Register the mime type and append_mime function with output_area\n     */\n    OutputArea.prototype.register_mime_type(EXEC_MIME_TYPE, append_mime, {\n      /* Is output safe? */\n      safe: true,\n      /* Index of renderer in `output_area.display_order` */\n      index: 0\n    });\n  }\n\n  // register the mime type if in Jupyter Notebook environment and previously unregistered\n  if (root.Jupyter !== undefined) {\n    const events = require('base/js/events');\n    const OutputArea = require('notebook/js/outputarea').OutputArea;\n\n    if (OutputArea.prototype.mime_types().indexOf(EXEC_MIME_TYPE) == -1) {\n      register_renderer(events, OutputArea);\n    }\n  }\n\n  \n  if (typeof (root._bokeh_timeout) === \"undefined\" || force === true) {\n    root._bokeh_timeout = Date.now() + 5000;\n    root._bokeh_failed_load = false;\n  }\n\n  const NB_LOAD_WARNING = {'data': {'text/html':\n     \"<div style='background-color: #fdd'>\\n\"+\n     \"<p>\\n\"+\n     \"BokehJS does not appear to have successfully loaded. If loading BokehJS from CDN, this \\n\"+\n     \"may be due to a slow or bad network connection. Possible fixes:\\n\"+\n     \"</p>\\n\"+\n     \"<ul>\\n\"+\n     \"<li>re-rerun `output_notebook()` to attempt to load from CDN again, or</li>\\n\"+\n     \"<li>use INLINE resources instead, as so:</li>\\n\"+\n     \"</ul>\\n\"+\n     \"<code>\\n\"+\n     \"from bokeh.resources import INLINE\\n\"+\n     \"output_notebook(resources=INLINE)\\n\"+\n     \"</code>\\n\"+\n     \"</div>\"}};\n\n  function display_loaded() {\n    const el = document.getElementById(\"8151\");\n    if (el != null) {\n      el.textContent = \"BokehJS is loading...\";\n    }\n    if (root.Bokeh !== undefined) {\n      if (el != null) {\n        el.textContent = \"BokehJS \" + root.Bokeh.version + \" successfully loaded.\";\n      }\n    } else if (Date.now() < root._bokeh_timeout) {\n      setTimeout(display_loaded, 100)\n    }\n  }\n\n\n  function run_callbacks() {\n    try {\n      root._bokeh_onload_callbacks.forEach(function(callback) {\n        if (callback != null)\n          callback();\n      });\n    } finally {\n      delete root._bokeh_onload_callbacks\n    }\n    console.debug(\"Bokeh: all callbacks have finished\");\n  }\n\n  function load_libs(css_urls, js_urls, callback) {\n    if (css_urls == null) css_urls = [];\n    if (js_urls == null) js_urls = [];\n\n    root._bokeh_onload_callbacks.push(callback);\n    if (root._bokeh_is_loading > 0) {\n      console.debug(\"Bokeh: BokehJS is being loaded, scheduling callback at\", now());\n      return null;\n    }\n    if (js_urls == null || js_urls.length === 0) {\n      run_callbacks();\n      return null;\n    }\n    console.debug(\"Bokeh: BokehJS not loaded, scheduling load and callback at\", now());\n    root._bokeh_is_loading = css_urls.length + js_urls.length;\n\n    function on_load() {\n      root._bokeh_is_loading--;\n      if (root._bokeh_is_loading === 0) {\n        console.debug(\"Bokeh: all BokehJS libraries/stylesheets loaded\");\n        run_callbacks()\n      }\n    }\n\n    function on_error(url) {\n      console.error(\"failed to load \" + url);\n    }\n\n    for (let i = 0; i < css_urls.length; i++) {\n      const url = css_urls[i];\n      const element = document.createElement(\"link\");\n      element.onload = on_load;\n      element.onerror = on_error.bind(null, url);\n      element.rel = \"stylesheet\";\n      element.type = \"text/css\";\n      element.href = url;\n      console.debug(\"Bokeh: injecting link tag for BokehJS stylesheet: \", url);\n      document.body.appendChild(element);\n    }\n\n    for (let i = 0; i < js_urls.length; i++) {\n      const url = js_urls[i];\n      const element = document.createElement('script');\n      element.onload = on_load;\n      element.onerror = on_error.bind(null, url);\n      element.async = false;\n      element.src = url;\n      console.debug(\"Bokeh: injecting script tag for BokehJS library: \", url);\n      document.head.appendChild(element);\n    }\n  };\n\n  function inject_raw_css(css) {\n    const element = document.createElement(\"style\");\n    element.appendChild(document.createTextNode(css));\n    document.body.appendChild(element);\n  }\n\n  \n  const js_urls = [\"https://cdn.bokeh.org/bokeh/release/bokeh-2.4.1.min.js\", \"https://cdn.bokeh.org/bokeh/release/bokeh-gl-2.4.1.min.js\", \"https://cdn.bokeh.org/bokeh/release/bokeh-widgets-2.4.1.min.js\", \"https://cdn.bokeh.org/bokeh/release/bokeh-tables-2.4.1.min.js\", \"https://cdn.bokeh.org/bokeh/release/bokeh-mathjax-2.4.1.min.js\"];\n  const css_urls = [];\n  \n\n  const inline_js = [\n    function(Bokeh) {\n      Bokeh.set_log_level(\"info\");\n    },\n    function(Bokeh) {\n    \n    \n    }\n  ];\n\n  function run_inline_js() {\n    \n    if (root.Bokeh !== undefined || force === true) {\n      \n    for (let i = 0; i < inline_js.length; i++) {\n      inline_js[i].call(root, root.Bokeh);\n    }\n    if (force === true) {\n        display_loaded();\n      }} else if (Date.now() < root._bokeh_timeout) {\n      setTimeout(run_inline_js, 100);\n    } else if (!root._bokeh_failed_load) {\n      console.log(\"Bokeh: BokehJS failed to load within specified timeout.\");\n      root._bokeh_failed_load = true;\n    } else if (force !== true) {\n      const cell = $(document.getElementById(\"8151\")).parents('.cell').data().cell;\n      cell.output_area.append_execute_result(NB_LOAD_WARNING)\n    }\n\n  }\n\n  if (root._bokeh_is_loading === 0) {\n    console.debug(\"Bokeh: BokehJS loaded, going straight to plotting\");\n    run_inline_js();\n  } else {\n    load_libs(css_urls, js_urls, function() {\n      console.debug(\"Bokeh: BokehJS plotting callback run at\", now());\n      run_inline_js();\n    });\n  }\n}(window));",
      "application/vnd.bokehjs_load.v0+json": "\n(function(root) {\n  function now() {\n    return new Date();\n  }\n\n  const force = true;\n\n  if (typeof root._bokeh_onload_callbacks === \"undefined\" || force === true) {\n    root._bokeh_onload_callbacks = [];\n    root._bokeh_is_loading = undefined;\n  }\n\n  \n\n  \n  if (typeof (root._bokeh_timeout) === \"undefined\" || force === true) {\n    root._bokeh_timeout = Date.now() + 5000;\n    root._bokeh_failed_load = false;\n  }\n\n  const NB_LOAD_WARNING = {'data': {'text/html':\n     \"<div style='background-color: #fdd'>\\n\"+\n     \"<p>\\n\"+\n     \"BokehJS does not appear to have successfully loaded. If loading BokehJS from CDN, this \\n\"+\n     \"may be due to a slow or bad network connection. Possible fixes:\\n\"+\n     \"</p>\\n\"+\n     \"<ul>\\n\"+\n     \"<li>re-rerun `output_notebook()` to attempt to load from CDN again, or</li>\\n\"+\n     \"<li>use INLINE resources instead, as so:</li>\\n\"+\n     \"</ul>\\n\"+\n     \"<code>\\n\"+\n     \"from bokeh.resources import INLINE\\n\"+\n     \"output_notebook(resources=INLINE)\\n\"+\n     \"</code>\\n\"+\n     \"</div>\"}};\n\n  function display_loaded() {\n    const el = document.getElementById(\"8151\");\n    if (el != null) {\n      el.textContent = \"BokehJS is loading...\";\n    }\n    if (root.Bokeh !== undefined) {\n      if (el != null) {\n        el.textContent = \"BokehJS \" + root.Bokeh.version + \" successfully loaded.\";\n      }\n    } else if (Date.now() < root._bokeh_timeout) {\n      setTimeout(display_loaded, 100)\n    }\n  }\n\n\n  function run_callbacks() {\n    try {\n      root._bokeh_onload_callbacks.forEach(function(callback) {\n        if (callback != null)\n          callback();\n      });\n    } finally {\n      delete root._bokeh_onload_callbacks\n    }\n    console.debug(\"Bokeh: all callbacks have finished\");\n  }\n\n  function load_libs(css_urls, js_urls, callback) {\n    if (css_urls == null) css_urls = [];\n    if (js_urls == null) js_urls = [];\n\n    root._bokeh_onload_callbacks.push(callback);\n    if (root._bokeh_is_loading > 0) {\n      console.debug(\"Bokeh: BokehJS is being loaded, scheduling callback at\", now());\n      return null;\n    }\n    if (js_urls == null || js_urls.length === 0) {\n      run_callbacks();\n      return null;\n    }\n    console.debug(\"Bokeh: BokehJS not loaded, scheduling load and callback at\", now());\n    root._bokeh_is_loading = css_urls.length + js_urls.length;\n\n    function on_load() {\n      root._bokeh_is_loading--;\n      if (root._bokeh_is_loading === 0) {\n        console.debug(\"Bokeh: all BokehJS libraries/stylesheets loaded\");\n        run_callbacks()\n      }\n    }\n\n    function on_error(url) {\n      console.error(\"failed to load \" + url);\n    }\n\n    for (let i = 0; i < css_urls.length; i++) {\n      const url = css_urls[i];\n      const element = document.createElement(\"link\");\n      element.onload = on_load;\n      element.onerror = on_error.bind(null, url);\n      element.rel = \"stylesheet\";\n      element.type = \"text/css\";\n      element.href = url;\n      console.debug(\"Bokeh: injecting link tag for BokehJS stylesheet: \", url);\n      document.body.appendChild(element);\n    }\n\n    for (let i = 0; i < js_urls.length; i++) {\n      const url = js_urls[i];\n      const element = document.createElement('script');\n      element.onload = on_load;\n      element.onerror = on_error.bind(null, url);\n      element.async = false;\n      element.src = url;\n      console.debug(\"Bokeh: injecting script tag for BokehJS library: \", url);\n      document.head.appendChild(element);\n    }\n  };\n\n  function inject_raw_css(css) {\n    const element = document.createElement(\"style\");\n    element.appendChild(document.createTextNode(css));\n    document.body.appendChild(element);\n  }\n\n  \n  const js_urls = [\"https://cdn.bokeh.org/bokeh/release/bokeh-2.4.1.min.js\", \"https://cdn.bokeh.org/bokeh/release/bokeh-gl-2.4.1.min.js\", \"https://cdn.bokeh.org/bokeh/release/bokeh-widgets-2.4.1.min.js\", \"https://cdn.bokeh.org/bokeh/release/bokeh-tables-2.4.1.min.js\", \"https://cdn.bokeh.org/bokeh/release/bokeh-mathjax-2.4.1.min.js\"];\n  const css_urls = [];\n  \n\n  const inline_js = [\n    function(Bokeh) {\n      Bokeh.set_log_level(\"info\");\n    },\n    function(Bokeh) {\n    \n    \n    }\n  ];\n\n  function run_inline_js() {\n    \n    if (root.Bokeh !== undefined || force === true) {\n      \n    for (let i = 0; i < inline_js.length; i++) {\n      inline_js[i].call(root, root.Bokeh);\n    }\n    if (force === true) {\n        display_loaded();\n      }} else if (Date.now() < root._bokeh_timeout) {\n      setTimeout(run_inline_js, 100);\n    } else if (!root._bokeh_failed_load) {\n      console.log(\"Bokeh: BokehJS failed to load within specified timeout.\");\n      root._bokeh_failed_load = true;\n    } else if (force !== true) {\n      const cell = $(document.getElementById(\"8151\")).parents('.cell').data().cell;\n      cell.output_area.append_execute_result(NB_LOAD_WARNING)\n    }\n\n  }\n\n  if (root._bokeh_is_loading === 0) {\n    console.debug(\"Bokeh: BokehJS loaded, going straight to plotting\");\n    run_inline_js();\n  } else {\n    load_libs(css_urls, js_urls, function() {\n      console.debug(\"Bokeh: BokehJS plotting callback run at\", now());\n      run_inline_js();\n    });\n  }\n}(window));"
     },
     "metadata": {},
     "output_type": "display_data"
    }
   ],
   "source": [
    "from bokeh.plotting import figure, output_notebook, show\n",
    "output_notebook()\n"
   ],
   "metadata": {
    "collapsed": false,
    "pycharm": {
     "name": "#%%\n"
    }
   }
  },
  {
   "cell_type": "code",
   "execution_count": 137,
   "outputs": [],
   "source": [
    "from bokeh.models.sources import ColumnDataSource as cds\n"
   ],
   "metadata": {
    "collapsed": false,
    "pycharm": {
     "name": "#%%\n"
    }
   }
  },
  {
   "cell_type": "code",
   "execution_count": 138,
   "outputs": [
    {
     "data": {
      "text/html": "\n\n\n\n\n\n  <div class=\"bk-root\" id=\"fb1521b3-b382-44ca-b4f4-d2b4714b8e83\" data-root-id=\"8153\"></div>\n"
     },
     "metadata": {},
     "output_type": "display_data"
    },
    {
     "data": {
      "application/javascript": "(function(root) {\n  function embed_document(root) {\n    \n  const docs_json = {\"279cdfed-a1bc-4bef-9584-56e727223849\":{\"defs\":[],\"roots\":{\"references\":[{\"attributes\":{\"below\":[{\"id\":\"8162\"}],\"center\":[{\"id\":\"8165\"},{\"id\":\"8169\"},{\"id\":\"8213\"}],\"height\":500,\"left\":[{\"id\":\"8166\"}],\"renderers\":[{\"id\":\"8188\"},{\"id\":\"8219\"}],\"title\":{\"id\":\"8190\"},\"toolbar\":{\"id\":\"8177\"},\"width\":500,\"x_range\":{\"id\":\"8154\"},\"x_scale\":{\"id\":\"8158\"},\"y_range\":{\"id\":\"8156\"},\"y_scale\":{\"id\":\"8160\"}},\"id\":\"8153\",\"subtype\":\"Figure\",\"type\":\"Plot\"},{\"attributes\":{},\"id\":\"8194\",\"type\":\"AllLabels\"},{\"attributes\":{},\"id\":\"8156\",\"type\":\"DataRange1d\"},{\"attributes\":{\"click_policy\":\"hide\",\"coordinates\":null,\"group\":null,\"items\":[{\"id\":\"8214\"},{\"id\":\"8244\"}]},\"id\":\"8213\",\"type\":\"Legend\"},{\"attributes\":{\"label\":{\"value\":\"Loses\"},\"renderers\":[{\"id\":\"8219\"}]},\"id\":\"8244\",\"type\":\"LegendItem\"},{\"attributes\":{\"axis\":{\"id\":\"8166\"},\"coordinates\":null,\"dimension\":1,\"group\":null,\"ticker\":null},\"id\":\"8169\",\"type\":\"Grid\"},{\"attributes\":{},\"id\":\"8193\",\"type\":\"BasicTickFormatter\"},{\"attributes\":{},\"id\":\"8198\",\"type\":\"UnionRenderers\"},{\"attributes\":{\"tools\":[{\"id\":\"8170\"},{\"id\":\"8171\"},{\"id\":\"8172\"},{\"id\":\"8173\"},{\"id\":\"8174\"},{\"id\":\"8175\"}]},\"id\":\"8177\",\"type\":\"Toolbar\"},{\"attributes\":{\"coordinates\":null,\"data_source\":{\"id\":\"8152\"},\"glyph\":{\"id\":\"8216\"},\"group\":null,\"hover_glyph\":null,\"muted_glyph\":{\"id\":\"8218\"},\"nonselection_glyph\":{\"id\":\"8217\"},\"view\":{\"id\":\"8220\"}},\"id\":\"8219\",\"type\":\"GlyphRenderer\"},{\"attributes\":{\"mantissas\":[1,2,5],\"max_interval\":500.0,\"num_minor_ticks\":0},\"id\":\"8201\",\"type\":\"AdaptiveTicker\"},{\"attributes\":{},\"id\":\"8158\",\"type\":\"LinearScale\"},{\"attributes\":{\"align\":\"center\",\"coordinates\":null,\"group\":null,\"text\":\"Anaheim Ducks Performance by Season\",\"text_font_size\":\"25px\"},\"id\":\"8190\",\"type\":\"Title\"},{\"attributes\":{\"bottom_units\":\"screen\",\"coordinates\":null,\"fill_alpha\":0.5,\"fill_color\":\"lightgrey\",\"group\":null,\"left_units\":\"screen\",\"level\":\"overlay\",\"line_alpha\":1.0,\"line_color\":\"black\",\"line_dash\":[4,4],\"line_width\":2,\"right_units\":\"screen\",\"syncable\":false,\"top_units\":\"screen\"},\"id\":\"8176\",\"type\":\"BoxAnnotation\"},{\"attributes\":{},\"id\":\"8212\",\"type\":\"YearsTicker\"},{\"attributes\":{},\"id\":\"8173\",\"type\":\"SaveTool\"},{\"attributes\":{},\"id\":\"8175\",\"type\":\"HelpTool\"},{\"attributes\":{\"months\":[0,6]},\"id\":\"8211\",\"type\":\"MonthsTicker\"},{\"attributes\":{\"source\":{\"id\":\"8152\"}},\"id\":\"8189\",\"type\":\"CDSView\"},{\"attributes\":{},\"id\":\"8171\",\"type\":\"WheelZoomTool\"},{\"attributes\":{},\"id\":\"8199\",\"type\":\"Selection\"},{\"attributes\":{\"overlay\":{\"id\":\"8176\"}},\"id\":\"8172\",\"type\":\"BoxZoomTool\"},{\"attributes\":{},\"id\":\"8174\",\"type\":\"ResetTool\"},{\"attributes\":{\"base\":60,\"mantissas\":[1,2,5,10,15,20,30],\"max_interval\":1800000.0,\"min_interval\":1000.0,\"num_minor_ticks\":0},\"id\":\"8202\",\"type\":\"AdaptiveTicker\"},{\"attributes\":{\"months\":[0,4,8]},\"id\":\"8210\",\"type\":\"MonthsTicker\"},{\"attributes\":{\"months\":[0,2,4,6,8,10]},\"id\":\"8209\",\"type\":\"MonthsTicker\"},{\"attributes\":{\"line_alpha\":0.2,\"line_color\":\"green\",\"x\":{\"field\":\"month\"},\"y\":{\"field\":\"W\"}},\"id\":\"8187\",\"type\":\"Line\"},{\"attributes\":{\"num_minor_ticks\":5,\"tickers\":[{\"id\":\"8201\"},{\"id\":\"8202\"},{\"id\":\"8203\"},{\"id\":\"8204\"},{\"id\":\"8205\"},{\"id\":\"8206\"},{\"id\":\"8207\"},{\"id\":\"8208\"},{\"id\":\"8209\"},{\"id\":\"8210\"},{\"id\":\"8211\"},{\"id\":\"8212\"}]},\"id\":\"8163\",\"type\":\"DatetimeTicker\"},{\"attributes\":{\"data\":{\"L\":{\"__ndarray__\":\"AAAAAAAAAAAAAAAAAAAAQAAAAAAAABxAAAAAAAAAKEAAAAAAAAAxQAAAAAAAADRAAAAAAAAANEAAAAAAAAD4fwAAAAAAAPh/AAAAAAAA+H8AAAAAAAD4fwAAAAAAAPA/AAAAAAAAHEAAAAAAAAAmQAAAAAAAADFAAAAAAAAANUAAAAAAAAA3QAAAAAAAADtAAAAAAAAAO0AAAAAAAAD4fwAAAAAAAPh/AAAAAAAA+H8AAAAAAAD4fwAAAAAAAPh/AAAAAAAAFEAAAAAAAAAgQAAAAAAAAC5AAAAAAAAANkAAAAAAAAA8QAAAAAAAAEBAAAAAAACAQEAAAAAAAAD4fwAAAAAAAPh/AAAAAAAA+H8AAAAAAAD4fwAAAAAAAPh/AAAAAAAAGEAAAAAAAAAmQAAAAAAAADFAAAAAAAAAN0AAAAAAAAA5QAAAAAAAAD9AAAAAAAAAQEAAAAAAAAD4fwAAAAAAAPh/AAAAAAAA+H8AAAAAAAD4fwAAAAAAAPh/AAAAAAAAHEAAAAAAAAAmQAAAAAAAADFAAAAAAAAANEAAAAAAAAA5QAAAAAAAADxAAAAAAAAAPkAAAAAAAAD4fwAAAAAAAPh/AAAAAAAA+H8AAAAAAAD4fwAAAAAAAPh/AAAAAAAAFEAAAAAAAAAqQAAAAAAAADVAAAAAAAAAN0AAAAAAAAA7QAAAAAAAAEFAAAAAAAAAQkA=\",\"dtype\":\"float64\",\"order\":\"little\",\"shape\":[67]},\"W\":{\"__ndarray__\":\"AAAAAAAAIkAAAAAAAAAzQAAAAAAAADxAAAAAAAAAQEAAAAAAAIBCQAAAAAAAgEdAAAAAAAAASEAAAAAAAAD4fwAAAAAAAPh/AAAAAAAA+H8AAAAAAAD4fwAAAAAAAPA/AAAAAAAAEEAAAAAAAAAoQAAAAAAAADNAAAAAAAAAO0AAAAAAAIBCQAAAAAAAgEZAAAAAAACAR0AAAAAAAAD4fwAAAAAAAPh/AAAAAAAA+H8AAAAAAAD4fwAAAAAAAPh/AAAAAAAAGEAAAAAAAAAsQAAAAAAAADNAAAAAAAAAOUAAAAAAAAA/QAAAAAAAgENAAAAAAAAARUAAAAAAAAD4fwAAAAAAAPh/AAAAAAAA+H8AAAAAAAD4fwAAAAAAAPh/AAAAAAAAEEAAAAAAAAAkQAAAAAAAADBAAAAAAAAAOUAAAAAAAAA+QAAAAAAAgEJAAAAAAACAQ0AAAAAAAAD4fwAAAAAAAPh/AAAAAAAA+H8AAAAAAAD4fwAAAAAAAPh/AAAAAAAAEEAAAAAAAAAoQAAAAAAAADRAAAAAAAAAPEAAAAAAAIBAQAAAAAAAAEZAAAAAAACAR0AAAAAAAAD4fwAAAAAAAPh/AAAAAAAA+H8AAAAAAAD4fwAAAAAAAPh/AAAAAAAAFEAAAAAAAAAcQAAAAAAAACRAAAAAAAAAM0AAAAAAAAA7QAAAAAAAgEBAAAAAAAAAQUA=\",\"dtype\":\"float64\",\"order\":\"little\",\"shape\":[67]},\"index\":[0,1,2,3,4,5,6,7,8,9,10,11,12,13,14,15,16,17,18,19,20,21,22,23,24,25,26,27,28,29,30,31,32,33,34,35,36,37,38,39,40,41,42,43,44,45,46,47,48,49,50,51,52,53,54,55,56,57,58,59,60,61,62,63,64,65,66],\"month\":{\"__ndarray__\":\"AACAuBLgcEIAAMAKDepwQgAAQPe083BCAACASa/9cEIAAMCbqQdxQgAAwLysEHFCAAAAD6cacUIAAID7TiRxQgAAwE1JLnFCAABAOvE3cUIAAICM60FxQgAAwN7lS3FCAABAy41VcUIAAIAdiF9xQgAAAAowaXFCAABAXCpzcUIAAICuJH1xQgAAQDV6hnFCAACAh3SQcUIAAAB0HJpxQgAAQMYWpHFCAADAsr6tcUIAAAAFubdxQgAAQFezwXFCAADAQ1vLcUIAAACWVdVxQgAAgIL93nFCAADA1PfocUIAAAAn8vJxQgAAAEj1+3FCAABAmu8FckIAAMCGlw9yQgAAANmRGXJCAACAxTkjckIAAMAXNC1yQgAAAGouN3JCAACAVtZAckIAAMCo0EpyQgAAQJV4VHJCAACA53JeckIAAMA5bWhyQgAAwFpwcXJCAAAArWp7ckIAAICZEoVyQgAAwOsMj3JCAABA2LSYckIAAIAqr6JyQgAAwHyprHJCAABAaVG2ckIAAIC7S8ByQgAAAKjzyXJCAABA+u3TckIAAIBM6N1yQgAAgG3r5nJCAADAv+XwckIAAECsjfpyQgAAgP6HBHNCAAAA6y8Oc0IAAEA9KhhzQgAAgI8kInNCAAAAfMwrc0IAAEDOxjVzQgAAwLpuP3NCAAAADWlJc0IAAEBfY1NzQgAAAOa4XHNCAABAOLNmc0I=\",\"dtype\":\"float64\",\"order\":\"little\",\"shape\":[67]}},\"selected\":{\"id\":\"8199\"},\"selection_policy\":{\"id\":\"8198\"}},\"id\":\"8152\",\"type\":\"ColumnDataSource\"},{\"attributes\":{},\"id\":\"8170\",\"type\":\"PanTool\"},{\"attributes\":{\"days\":[1,8,15,22]},\"id\":\"8206\",\"type\":\"DaysTicker\"},{\"attributes\":{\"axis\":{\"id\":\"8162\"},\"coordinates\":null,\"group\":null,\"ticker\":null},\"id\":\"8165\",\"type\":\"Grid\"},{\"attributes\":{\"line_color\":\"green\",\"x\":{\"field\":\"month\"},\"y\":{\"field\":\"W\"}},\"id\":\"8185\",\"type\":\"Line\"},{\"attributes\":{\"base\":24,\"mantissas\":[1,2,4,6,8,12],\"max_interval\":43200000.0,\"min_interval\":3600000.0,\"num_minor_ticks\":0},\"id\":\"8203\",\"type\":\"AdaptiveTicker\"},{\"attributes\":{},\"id\":\"8196\",\"type\":\"DatetimeTickFormatter\"},{\"attributes\":{\"label\":{\"value\":\"Wins\"},\"renderers\":[{\"id\":\"8188\"}]},\"id\":\"8214\",\"type\":\"LegendItem\"},{\"attributes\":{},\"id\":\"8167\",\"type\":\"BasicTicker\"},{\"attributes\":{\"days\":[1,4,7,10,13,16,19,22,25,28]},\"id\":\"8205\",\"type\":\"DaysTicker\"},{\"attributes\":{\"days\":[1,2,3,4,5,6,7,8,9,10,11,12,13,14,15,16,17,18,19,20,21,22,23,24,25,26,27,28,29,30,31]},\"id\":\"8204\",\"type\":\"DaysTicker\"},{\"attributes\":{\"coordinates\":null,\"formatter\":{\"id\":\"8196\"},\"group\":null,\"major_label_policy\":{\"id\":\"8197\"},\"ticker\":{\"id\":\"8163\"}},\"id\":\"8162\",\"type\":\"DatetimeAxis\"},{\"attributes\":{},\"id\":\"8160\",\"type\":\"LinearScale\"},{\"attributes\":{\"line_alpha\":0.1,\"line_color\":\"red\",\"x\":{\"field\":\"month\"},\"y\":{\"field\":\"L\"}},\"id\":\"8217\",\"type\":\"Line\"},{\"attributes\":{\"days\":[1,15]},\"id\":\"8207\",\"type\":\"DaysTicker\"},{\"attributes\":{},\"id\":\"8154\",\"type\":\"DataRange1d\"},{\"attributes\":{\"coordinates\":null,\"data_source\":{\"id\":\"8152\"},\"glyph\":{\"id\":\"8185\"},\"group\":null,\"hover_glyph\":null,\"muted_glyph\":{\"id\":\"8187\"},\"nonselection_glyph\":{\"id\":\"8186\"},\"view\":{\"id\":\"8189\"}},\"id\":\"8188\",\"type\":\"GlyphRenderer\"},{\"attributes\":{},\"id\":\"8197\",\"type\":\"AllLabels\"},{\"attributes\":{\"months\":[0,1,2,3,4,5,6,7,8,9,10,11]},\"id\":\"8208\",\"type\":\"MonthsTicker\"},{\"attributes\":{\"line_color\":\"red\",\"x\":{\"field\":\"month\"},\"y\":{\"field\":\"L\"}},\"id\":\"8216\",\"type\":\"Line\"},{\"attributes\":{\"line_alpha\":0.1,\"line_color\":\"green\",\"x\":{\"field\":\"month\"},\"y\":{\"field\":\"W\"}},\"id\":\"8186\",\"type\":\"Line\"},{\"attributes\":{\"source\":{\"id\":\"8152\"}},\"id\":\"8220\",\"type\":\"CDSView\"},{\"attributes\":{\"coordinates\":null,\"formatter\":{\"id\":\"8193\"},\"group\":null,\"major_label_policy\":{\"id\":\"8194\"},\"ticker\":{\"id\":\"8167\"}},\"id\":\"8166\",\"type\":\"LinearAxis\"},{\"attributes\":{\"line_alpha\":0.2,\"line_color\":\"red\",\"x\":{\"field\":\"month\"},\"y\":{\"field\":\"L\"}},\"id\":\"8218\",\"type\":\"Line\"}],\"root_ids\":[\"8153\"]},\"title\":\"Bokeh Application\",\"version\":\"2.4.1\"}};\n  const render_items = [{\"docid\":\"279cdfed-a1bc-4bef-9584-56e727223849\",\"root_ids\":[\"8153\"],\"roots\":{\"8153\":\"fb1521b3-b382-44ca-b4f4-d2b4714b8e83\"}}];\n  root.Bokeh.embed.embed_items_notebook(docs_json, render_items);\n\n  }\n  if (root.Bokeh !== undefined) {\n    embed_document(root);\n  } else {\n    let attempts = 0;\n    const timer = setInterval(function(root) {\n      if (root.Bokeh !== undefined) {\n        clearInterval(timer);\n        embed_document(root);\n      } else {\n        attempts++;\n        if (attempts > 100) {\n          clearInterval(timer);\n          console.log(\"Bokeh: ERROR: Unable to run BokehJS code because BokehJS library is missing\");\n        }\n      }\n    }, 10, root)\n  }\n})(window);",
      "application/vnd.bokehjs_exec.v0+json": ""
     },
     "metadata": {
      "application/vnd.bokehjs_exec.v0+json": {
       "id": "8153"
      }
     },
     "output_type": "display_data"
    }
   ],
   "source": [
    "source = cds(fdf)\n",
    "p = figure(x_axis_type=\"datetime\", height=500, width=500)\n",
    "p.line(source=source, x=\"month\", y=\"W\", color=\"green\", legend=\"Wins\")\n",
    "p.line(source=source, x=\"month\", y=\"L\", color='red', legend=\"Loses\")\n",
    "p.legend.click_policy=\"hide\"\n",
    "p.title.text = \"Anaheim Ducks Performance by Season\"\n",
    "p.title.text_font_size = \"25px\"\n",
    "p.title.align = 'center'\n",
    "show(p)"
   ],
   "metadata": {
    "collapsed": false,
    "pycharm": {
     "name": "#%%\n"
    }
   }
  },
  {
   "cell_type": "code",
   "execution_count": 139,
   "outputs": [
    {
     "data": {
      "text/plain": "    playerID  year tmID    GP    G     A   Pts    SOG\n0  aaltoan01  1997  ANA   3.0  0.0   0.0   0.0    1.0\n1  aaltoan01  1998  ANA  73.0  3.0   5.0   8.0   61.0\n2  aaltoan01  1999  ANA  63.0  7.0  11.0  18.0  102.0\n3  aaltoan01  2000  ANA  12.0  1.0   1.0   2.0   18.0\n4  abdelju01  2007  DET   2.0  0.0   0.0   0.0    6.0",
      "text/html": "<div>\n<style scoped>\n    .dataframe tbody tr th:only-of-type {\n        vertical-align: middle;\n    }\n\n    .dataframe tbody tr th {\n        vertical-align: top;\n    }\n\n    .dataframe thead th {\n        text-align: right;\n    }\n</style>\n<table border=\"1\" class=\"dataframe\">\n  <thead>\n    <tr style=\"text-align: right;\">\n      <th></th>\n      <th>playerID</th>\n      <th>year</th>\n      <th>tmID</th>\n      <th>GP</th>\n      <th>G</th>\n      <th>A</th>\n      <th>Pts</th>\n      <th>SOG</th>\n    </tr>\n  </thead>\n  <tbody>\n    <tr>\n      <th>0</th>\n      <td>aaltoan01</td>\n      <td>1997</td>\n      <td>ANA</td>\n      <td>3.0</td>\n      <td>0.0</td>\n      <td>0.0</td>\n      <td>0.0</td>\n      <td>1.0</td>\n    </tr>\n    <tr>\n      <th>1</th>\n      <td>aaltoan01</td>\n      <td>1998</td>\n      <td>ANA</td>\n      <td>73.0</td>\n      <td>3.0</td>\n      <td>5.0</td>\n      <td>8.0</td>\n      <td>61.0</td>\n    </tr>\n    <tr>\n      <th>2</th>\n      <td>aaltoan01</td>\n      <td>1999</td>\n      <td>ANA</td>\n      <td>63.0</td>\n      <td>7.0</td>\n      <td>11.0</td>\n      <td>18.0</td>\n      <td>102.0</td>\n    </tr>\n    <tr>\n      <th>3</th>\n      <td>aaltoan01</td>\n      <td>2000</td>\n      <td>ANA</td>\n      <td>12.0</td>\n      <td>1.0</td>\n      <td>1.0</td>\n      <td>2.0</td>\n      <td>18.0</td>\n    </tr>\n    <tr>\n      <th>4</th>\n      <td>abdelju01</td>\n      <td>2007</td>\n      <td>DET</td>\n      <td>2.0</td>\n      <td>0.0</td>\n      <td>0.0</td>\n      <td>0.0</td>\n      <td>6.0</td>\n    </tr>\n  </tbody>\n</table>\n</div>"
     },
     "execution_count": 139,
     "metadata": {},
     "output_type": "execute_result"
    }
   ],
   "source": [
    "scoring_copy = scoring.copy()\n",
    "scoring_copy.head()"
   ],
   "metadata": {
    "collapsed": false,
    "pycharm": {
     "name": "#%%\n"
    }
   }
  },
  {
   "cell_type": "code",
   "execution_count": 140,
   "outputs": [
    {
     "data": {
      "text/plain": "           year tmID    GP    G     A   Pts    SOG\nplayerID                                          \naaltoan01  1997  ANA   3.0  0.0   0.0   0.0    1.0\naaltoan01  1998  ANA  73.0  3.0   5.0   8.0   61.0\naaltoan01  1999  ANA  63.0  7.0  11.0  18.0  102.0\naaltoan01  2000  ANA  12.0  1.0   1.0   2.0   18.0\nabdelju01  2007  DET   2.0  0.0   0.0   0.0    6.0",
      "text/html": "<div>\n<style scoped>\n    .dataframe tbody tr th:only-of-type {\n        vertical-align: middle;\n    }\n\n    .dataframe tbody tr th {\n        vertical-align: top;\n    }\n\n    .dataframe thead th {\n        text-align: right;\n    }\n</style>\n<table border=\"1\" class=\"dataframe\">\n  <thead>\n    <tr style=\"text-align: right;\">\n      <th></th>\n      <th>year</th>\n      <th>tmID</th>\n      <th>GP</th>\n      <th>G</th>\n      <th>A</th>\n      <th>Pts</th>\n      <th>SOG</th>\n    </tr>\n    <tr>\n      <th>playerID</th>\n      <th></th>\n      <th></th>\n      <th></th>\n      <th></th>\n      <th></th>\n      <th></th>\n      <th></th>\n    </tr>\n  </thead>\n  <tbody>\n    <tr>\n      <th>aaltoan01</th>\n      <td>1997</td>\n      <td>ANA</td>\n      <td>3.0</td>\n      <td>0.0</td>\n      <td>0.0</td>\n      <td>0.0</td>\n      <td>1.0</td>\n    </tr>\n    <tr>\n      <th>aaltoan01</th>\n      <td>1998</td>\n      <td>ANA</td>\n      <td>73.0</td>\n      <td>3.0</td>\n      <td>5.0</td>\n      <td>8.0</td>\n      <td>61.0</td>\n    </tr>\n    <tr>\n      <th>aaltoan01</th>\n      <td>1999</td>\n      <td>ANA</td>\n      <td>63.0</td>\n      <td>7.0</td>\n      <td>11.0</td>\n      <td>18.0</td>\n      <td>102.0</td>\n    </tr>\n    <tr>\n      <th>aaltoan01</th>\n      <td>2000</td>\n      <td>ANA</td>\n      <td>12.0</td>\n      <td>1.0</td>\n      <td>1.0</td>\n      <td>2.0</td>\n      <td>18.0</td>\n    </tr>\n    <tr>\n      <th>abdelju01</th>\n      <td>2007</td>\n      <td>DET</td>\n      <td>2.0</td>\n      <td>0.0</td>\n      <td>0.0</td>\n      <td>0.0</td>\n      <td>6.0</td>\n    </tr>\n  </tbody>\n</table>\n</div>"
     },
     "execution_count": 140,
     "metadata": {},
     "output_type": "execute_result"
    }
   ],
   "source": [
    "scoring_copy.set_index('playerID', inplace=True)\n",
    "scoring_copy.head()"
   ],
   "metadata": {
    "collapsed": false,
    "pycharm": {
     "name": "#%%\n"
    }
   }
  },
  {
   "cell_type": "code",
   "execution_count": 141,
   "outputs": [
    {
     "data": {
      "text/plain": "           year tmID    GP    Pts  pts_per_game\nplayerID                                       \ngretzwa01  1980  EDM  80.0  164.0       2.05000\ngretzwa01  1981  EDM  80.0  212.0       2.65000\ngretzwa01  1982  EDM  80.0  196.0       2.45000\ngretzwa01  1983  EDM  74.0  205.0       2.77027\ngretzwa01  1984  EDM  80.0  208.0       2.60000",
      "text/html": "<div>\n<style scoped>\n    .dataframe tbody tr th:only-of-type {\n        vertical-align: middle;\n    }\n\n    .dataframe tbody tr th {\n        vertical-align: top;\n    }\n\n    .dataframe thead th {\n        text-align: right;\n    }\n</style>\n<table border=\"1\" class=\"dataframe\">\n  <thead>\n    <tr style=\"text-align: right;\">\n      <th></th>\n      <th>year</th>\n      <th>tmID</th>\n      <th>GP</th>\n      <th>Pts</th>\n      <th>pts_per_game</th>\n    </tr>\n    <tr>\n      <th>playerID</th>\n      <th></th>\n      <th></th>\n      <th></th>\n      <th></th>\n      <th></th>\n    </tr>\n  </thead>\n  <tbody>\n    <tr>\n      <th>gretzwa01</th>\n      <td>1980</td>\n      <td>EDM</td>\n      <td>80.0</td>\n      <td>164.0</td>\n      <td>2.05000</td>\n    </tr>\n    <tr>\n      <th>gretzwa01</th>\n      <td>1981</td>\n      <td>EDM</td>\n      <td>80.0</td>\n      <td>212.0</td>\n      <td>2.65000</td>\n    </tr>\n    <tr>\n      <th>gretzwa01</th>\n      <td>1982</td>\n      <td>EDM</td>\n      <td>80.0</td>\n      <td>196.0</td>\n      <td>2.45000</td>\n    </tr>\n    <tr>\n      <th>gretzwa01</th>\n      <td>1983</td>\n      <td>EDM</td>\n      <td>74.0</td>\n      <td>205.0</td>\n      <td>2.77027</td>\n    </tr>\n    <tr>\n      <th>gretzwa01</th>\n      <td>1984</td>\n      <td>EDM</td>\n      <td>80.0</td>\n      <td>208.0</td>\n      <td>2.60000</td>\n    </tr>\n  </tbody>\n</table>\n</div>"
     },
     "execution_count": 141,
     "metadata": {},
     "output_type": "execute_result"
    }
   ],
   "source": [
    "wayne = scoring_copy.loc['gretzwa01']\n",
    "wayne = wayne[['year', 'tmID', 'GP', 'Pts']]\n",
    "wayne = wayne.assign(pts_per_game = lambda x: x['Pts'] / x['GP'])\n",
    "wayne.head()\n"
   ],
   "metadata": {
    "collapsed": false,
    "pycharm": {
     "name": "#%%\n"
    }
   }
  },
  {
   "cell_type": "code",
   "execution_count": 142,
   "outputs": [
    {
     "data": {
      "text/plain": "playerID\ngretzwa01    EDM\ngretzwa01    EDM\ngretzwa01    EDM\ngretzwa01    EDM\ngretzwa01    EDM\nName: tmID, dtype: category\nCategories (37, object): ['ANA', 'AND', 'ATL', 'BOS', ..., 'VAN', 'WAS', 'WIN', 'WPG']"
     },
     "execution_count": 142,
     "metadata": {},
     "output_type": "execute_result"
    }
   ],
   "source": [
    "wayne.tmID.head()\n"
   ],
   "metadata": {
    "collapsed": false,
    "pycharm": {
     "name": "#%%\n"
    }
   }
  },
  {
   "cell_type": "code",
   "execution_count": 143,
   "outputs": [
    {
     "data": {
      "text/plain": "playerID\ngretzwa01    EDM\ngretzwa01    EDM\ngretzwa01    EDM\ngretzwa01    EDM\ngretzwa01    EDM\nName: tmID, dtype: category\nCategories (4, object): ['EDM', 'LAK', 'NYR', 'STL']"
     },
     "execution_count": 143,
     "metadata": {},
     "output_type": "execute_result"
    }
   ],
   "source": [
    "wayne.loc[:, 'tmID'] = wayne.tmID.cat.remove_unused_categories()\n",
    "wayne.tmID.head()"
   ],
   "metadata": {
    "collapsed": false,
    "pycharm": {
     "name": "#%%\n"
    }
   }
  },
  {
   "cell_type": "code",
   "execution_count": 144,
   "outputs": [
    {
     "data": {
      "text/plain": "           year tmID    GP    Pts  pts_per_game  tmCode\nplayerID                                               \ngretzwa01  1990  LAK  78.0  163.0      2.089744       1\ngretzwa01  1982  EDM  80.0  196.0      2.450000       0\ngretzwa01  1988  LAK  78.0  168.0      2.153846       1\ngretzwa01  1996  NYR  82.0   97.0      1.182927       2\ngretzwa01  1995  LAK  62.0   81.0      1.306452       1",
      "text/html": "<div>\n<style scoped>\n    .dataframe tbody tr th:only-of-type {\n        vertical-align: middle;\n    }\n\n    .dataframe tbody tr th {\n        vertical-align: top;\n    }\n\n    .dataframe thead th {\n        text-align: right;\n    }\n</style>\n<table border=\"1\" class=\"dataframe\">\n  <thead>\n    <tr style=\"text-align: right;\">\n      <th></th>\n      <th>year</th>\n      <th>tmID</th>\n      <th>GP</th>\n      <th>Pts</th>\n      <th>pts_per_game</th>\n      <th>tmCode</th>\n    </tr>\n    <tr>\n      <th>playerID</th>\n      <th></th>\n      <th></th>\n      <th></th>\n      <th></th>\n      <th></th>\n      <th></th>\n    </tr>\n  </thead>\n  <tbody>\n    <tr>\n      <th>gretzwa01</th>\n      <td>1990</td>\n      <td>LAK</td>\n      <td>78.0</td>\n      <td>163.0</td>\n      <td>2.089744</td>\n      <td>1</td>\n    </tr>\n    <tr>\n      <th>gretzwa01</th>\n      <td>1982</td>\n      <td>EDM</td>\n      <td>80.0</td>\n      <td>196.0</td>\n      <td>2.450000</td>\n      <td>0</td>\n    </tr>\n    <tr>\n      <th>gretzwa01</th>\n      <td>1988</td>\n      <td>LAK</td>\n      <td>78.0</td>\n      <td>168.0</td>\n      <td>2.153846</td>\n      <td>1</td>\n    </tr>\n    <tr>\n      <th>gretzwa01</th>\n      <td>1996</td>\n      <td>NYR</td>\n      <td>82.0</td>\n      <td>97.0</td>\n      <td>1.182927</td>\n      <td>2</td>\n    </tr>\n    <tr>\n      <th>gretzwa01</th>\n      <td>1995</td>\n      <td>LAK</td>\n      <td>62.0</td>\n      <td>81.0</td>\n      <td>1.306452</td>\n      <td>1</td>\n    </tr>\n  </tbody>\n</table>\n</div>"
     },
     "execution_count": 144,
     "metadata": {},
     "output_type": "execute_result"
    }
   ],
   "source": [
    "wayne.loc[:, 'tmCode'] = wayne['tmID'].cat.codes\n",
    "wayne.sample(5)\n"
   ],
   "metadata": {
    "collapsed": false,
    "pycharm": {
     "name": "#%%\n"
    }
   }
  },
  {
   "cell_type": "code",
   "execution_count": 145,
   "outputs": [
    {
     "data": {
      "text/plain": "           year tmID    GP    Pts  pts_per_game  tmCode\nplayerID                                               \ngretzwa01  1981  EDM  80.0  212.0      2.650000       0\ngretzwa01  1993  LAK  81.0  130.0      1.604938       1\ngretzwa01  1980  EDM  80.0  164.0      2.050000       0\ngretzwa01  1991  LAK  74.0  121.0      1.635135       1\ngretzwa01  1985  EDM  80.0  215.0      2.687500       0",
      "text/html": "<div>\n<style scoped>\n    .dataframe tbody tr th:only-of-type {\n        vertical-align: middle;\n    }\n\n    .dataframe tbody tr th {\n        vertical-align: top;\n    }\n\n    .dataframe thead th {\n        text-align: right;\n    }\n</style>\n<table border=\"1\" class=\"dataframe\">\n  <thead>\n    <tr style=\"text-align: right;\">\n      <th></th>\n      <th>year</th>\n      <th>tmID</th>\n      <th>GP</th>\n      <th>Pts</th>\n      <th>pts_per_game</th>\n      <th>tmCode</th>\n    </tr>\n    <tr>\n      <th>playerID</th>\n      <th></th>\n      <th></th>\n      <th></th>\n      <th></th>\n      <th></th>\n      <th></th>\n    </tr>\n  </thead>\n  <tbody>\n    <tr>\n      <th>gretzwa01</th>\n      <td>1981</td>\n      <td>EDM</td>\n      <td>80.0</td>\n      <td>212.0</td>\n      <td>2.650000</td>\n      <td>0</td>\n    </tr>\n    <tr>\n      <th>gretzwa01</th>\n      <td>1993</td>\n      <td>LAK</td>\n      <td>81.0</td>\n      <td>130.0</td>\n      <td>1.604938</td>\n      <td>1</td>\n    </tr>\n    <tr>\n      <th>gretzwa01</th>\n      <td>1980</td>\n      <td>EDM</td>\n      <td>80.0</td>\n      <td>164.0</td>\n      <td>2.050000</td>\n      <td>0</td>\n    </tr>\n    <tr>\n      <th>gretzwa01</th>\n      <td>1991</td>\n      <td>LAK</td>\n      <td>74.0</td>\n      <td>121.0</td>\n      <td>1.635135</td>\n      <td>1</td>\n    </tr>\n    <tr>\n      <th>gretzwa01</th>\n      <td>1985</td>\n      <td>EDM</td>\n      <td>80.0</td>\n      <td>215.0</td>\n      <td>2.687500</td>\n      <td>0</td>\n    </tr>\n  </tbody>\n</table>\n</div>"
     },
     "execution_count": 145,
     "metadata": {},
     "output_type": "execute_result"
    }
   ],
   "source": [
    "wayne.sample(5)\n"
   ],
   "metadata": {
    "collapsed": false,
    "pycharm": {
     "name": "#%%\n"
    }
   }
  },
  {
   "cell_type": "code",
   "execution_count": 146,
   "outputs": [],
   "source": [
    "wayne.loc[:, 'year'] = pd.to_datetime(wayne.year, format=\"%Y\")\n"
   ],
   "metadata": {
    "collapsed": false,
    "pycharm": {
     "name": "#%%\n"
    }
   }
  },
  {
   "cell_type": "code",
   "execution_count": 147,
   "outputs": [],
   "source": [
    "gp_max = wayne.GP.max()\n",
    "gp_min = wayne.GP.min()\n",
    "pts_per_game_max = wayne.pts_per_game.max()\n",
    "pts_per_game_min = wayne.pts_per_game.min()\n"
   ],
   "metadata": {
    "collapsed": false,
    "pycharm": {
     "name": "#%%\n"
    }
   }
  },
  {
   "cell_type": "code",
   "execution_count": 148,
   "outputs": [
    {
     "data": {
      "text/plain": "                year tmID    GP    Pts  pts_per_game  tmCode    height  \\\nplayerID                                                                 \ngretzwa01 1980-01-01  EDM  80.0  164.0       2.05000       0  0.975610   \ngretzwa01 1981-01-01  EDM  80.0  212.0       2.65000       0  0.975610   \ngretzwa01 1982-01-01  EDM  80.0  196.0       2.45000       0  0.975610   \ngretzwa01 1983-01-01  EDM  74.0  205.0       2.77027       0  0.902439   \ngretzwa01 1984-01-01  EDM  80.0  208.0       2.60000       0  0.975610   \n\n           bottom       top  \nplayerID                     \ngretzwa01       0  0.975610  \ngretzwa01       0  0.975610  \ngretzwa01       0  0.975610  \ngretzwa01       0  0.902439  \ngretzwa01       0  0.975610  ",
      "text/html": "<div>\n<style scoped>\n    .dataframe tbody tr th:only-of-type {\n        vertical-align: middle;\n    }\n\n    .dataframe tbody tr th {\n        vertical-align: top;\n    }\n\n    .dataframe thead th {\n        text-align: right;\n    }\n</style>\n<table border=\"1\" class=\"dataframe\">\n  <thead>\n    <tr style=\"text-align: right;\">\n      <th></th>\n      <th>year</th>\n      <th>tmID</th>\n      <th>GP</th>\n      <th>Pts</th>\n      <th>pts_per_game</th>\n      <th>tmCode</th>\n      <th>height</th>\n      <th>bottom</th>\n      <th>top</th>\n    </tr>\n    <tr>\n      <th>playerID</th>\n      <th></th>\n      <th></th>\n      <th></th>\n      <th></th>\n      <th></th>\n      <th></th>\n      <th></th>\n      <th></th>\n      <th></th>\n    </tr>\n  </thead>\n  <tbody>\n    <tr>\n      <th>gretzwa01</th>\n      <td>1980-01-01</td>\n      <td>EDM</td>\n      <td>80.0</td>\n      <td>164.0</td>\n      <td>2.05000</td>\n      <td>0</td>\n      <td>0.975610</td>\n      <td>0</td>\n      <td>0.975610</td>\n    </tr>\n    <tr>\n      <th>gretzwa01</th>\n      <td>1981-01-01</td>\n      <td>EDM</td>\n      <td>80.0</td>\n      <td>212.0</td>\n      <td>2.65000</td>\n      <td>0</td>\n      <td>0.975610</td>\n      <td>0</td>\n      <td>0.975610</td>\n    </tr>\n    <tr>\n      <th>gretzwa01</th>\n      <td>1982-01-01</td>\n      <td>EDM</td>\n      <td>80.0</td>\n      <td>196.0</td>\n      <td>2.45000</td>\n      <td>0</td>\n      <td>0.975610</td>\n      <td>0</td>\n      <td>0.975610</td>\n    </tr>\n    <tr>\n      <th>gretzwa01</th>\n      <td>1983-01-01</td>\n      <td>EDM</td>\n      <td>74.0</td>\n      <td>205.0</td>\n      <td>2.77027</td>\n      <td>0</td>\n      <td>0.902439</td>\n      <td>0</td>\n      <td>0.902439</td>\n    </tr>\n    <tr>\n      <th>gretzwa01</th>\n      <td>1984-01-01</td>\n      <td>EDM</td>\n      <td>80.0</td>\n      <td>208.0</td>\n      <td>2.60000</td>\n      <td>0</td>\n      <td>0.975610</td>\n      <td>0</td>\n      <td>0.975610</td>\n    </tr>\n  </tbody>\n</table>\n</div>"
     },
     "execution_count": 148,
     "metadata": {},
     "output_type": "execute_result"
    }
   ],
   "source": [
    "wayne.loc[:, 'height'] = wayne.GP / gp_max\n",
    "wayne.loc[:, 'bottom'] = wayne.tmCode\n",
    "wayne.loc[:, 'top'] = wayne.bottom + wayne.height\n",
    "wayne.head()\n"
   ],
   "metadata": {
    "collapsed": false,
    "pycharm": {
     "name": "#%%\n"
    }
   }
  },
  {
   "cell_type": "code",
   "execution_count": 149,
   "outputs": [
    {
     "data": {
      "text/html": "\n\n\n\n\n\n  <div class=\"bk-root\" id=\"458948df-14d7-4dfb-a58a-c76b2f0ab77f\" data-root-id=\"8801\"></div>\n"
     },
     "metadata": {},
     "output_type": "display_data"
    },
    {
     "data": {
      "application/javascript": "(function(root) {\n  function embed_document(root) {\n    \n  const docs_json = {\"63bf50f2-ea22-4597-9d96-c7dc54d0c29d\":{\"defs\":[],\"roots\":{\"references\":[{\"attributes\":{\"below\":[{\"id\":\"8810\"}],\"center\":[{\"id\":\"8813\"},{\"id\":\"8816\"}],\"height\":500,\"left\":[{\"id\":\"8814\"}],\"renderers\":[{\"id\":\"8835\"}],\"title\":{\"id\":\"9274\"},\"toolbar\":{\"id\":\"8824\"},\"width\":500,\"x_range\":{\"id\":\"8802\"},\"x_scale\":{\"id\":\"8806\"},\"y_range\":{\"id\":\"8804\"},\"y_scale\":{\"id\":\"8808\"}},\"id\":\"8801\",\"subtype\":\"Figure\",\"type\":\"Plot\"},{\"attributes\":{\"days\":[1,15]},\"id\":\"9291\",\"type\":\"DaysTicker\"},{\"attributes\":{\"months\":[0,1,2,3,4,5,6,7,8,9,10,11]},\"id\":\"9292\",\"type\":\"MonthsTicker\"},{\"attributes\":{},\"id\":\"9296\",\"type\":\"YearsTicker\"},{\"attributes\":{\"months\":[0,6]},\"id\":\"9295\",\"type\":\"MonthsTicker\"},{\"attributes\":{},\"id\":\"9282\",\"type\":\"UnionRenderers\"},{\"attributes\":{\"months\":[0,2,4,6,8,10]},\"id\":\"9293\",\"type\":\"MonthsTicker\"},{\"attributes\":{},\"id\":\"8821\",\"type\":\"ResetTool\"},{\"attributes\":{\"bottom\":{\"field\":\"bottom\"},\"fill_alpha\":{\"value\":0.2},\"fill_color\":{\"value\":\"#1f77b4\"},\"hatch_alpha\":{\"value\":0.2},\"line_alpha\":{\"value\":0.2},\"line_color\":{\"value\":\"#1f77b4\"},\"top\":{\"field\":\"top\"},\"x\":{\"field\":\"year\"}},\"id\":\"8834\",\"type\":\"VBar\"},{\"attributes\":{\"coordinates\":null,\"data_source\":{\"id\":\"8800\"},\"glyph\":{\"id\":\"8832\"},\"group\":null,\"hover_glyph\":null,\"muted_glyph\":{\"id\":\"8834\"},\"nonselection_glyph\":{\"id\":\"8833\"},\"view\":{\"id\":\"8836\"}},\"id\":\"8835\",\"type\":\"GlyphRenderer\"},{\"attributes\":{},\"id\":\"9283\",\"type\":\"Selection\"},{\"attributes\":{\"months\":[0,4,8]},\"id\":\"9294\",\"type\":\"MonthsTicker\"},{\"attributes\":{},\"id\":\"8818\",\"type\":\"WheelZoomTool\"},{\"attributes\":{\"axis\":{\"id\":\"8810\"},\"coordinates\":null,\"group\":null,\"ticker\":null},\"id\":\"8813\",\"type\":\"Grid\"},{\"attributes\":{},\"id\":\"8822\",\"type\":\"HelpTool\"},{\"attributes\":{},\"id\":\"8802\",\"type\":\"DataRange1d\"},{\"attributes\":{\"coordinates\":null,\"group\":null},\"id\":\"9274\",\"type\":\"Title\"},{\"attributes\":{\"factors\":[\"EDM\",\"LAK\",\"NYR\",\"STL\"]},\"id\":\"8804\",\"type\":\"FactorRange\"},{\"attributes\":{},\"id\":\"8806\",\"type\":\"LinearScale\"},{\"attributes\":{\"bottom\":{\"field\":\"bottom\"},\"fill_alpha\":{\"value\":0.1},\"fill_color\":{\"value\":\"#1f77b4\"},\"hatch_alpha\":{\"value\":0.1},\"line_alpha\":{\"value\":0.1},\"line_color\":{\"value\":\"#1f77b4\"},\"top\":{\"field\":\"top\"},\"x\":{\"field\":\"year\"}},\"id\":\"8833\",\"type\":\"VBar\"},{\"attributes\":{\"tools\":[{\"id\":\"8817\"},{\"id\":\"8818\"},{\"id\":\"8819\"},{\"id\":\"8820\"},{\"id\":\"8821\"},{\"id\":\"8822\"}]},\"id\":\"8824\",\"type\":\"Toolbar\"},{\"attributes\":{\"coordinates\":null,\"formatter\":{\"id\":\"9280\"},\"group\":null,\"major_label_policy\":{\"id\":\"9281\"},\"major_label_text_font_size\":\"12pt\",\"ticker\":{\"id\":\"8811\"}},\"id\":\"8810\",\"type\":\"DatetimeAxis\"},{\"attributes\":{},\"id\":\"8808\",\"type\":\"CategoricalScale\"},{\"attributes\":{\"overlay\":{\"id\":\"8823\"}},\"id\":\"8819\",\"type\":\"BoxZoomTool\"},{\"attributes\":{},\"id\":\"9277\",\"type\":\"CategoricalTickFormatter\"},{\"attributes\":{},\"id\":\"9278\",\"type\":\"AllLabels\"},{\"attributes\":{\"coordinates\":null,\"formatter\":{\"id\":\"9277\"},\"group\":null,\"major_label_policy\":{\"id\":\"9278\"},\"major_label_text_font_size\":\"12pt\",\"ticker\":{\"id\":\"8815\"}},\"id\":\"8814\",\"type\":\"CategoricalAxis\"},{\"attributes\":{\"source\":{\"id\":\"8800\"}},\"id\":\"8836\",\"type\":\"CDSView\"},{\"attributes\":{},\"id\":\"9280\",\"type\":\"DatetimeTickFormatter\"},{\"attributes\":{\"num_minor_ticks\":5,\"tickers\":[{\"id\":\"9285\"},{\"id\":\"9286\"},{\"id\":\"9287\"},{\"id\":\"9288\"},{\"id\":\"9289\"},{\"id\":\"9290\"},{\"id\":\"9291\"},{\"id\":\"9292\"},{\"id\":\"9293\"},{\"id\":\"9294\"},{\"id\":\"9295\"},{\"id\":\"9296\"}]},\"id\":\"8811\",\"type\":\"DatetimeTicker\"},{\"attributes\":{\"mantissas\":[1,2,5],\"max_interval\":500.0,\"num_minor_ticks\":0},\"id\":\"9285\",\"type\":\"AdaptiveTicker\"},{\"attributes\":{},\"id\":\"8815\",\"type\":\"CategoricalTicker\"},{\"attributes\":{},\"id\":\"9281\",\"type\":\"AllLabels\"},{\"attributes\":{\"base\":60,\"mantissas\":[1,2,5,10,15,20,30],\"max_interval\":1800000.0,\"min_interval\":1000.0,\"num_minor_ticks\":0},\"id\":\"9286\",\"type\":\"AdaptiveTicker\"},{\"attributes\":{},\"id\":\"8817\",\"type\":\"PanTool\"},{\"attributes\":{\"base\":24,\"mantissas\":[1,2,4,6,8,12],\"max_interval\":43200000.0,\"min_interval\":3600000.0,\"num_minor_ticks\":0},\"id\":\"9287\",\"type\":\"AdaptiveTicker\"},{\"attributes\":{\"days\":[1,4,7,10,13,16,19,22,25,28]},\"id\":\"9289\",\"type\":\"DaysTicker\"},{\"attributes\":{\"data\":{\"GP\":{\"__ndarray__\":\"AAAAAAAAVEAAAAAAAABUQAAAAAAAAFRAAAAAAACAUkAAAAAAAABUQAAAAAAAAFRAAAAAAADAU0AAAAAAAABQQAAAAAAAgFNAAAAAAABAUkAAAAAAAIBTQAAAAAAAgFJAAAAAAACARkAAAAAAAEBUQAAAAAAAAEhAAAAAAAAAT0AAAAAAAAAyQAAAAAAAgFRAAAAAAACAVEAAAAAAAIBRQA==\",\"dtype\":\"float64\",\"order\":\"little\",\"shape\":[20]},\"Pts\":{\"__ndarray__\":\"AAAAAACAZEAAAAAAAIBqQAAAAAAAgGhAAAAAAACgaUAAAAAAAABqQAAAAAAA4GpAAAAAAADgZkAAAAAAAKBiQAAAAAAAAGVAAAAAAADAYUAAAAAAAGBkQAAAAAAAQF5AAAAAAABAUEAAAAAAAEBgQAAAAAAAAEhAAAAAAABAVEAAAAAAAAA1QAAAAAAAQFhAAAAAAACAVkAAAAAAAABPQA==\",\"dtype\":\"float64\",\"order\":\"little\",\"shape\":[20]},\"bottom\":{\"__ndarray__\":\"AAAAAAAAAAABAQEBAQEBAQMCAgI=\",\"dtype\":\"int8\",\"order\":\"little\",\"shape\":[20]},\"height\":{\"__ndarray__\":\"OB+D8zE47z84H4PzMTjvPzgfg/MxOO8/4XwMzsfg7D84H4PzMTjvPzgfg/MxOO8/1K5E7UrU7j/6GJyPwfnoP3A+BudjcO4/fQzOx+B87D9wPgbnY3DuP+F8DM7H4Ow/kMH5GJyP4T+cj8H5GJzvP7sStStRu+I/Mjgfg/Mx6D8ZnI/B+RjMPwAAAAAAAPA/AAAAAAAA8D9RuxK1K1HrPw==\",\"dtype\":\"float64\",\"order\":\"little\",\"shape\":[20]},\"playerID\":[\"gretzwa01\",\"gretzwa01\",\"gretzwa01\",\"gretzwa01\",\"gretzwa01\",\"gretzwa01\",\"gretzwa01\",\"gretzwa01\",\"gretzwa01\",\"gretzwa01\",\"gretzwa01\",\"gretzwa01\",\"gretzwa01\",\"gretzwa01\",\"gretzwa01\",\"gretzwa01\",\"gretzwa01\",\"gretzwa01\",\"gretzwa01\",\"gretzwa01\"],\"pts_per_game\":{\"__ndarray__\":\"ZmZmZmZmAEAzMzMzMzMFQJqZmZmZmQNAmCKfdYMpBkDNzMzMzMwEQAAAAAAAgAVAEJWO7BmIAkAAAAAAAKACQLETO7ETOwFA+fHjx48f/z99y7d8y7cAQJgin3WDKfo/x3Ecx3Ec9z+IRcrA0635PwAAAAAAAPA/55xzzjnn9D+rqqqqqqryP+1K1K5E7fI/kMH5GJyP8T98xVd8xVfsPw==\",\"dtype\":\"float64\",\"order\":\"little\",\"shape\":[20]},\"tmCode\":{\"__ndarray__\":\"AAAAAAAAAAABAQEBAQEBAQMCAgI=\",\"dtype\":\"int8\",\"order\":\"little\",\"shape\":[20]},\"tmID\":[\"EDM\",\"EDM\",\"EDM\",\"EDM\",\"EDM\",\"EDM\",\"EDM\",\"EDM\",\"LAK\",\"LAK\",\"LAK\",\"LAK\",\"LAK\",\"LAK\",\"LAK\",\"LAK\",\"STL\",\"NYR\",\"NYR\",\"NYR\"],\"top\":{\"__ndarray__\":\"OB+D8zE47z84H4PzMTjvPzgfg/MxOO8/4XwMzsfg7D84H4PzMTjvPzgfg/MxOO8/1K5E7UrU7j/6GJyPwfnoPzgfg/MxOP8/PgbnY3A+/j84H4PzMTj/P3A+BudjcP4/yOB8DM7H+D/Ox+B8DM7/P16J2pWoXfk/GZyPwfkY/D/C+Ricj8EJQAAAAAAAAAhAAAAAAAAACEDUrkTtStQGQA==\",\"dtype\":\"float64\",\"order\":\"little\",\"shape\":[20]},\"year\":{\"__ndarray__\":\"AAAAHM5dUkIAAAD+AzVUQgAAAEnwClZCAAAAlNzgV0IAAADfyLZZQgAAAMH+jVtCAAAADOtjXUIAAABX1zlfQgAAANHhh2BCAAAAwnxzYUIAAIDncl5iQgAAAA1pSWNCAACAMl80ZEIAAIAj+h9lQgAAAEnwCmZCAACAbub1ZkIAAIBu5vVmQgAAAJTc4GdCAAAAhXfMaEIAAICqbbdpQg==\",\"dtype\":\"float64\",\"order\":\"little\",\"shape\":[20]}},\"selected\":{\"id\":\"9283\"},\"selection_policy\":{\"id\":\"9282\"}},\"id\":\"8800\",\"type\":\"ColumnDataSource\"},{\"attributes\":{},\"id\":\"8820\",\"type\":\"SaveTool\"},{\"attributes\":{\"bottom_units\":\"screen\",\"coordinates\":null,\"fill_alpha\":0.5,\"fill_color\":\"lightgrey\",\"group\":null,\"left_units\":\"screen\",\"level\":\"overlay\",\"line_alpha\":1.0,\"line_color\":\"black\",\"line_dash\":[4,4],\"line_width\":2,\"right_units\":\"screen\",\"syncable\":false,\"top_units\":\"screen\"},\"id\":\"8823\",\"type\":\"BoxAnnotation\"},{\"attributes\":{\"days\":[1,2,3,4,5,6,7,8,9,10,11,12,13,14,15,16,17,18,19,20,21,22,23,24,25,26,27,28,29,30,31]},\"id\":\"9288\",\"type\":\"DaysTicker\"},{\"attributes\":{\"bottom\":{\"field\":\"bottom\"},\"fill_color\":{\"value\":\"#1f77b4\"},\"line_color\":{\"value\":\"#1f77b4\"},\"top\":{\"field\":\"top\"},\"x\":{\"field\":\"year\"}},\"id\":\"8832\",\"type\":\"VBar\"},{\"attributes\":{\"days\":[1,8,15,22]},\"id\":\"9290\",\"type\":\"DaysTicker\"},{\"attributes\":{\"axis\":{\"id\":\"8814\"},\"coordinates\":null,\"dimension\":1,\"group\":null,\"ticker\":null},\"id\":\"8816\",\"type\":\"Grid\"}],\"root_ids\":[\"8801\"]},\"title\":\"Bokeh Application\",\"version\":\"2.4.1\"}};\n  const render_items = [{\"docid\":\"63bf50f2-ea22-4597-9d96-c7dc54d0c29d\",\"root_ids\":[\"8801\"],\"roots\":{\"8801\":\"458948df-14d7-4dfb-a58a-c76b2f0ab77f\"}}];\n  root.Bokeh.embed.embed_items_notebook(docs_json, render_items);\n\n  }\n  if (root.Bokeh !== undefined) {\n    embed_document(root);\n  } else {\n    let attempts = 0;\n    const timer = setInterval(function(root) {\n      if (root.Bokeh !== undefined) {\n        clearInterval(timer);\n        embed_document(root);\n      } else {\n        attempts++;\n        if (attempts > 100) {\n          clearInterval(timer);\n          console.log(\"Bokeh: ERROR: Unable to run BokehJS code because BokehJS library is missing\");\n        }\n      }\n    }, 10, root)\n  }\n})(window);",
      "application/vnd.bokehjs_exec.v0+json": ""
     },
     "metadata": {
      "application/vnd.bokehjs_exec.v0+json": {
       "id": "8801"
      }
     },
     "output_type": "display_data"
    }
   ],
   "source": [
    "src = cds(wayne)\n",
    "p = figure(x_axis_type='datetime',\n",
    "           height =500, width = 500,\n",
    "           y_range=list(wayne.tmID.cat.categories)\n",
    "           )\n",
    "p.vbar(bottom='bottom',\n",
    "       top='top', x=\"year\",\n",
    "       width=1, source=src\n",
    "       )\n",
    "p.xaxis.major_label_text_font_size = \"12pt\"\n",
    "p.yaxis.major_label_text_font_size = \"12pt\"\n",
    "\n",
    "show(p)\n"
   ],
   "metadata": {
    "collapsed": false,
    "pycharm": {
     "name": "#%%\n"
    }
   }
  },
  {
   "cell_type": "code",
   "execution_count": 190,
   "outputs": [
    {
     "data": {
      "text/plain": "['EDM', 'LAK', 'STL', 'NYR']\nCategories (4, object): ['EDM', 'LAK', 'NYR', 'STL']"
     },
     "execution_count": 190,
     "metadata": {},
     "output_type": "execute_result"
    }
   ],
   "source": [
    "reordered = wayne.sort_values('year').tmID.unique()\n",
    "reordered\n"
   ],
   "metadata": {
    "collapsed": false,
    "pycharm": {
     "name": "#%%\n"
    }
   }
  },
  {
   "cell_type": "code",
   "execution_count": 204,
   "outputs": [
    {
     "data": {
      "text/plain": "playerID\ngretzwa01    EDM\ngretzwa01    EDM\ngretzwa01    EDM\ngretzwa01    EDM\ngretzwa01    EDM\ngretzwa01    EDM\ngretzwa01    EDM\ngretzwa01    EDM\ngretzwa01    LAK\ngretzwa01    LAK\ngretzwa01    LAK\ngretzwa01    LAK\ngretzwa01    LAK\ngretzwa01    LAK\ngretzwa01    LAK\ngretzwa01    LAK\ngretzwa01    STL\ngretzwa01    NYR\ngretzwa01    NYR\ngretzwa01    NYR\nName: tmID, dtype: category\nCategories (4, object): ['EDM', 'LAK', 'STL', 'NYR']"
     },
     "execution_count": 204,
     "metadata": {},
     "output_type": "execute_result"
    }
   ],
   "source": [
    "wayne.tmID.cat.reorder_categories(list(reordered), ordered=False)"
   ],
   "metadata": {
    "collapsed": false,
    "pycharm": {
     "name": "#%%\n"
    }
   }
  },
  {
   "cell_type": "code",
   "execution_count": 205,
   "outputs": [],
   "source": [
    "wayne.loc[:, 'tmID'] = wayne.tmID.cat.reorder_categories(list(reordered), ordered=False)\n",
    "wayne.loc[:, 'tmCode'] = wayne.tmID.cat.codes\n",
    "wayne.loc[:, 'bottom'] = wayne.tmCode\n",
    "wayne.loc[:, 'top'] = wayne.bottom + wayne.height\n"
   ],
   "metadata": {
    "collapsed": false,
    "pycharm": {
     "name": "#%%\n"
    }
   }
  },
  {
   "cell_type": "code",
   "execution_count": 209,
   "outputs": [
    {
     "data": {
      "text/plain": "playerID\ngretzwa01    0\ngretzwa01    0\ngretzwa01    0\ngretzwa01    0\ngretzwa01    0\ngretzwa01    0\ngretzwa01    0\ngretzwa01    0\ngretzwa01    1\ngretzwa01    1\ngretzwa01    1\ngretzwa01    1\ngretzwa01    1\ngretzwa01    1\ngretzwa01    1\ngretzwa01    1\ngretzwa01    2\ngretzwa01    3\ngretzwa01    3\ngretzwa01    3\ndtype: int8"
     },
     "execution_count": 209,
     "metadata": {},
     "output_type": "execute_result"
    }
   ],
   "source": [
    "wayne.tmID.cat.codes"
   ],
   "metadata": {
    "collapsed": false,
    "pycharm": {
     "name": "#%%\n"
    }
   }
  },
  {
   "cell_type": "code",
   "execution_count": 206,
   "outputs": [],
   "source": [
    "width = 320 * 24 * 60 * 60 * 1000\n"
   ],
   "metadata": {
    "collapsed": false,
    "pycharm": {
     "name": "#%%\n"
    }
   }
  },
  {
   "cell_type": "code",
   "execution_count": 207,
   "outputs": [
    {
     "data": {
      "text/plain": "['EDM', 'LAK', 'STL', 'NYR']"
     },
     "execution_count": 207,
     "metadata": {},
     "output_type": "execute_result"
    }
   ],
   "source": [
    "# reordered\n",
    "list(wayne.tmID.cat.categories)\n",
    "# list(reordered)\n"
   ],
   "metadata": {
    "collapsed": false,
    "pycharm": {
     "name": "#%%\n"
    }
   }
  },
  {
   "cell_type": "code",
   "execution_count": 208,
   "outputs": [
    {
     "data": {
      "text/html": "\n\n\n\n\n\n  <div class=\"bk-root\" id=\"7df99008-98fb-4abf-825b-c530cdd26799\" data-root-id=\"11387\"></div>\n"
     },
     "metadata": {},
     "output_type": "display_data"
    },
    {
     "data": {
      "application/javascript": "(function(root) {\n  function embed_document(root) {\n    \n  const docs_json = {\"07c98aca-5159-4c47-a118-dd028d9f7e8a\":{\"defs\":[],\"roots\":{\"references\":[{\"attributes\":{\"below\":[{\"id\":\"11396\"}],\"center\":[{\"id\":\"11399\"},{\"id\":\"11402\"}],\"height\":500,\"left\":[{\"id\":\"11400\"}],\"renderers\":[{\"id\":\"11421\"}],\"title\":{\"id\":\"11952\"},\"toolbar\":{\"id\":\"11410\"},\"width\":500,\"x_range\":{\"id\":\"11388\"},\"x_scale\":{\"id\":\"11392\"},\"y_range\":{\"id\":\"11390\"},\"y_scale\":{\"id\":\"11394\"}},\"id\":\"11387\",\"subtype\":\"Figure\",\"type\":\"Plot\"},{\"attributes\":{\"bottom\":{\"field\":\"bottom\"},\"fill_color\":{\"value\":\"#1f77b4\"},\"line_color\":{\"value\":\"#1f77b4\"},\"top\":{\"field\":\"top\"},\"width\":{\"value\":27648000000},\"x\":{\"field\":\"year\"}},\"id\":\"11418\",\"type\":\"VBar\"},{\"attributes\":{\"data\":{\"GP\":{\"__ndarray__\":\"AAAAAAAAVEAAAAAAAABUQAAAAAAAAFRAAAAAAACAUkAAAAAAAABUQAAAAAAAAFRAAAAAAADAU0AAAAAAAABQQAAAAAAAgFNAAAAAAABAUkAAAAAAAIBTQAAAAAAAgFJAAAAAAACARkAAAAAAAEBUQAAAAAAAAEhAAAAAAAAAT0AAAAAAAAAyQAAAAAAAgFRAAAAAAACAVEAAAAAAAIBRQA==\",\"dtype\":\"float64\",\"order\":\"little\",\"shape\":[20]},\"Pts\":{\"__ndarray__\":\"AAAAAACAZEAAAAAAAIBqQAAAAAAAgGhAAAAAAACgaUAAAAAAAABqQAAAAAAA4GpAAAAAAADgZkAAAAAAAKBiQAAAAAAAAGVAAAAAAADAYUAAAAAAAGBkQAAAAAAAQF5AAAAAAABAUEAAAAAAAEBgQAAAAAAAAEhAAAAAAABAVEAAAAAAAAA1QAAAAAAAQFhAAAAAAACAVkAAAAAAAABPQA==\",\"dtype\":\"float64\",\"order\":\"little\",\"shape\":[20]},\"bottom\":{\"__ndarray__\":\"AAAAAAAAAAABAQEBAQEBAQIDAwM=\",\"dtype\":\"int8\",\"order\":\"little\",\"shape\":[20]},\"height\":{\"__ndarray__\":\"OB+D8zE47z84H4PzMTjvPzgfg/MxOO8/4XwMzsfg7D84H4PzMTjvPzgfg/MxOO8/1K5E7UrU7j/6GJyPwfnoP3A+BudjcO4/fQzOx+B87D9wPgbnY3DuP+F8DM7H4Ow/kMH5GJyP4T+cj8H5GJzvP7sStStRu+I/Mjgfg/Mx6D8ZnI/B+RjMPwAAAAAAAPA/AAAAAAAA8D9RuxK1K1HrPw==\",\"dtype\":\"float64\",\"order\":\"little\",\"shape\":[20]},\"playerID\":[\"gretzwa01\",\"gretzwa01\",\"gretzwa01\",\"gretzwa01\",\"gretzwa01\",\"gretzwa01\",\"gretzwa01\",\"gretzwa01\",\"gretzwa01\",\"gretzwa01\",\"gretzwa01\",\"gretzwa01\",\"gretzwa01\",\"gretzwa01\",\"gretzwa01\",\"gretzwa01\",\"gretzwa01\",\"gretzwa01\",\"gretzwa01\",\"gretzwa01\"],\"pts_per_game\":{\"__ndarray__\":\"ZmZmZmZmAEAzMzMzMzMFQJqZmZmZmQNAmCKfdYMpBkDNzMzMzMwEQAAAAAAAgAVAEJWO7BmIAkAAAAAAAKACQLETO7ETOwFA+fHjx48f/z99y7d8y7cAQJgin3WDKfo/x3Ecx3Ec9z+IRcrA0635PwAAAAAAAPA/55xzzjnn9D+rqqqqqqryP+1K1K5E7fI/kMH5GJyP8T98xVd8xVfsPw==\",\"dtype\":\"float64\",\"order\":\"little\",\"shape\":[20]},\"tmCode\":{\"__ndarray__\":\"AAAAAAAAAAABAQEBAQEBAQIDAwM=\",\"dtype\":\"int8\",\"order\":\"little\",\"shape\":[20]},\"tmID\":[\"EDM\",\"EDM\",\"EDM\",\"EDM\",\"EDM\",\"EDM\",\"EDM\",\"EDM\",\"LAK\",\"LAK\",\"LAK\",\"LAK\",\"LAK\",\"LAK\",\"LAK\",\"LAK\",\"STL\",\"NYR\",\"NYR\",\"NYR\"],\"top\":{\"__ndarray__\":\"OB+D8zE47z84H4PzMTjvPzgfg/MxOO8/4XwMzsfg7D84H4PzMTjvPzgfg/MxOO8/1K5E7UrU7j/6GJyPwfnoPzgfg/MxOP8/PgbnY3A+/j84H4PzMTj/P3A+BudjcP4/yOB8DM7H+D/Ox+B8DM7/P16J2pWoXfk/GZyPwfkY/D/C+Ricj8EBQAAAAAAAABBAAAAAAAAAEEDUrkTtStQOQA==\",\"dtype\":\"float64\",\"order\":\"little\",\"shape\":[20]},\"year\":{\"__ndarray__\":\"AAAAHM5dUkIAAAD+AzVUQgAAAEnwClZCAAAAlNzgV0IAAADfyLZZQgAAAMH+jVtCAAAADOtjXUIAAABX1zlfQgAAANHhh2BCAAAAwnxzYUIAAIDncl5iQgAAAA1pSWNCAACAMl80ZEIAAIAj+h9lQgAAAEnwCmZCAACAbub1ZkIAAIBu5vVmQgAAAJTc4GdCAAAAhXfMaEIAAICqbbdpQg==\",\"dtype\":\"float64\",\"order\":\"little\",\"shape\":[20]}},\"selected\":{\"id\":\"11961\"},\"selection_policy\":{\"id\":\"11960\"}},\"id\":\"11386\",\"type\":\"ColumnDataSource\"},{\"attributes\":{},\"id\":\"11959\",\"type\":\"AllLabels\"},{\"attributes\":{\"days\":[1,8,15,22]},\"id\":\"11968\",\"type\":\"DaysTicker\"},{\"attributes\":{},\"id\":\"11955\",\"type\":\"CategoricalTickFormatter\"},{\"attributes\":{},\"id\":\"11392\",\"type\":\"LinearScale\"},{\"attributes\":{\"months\":[0,1,2,3,4,5,6,7,8,9,10,11]},\"id\":\"11970\",\"type\":\"MonthsTicker\"},{\"attributes\":{\"tools\":[{\"id\":\"11403\"},{\"id\":\"11404\"},{\"id\":\"11405\"},{\"id\":\"11406\"},{\"id\":\"11407\"},{\"id\":\"11408\"}]},\"id\":\"11410\",\"type\":\"Toolbar\"},{\"attributes\":{\"overlay\":{\"id\":\"11409\"}},\"id\":\"11405\",\"type\":\"BoxZoomTool\"},{\"attributes\":{},\"id\":\"11408\",\"type\":\"HelpTool\"},{\"attributes\":{\"base\":24,\"mantissas\":[1,2,4,6,8,12],\"max_interval\":43200000.0,\"min_interval\":3600000.0,\"num_minor_ticks\":0},\"id\":\"11965\",\"type\":\"AdaptiveTicker\"},{\"attributes\":{},\"id\":\"11960\",\"type\":\"UnionRenderers\"},{\"attributes\":{\"axis\":{\"id\":\"11400\"},\"coordinates\":null,\"dimension\":1,\"group\":null,\"ticker\":null},\"id\":\"11402\",\"type\":\"Grid\"},{\"attributes\":{\"source\":{\"id\":\"11386\"}},\"id\":\"11422\",\"type\":\"CDSView\"},{\"attributes\":{\"bottom\":{\"field\":\"bottom\"},\"fill_alpha\":{\"value\":0.1},\"fill_color\":{\"value\":\"#1f77b4\"},\"hatch_alpha\":{\"value\":0.1},\"line_alpha\":{\"value\":0.1},\"line_color\":{\"value\":\"#1f77b4\"},\"top\":{\"field\":\"top\"},\"width\":{\"value\":27648000000},\"x\":{\"field\":\"year\"}},\"id\":\"11419\",\"type\":\"VBar\"},{\"attributes\":{\"months\":[0,6]},\"id\":\"11973\",\"type\":\"MonthsTicker\"},{\"attributes\":{\"bottom\":{\"field\":\"bottom\"},\"fill_alpha\":{\"value\":0.2},\"fill_color\":{\"value\":\"#1f77b4\"},\"hatch_alpha\":{\"value\":0.2},\"line_alpha\":{\"value\":0.2},\"line_color\":{\"value\":\"#1f77b4\"},\"top\":{\"field\":\"top\"},\"width\":{\"value\":27648000000},\"x\":{\"field\":\"year\"}},\"id\":\"11420\",\"type\":\"VBar\"},{\"attributes\":{},\"id\":\"11394\",\"type\":\"CategoricalScale\"},{\"attributes\":{},\"id\":\"11974\",\"type\":\"YearsTicker\"},{\"attributes\":{\"mantissas\":[1,2,5],\"max_interval\":500.0,\"num_minor_ticks\":0},\"id\":\"11963\",\"type\":\"AdaptiveTicker\"},{\"attributes\":{},\"id\":\"11961\",\"type\":\"Selection\"},{\"attributes\":{},\"id\":\"11407\",\"type\":\"ResetTool\"},{\"attributes\":{\"coordinates\":null,\"formatter\":{\"id\":\"11958\"},\"group\":null,\"major_label_policy\":{\"id\":\"11959\"},\"major_label_text_font_size\":\"12pt\",\"ticker\":{\"id\":\"11397\"}},\"id\":\"11396\",\"type\":\"DatetimeAxis\"},{\"attributes\":{},\"id\":\"11401\",\"type\":\"CategoricalTicker\"},{\"attributes\":{\"base\":60,\"mantissas\":[1,2,5,10,15,20,30],\"max_interval\":1800000.0,\"min_interval\":1000.0,\"num_minor_ticks\":0},\"id\":\"11964\",\"type\":\"AdaptiveTicker\"},{\"attributes\":{\"months\":[0,2,4,6,8,10]},\"id\":\"11971\",\"type\":\"MonthsTicker\"},{\"attributes\":{\"coordinates\":null,\"data_source\":{\"id\":\"11386\"},\"glyph\":{\"id\":\"11418\"},\"group\":null,\"hover_glyph\":null,\"muted_glyph\":{\"id\":\"11420\"},\"nonselection_glyph\":{\"id\":\"11419\"},\"view\":{\"id\":\"11422\"}},\"id\":\"11421\",\"type\":\"GlyphRenderer\"},{\"attributes\":{},\"id\":\"11388\",\"type\":\"DataRange1d\"},{\"attributes\":{\"days\":[1,4,7,10,13,16,19,22,25,28]},\"id\":\"11967\",\"type\":\"DaysTicker\"},{\"attributes\":{\"coordinates\":null,\"formatter\":{\"id\":\"11955\"},\"group\":null,\"major_label_policy\":{\"id\":\"11956\"},\"major_label_text_font_size\":\"12pt\",\"ticker\":{\"id\":\"11401\"}},\"id\":\"11400\",\"type\":\"CategoricalAxis\"},{\"attributes\":{\"bottom_units\":\"screen\",\"coordinates\":null,\"fill_alpha\":0.5,\"fill_color\":\"lightgrey\",\"group\":null,\"left_units\":\"screen\",\"level\":\"overlay\",\"line_alpha\":1.0,\"line_color\":\"black\",\"line_dash\":[4,4],\"line_width\":2,\"right_units\":\"screen\",\"syncable\":false,\"top_units\":\"screen\"},\"id\":\"11409\",\"type\":\"BoxAnnotation\"},{\"attributes\":{\"factors\":[\"EDM\",\"LAK\",\"STL\",\"NYR\"]},\"id\":\"11390\",\"type\":\"FactorRange\"},{\"attributes\":{\"coordinates\":null,\"group\":null},\"id\":\"11952\",\"type\":\"Title\"},{\"attributes\":{\"num_minor_ticks\":5,\"tickers\":[{\"id\":\"11963\"},{\"id\":\"11964\"},{\"id\":\"11965\"},{\"id\":\"11966\"},{\"id\":\"11967\"},{\"id\":\"11968\"},{\"id\":\"11969\"},{\"id\":\"11970\"},{\"id\":\"11971\"},{\"id\":\"11972\"},{\"id\":\"11973\"},{\"id\":\"11974\"}]},\"id\":\"11397\",\"type\":\"DatetimeTicker\"},{\"attributes\":{},\"id\":\"11958\",\"type\":\"DatetimeTickFormatter\"},{\"attributes\":{\"months\":[0,4,8]},\"id\":\"11972\",\"type\":\"MonthsTicker\"},{\"attributes\":{},\"id\":\"11404\",\"type\":\"WheelZoomTool\"},{\"attributes\":{\"days\":[1,2,3,4,5,6,7,8,9,10,11,12,13,14,15,16,17,18,19,20,21,22,23,24,25,26,27,28,29,30,31]},\"id\":\"11966\",\"type\":\"DaysTicker\"},{\"attributes\":{},\"id\":\"11956\",\"type\":\"AllLabels\"},{\"attributes\":{},\"id\":\"11406\",\"type\":\"SaveTool\"},{\"attributes\":{\"days\":[1,15]},\"id\":\"11969\",\"type\":\"DaysTicker\"},{\"attributes\":{},\"id\":\"11403\",\"type\":\"PanTool\"},{\"attributes\":{\"axis\":{\"id\":\"11396\"},\"coordinates\":null,\"group\":null,\"ticker\":null},\"id\":\"11399\",\"type\":\"Grid\"}],\"root_ids\":[\"11387\"]},\"title\":\"Bokeh Application\",\"version\":\"2.4.1\"}};\n  const render_items = [{\"docid\":\"07c98aca-5159-4c47-a118-dd028d9f7e8a\",\"root_ids\":[\"11387\"],\"roots\":{\"11387\":\"7df99008-98fb-4abf-825b-c530cdd26799\"}}];\n  root.Bokeh.embed.embed_items_notebook(docs_json, render_items);\n\n  }\n  if (root.Bokeh !== undefined) {\n    embed_document(root);\n  } else {\n    let attempts = 0;\n    const timer = setInterval(function(root) {\n      if (root.Bokeh !== undefined) {\n        clearInterval(timer);\n        embed_document(root);\n      } else {\n        attempts++;\n        if (attempts > 100) {\n          clearInterval(timer);\n          console.log(\"Bokeh: ERROR: Unable to run BokehJS code because BokehJS library is missing\");\n        }\n      }\n    }, 10, root)\n  }\n})(window);",
      "application/vnd.bokehjs_exec.v0+json": ""
     },
     "metadata": {
      "application/vnd.bokehjs_exec.v0+json": {
       "id": "11387"
      }
     },
     "output_type": "display_data"
    }
   ],
   "source": [
    "src = cds(wayne)\n",
    "p = figure(x_axis_type='datetime',\n",
    "           height=500, width = 500,\n",
    "           y_range=list(wayne.tmID.cat.categories)\n",
    "           # y_range=list(reordered)\n",
    "           )\n",
    "p.vbar(bottom='bottom',\n",
    "       top='top', x='year',\n",
    "       width=width, source=src\n",
    "       )\n",
    "p.xaxis.major_label_text_font_size = \"12pt\"\n",
    "p.yaxis.major_label_text_font_size = \"12pt\"\n",
    "\n",
    "show(p)\n"
   ],
   "metadata": {
    "collapsed": false,
    "pycharm": {
     "name": "#%%\n"
    }
   }
  },
  {
   "cell_type": "code",
   "execution_count": 214,
   "outputs": [],
   "source": [
    "wayne.loc[:, 'height'] = wayne.GP / gp_max * 0.8\n",
    "wayne.loc[:, 'bottom'] = wayne.tmCode - (wayne.height / 2.0) + 0.5\n",
    "wayne.loc[:,'top'] = wayne.bottom + wayne.height\n"
   ],
   "metadata": {
    "collapsed": false,
    "pycharm": {
     "name": "#%%\n"
    }
   }
  },
  {
   "cell_type": "code",
   "execution_count": 215,
   "outputs": [
    {
     "data": {
      "text/html": "\n\n\n\n\n\n  <div class=\"bk-root\" id=\"d1a249ea-32b6-4697-afd9-dc7d353ad6d7\" data-root-id=\"12933\"></div>\n"
     },
     "metadata": {},
     "output_type": "display_data"
    },
    {
     "data": {
      "application/javascript": "(function(root) {\n  function embed_document(root) {\n    \n  const docs_json = {\"704fa641-3a90-4625-98fb-2ac8a178ccee\":{\"defs\":[],\"roots\":{\"references\":[{\"attributes\":{\"below\":[{\"id\":\"12942\"}],\"center\":[{\"id\":\"12945\"},{\"id\":\"12948\"}],\"height\":500,\"left\":[{\"id\":\"12946\"}],\"renderers\":[{\"id\":\"12967\"}],\"title\":{\"id\":\"13544\"},\"toolbar\":{\"id\":\"12956\"},\"width\":500,\"x_range\":{\"id\":\"12934\"},\"x_scale\":{\"id\":\"12938\"},\"y_range\":{\"id\":\"12936\"},\"y_scale\":{\"id\":\"12940\"}},\"id\":\"12933\",\"subtype\":\"Figure\",\"type\":\"Plot\"},{\"attributes\":{\"coordinates\":null,\"formatter\":{\"id\":\"13547\"},\"group\":null,\"major_label_policy\":{\"id\":\"13548\"},\"major_label_text_font_size\":\"12pt\",\"ticker\":{\"id\":\"12947\"}},\"id\":\"12946\",\"type\":\"CategoricalAxis\"},{\"attributes\":{},\"id\":\"13551\",\"type\":\"AllLabels\"},{\"attributes\":{\"base\":24,\"mantissas\":[1,2,4,6,8,12],\"max_interval\":43200000.0,\"min_interval\":3600000.0,\"num_minor_ticks\":0},\"id\":\"13557\",\"type\":\"AdaptiveTicker\"},{\"attributes\":{\"axis\":{\"id\":\"12946\"},\"coordinates\":null,\"dimension\":1,\"group\":null,\"ticker\":null},\"id\":\"12948\",\"type\":\"Grid\"},{\"attributes\":{\"bottom\":{\"field\":\"bottom\"},\"fill_alpha\":{\"value\":0.2},\"fill_color\":{\"value\":\"#1f77b4\"},\"hatch_alpha\":{\"value\":0.2},\"line_alpha\":{\"value\":0.2},\"line_color\":{\"value\":\"#1f77b4\"},\"top\":{\"field\":\"top\"},\"width\":{\"value\":27648000000},\"x\":{\"field\":\"year\"}},\"id\":\"12966\",\"type\":\"VBar\"},{\"attributes\":{\"factors\":[\"EDM\",\"LAK\",\"STL\",\"NYR\"]},\"id\":\"12936\",\"type\":\"FactorRange\"},{\"attributes\":{\"data\":{\"GP\":{\"__ndarray__\":\"AAAAAAAAVEAAAAAAAABUQAAAAAAAAFRAAAAAAACAUkAAAAAAAABUQAAAAAAAAFRAAAAAAADAU0AAAAAAAABQQAAAAAAAgFNAAAAAAABAUkAAAAAAAIBTQAAAAAAAgFJAAAAAAACARkAAAAAAAEBUQAAAAAAAAEhAAAAAAAAAT0AAAAAAAAAyQAAAAAAAgFRAAAAAAACAVEAAAAAAAIBRQA==\",\"dtype\":\"float64\",\"order\":\"little\",\"shape\":[20]},\"Pts\":{\"__ndarray__\":\"AAAAAACAZEAAAAAAAIBqQAAAAAAAgGhAAAAAAACgaUAAAAAAAABqQAAAAAAA4GpAAAAAAADgZkAAAAAAAKBiQAAAAAAAAGVAAAAAAADAYUAAAAAAAGBkQAAAAAAAQF5AAAAAAABAUEAAAAAAAEBgQAAAAAAAAEhAAAAAAABAVEAAAAAAAAA1QAAAAAAAQFhAAAAAAACAVkAAAAAAAABPQA==\",\"dtype\":\"float64\",\"order\":\"little\",\"shape\":[20]},\"bottom\":{\"__ndarray__\":\"GJyPwfkYvD8YnI/B+Ri8Pxicj8H5GLw/ytG4HI3LwT8YnI/B+Ri8Pxicj8H5GLw/WJ2K1alYvT8I2J+A/QnIP+pZmJ6F6fE/TcrWpGxN8j/qWZiehenxPzkal6NxOfI/fQzOx+B89D+uSdmalK3xP0H8DsTvQPQ/KVuTsjUp8z9Mz8L0LEwDQM3MzMzMzAhAzczMzMzMCEBF7UrUrkQJQA==\",\"dtype\":\"float64\",\"order\":\"little\",\"shape\":[20]},\"height\":{\"__ndarray__\":\"+hicj8H56D/6GJyPwfnoP/oYnI/B+eg/G5ejcTka5z/6GJyPwfnoP/oYnI/B+eg/qliditWp6D/8E7A/AfvjP1qYnoXpWeg/y9akbE3K5j9amJ6F6VnoPxuXo3E5Guc/GpyPwfkY3D9K2ZqUrUnpP/gdiN+B+N0/XJOyNSlb4z97FqZnYXrGP5qZmZmZmek/mpmZmZmZ6T/blahdidrlPw==\",\"dtype\":\"float64\",\"order\":\"little\",\"shape\":[20]},\"playerID\":[\"gretzwa01\",\"gretzwa01\",\"gretzwa01\",\"gretzwa01\",\"gretzwa01\",\"gretzwa01\",\"gretzwa01\",\"gretzwa01\",\"gretzwa01\",\"gretzwa01\",\"gretzwa01\",\"gretzwa01\",\"gretzwa01\",\"gretzwa01\",\"gretzwa01\",\"gretzwa01\",\"gretzwa01\",\"gretzwa01\",\"gretzwa01\",\"gretzwa01\"],\"pts_per_game\":{\"__ndarray__\":\"ZmZmZmZmAEAzMzMzMzMFQJqZmZmZmQNAmCKfdYMpBkDNzMzMzMwEQAAAAAAAgAVAEJWO7BmIAkAAAAAAAKACQLETO7ETOwFA+fHjx48f/z99y7d8y7cAQJgin3WDKfo/x3Ecx3Ec9z+IRcrA0635PwAAAAAAAPA/55xzzjnn9D+rqqqqqqryP+1K1K5E7fI/kMH5GJyP8T98xVd8xVfsPw==\",\"dtype\":\"float64\",\"order\":\"little\",\"shape\":[20]},\"tmCode\":{\"__ndarray__\":\"AAAAAAAAAAABAQEBAQEBAQIDAwM=\",\"dtype\":\"int8\",\"order\":\"little\",\"shape\":[20]},\"tmID\":[\"EDM\",\"EDM\",\"EDM\",\"EDM\",\"EDM\",\"EDM\",\"EDM\",\"EDM\",\"LAK\",\"LAK\",\"LAK\",\"LAK\",\"LAK\",\"LAK\",\"LAK\",\"LAK\",\"STL\",\"NYR\",\"NYR\",\"NYR\"],\"top\":{\"__ndarray__\":\"fQzOx+B87D99DM7H4HzsP30MzsfgfOw/jsvRuByN6z99DM7H4HzsP30MzsfgfOw/VaxOxepU7D/+CdifgP3pPxemZ2F6Fv4/sjUpW5Oy/T8Xpmdhehb+P8blaFyOxv0/hPMxOB+D+z9TtiZla1L+P78D8TsQv/s/16RsTcrW/D+0MD0L07MEQDQzMzMzMw9ANDMzMzMzD0C8ErUrUbsOQA==\",\"dtype\":\"float64\",\"order\":\"little\",\"shape\":[20]},\"year\":{\"__ndarray__\":\"AAAAHM5dUkIAAAD+AzVUQgAAAEnwClZCAAAAlNzgV0IAAADfyLZZQgAAAMH+jVtCAAAADOtjXUIAAABX1zlfQgAAANHhh2BCAAAAwnxzYUIAAIDncl5iQgAAAA1pSWNCAACAMl80ZEIAAIAj+h9lQgAAAEnwCmZCAACAbub1ZkIAAIBu5vVmQgAAAJTc4GdCAAAAhXfMaEIAAICqbbdpQg==\",\"dtype\":\"float64\",\"order\":\"little\",\"shape\":[20]}},\"selected\":{\"id\":\"13553\"},\"selection_policy\":{\"id\":\"13552\"}},\"id\":\"12932\",\"type\":\"ColumnDataSource\"},{\"attributes\":{},\"id\":\"12949\",\"type\":\"PanTool\"},{\"attributes\":{},\"id\":\"12947\",\"type\":\"CategoricalTicker\"},{\"attributes\":{\"num_minor_ticks\":5,\"tickers\":[{\"id\":\"13555\"},{\"id\":\"13556\"},{\"id\":\"13557\"},{\"id\":\"13558\"},{\"id\":\"13559\"},{\"id\":\"13560\"},{\"id\":\"13561\"},{\"id\":\"13562\"},{\"id\":\"13563\"},{\"id\":\"13564\"},{\"id\":\"13565\"},{\"id\":\"13566\"}]},\"id\":\"12943\",\"type\":\"DatetimeTicker\"},{\"attributes\":{},\"id\":\"12934\",\"type\":\"DataRange1d\"},{\"attributes\":{\"axis\":{\"id\":\"12942\"},\"coordinates\":null,\"group\":null,\"ticker\":null},\"id\":\"12945\",\"type\":\"Grid\"},{\"attributes\":{\"days\":[1,15]},\"id\":\"13561\",\"type\":\"DaysTicker\"},{\"attributes\":{},\"id\":\"12950\",\"type\":\"WheelZoomTool\"},{\"attributes\":{\"days\":[1,2,3,4,5,6,7,8,9,10,11,12,13,14,15,16,17,18,19,20,21,22,23,24,25,26,27,28,29,30,31]},\"id\":\"13558\",\"type\":\"DaysTicker\"},{\"attributes\":{\"bottom\":{\"field\":\"bottom\"},\"fill_alpha\":{\"value\":0.1},\"fill_color\":{\"value\":\"#1f77b4\"},\"hatch_alpha\":{\"value\":0.1},\"line_alpha\":{\"value\":0.1},\"line_color\":{\"value\":\"#1f77b4\"},\"top\":{\"field\":\"top\"},\"width\":{\"value\":27648000000},\"x\":{\"field\":\"year\"}},\"id\":\"12965\",\"type\":\"VBar\"},{\"attributes\":{},\"id\":\"13566\",\"type\":\"YearsTicker\"},{\"attributes\":{},\"id\":\"12940\",\"type\":\"CategoricalScale\"},{\"attributes\":{\"mantissas\":[1,2,5],\"max_interval\":500.0,\"num_minor_ticks\":0},\"id\":\"13555\",\"type\":\"AdaptiveTicker\"},{\"attributes\":{\"bottom_units\":\"screen\",\"coordinates\":null,\"fill_alpha\":0.5,\"fill_color\":\"lightgrey\",\"group\":null,\"left_units\":\"screen\",\"level\":\"overlay\",\"line_alpha\":1.0,\"line_color\":\"black\",\"line_dash\":[4,4],\"line_width\":2,\"right_units\":\"screen\",\"syncable\":false,\"top_units\":\"screen\"},\"id\":\"12955\",\"type\":\"BoxAnnotation\"},{\"attributes\":{\"months\":[0,1,2,3,4,5,6,7,8,9,10,11]},\"id\":\"13562\",\"type\":\"MonthsTicker\"},{\"attributes\":{\"months\":[0,6]},\"id\":\"13565\",\"type\":\"MonthsTicker\"},{\"attributes\":{},\"id\":\"12953\",\"type\":\"ResetTool\"},{\"attributes\":{\"overlay\":{\"id\":\"12955\"}},\"id\":\"12951\",\"type\":\"BoxZoomTool\"},{\"attributes\":{\"months\":[0,2,4,6,8,10]},\"id\":\"13563\",\"type\":\"MonthsTicker\"},{\"attributes\":{\"days\":[1,4,7,10,13,16,19,22,25,28]},\"id\":\"13559\",\"type\":\"DaysTicker\"},{\"attributes\":{\"days\":[1,8,15,22]},\"id\":\"13560\",\"type\":\"DaysTicker\"},{\"attributes\":{},\"id\":\"12938\",\"type\":\"LinearScale\"},{\"attributes\":{\"months\":[0,4,8]},\"id\":\"13564\",\"type\":\"MonthsTicker\"},{\"attributes\":{},\"id\":\"13550\",\"type\":\"DatetimeTickFormatter\"},{\"attributes\":{},\"id\":\"13548\",\"type\":\"AllLabels\"},{\"attributes\":{\"tools\":[{\"id\":\"12949\"},{\"id\":\"12950\"},{\"id\":\"12951\"},{\"id\":\"12952\"},{\"id\":\"12953\"},{\"id\":\"12954\"}]},\"id\":\"12956\",\"type\":\"Toolbar\"},{\"attributes\":{\"base\":60,\"mantissas\":[1,2,5,10,15,20,30],\"max_interval\":1800000.0,\"min_interval\":1000.0,\"num_minor_ticks\":0},\"id\":\"13556\",\"type\":\"AdaptiveTicker\"},{\"attributes\":{},\"id\":\"12952\",\"type\":\"SaveTool\"},{\"attributes\":{\"bottom\":{\"field\":\"bottom\"},\"fill_color\":{\"value\":\"#1f77b4\"},\"line_color\":{\"value\":\"#1f77b4\"},\"top\":{\"field\":\"top\"},\"width\":{\"value\":27648000000},\"x\":{\"field\":\"year\"}},\"id\":\"12964\",\"type\":\"VBar\"},{\"attributes\":{},\"id\":\"12954\",\"type\":\"HelpTool\"},{\"attributes\":{\"coordinates\":null,\"group\":null},\"id\":\"13544\",\"type\":\"Title\"},{\"attributes\":{\"coordinates\":null,\"data_source\":{\"id\":\"12932\"},\"glyph\":{\"id\":\"12964\"},\"group\":null,\"hover_glyph\":null,\"muted_glyph\":{\"id\":\"12966\"},\"nonselection_glyph\":{\"id\":\"12965\"},\"view\":{\"id\":\"12968\"}},\"id\":\"12967\",\"type\":\"GlyphRenderer\"},{\"attributes\":{},\"id\":\"13552\",\"type\":\"UnionRenderers\"},{\"attributes\":{\"coordinates\":null,\"formatter\":{\"id\":\"13550\"},\"group\":null,\"major_label_policy\":{\"id\":\"13551\"},\"major_label_text_font_size\":\"12pt\",\"ticker\":{\"id\":\"12943\"}},\"id\":\"12942\",\"type\":\"DatetimeAxis\"},{\"attributes\":{\"source\":{\"id\":\"12932\"}},\"id\":\"12968\",\"type\":\"CDSView\"},{\"attributes\":{},\"id\":\"13553\",\"type\":\"Selection\"},{\"attributes\":{},\"id\":\"13547\",\"type\":\"CategoricalTickFormatter\"}],\"root_ids\":[\"12933\"]},\"title\":\"Bokeh Application\",\"version\":\"2.4.1\"}};\n  const render_items = [{\"docid\":\"704fa641-3a90-4625-98fb-2ac8a178ccee\",\"root_ids\":[\"12933\"],\"roots\":{\"12933\":\"d1a249ea-32b6-4697-afd9-dc7d353ad6d7\"}}];\n  root.Bokeh.embed.embed_items_notebook(docs_json, render_items);\n\n  }\n  if (root.Bokeh !== undefined) {\n    embed_document(root);\n  } else {\n    let attempts = 0;\n    const timer = setInterval(function(root) {\n      if (root.Bokeh !== undefined) {\n        clearInterval(timer);\n        embed_document(root);\n      } else {\n        attempts++;\n        if (attempts > 100) {\n          clearInterval(timer);\n          console.log(\"Bokeh: ERROR: Unable to run BokehJS code because BokehJS library is missing\");\n        }\n      }\n    }, 10, root)\n  }\n})(window);",
      "application/vnd.bokehjs_exec.v0+json": ""
     },
     "metadata": {
      "application/vnd.bokehjs_exec.v0+json": {
       "id": "12933"
      }
     },
     "output_type": "display_data"
    }
   ],
   "source": [
    "src = cds(wayne)\n",
    "p = figure(x_axis_type='datetime',\n",
    "           height=500, width = 500,\n",
    "           y_range=list(wayne.tmID.cat.categories)\n",
    "           # y_range=list(reordered)\n",
    "           )\n",
    "p.vbar(bottom='bottom',\n",
    "       top='top', x='year',\n",
    "       width=width, source=src\n",
    "       )\n",
    "p.xaxis.major_label_text_font_size = \"12pt\"\n",
    "p.yaxis.major_label_text_font_size = \"12pt\"\n",
    "\n",
    "show(p)\n"
   ],
   "metadata": {
    "collapsed": false,
    "pycharm": {
     "name": "#%%\n"
    }
   }
  },
  {
   "cell_type": "code",
   "execution_count": 216,
   "outputs": [],
   "source": [
    "from bokeh.models import LinearColorMapper\n",
    "color_mapper = LinearColorMapper(\n",
    "    palette=\"Plasma256\",\n",
    "    low=pts_per_game_min,\n",
    "    high=pts_per_game_max\n",
    ")\n"
   ],
   "metadata": {
    "collapsed": false,
    "pycharm": {
     "name": "#%%\n"
    }
   }
  },
  {
   "cell_type": "code",
   "execution_count": 219,
   "outputs": [
    {
     "data": {
      "text/html": "\n\n\n\n\n\n  <div class=\"bk-root\" id=\"ede73784-12c7-4999-ba0a-88683bd53094\" data-root-id=\"15254\"></div>\n"
     },
     "metadata": {},
     "output_type": "display_data"
    },
    {
     "data": {
      "application/javascript": "(function(root) {\n  function embed_document(root) {\n    \n  const docs_json = {\"a4fb0125-bdd1-4cc4-9282-345426b9f230\":{\"defs\":[],\"roots\":{\"references\":[{\"attributes\":{\"below\":[{\"id\":\"15263\"}],\"center\":[{\"id\":\"15266\"},{\"id\":\"15269\"}],\"height\":500,\"left\":[{\"id\":\"15267\"}],\"renderers\":[{\"id\":\"15288\"}],\"right\":[{\"id\":\"15290\"}],\"title\":{\"id\":\"15935\"},\"toolbar\":{\"id\":\"15277\"},\"width\":500,\"x_range\":{\"id\":\"15255\"},\"x_scale\":{\"id\":\"15259\"},\"y_range\":{\"id\":\"15257\"},\"y_scale\":{\"id\":\"15261\"}},\"id\":\"15254\",\"subtype\":\"Figure\",\"type\":\"Plot\"},{\"attributes\":{},\"id\":\"15259\",\"type\":\"LinearScale\"},{\"attributes\":{\"coordinates\":null,\"formatter\":{\"id\":\"15942\"},\"group\":null,\"major_label_policy\":{\"id\":\"15943\"},\"major_label_text_font_size\":\"12pt\",\"ticker\":{\"id\":\"15264\"}},\"id\":\"15263\",\"type\":\"DatetimeAxis\"},{\"attributes\":{\"coordinates\":null,\"group\":null},\"id\":\"15935\",\"type\":\"Title\"},{\"attributes\":{},\"id\":\"15940\",\"type\":\"NoOverlap\"},{\"attributes\":{\"factors\":[\"EDM\",\"LAK\",\"STL\",\"NYR\"]},\"id\":\"15257\",\"type\":\"FactorRange\"},{\"attributes\":{\"coordinates\":null,\"data_source\":{\"id\":\"15253\"},\"glyph\":{\"id\":\"15285\"},\"group\":null,\"hover_glyph\":null,\"muted_glyph\":{\"id\":\"15287\"},\"nonselection_glyph\":{\"id\":\"15286\"},\"view\":{\"id\":\"15289\"}},\"id\":\"15288\",\"type\":\"GlyphRenderer\"},{\"attributes\":{\"mantissas\":[1,2,5],\"max_interval\":500.0,\"num_minor_ticks\":0},\"id\":\"15947\",\"type\":\"AdaptiveTicker\"},{\"attributes\":{\"axis\":{\"id\":\"15267\"},\"coordinates\":null,\"dimension\":1,\"group\":null,\"ticker\":null},\"id\":\"15269\",\"type\":\"Grid\"},{\"attributes\":{\"months\":[0,2,4,6,8,10]},\"id\":\"15955\",\"type\":\"MonthsTicker\"},{\"attributes\":{\"source\":{\"id\":\"15253\"}},\"id\":\"15289\",\"type\":\"CDSView\"},{\"attributes\":{},\"id\":\"15268\",\"type\":\"CategoricalTicker\"},{\"attributes\":{},\"id\":\"15270\",\"type\":\"PanTool\"},{\"attributes\":{},\"id\":\"15271\",\"type\":\"WheelZoomTool\"},{\"attributes\":{\"num_minor_ticks\":5,\"tickers\":[{\"id\":\"15947\"},{\"id\":\"15948\"},{\"id\":\"15949\"},{\"id\":\"15950\"},{\"id\":\"15951\"},{\"id\":\"15952\"},{\"id\":\"15953\"},{\"id\":\"15954\"},{\"id\":\"15955\"},{\"id\":\"15956\"},{\"id\":\"15957\"},{\"id\":\"15958\"}]},\"id\":\"15264\",\"type\":\"DatetimeTicker\"},{\"attributes\":{},\"id\":\"15255\",\"type\":\"DataRange1d\"},{\"attributes\":{\"months\":[0,6]},\"id\":\"15957\",\"type\":\"MonthsTicker\"},{\"attributes\":{\"bottom\":{\"field\":\"bottom\"},\"fill_color\":{\"field\":\"pts_per_game\",\"transform\":{\"id\":\"13682\"}},\"hatch_color\":{\"field\":\"pts_per_game\",\"transform\":{\"id\":\"13682\"}},\"line_color\":{\"field\":\"pts_per_game\",\"transform\":{\"id\":\"13682\"}},\"top\":{\"field\":\"top\"},\"width\":{\"value\":27648000000},\"x\":{\"field\":\"year\"}},\"id\":\"15285\",\"type\":\"VBar\"},{\"attributes\":{\"months\":[0,4,8]},\"id\":\"15956\",\"type\":\"MonthsTicker\"},{\"attributes\":{},\"id\":\"15261\",\"type\":\"CategoricalScale\"},{\"attributes\":{},\"id\":\"15942\",\"type\":\"DatetimeTickFormatter\"},{\"attributes\":{\"days\":[1,8,15,22]},\"id\":\"15952\",\"type\":\"DaysTicker\"},{\"attributes\":{\"overlay\":{\"id\":\"15276\"}},\"id\":\"15272\",\"type\":\"BoxZoomTool\"},{\"attributes\":{\"color_mapper\":{\"id\":\"13682\"},\"coordinates\":null,\"group\":null,\"label_standoff\":8,\"location\":[0,0],\"major_label_policy\":{\"id\":\"15940\"}},\"id\":\"15290\",\"type\":\"ColorBar\"},{\"attributes\":{},\"id\":\"15945\",\"type\":\"Selection\"},{\"attributes\":{\"high\":2.77027027027027,\"low\":0.8857142857142857,\"palette\":[\"#0C0786\",\"#100787\",\"#130689\",\"#15068A\",\"#18068B\",\"#1B068C\",\"#1D068D\",\"#1F058E\",\"#21058F\",\"#230590\",\"#250591\",\"#270592\",\"#290593\",\"#2B0594\",\"#2D0494\",\"#2F0495\",\"#310496\",\"#330497\",\"#340498\",\"#360498\",\"#380499\",\"#3A049A\",\"#3B039A\",\"#3D039B\",\"#3F039C\",\"#40039C\",\"#42039D\",\"#44039E\",\"#45039E\",\"#47029F\",\"#49029F\",\"#4A02A0\",\"#4C02A1\",\"#4E02A1\",\"#4F02A2\",\"#5101A2\",\"#5201A3\",\"#5401A3\",\"#5601A3\",\"#5701A4\",\"#5901A4\",\"#5A00A5\",\"#5C00A5\",\"#5E00A5\",\"#5F00A6\",\"#6100A6\",\"#6200A6\",\"#6400A7\",\"#6500A7\",\"#6700A7\",\"#6800A7\",\"#6A00A7\",\"#6C00A8\",\"#6D00A8\",\"#6F00A8\",\"#7000A8\",\"#7200A8\",\"#7300A8\",\"#7500A8\",\"#7601A8\",\"#7801A8\",\"#7901A8\",\"#7B02A8\",\"#7C02A7\",\"#7E03A7\",\"#7F03A7\",\"#8104A7\",\"#8204A7\",\"#8405A6\",\"#8506A6\",\"#8607A6\",\"#8807A5\",\"#8908A5\",\"#8B09A4\",\"#8C0AA4\",\"#8E0CA4\",\"#8F0DA3\",\"#900EA3\",\"#920FA2\",\"#9310A1\",\"#9511A1\",\"#9612A0\",\"#9713A0\",\"#99149F\",\"#9A159E\",\"#9B179E\",\"#9D189D\",\"#9E199C\",\"#9F1A9B\",\"#A01B9B\",\"#A21C9A\",\"#A31D99\",\"#A41E98\",\"#A51F97\",\"#A72197\",\"#A82296\",\"#A92395\",\"#AA2494\",\"#AC2593\",\"#AD2692\",\"#AE2791\",\"#AF2890\",\"#B02A8F\",\"#B12B8F\",\"#B22C8E\",\"#B42D8D\",\"#B52E8C\",\"#B62F8B\",\"#B7308A\",\"#B83289\",\"#B93388\",\"#BA3487\",\"#BB3586\",\"#BC3685\",\"#BD3784\",\"#BE3883\",\"#BF3982\",\"#C03B81\",\"#C13C80\",\"#C23D80\",\"#C33E7F\",\"#C43F7E\",\"#C5407D\",\"#C6417C\",\"#C7427B\",\"#C8447A\",\"#C94579\",\"#CA4678\",\"#CB4777\",\"#CC4876\",\"#CD4975\",\"#CE4A75\",\"#CF4B74\",\"#D04D73\",\"#D14E72\",\"#D14F71\",\"#D25070\",\"#D3516F\",\"#D4526E\",\"#D5536D\",\"#D6556D\",\"#D7566C\",\"#D7576B\",\"#D8586A\",\"#D95969\",\"#DA5A68\",\"#DB5B67\",\"#DC5D66\",\"#DC5E66\",\"#DD5F65\",\"#DE6064\",\"#DF6163\",\"#DF6262\",\"#E06461\",\"#E16560\",\"#E26660\",\"#E3675F\",\"#E3685E\",\"#E46A5D\",\"#E56B5C\",\"#E56C5B\",\"#E66D5A\",\"#E76E5A\",\"#E87059\",\"#E87158\",\"#E97257\",\"#EA7356\",\"#EA7455\",\"#EB7654\",\"#EC7754\",\"#EC7853\",\"#ED7952\",\"#ED7B51\",\"#EE7C50\",\"#EF7D4F\",\"#EF7E4E\",\"#F0804D\",\"#F0814D\",\"#F1824C\",\"#F2844B\",\"#F2854A\",\"#F38649\",\"#F38748\",\"#F48947\",\"#F48A47\",\"#F58B46\",\"#F58D45\",\"#F68E44\",\"#F68F43\",\"#F69142\",\"#F79241\",\"#F79341\",\"#F89540\",\"#F8963F\",\"#F8983E\",\"#F9993D\",\"#F99A3C\",\"#FA9C3B\",\"#FA9D3A\",\"#FA9F3A\",\"#FAA039\",\"#FBA238\",\"#FBA337\",\"#FBA436\",\"#FCA635\",\"#FCA735\",\"#FCA934\",\"#FCAA33\",\"#FCAC32\",\"#FCAD31\",\"#FDAF31\",\"#FDB030\",\"#FDB22F\",\"#FDB32E\",\"#FDB52D\",\"#FDB62D\",\"#FDB82C\",\"#FDB92B\",\"#FDBB2B\",\"#FDBC2A\",\"#FDBE29\",\"#FDC029\",\"#FDC128\",\"#FDC328\",\"#FDC427\",\"#FDC626\",\"#FCC726\",\"#FCC926\",\"#FCCB25\",\"#FCCC25\",\"#FCCE25\",\"#FBD024\",\"#FBD124\",\"#FBD324\",\"#FAD524\",\"#FAD624\",\"#FAD824\",\"#F9D924\",\"#F9DB24\",\"#F8DD24\",\"#F8DF24\",\"#F7E024\",\"#F7E225\",\"#F6E425\",\"#F6E525\",\"#F5E726\",\"#F5E926\",\"#F4EA26\",\"#F3EC26\",\"#F3EE26\",\"#F2F026\",\"#F2F126\",\"#F1F326\",\"#F0F525\",\"#F0F623\",\"#EFF821\"]},\"id\":\"13682\",\"type\":\"LinearColorMapper\"},{\"attributes\":{\"bottom_units\":\"screen\",\"coordinates\":null,\"fill_alpha\":0.5,\"fill_color\":\"lightgrey\",\"group\":null,\"left_units\":\"screen\",\"level\":\"overlay\",\"line_alpha\":1.0,\"line_color\":\"black\",\"line_dash\":[4,4],\"line_width\":2,\"right_units\":\"screen\",\"syncable\":false,\"top_units\":\"screen\"},\"id\":\"15276\",\"type\":\"BoxAnnotation\"},{\"attributes\":{\"days\":[1,15]},\"id\":\"15953\",\"type\":\"DaysTicker\"},{\"attributes\":{\"data\":{\"GP\":{\"__ndarray__\":\"AAAAAAAAVEAAAAAAAABUQAAAAAAAAFRAAAAAAACAUkAAAAAAAABUQAAAAAAAAFRAAAAAAADAU0AAAAAAAABQQAAAAAAAgFNAAAAAAABAUkAAAAAAAIBTQAAAAAAAgFJAAAAAAACARkAAAAAAAEBUQAAAAAAAAEhAAAAAAAAAT0AAAAAAAAAyQAAAAAAAgFRAAAAAAACAVEAAAAAAAIBRQA==\",\"dtype\":\"float64\",\"order\":\"little\",\"shape\":[20]},\"Pts\":{\"__ndarray__\":\"AAAAAACAZEAAAAAAAIBqQAAAAAAAgGhAAAAAAACgaUAAAAAAAABqQAAAAAAA4GpAAAAAAADgZkAAAAAAAKBiQAAAAAAAAGVAAAAAAADAYUAAAAAAAGBkQAAAAAAAQF5AAAAAAABAUEAAAAAAAEBgQAAAAAAAAEhAAAAAAABAVEAAAAAAAAA1QAAAAAAAQFhAAAAAAACAVkAAAAAAAABPQA==\",\"dtype\":\"float64\",\"order\":\"little\",\"shape\":[20]},\"bottom\":{\"__ndarray__\":\"GJyPwfkYvD8YnI/B+Ri8Pxicj8H5GLw/ytG4HI3LwT8YnI/B+Ri8Pxicj8H5GLw/WJ2K1alYvT8I2J+A/QnIP+pZmJ6F6fE/TcrWpGxN8j/qWZiehenxPzkal6NxOfI/fQzOx+B89D+uSdmalK3xP0H8DsTvQPQ/KVuTsjUp8z9Mz8L0LEwDQM3MzMzMzAhAzczMzMzMCEBF7UrUrkQJQA==\",\"dtype\":\"float64\",\"order\":\"little\",\"shape\":[20]},\"height\":{\"__ndarray__\":\"+hicj8H56D/6GJyPwfnoP/oYnI/B+eg/G5ejcTka5z/6GJyPwfnoP/oYnI/B+eg/qliditWp6D/8E7A/AfvjP1qYnoXpWeg/y9akbE3K5j9amJ6F6VnoPxuXo3E5Guc/GpyPwfkY3D9K2ZqUrUnpP/gdiN+B+N0/XJOyNSlb4z97FqZnYXrGP5qZmZmZmek/mpmZmZmZ6T/blahdidrlPw==\",\"dtype\":\"float64\",\"order\":\"little\",\"shape\":[20]},\"playerID\":[\"gretzwa01\",\"gretzwa01\",\"gretzwa01\",\"gretzwa01\",\"gretzwa01\",\"gretzwa01\",\"gretzwa01\",\"gretzwa01\",\"gretzwa01\",\"gretzwa01\",\"gretzwa01\",\"gretzwa01\",\"gretzwa01\",\"gretzwa01\",\"gretzwa01\",\"gretzwa01\",\"gretzwa01\",\"gretzwa01\",\"gretzwa01\",\"gretzwa01\"],\"pts_per_game\":{\"__ndarray__\":\"ZmZmZmZmAEAzMzMzMzMFQJqZmZmZmQNAmCKfdYMpBkDNzMzMzMwEQAAAAAAAgAVAEJWO7BmIAkAAAAAAAKACQLETO7ETOwFA+fHjx48f/z99y7d8y7cAQJgin3WDKfo/x3Ecx3Ec9z+IRcrA0635PwAAAAAAAPA/55xzzjnn9D+rqqqqqqryP+1K1K5E7fI/kMH5GJyP8T98xVd8xVfsPw==\",\"dtype\":\"float64\",\"order\":\"little\",\"shape\":[20]},\"tmCode\":{\"__ndarray__\":\"AAAAAAAAAAABAQEBAQEBAQIDAwM=\",\"dtype\":\"int8\",\"order\":\"little\",\"shape\":[20]},\"tmID\":[\"EDM\",\"EDM\",\"EDM\",\"EDM\",\"EDM\",\"EDM\",\"EDM\",\"EDM\",\"LAK\",\"LAK\",\"LAK\",\"LAK\",\"LAK\",\"LAK\",\"LAK\",\"LAK\",\"STL\",\"NYR\",\"NYR\",\"NYR\"],\"top\":{\"__ndarray__\":\"fQzOx+B87D99DM7H4HzsP30MzsfgfOw/jsvRuByN6z99DM7H4HzsP30MzsfgfOw/VaxOxepU7D/+CdifgP3pPxemZ2F6Fv4/sjUpW5Oy/T8Xpmdhehb+P8blaFyOxv0/hPMxOB+D+z9TtiZla1L+P78D8TsQv/s/16RsTcrW/D+0MD0L07MEQDQzMzMzMw9ANDMzMzMzD0C8ErUrUbsOQA==\",\"dtype\":\"float64\",\"order\":\"little\",\"shape\":[20]},\"year\":{\"__ndarray__\":\"AAAAHM5dUkIAAAD+AzVUQgAAAEnwClZCAAAAlNzgV0IAAADfyLZZQgAAAMH+jVtCAAAADOtjXUIAAABX1zlfQgAAANHhh2BCAAAAwnxzYUIAAIDncl5iQgAAAA1pSWNCAACAMl80ZEIAAIAj+h9lQgAAAEnwCmZCAACAbub1ZkIAAIBu5vVmQgAAAJTc4GdCAAAAhXfMaEIAAICqbbdpQg==\",\"dtype\":\"float64\",\"order\":\"little\",\"shape\":[20]}},\"selected\":{\"id\":\"15945\"},\"selection_policy\":{\"id\":\"15944\"}},\"id\":\"15253\",\"type\":\"ColumnDataSource\"},{\"attributes\":{},\"id\":\"15943\",\"type\":\"AllLabels\"},{\"attributes\":{\"tools\":[{\"id\":\"15270\"},{\"id\":\"15271\"},{\"id\":\"15272\"},{\"id\":\"15273\"},{\"id\":\"15274\"},{\"id\":\"15275\"}]},\"id\":\"15277\",\"type\":\"Toolbar\"},{\"attributes\":{},\"id\":\"15274\",\"type\":\"ResetTool\"},{\"attributes\":{},\"id\":\"15273\",\"type\":\"SaveTool\"},{\"attributes\":{},\"id\":\"15275\",\"type\":\"HelpTool\"},{\"attributes\":{},\"id\":\"15958\",\"type\":\"YearsTicker\"},{\"attributes\":{\"months\":[0,1,2,3,4,5,6,7,8,9,10,11]},\"id\":\"15954\",\"type\":\"MonthsTicker\"},{\"attributes\":{},\"id\":\"15939\",\"type\":\"AllLabels\"},{\"attributes\":{},\"id\":\"15944\",\"type\":\"UnionRenderers\"},{\"attributes\":{},\"id\":\"15938\",\"type\":\"CategoricalTickFormatter\"},{\"attributes\":{\"bottom\":{\"field\":\"bottom\"},\"fill_alpha\":{\"value\":0.2},\"fill_color\":{\"field\":\"pts_per_game\",\"transform\":{\"id\":\"13682\"}},\"hatch_alpha\":{\"value\":0.2},\"hatch_color\":{\"field\":\"pts_per_game\",\"transform\":{\"id\":\"13682\"}},\"line_alpha\":{\"value\":0.2},\"line_color\":{\"field\":\"pts_per_game\",\"transform\":{\"id\":\"13682\"}},\"top\":{\"field\":\"top\"},\"width\":{\"value\":27648000000},\"x\":{\"field\":\"year\"}},\"id\":\"15287\",\"type\":\"VBar\"},{\"attributes\":{\"axis\":{\"id\":\"15263\"},\"coordinates\":null,\"group\":null,\"ticker\":null},\"id\":\"15266\",\"type\":\"Grid\"},{\"attributes\":{\"coordinates\":null,\"formatter\":{\"id\":\"15938\"},\"group\":null,\"major_label_policy\":{\"id\":\"15939\"},\"major_label_text_font_size\":\"12pt\",\"ticker\":{\"id\":\"15268\"}},\"id\":\"15267\",\"type\":\"CategoricalAxis\"},{\"attributes\":{\"base\":24,\"mantissas\":[1,2,4,6,8,12],\"max_interval\":43200000.0,\"min_interval\":3600000.0,\"num_minor_ticks\":0},\"id\":\"15949\",\"type\":\"AdaptiveTicker\"},{\"attributes\":{\"days\":[1,4,7,10,13,16,19,22,25,28]},\"id\":\"15951\",\"type\":\"DaysTicker\"},{\"attributes\":{\"days\":[1,2,3,4,5,6,7,8,9,10,11,12,13,14,15,16,17,18,19,20,21,22,23,24,25,26,27,28,29,30,31]},\"id\":\"15950\",\"type\":\"DaysTicker\"},{\"attributes\":{\"bottom\":{\"field\":\"bottom\"},\"fill_alpha\":{\"value\":0.1},\"fill_color\":{\"field\":\"pts_per_game\",\"transform\":{\"id\":\"13682\"}},\"hatch_alpha\":{\"value\":0.1},\"hatch_color\":{\"field\":\"pts_per_game\",\"transform\":{\"id\":\"13682\"}},\"line_alpha\":{\"value\":0.1},\"line_color\":{\"field\":\"pts_per_game\",\"transform\":{\"id\":\"13682\"}},\"top\":{\"field\":\"top\"},\"width\":{\"value\":27648000000},\"x\":{\"field\":\"year\"}},\"id\":\"15286\",\"type\":\"VBar\"},{\"attributes\":{\"base\":60,\"mantissas\":[1,2,5,10,15,20,30],\"max_interval\":1800000.0,\"min_interval\":1000.0,\"num_minor_ticks\":0},\"id\":\"15948\",\"type\":\"AdaptiveTicker\"}],\"root_ids\":[\"15254\"]},\"title\":\"Bokeh Application\",\"version\":\"2.4.1\"}};\n  const render_items = [{\"docid\":\"a4fb0125-bdd1-4cc4-9282-345426b9f230\",\"root_ids\":[\"15254\"],\"roots\":{\"15254\":\"ede73784-12c7-4999-ba0a-88683bd53094\"}}];\n  root.Bokeh.embed.embed_items_notebook(docs_json, render_items);\n\n  }\n  if (root.Bokeh !== undefined) {\n    embed_document(root);\n  } else {\n    let attempts = 0;\n    const timer = setInterval(function(root) {\n      if (root.Bokeh !== undefined) {\n        clearInterval(timer);\n        embed_document(root);\n      } else {\n        attempts++;\n        if (attempts > 100) {\n          clearInterval(timer);\n          console.log(\"Bokeh: ERROR: Unable to run BokehJS code because BokehJS library is missing\");\n        }\n      }\n    }, 10, root)\n  }\n})(window);",
      "application/vnd.bokehjs_exec.v0+json": ""
     },
     "metadata": {
      "application/vnd.bokehjs_exec.v0+json": {
       "id": "15254"
      }
     },
     "output_type": "display_data"
    }
   ],
   "source": [
    "from bokeh.models import ColorBar\n",
    "src = cds(wayne)\n",
    "p = figure(x_axis_type='datetime',\n",
    "           height=500, width = 500,\n",
    "           y_range=list(wayne.tmID.cat.categories)\n",
    "           )\n",
    "p.vbar(bottom='bottom',\n",
    "       top='top', x='year',\n",
    "       width=width,\n",
    "       color={'field': 'pts_per_game', 'transform': color_mapper},\n",
    "       source=src\n",
    "       )\n",
    "\n",
    "color_bar = ColorBar(color_mapper=color_mapper,\n",
    "                     label_standoff=8, border_line_color=None,\n",
    "                     location=(0,0)\n",
    "                     )\n",
    "p.add_layout(color_bar, 'right')\n",
    "\n",
    "p.xaxis.major_label_text_font_size = \"12pt\"\n",
    "p.yaxis.major_label_text_font_size = \"12pt\"\n",
    "\n",
    "show(p)\n"
   ],
   "metadata": {
    "collapsed": false,
    "pycharm": {
     "name": "#%%\n"
    }
   }
  },
  {
   "cell_type": "code",
   "execution_count": 220,
   "outputs": [
    {
     "data": {
      "text/html": "\n\n\n\n\n\n  <div class=\"bk-root\" id=\"b366f969-c143-46ff-92bb-b0cce2e57aa1\" data-root-id=\"16081\"></div>\n"
     },
     "metadata": {},
     "output_type": "display_data"
    },
    {
     "data": {
      "application/javascript": "(function(root) {\n  function embed_document(root) {\n    \n  const docs_json = {\"76a16d42-60f5-4d2c-9ab2-b05bb2921c8f\":{\"defs\":[],\"roots\":{\"references\":[{\"attributes\":{\"below\":[{\"id\":\"16090\"}],\"center\":[{\"id\":\"16093\"},{\"id\":\"16096\"}],\"height\":500,\"left\":[{\"id\":\"16094\"}],\"renderers\":[{\"id\":\"16115\"}],\"right\":[{\"id\":\"16117\"}],\"title\":{\"id\":\"16787\"},\"toolbar\":{\"id\":\"16104\"},\"width\":500,\"x_range\":{\"id\":\"16082\"},\"x_scale\":{\"id\":\"16086\"},\"y_range\":{\"id\":\"16084\"},\"y_scale\":{\"id\":\"16088\"}},\"id\":\"16081\",\"subtype\":\"Figure\",\"type\":\"Plot\"},{\"attributes\":{},\"id\":\"16086\",\"type\":\"LinearScale\"},{\"attributes\":{\"axis\":{\"id\":\"16090\"},\"coordinates\":null,\"group\":null,\"ticker\":null},\"id\":\"16093\",\"type\":\"Grid\"},{\"attributes\":{\"months\":[0,6]},\"id\":\"16809\",\"type\":\"MonthsTicker\"},{\"attributes\":{},\"id\":\"16101\",\"type\":\"ResetTool\"},{\"attributes\":{\"days\":[1,8,15,22]},\"id\":\"16804\",\"type\":\"DaysTicker\"},{\"attributes\":{\"bottom\":{\"field\":\"bottom\"},\"fill_alpha\":{\"value\":0.2},\"fill_color\":{\"field\":\"pts_per_game\",\"transform\":{\"id\":\"13682\"}},\"hatch_alpha\":{\"value\":0.2},\"hatch_color\":{\"field\":\"pts_per_game\",\"transform\":{\"id\":\"13682\"}},\"line_alpha\":{\"value\":0.2},\"line_color\":{\"field\":\"pts_per_game\",\"transform\":{\"id\":\"13682\"}},\"top\":{\"field\":\"top\"},\"width\":{\"value\":27648000000},\"x\":{\"field\":\"year\"}},\"id\":\"16114\",\"type\":\"VBar\"},{\"attributes\":{},\"id\":\"16792\",\"type\":\"NoOverlap\"},{\"attributes\":{\"days\":[1,2,3,4,5,6,7,8,9,10,11,12,13,14,15,16,17,18,19,20,21,22,23,24,25,26,27,28,29,30,31]},\"id\":\"16802\",\"type\":\"DaysTicker\"},{\"attributes\":{},\"id\":\"16797\",\"type\":\"Selection\"},{\"attributes\":{\"days\":[1,15]},\"id\":\"16805\",\"type\":\"DaysTicker\"},{\"attributes\":{\"axis\":{\"id\":\"16094\"},\"coordinates\":null,\"dimension\":1,\"group\":null,\"ticker\":null},\"id\":\"16096\",\"type\":\"Grid\"},{\"attributes\":{\"months\":[0,2,4,6,8,10]},\"id\":\"16807\",\"type\":\"MonthsTicker\"},{\"attributes\":{\"overlay\":{\"id\":\"16103\"}},\"id\":\"16099\",\"type\":\"BoxZoomTool\"},{\"attributes\":{},\"id\":\"16095\",\"type\":\"CategoricalTicker\"},{\"attributes\":{},\"id\":\"16790\",\"type\":\"CategoricalTickFormatter\"},{\"attributes\":{\"months\":[0,1,2,3,4,5,6,7,8,9,10,11]},\"id\":\"16806\",\"type\":\"MonthsTicker\"},{\"attributes\":{\"tools\":[{\"id\":\"16097\"},{\"id\":\"16098\"},{\"id\":\"16099\"},{\"id\":\"16100\"},{\"id\":\"16101\"},{\"id\":\"16102\"},{\"id\":\"16079\"}]},\"id\":\"16104\",\"type\":\"Toolbar\"},{\"attributes\":{\"base\":24,\"mantissas\":[1,2,4,6,8,12],\"max_interval\":43200000.0,\"min_interval\":3600000.0,\"num_minor_ticks\":0},\"id\":\"16801\",\"type\":\"AdaptiveTicker\"},{\"attributes\":{},\"id\":\"16796\",\"type\":\"UnionRenderers\"},{\"attributes\":{\"base\":60,\"mantissas\":[1,2,5,10,15,20,30],\"max_interval\":1800000.0,\"min_interval\":1000.0,\"num_minor_ticks\":0},\"id\":\"16800\",\"type\":\"AdaptiveTicker\"},{\"attributes\":{\"coordinates\":null,\"formatter\":{\"id\":\"16794\"},\"group\":null,\"major_label_policy\":{\"id\":\"16795\"},\"major_label_text_font_size\":\"12pt\",\"ticker\":{\"id\":\"16091\"}},\"id\":\"16090\",\"type\":\"DatetimeAxis\"},{\"attributes\":{\"coordinates\":null,\"data_source\":{\"id\":\"16080\"},\"glyph\":{\"id\":\"16112\"},\"group\":null,\"hover_glyph\":null,\"muted_glyph\":{\"id\":\"16114\"},\"nonselection_glyph\":{\"id\":\"16113\"},\"view\":{\"id\":\"16116\"}},\"id\":\"16115\",\"type\":\"GlyphRenderer\"},{\"attributes\":{\"callback\":null,\"tooltips\":[[\"Points per game\",\"@pts_per_game\"],[\"Games Played\",\"@GP\"]]},\"id\":\"16079\",\"type\":\"HoverTool\"},{\"attributes\":{\"data\":{\"GP\":{\"__ndarray__\":\"AAAAAAAAVEAAAAAAAABUQAAAAAAAAFRAAAAAAACAUkAAAAAAAABUQAAAAAAAAFRAAAAAAADAU0AAAAAAAABQQAAAAAAAgFNAAAAAAABAUkAAAAAAAIBTQAAAAAAAgFJAAAAAAACARkAAAAAAAEBUQAAAAAAAAEhAAAAAAAAAT0AAAAAAAAAyQAAAAAAAgFRAAAAAAACAVEAAAAAAAIBRQA==\",\"dtype\":\"float64\",\"order\":\"little\",\"shape\":[20]},\"Pts\":{\"__ndarray__\":\"AAAAAACAZEAAAAAAAIBqQAAAAAAAgGhAAAAAAACgaUAAAAAAAABqQAAAAAAA4GpAAAAAAADgZkAAAAAAAKBiQAAAAAAAAGVAAAAAAADAYUAAAAAAAGBkQAAAAAAAQF5AAAAAAABAUEAAAAAAAEBgQAAAAAAAAEhAAAAAAABAVEAAAAAAAAA1QAAAAAAAQFhAAAAAAACAVkAAAAAAAABPQA==\",\"dtype\":\"float64\",\"order\":\"little\",\"shape\":[20]},\"bottom\":{\"__ndarray__\":\"GJyPwfkYvD8YnI/B+Ri8Pxicj8H5GLw/ytG4HI3LwT8YnI/B+Ri8Pxicj8H5GLw/WJ2K1alYvT8I2J+A/QnIP+pZmJ6F6fE/TcrWpGxN8j/qWZiehenxPzkal6NxOfI/fQzOx+B89D+uSdmalK3xP0H8DsTvQPQ/KVuTsjUp8z9Mz8L0LEwDQM3MzMzMzAhAzczMzMzMCEBF7UrUrkQJQA==\",\"dtype\":\"float64\",\"order\":\"little\",\"shape\":[20]},\"height\":{\"__ndarray__\":\"+hicj8H56D/6GJyPwfnoP/oYnI/B+eg/G5ejcTka5z/6GJyPwfnoP/oYnI/B+eg/qliditWp6D/8E7A/AfvjP1qYnoXpWeg/y9akbE3K5j9amJ6F6VnoPxuXo3E5Guc/GpyPwfkY3D9K2ZqUrUnpP/gdiN+B+N0/XJOyNSlb4z97FqZnYXrGP5qZmZmZmek/mpmZmZmZ6T/blahdidrlPw==\",\"dtype\":\"float64\",\"order\":\"little\",\"shape\":[20]},\"playerID\":[\"gretzwa01\",\"gretzwa01\",\"gretzwa01\",\"gretzwa01\",\"gretzwa01\",\"gretzwa01\",\"gretzwa01\",\"gretzwa01\",\"gretzwa01\",\"gretzwa01\",\"gretzwa01\",\"gretzwa01\",\"gretzwa01\",\"gretzwa01\",\"gretzwa01\",\"gretzwa01\",\"gretzwa01\",\"gretzwa01\",\"gretzwa01\",\"gretzwa01\"],\"pts_per_game\":{\"__ndarray__\":\"ZmZmZmZmAEAzMzMzMzMFQJqZmZmZmQNAmCKfdYMpBkDNzMzMzMwEQAAAAAAAgAVAEJWO7BmIAkAAAAAAAKACQLETO7ETOwFA+fHjx48f/z99y7d8y7cAQJgin3WDKfo/x3Ecx3Ec9z+IRcrA0635PwAAAAAAAPA/55xzzjnn9D+rqqqqqqryP+1K1K5E7fI/kMH5GJyP8T98xVd8xVfsPw==\",\"dtype\":\"float64\",\"order\":\"little\",\"shape\":[20]},\"tmCode\":{\"__ndarray__\":\"AAAAAAAAAAABAQEBAQEBAQIDAwM=\",\"dtype\":\"int8\",\"order\":\"little\",\"shape\":[20]},\"tmID\":[\"EDM\",\"EDM\",\"EDM\",\"EDM\",\"EDM\",\"EDM\",\"EDM\",\"EDM\",\"LAK\",\"LAK\",\"LAK\",\"LAK\",\"LAK\",\"LAK\",\"LAK\",\"LAK\",\"STL\",\"NYR\",\"NYR\",\"NYR\"],\"top\":{\"__ndarray__\":\"fQzOx+B87D99DM7H4HzsP30MzsfgfOw/jsvRuByN6z99DM7H4HzsP30MzsfgfOw/VaxOxepU7D/+CdifgP3pPxemZ2F6Fv4/sjUpW5Oy/T8Xpmdhehb+P8blaFyOxv0/hPMxOB+D+z9TtiZla1L+P78D8TsQv/s/16RsTcrW/D+0MD0L07MEQDQzMzMzMw9ANDMzMzMzD0C8ErUrUbsOQA==\",\"dtype\":\"float64\",\"order\":\"little\",\"shape\":[20]},\"year\":{\"__ndarray__\":\"AAAAHM5dUkIAAAD+AzVUQgAAAEnwClZCAAAAlNzgV0IAAADfyLZZQgAAAMH+jVtCAAAADOtjXUIAAABX1zlfQgAAANHhh2BCAAAAwnxzYUIAAIDncl5iQgAAAA1pSWNCAACAMl80ZEIAAIAj+h9lQgAAAEnwCmZCAACAbub1ZkIAAIBu5vVmQgAAAJTc4GdCAAAAhXfMaEIAAICqbbdpQg==\",\"dtype\":\"float64\",\"order\":\"little\",\"shape\":[20]}},\"selected\":{\"id\":\"16797\"},\"selection_policy\":{\"id\":\"16796\"}},\"id\":\"16080\",\"type\":\"ColumnDataSource\"},{\"attributes\":{},\"id\":\"16102\",\"type\":\"HelpTool\"},{\"attributes\":{\"coordinates\":null,\"group\":null},\"id\":\"16787\",\"type\":\"Title\"},{\"attributes\":{\"bottom\":{\"field\":\"bottom\"},\"fill_color\":{\"field\":\"pts_per_game\",\"transform\":{\"id\":\"13682\"}},\"hatch_color\":{\"field\":\"pts_per_game\",\"transform\":{\"id\":\"13682\"}},\"line_color\":{\"field\":\"pts_per_game\",\"transform\":{\"id\":\"13682\"}},\"top\":{\"field\":\"top\"},\"width\":{\"value\":27648000000},\"x\":{\"field\":\"year\"}},\"id\":\"16112\",\"type\":\"VBar\"},{\"attributes\":{\"high\":2.77027027027027,\"low\":0.8857142857142857,\"palette\":[\"#0C0786\",\"#100787\",\"#130689\",\"#15068A\",\"#18068B\",\"#1B068C\",\"#1D068D\",\"#1F058E\",\"#21058F\",\"#230590\",\"#250591\",\"#270592\",\"#290593\",\"#2B0594\",\"#2D0494\",\"#2F0495\",\"#310496\",\"#330497\",\"#340498\",\"#360498\",\"#380499\",\"#3A049A\",\"#3B039A\",\"#3D039B\",\"#3F039C\",\"#40039C\",\"#42039D\",\"#44039E\",\"#45039E\",\"#47029F\",\"#49029F\",\"#4A02A0\",\"#4C02A1\",\"#4E02A1\",\"#4F02A2\",\"#5101A2\",\"#5201A3\",\"#5401A3\",\"#5601A3\",\"#5701A4\",\"#5901A4\",\"#5A00A5\",\"#5C00A5\",\"#5E00A5\",\"#5F00A6\",\"#6100A6\",\"#6200A6\",\"#6400A7\",\"#6500A7\",\"#6700A7\",\"#6800A7\",\"#6A00A7\",\"#6C00A8\",\"#6D00A8\",\"#6F00A8\",\"#7000A8\",\"#7200A8\",\"#7300A8\",\"#7500A8\",\"#7601A8\",\"#7801A8\",\"#7901A8\",\"#7B02A8\",\"#7C02A7\",\"#7E03A7\",\"#7F03A7\",\"#8104A7\",\"#8204A7\",\"#8405A6\",\"#8506A6\",\"#8607A6\",\"#8807A5\",\"#8908A5\",\"#8B09A4\",\"#8C0AA4\",\"#8E0CA4\",\"#8F0DA3\",\"#900EA3\",\"#920FA2\",\"#9310A1\",\"#9511A1\",\"#9612A0\",\"#9713A0\",\"#99149F\",\"#9A159E\",\"#9B179E\",\"#9D189D\",\"#9E199C\",\"#9F1A9B\",\"#A01B9B\",\"#A21C9A\",\"#A31D99\",\"#A41E98\",\"#A51F97\",\"#A72197\",\"#A82296\",\"#A92395\",\"#AA2494\",\"#AC2593\",\"#AD2692\",\"#AE2791\",\"#AF2890\",\"#B02A8F\",\"#B12B8F\",\"#B22C8E\",\"#B42D8D\",\"#B52E8C\",\"#B62F8B\",\"#B7308A\",\"#B83289\",\"#B93388\",\"#BA3487\",\"#BB3586\",\"#BC3685\",\"#BD3784\",\"#BE3883\",\"#BF3982\",\"#C03B81\",\"#C13C80\",\"#C23D80\",\"#C33E7F\",\"#C43F7E\",\"#C5407D\",\"#C6417C\",\"#C7427B\",\"#C8447A\",\"#C94579\",\"#CA4678\",\"#CB4777\",\"#CC4876\",\"#CD4975\",\"#CE4A75\",\"#CF4B74\",\"#D04D73\",\"#D14E72\",\"#D14F71\",\"#D25070\",\"#D3516F\",\"#D4526E\",\"#D5536D\",\"#D6556D\",\"#D7566C\",\"#D7576B\",\"#D8586A\",\"#D95969\",\"#DA5A68\",\"#DB5B67\",\"#DC5D66\",\"#DC5E66\",\"#DD5F65\",\"#DE6064\",\"#DF6163\",\"#DF6262\",\"#E06461\",\"#E16560\",\"#E26660\",\"#E3675F\",\"#E3685E\",\"#E46A5D\",\"#E56B5C\",\"#E56C5B\",\"#E66D5A\",\"#E76E5A\",\"#E87059\",\"#E87158\",\"#E97257\",\"#EA7356\",\"#EA7455\",\"#EB7654\",\"#EC7754\",\"#EC7853\",\"#ED7952\",\"#ED7B51\",\"#EE7C50\",\"#EF7D4F\",\"#EF7E4E\",\"#F0804D\",\"#F0814D\",\"#F1824C\",\"#F2844B\",\"#F2854A\",\"#F38649\",\"#F38748\",\"#F48947\",\"#F48A47\",\"#F58B46\",\"#F58D45\",\"#F68E44\",\"#F68F43\",\"#F69142\",\"#F79241\",\"#F79341\",\"#F89540\",\"#F8963F\",\"#F8983E\",\"#F9993D\",\"#F99A3C\",\"#FA9C3B\",\"#FA9D3A\",\"#FA9F3A\",\"#FAA039\",\"#FBA238\",\"#FBA337\",\"#FBA436\",\"#FCA635\",\"#FCA735\",\"#FCA934\",\"#FCAA33\",\"#FCAC32\",\"#FCAD31\",\"#FDAF31\",\"#FDB030\",\"#FDB22F\",\"#FDB32E\",\"#FDB52D\",\"#FDB62D\",\"#FDB82C\",\"#FDB92B\",\"#FDBB2B\",\"#FDBC2A\",\"#FDBE29\",\"#FDC029\",\"#FDC128\",\"#FDC328\",\"#FDC427\",\"#FDC626\",\"#FCC726\",\"#FCC926\",\"#FCCB25\",\"#FCCC25\",\"#FCCE25\",\"#FBD024\",\"#FBD124\",\"#FBD324\",\"#FAD524\",\"#FAD624\",\"#FAD824\",\"#F9D924\",\"#F9DB24\",\"#F8DD24\",\"#F8DF24\",\"#F7E024\",\"#F7E225\",\"#F6E425\",\"#F6E525\",\"#F5E726\",\"#F5E926\",\"#F4EA26\",\"#F3EC26\",\"#F3EE26\",\"#F2F026\",\"#F2F126\",\"#F1F326\",\"#F0F525\",\"#F0F623\",\"#EFF821\"]},\"id\":\"13682\",\"type\":\"LinearColorMapper\"},{\"attributes\":{\"source\":{\"id\":\"16080\"}},\"id\":\"16116\",\"type\":\"CDSView\"},{\"attributes\":{},\"id\":\"16794\",\"type\":\"DatetimeTickFormatter\"},{\"attributes\":{},\"id\":\"16100\",\"type\":\"SaveTool\"},{\"attributes\":{\"mantissas\":[1,2,5],\"max_interval\":500.0,\"num_minor_ticks\":0},\"id\":\"16799\",\"type\":\"AdaptiveTicker\"},{\"attributes\":{\"days\":[1,4,7,10,13,16,19,22,25,28]},\"id\":\"16803\",\"type\":\"DaysTicker\"},{\"attributes\":{},\"id\":\"16098\",\"type\":\"WheelZoomTool\"},{\"attributes\":{},\"id\":\"16082\",\"type\":\"DataRange1d\"},{\"attributes\":{},\"id\":\"16097\",\"type\":\"PanTool\"},{\"attributes\":{\"coordinates\":null,\"formatter\":{\"id\":\"16790\"},\"group\":null,\"major_label_policy\":{\"id\":\"16791\"},\"major_label_text_font_size\":\"12pt\",\"ticker\":{\"id\":\"16095\"}},\"id\":\"16094\",\"type\":\"CategoricalAxis\"},{\"attributes\":{\"bottom\":{\"field\":\"bottom\"},\"fill_alpha\":{\"value\":0.1},\"fill_color\":{\"field\":\"pts_per_game\",\"transform\":{\"id\":\"13682\"}},\"hatch_alpha\":{\"value\":0.1},\"hatch_color\":{\"field\":\"pts_per_game\",\"transform\":{\"id\":\"13682\"}},\"line_alpha\":{\"value\":0.1},\"line_color\":{\"field\":\"pts_per_game\",\"transform\":{\"id\":\"13682\"}},\"top\":{\"field\":\"top\"},\"width\":{\"value\":27648000000},\"x\":{\"field\":\"year\"}},\"id\":\"16113\",\"type\":\"VBar\"},{\"attributes\":{\"num_minor_ticks\":5,\"tickers\":[{\"id\":\"16799\"},{\"id\":\"16800\"},{\"id\":\"16801\"},{\"id\":\"16802\"},{\"id\":\"16803\"},{\"id\":\"16804\"},{\"id\":\"16805\"},{\"id\":\"16806\"},{\"id\":\"16807\"},{\"id\":\"16808\"},{\"id\":\"16809\"},{\"id\":\"16810\"}]},\"id\":\"16091\",\"type\":\"DatetimeTicker\"},{\"attributes\":{\"months\":[0,4,8]},\"id\":\"16808\",\"type\":\"MonthsTicker\"},{\"attributes\":{},\"id\":\"16088\",\"type\":\"CategoricalScale\"},{\"attributes\":{},\"id\":\"16791\",\"type\":\"AllLabels\"},{\"attributes\":{},\"id\":\"16810\",\"type\":\"YearsTicker\"},{\"attributes\":{\"factors\":[\"EDM\",\"LAK\",\"STL\",\"NYR\"]},\"id\":\"16084\",\"type\":\"FactorRange\"},{\"attributes\":{},\"id\":\"16795\",\"type\":\"AllLabels\"},{\"attributes\":{\"color_mapper\":{\"id\":\"13682\"},\"coordinates\":null,\"group\":null,\"label_standoff\":8,\"location\":[0,0],\"major_label_policy\":{\"id\":\"16792\"}},\"id\":\"16117\",\"type\":\"ColorBar\"},{\"attributes\":{\"bottom_units\":\"screen\",\"coordinates\":null,\"fill_alpha\":0.5,\"fill_color\":\"lightgrey\",\"group\":null,\"left_units\":\"screen\",\"level\":\"overlay\",\"line_alpha\":1.0,\"line_color\":\"black\",\"line_dash\":[4,4],\"line_width\":2,\"right_units\":\"screen\",\"syncable\":false,\"top_units\":\"screen\"},\"id\":\"16103\",\"type\":\"BoxAnnotation\"}],\"root_ids\":[\"16081\"]},\"title\":\"Bokeh Application\",\"version\":\"2.4.1\"}};\n  const render_items = [{\"docid\":\"76a16d42-60f5-4d2c-9ab2-b05bb2921c8f\",\"root_ids\":[\"16081\"],\"roots\":{\"16081\":\"b366f969-c143-46ff-92bb-b0cce2e57aa1\"}}];\n  root.Bokeh.embed.embed_items_notebook(docs_json, render_items);\n\n  }\n  if (root.Bokeh !== undefined) {\n    embed_document(root);\n  } else {\n    let attempts = 0;\n    const timer = setInterval(function(root) {\n      if (root.Bokeh !== undefined) {\n        clearInterval(timer);\n        embed_document(root);\n      } else {\n        attempts++;\n        if (attempts > 100) {\n          clearInterval(timer);\n          console.log(\"Bokeh: ERROR: Unable to run BokehJS code because BokehJS library is missing\");\n        }\n      }\n    }, 10, root)\n  }\n})(window);",
      "application/vnd.bokehjs_exec.v0+json": ""
     },
     "metadata": {
      "application/vnd.bokehjs_exec.v0+json": {
       "id": "16081"
      }
     },
     "output_type": "display_data"
    }
   ],
   "source": [
    "from bokeh.models import HoverTool\n",
    "\n",
    "hover = HoverTool(\n",
    "    tooltips=[\n",
    "        ('Points per game', \"@pts_per_game\"),\n",
    "        (\"Games Played\", '@GP')\n",
    "    ]\n",
    ")\n",
    "\n",
    "src = cds(wayne)\n",
    "p = figure(x_axis_type='datetime',\n",
    "           height=500, width = 500,\n",
    "           y_range=list(wayne.tmID.cat.categories)\n",
    "           )\n",
    "p.vbar(bottom='bottom',\n",
    "       top='top', x='year',\n",
    "       width=width,\n",
    "       color={'field': 'pts_per_game', 'transform': color_mapper},\n",
    "       source=src\n",
    "       )\n",
    "\n",
    "color_bar = ColorBar(color_mapper=color_mapper,\n",
    "                     label_standoff=8, border_line_color=None,\n",
    "                     location=(0,0)\n",
    "                     )\n",
    "p.add_layout(color_bar, 'right')\n",
    "p.add_tools(hover)\n",
    "\n",
    "p.xaxis.major_label_text_font_size = \"12pt\"\n",
    "p.yaxis.major_label_text_font_size = \"12pt\"\n",
    "\n",
    "show(p)\n"
   ],
   "metadata": {
    "collapsed": false,
    "pycharm": {
     "name": "#%%\n"
    }
   }
  }
 ],
 "metadata": {
  "kernelspec": {
   "display_name": "Python 3",
   "language": "python",
   "name": "python3"
  },
  "language_info": {
   "codemirror_mode": {
    "name": "ipython",
    "version": 2
   },
   "file_extension": ".py",
   "mimetype": "text/x-python",
   "name": "python",
   "nbconvert_exporter": "python",
   "pygments_lexer": "ipython2",
   "version": "2.7.6"
  }
 },
 "nbformat": 4,
 "nbformat_minor": 0
}