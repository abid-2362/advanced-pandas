{
 "cells": [
  {
   "cell_type": "code",
   "execution_count": 1,
   "outputs": [],
   "source": [
    "import os            # for file paths\n",
    "import pandas as pd\n",
    "from pandas import isnull\n"
   ],
   "metadata": {
    "collapsed": false,
    "pycharm": {
     "name": "#%%\n"
    }
   }
  },
  {
   "cell_type": "code",
   "execution_count": 2,
   "outputs": [
    {
     "data": {
      "text/plain": "    playerID coachID hofID firstName    lastName nameNote         nameGiven  \\\n0  aaltoan01     NaN   NaN     Antti       Aalto      NaN             Antti   \n1  abbeybr01     NaN   NaN     Bruce       Abbey      NaN             Bruce   \n2  abbotge01     NaN   NaN    George      Abbott      NaN      George Henry   \n3  abbotre01     NaN   NaN       Reg      Abbott      NaN  Reginald Stewart   \n4  abdelju01     NaN   NaN    Justin  Abdelkader      NaN               NaN   \n\n   nameNick  height  weight  ... birthDay birthCountry  birthState  \\\n0       NaN    73.0   210.0  ...      4.0      Finland         NaN   \n1       NaN    73.0   185.0  ...     18.0       Canada          ON   \n2  Preacher    67.0   153.0  ...      3.0       Canada          ON   \n3       NaN    71.0   164.0  ...      4.0       Canada          MB   \n4       NaN    73.0   195.0  ...     25.0          USA          MI   \n\n      birthCity  deathYear  deathMon  deathDay  deathCountry deathState  \\\n0  Lappeenranta        NaN       NaN       NaN           NaN        NaN   \n1       Toronto        NaN       NaN       NaN           NaN        NaN   \n2      Synenham        NaN       NaN       NaN           NaN        NaN   \n3      Winnipeg        NaN       NaN       NaN           NaN        NaN   \n4      Muskegon        NaN       NaN       NaN           NaN        NaN   \n\n   deathCity  \n0        NaN  \n1        NaN  \n2        NaN  \n3        NaN  \n4        NaN  \n\n[5 rows x 31 columns]",
      "text/html": "<div>\n<style scoped>\n    .dataframe tbody tr th:only-of-type {\n        vertical-align: middle;\n    }\n\n    .dataframe tbody tr th {\n        vertical-align: top;\n    }\n\n    .dataframe thead th {\n        text-align: right;\n    }\n</style>\n<table border=\"1\" class=\"dataframe\">\n  <thead>\n    <tr style=\"text-align: right;\">\n      <th></th>\n      <th>playerID</th>\n      <th>coachID</th>\n      <th>hofID</th>\n      <th>firstName</th>\n      <th>lastName</th>\n      <th>nameNote</th>\n      <th>nameGiven</th>\n      <th>nameNick</th>\n      <th>height</th>\n      <th>weight</th>\n      <th>...</th>\n      <th>birthDay</th>\n      <th>birthCountry</th>\n      <th>birthState</th>\n      <th>birthCity</th>\n      <th>deathYear</th>\n      <th>deathMon</th>\n      <th>deathDay</th>\n      <th>deathCountry</th>\n      <th>deathState</th>\n      <th>deathCity</th>\n    </tr>\n  </thead>\n  <tbody>\n    <tr>\n      <th>0</th>\n      <td>aaltoan01</td>\n      <td>NaN</td>\n      <td>NaN</td>\n      <td>Antti</td>\n      <td>Aalto</td>\n      <td>NaN</td>\n      <td>Antti</td>\n      <td>NaN</td>\n      <td>73.0</td>\n      <td>210.0</td>\n      <td>...</td>\n      <td>4.0</td>\n      <td>Finland</td>\n      <td>NaN</td>\n      <td>Lappeenranta</td>\n      <td>NaN</td>\n      <td>NaN</td>\n      <td>NaN</td>\n      <td>NaN</td>\n      <td>NaN</td>\n      <td>NaN</td>\n    </tr>\n    <tr>\n      <th>1</th>\n      <td>abbeybr01</td>\n      <td>NaN</td>\n      <td>NaN</td>\n      <td>Bruce</td>\n      <td>Abbey</td>\n      <td>NaN</td>\n      <td>Bruce</td>\n      <td>NaN</td>\n      <td>73.0</td>\n      <td>185.0</td>\n      <td>...</td>\n      <td>18.0</td>\n      <td>Canada</td>\n      <td>ON</td>\n      <td>Toronto</td>\n      <td>NaN</td>\n      <td>NaN</td>\n      <td>NaN</td>\n      <td>NaN</td>\n      <td>NaN</td>\n      <td>NaN</td>\n    </tr>\n    <tr>\n      <th>2</th>\n      <td>abbotge01</td>\n      <td>NaN</td>\n      <td>NaN</td>\n      <td>George</td>\n      <td>Abbott</td>\n      <td>NaN</td>\n      <td>George Henry</td>\n      <td>Preacher</td>\n      <td>67.0</td>\n      <td>153.0</td>\n      <td>...</td>\n      <td>3.0</td>\n      <td>Canada</td>\n      <td>ON</td>\n      <td>Synenham</td>\n      <td>NaN</td>\n      <td>NaN</td>\n      <td>NaN</td>\n      <td>NaN</td>\n      <td>NaN</td>\n      <td>NaN</td>\n    </tr>\n    <tr>\n      <th>3</th>\n      <td>abbotre01</td>\n      <td>NaN</td>\n      <td>NaN</td>\n      <td>Reg</td>\n      <td>Abbott</td>\n      <td>NaN</td>\n      <td>Reginald Stewart</td>\n      <td>NaN</td>\n      <td>71.0</td>\n      <td>164.0</td>\n      <td>...</td>\n      <td>4.0</td>\n      <td>Canada</td>\n      <td>MB</td>\n      <td>Winnipeg</td>\n      <td>NaN</td>\n      <td>NaN</td>\n      <td>NaN</td>\n      <td>NaN</td>\n      <td>NaN</td>\n      <td>NaN</td>\n    </tr>\n    <tr>\n      <th>4</th>\n      <td>abdelju01</td>\n      <td>NaN</td>\n      <td>NaN</td>\n      <td>Justin</td>\n      <td>Abdelkader</td>\n      <td>NaN</td>\n      <td>NaN</td>\n      <td>NaN</td>\n      <td>73.0</td>\n      <td>195.0</td>\n      <td>...</td>\n      <td>25.0</td>\n      <td>USA</td>\n      <td>MI</td>\n      <td>Muskegon</td>\n      <td>NaN</td>\n      <td>NaN</td>\n      <td>NaN</td>\n      <td>NaN</td>\n      <td>NaN</td>\n      <td>NaN</td>\n    </tr>\n  </tbody>\n</table>\n<p>5 rows × 31 columns</p>\n</div>"
     },
     "execution_count": 2,
     "metadata": {},
     "output_type": "execute_result"
    }
   ],
   "source": [
    "# Master.csv\n",
    "master = pd.read_csv(os.path.join('data','Master.csv'))\n",
    "master.head()\n"
   ],
   "metadata": {
    "collapsed": false,
    "pycharm": {
     "name": "#%%\n"
    }
   }
  },
  {
   "cell_type": "code",
   "execution_count": 3,
   "outputs": [
    {
     "data": {
      "text/plain": "(7761, 31)"
     },
     "execution_count": 3,
     "metadata": {},
     "output_type": "execute_result"
    }
   ],
   "source": [
    "master.shape\n"
   ],
   "metadata": {
    "collapsed": false,
    "pycharm": {
     "name": "#%%\n"
    }
   }
  },
  {
   "cell_type": "code",
   "execution_count": 4,
   "outputs": [
    {
     "data": {
      "text/plain": "Index(['playerID', 'coachID', 'hofID', 'firstName', 'lastName', 'nameNote',\n       'nameGiven', 'nameNick', 'height', 'weight', 'shootCatch', 'legendsID',\n       'ihdbID', 'hrefID', 'firstNHL', 'lastNHL', 'firstWHA', 'lastWHA', 'pos',\n       'birthYear', 'birthMon', 'birthDay', 'birthCountry', 'birthState',\n       'birthCity', 'deathYear', 'deathMon', 'deathDay', 'deathCountry',\n       'deathState', 'deathCity'],\n      dtype='object')"
     },
     "execution_count": 4,
     "metadata": {},
     "output_type": "execute_result"
    }
   ],
   "source": [
    "master.columns\n"
   ],
   "metadata": {
    "collapsed": false,
    "pycharm": {
     "name": "#%%\n"
    }
   }
  },
  {
   "cell_type": "code",
   "execution_count": 12,
   "outputs": [
    {
     "data": {
      "text/plain": "False    7520\nTrue      241\nName: playerID, dtype: int64"
     },
     "execution_count": 12,
     "metadata": {},
     "output_type": "execute_result"
    }
   ],
   "source": [
    "# Braces let us structure the code in a more readable way\n",
    "(master['playerID']\n",
    "    .pipe(isnull)\n",
    "    .value_counts())\n"
   ],
   "metadata": {
    "collapsed": false,
    "pycharm": {
     "name": "#%%\n"
    }
   }
  },
  {
   "cell_type": "code",
   "execution_count": 13,
   "outputs": [
    {
     "data": {
      "text/plain": "False    7520\nTrue      241\nName: playerID, dtype: int64"
     },
     "execution_count": 13,
     "metadata": {},
     "output_type": "execute_result"
    }
   ],
   "source": [
    "# This is an alternative to:\n",
    "isnull(master['playerID']).value_counts()\n"
   ],
   "metadata": {
    "collapsed": false,
    "pycharm": {
     "name": "#%%\n"
    }
   }
  },
  {
   "cell_type": "code",
   "execution_count": 15,
   "outputs": [],
   "source": [
    "master_original = master.copy()\n"
   ],
   "metadata": {
    "collapsed": false,
    "pycharm": {
     "name": "#%%\n"
    }
   }
  },
  {
   "cell_type": "code",
   "execution_count": 16,
   "outputs": [
    {
     "data": {
      "text/plain": "(7520, 31)"
     },
     "execution_count": 16,
     "metadata": {},
     "output_type": "execute_result"
    }
   ],
   "source": [
    "master.dropna(subset=['playerID'], inplace=True)\n",
    "master.shape\n"
   ],
   "metadata": {
    "collapsed": false,
    "pycharm": {
     "name": "#%%\n"
    }
   }
  },
  {
   "cell_type": "code",
   "execution_count": 17,
   "outputs": [
    {
     "data": {
      "text/plain": "Index(['playerID', 'coachID', 'hofID', 'firstName', 'lastName', 'nameNote',\n       'nameGiven', 'nameNick', 'height', 'weight', 'shootCatch', 'legendsID',\n       'ihdbID', 'hrefID', 'firstNHL', 'lastNHL', 'firstWHA', 'lastWHA', 'pos',\n       'birthYear', 'birthMon', 'birthDay', 'birthCountry', 'birthState',\n       'birthCity', 'deathYear', 'deathMon', 'deathDay', 'deathCountry',\n       'deathState', 'deathCity'],\n      dtype='object')"
     },
     "execution_count": 17,
     "metadata": {},
     "output_type": "execute_result"
    }
   ],
   "source": [
    "master.columns\n"
   ],
   "metadata": {
    "collapsed": false,
    "pycharm": {
     "name": "#%%\n"
    }
   }
  },
  {
   "cell_type": "code",
   "execution_count": 18,
   "outputs": [
    {
     "data": {
      "text/plain": "(6851, 31)"
     },
     "execution_count": 18,
     "metadata": {},
     "output_type": "execute_result"
    }
   ],
   "source": [
    "# Drop rows where no data for NHL years\n",
    "master = master.dropna(subset=['firstNHL', 'lastNHL'], how='all')\n",
    "master.shape\n"
   ],
   "metadata": {
    "collapsed": false,
    "pycharm": {
     "name": "#%%\n"
    }
   }
  },
  {
   "cell_type": "code",
   "execution_count": 19,
   "outputs": [
    {
     "data": {
      "text/plain": "playerID         object\ncoachID          object\nhofID            object\nfirstName        object\nlastName         object\nnameNote         object\nnameGiven        object\nnameNick         object\nheight          float64\nweight          float64\nshootCatch       object\nlegendsID        object\nihdbID          float64\nhrefID           object\nfirstNHL        float64\nlastNHL         float64\nfirstWHA        float64\nlastWHA         float64\npos              object\nbirthYear       float64\nbirthMon        float64\nbirthDay        float64\nbirthCountry     object\nbirthState       object\nbirthCity        object\ndeathYear       float64\ndeathMon        float64\ndeathDay        float64\ndeathCountry     object\ndeathState       object\ndeathCity        object\ndtype: object"
     },
     "execution_count": 19,
     "metadata": {},
     "output_type": "execute_result"
    }
   ],
   "source": [
    "master.dtypes\n",
    "\n"
   ],
   "metadata": {
    "collapsed": false,
    "pycharm": {
     "name": "#%%\n"
    }
   }
  },
  {
   "cell_type": "code",
   "execution_count": 21,
   "outputs": [
    {
     "data": {
      "text/plain": "(4627, 31)"
     },
     "execution_count": 21,
     "metadata": {},
     "output_type": "execute_result"
    }
   ],
   "source": [
    "master = master.loc[master['lastNHL'] >= 1980]\n",
    "master.shape"
   ],
   "metadata": {
    "collapsed": false,
    "pycharm": {
     "name": "#%%\n"
    }
   }
  },
  {
   "cell_type": "code",
   "execution_count": 22,
   "outputs": [
    {
     "data": {
      "text/plain": "Index(['playerID', 'coachID', 'hofID', 'firstName', 'lastName', 'nameNote',\n       'nameGiven', 'nameNick', 'height', 'weight', 'shootCatch', 'legendsID',\n       'ihdbID', 'hrefID', 'firstNHL', 'lastNHL', 'firstWHA', 'lastWHA', 'pos',\n       'birthYear', 'birthMon', 'birthDay', 'birthCountry', 'birthState',\n       'birthCity', 'deathYear', 'deathMon', 'deathDay', 'deathCountry',\n       'deathState', 'deathCity'],\n      dtype='object')"
     },
     "execution_count": 22,
     "metadata": {},
     "output_type": "execute_result"
    }
   ],
   "source": [
    "master.columns\n"
   ],
   "metadata": {
    "collapsed": false,
    "pycharm": {
     "name": "#%%\n"
    }
   }
  },
  {
   "cell_type": "code",
   "execution_count": 23,
   "outputs": [
    {
     "data": {
      "text/plain": "     playerID firstName     lastName pos  birthYear  birthMon  birthDay  \\\n0   aaltoan01     Antti        Aalto   C     1975.0       3.0       4.0   \n4   abdelju01    Justin   Abdelkader   L     1987.0       2.0      25.0   \n9    abidra01     Ramzi         Abid   L     1980.0       3.0      24.0   \n11  abrahth01    Thommy  Abrahamsson   D     1947.0       4.0      12.0   \n14  actonke01     Keith        Acton   C     1958.0       4.0      15.0   \n\n   birthCountry birthState     birthCity  \n0       Finland        NaN  Lappeenranta  \n4           USA         MI      Muskegon  \n9        Canada         QC      Montreal  \n11       Sweden        NaN       Leksand  \n14       Canada         ON   Stouffville  ",
      "text/html": "<div>\n<style scoped>\n    .dataframe tbody tr th:only-of-type {\n        vertical-align: middle;\n    }\n\n    .dataframe tbody tr th {\n        vertical-align: top;\n    }\n\n    .dataframe thead th {\n        text-align: right;\n    }\n</style>\n<table border=\"1\" class=\"dataframe\">\n  <thead>\n    <tr style=\"text-align: right;\">\n      <th></th>\n      <th>playerID</th>\n      <th>firstName</th>\n      <th>lastName</th>\n      <th>pos</th>\n      <th>birthYear</th>\n      <th>birthMon</th>\n      <th>birthDay</th>\n      <th>birthCountry</th>\n      <th>birthState</th>\n      <th>birthCity</th>\n    </tr>\n  </thead>\n  <tbody>\n    <tr>\n      <th>0</th>\n      <td>aaltoan01</td>\n      <td>Antti</td>\n      <td>Aalto</td>\n      <td>C</td>\n      <td>1975.0</td>\n      <td>3.0</td>\n      <td>4.0</td>\n      <td>Finland</td>\n      <td>NaN</td>\n      <td>Lappeenranta</td>\n    </tr>\n    <tr>\n      <th>4</th>\n      <td>abdelju01</td>\n      <td>Justin</td>\n      <td>Abdelkader</td>\n      <td>L</td>\n      <td>1987.0</td>\n      <td>2.0</td>\n      <td>25.0</td>\n      <td>USA</td>\n      <td>MI</td>\n      <td>Muskegon</td>\n    </tr>\n    <tr>\n      <th>9</th>\n      <td>abidra01</td>\n      <td>Ramzi</td>\n      <td>Abid</td>\n      <td>L</td>\n      <td>1980.0</td>\n      <td>3.0</td>\n      <td>24.0</td>\n      <td>Canada</td>\n      <td>QC</td>\n      <td>Montreal</td>\n    </tr>\n    <tr>\n      <th>11</th>\n      <td>abrahth01</td>\n      <td>Thommy</td>\n      <td>Abrahamsson</td>\n      <td>D</td>\n      <td>1947.0</td>\n      <td>4.0</td>\n      <td>12.0</td>\n      <td>Sweden</td>\n      <td>NaN</td>\n      <td>Leksand</td>\n    </tr>\n    <tr>\n      <th>14</th>\n      <td>actonke01</td>\n      <td>Keith</td>\n      <td>Acton</td>\n      <td>C</td>\n      <td>1958.0</td>\n      <td>4.0</td>\n      <td>15.0</td>\n      <td>Canada</td>\n      <td>ON</td>\n      <td>Stouffville</td>\n    </tr>\n  </tbody>\n</table>\n</div>"
     },
     "execution_count": 23,
     "metadata": {},
     "output_type": "execute_result"
    }
   ],
   "source": [
    "columns_to_keep = ['playerID', 'firstName', 'lastName', 'pos',\n",
    "                   'birthYear', 'birthMon', 'birthDay', 'birthCountry', 'birthState',\n",
    "                   'birthCity']\n",
    "master[columns_to_keep].head()\n"
   ],
   "metadata": {
    "collapsed": false,
    "pycharm": {
     "name": "#%%\n"
    }
   }
  },
  {
   "cell_type": "code",
   "execution_count": 24,
   "outputs": [
    {
     "data": {
      "text/plain": "     playerID firstName     lastName pos  birthYear  birthMon  birthDay  \\\n0   aaltoan01     Antti        Aalto   C     1975.0       3.0       4.0   \n4   abdelju01    Justin   Abdelkader   L     1987.0       2.0      25.0   \n9    abidra01     Ramzi         Abid   L     1980.0       3.0      24.0   \n11  abrahth01    Thommy  Abrahamsson   D     1947.0       4.0      12.0   \n14  actonke01     Keith        Acton   C     1958.0       4.0      15.0   \n\n   birthCountry birthState     birthCity  \n0       Finland        NaN  Lappeenranta  \n4           USA         MI      Muskegon  \n9        Canada         QC      Montreal  \n11       Sweden        NaN       Leksand  \n14       Canada         ON   Stouffville  ",
      "text/html": "<div>\n<style scoped>\n    .dataframe tbody tr th:only-of-type {\n        vertical-align: middle;\n    }\n\n    .dataframe tbody tr th {\n        vertical-align: top;\n    }\n\n    .dataframe thead th {\n        text-align: right;\n    }\n</style>\n<table border=\"1\" class=\"dataframe\">\n  <thead>\n    <tr style=\"text-align: right;\">\n      <th></th>\n      <th>playerID</th>\n      <th>firstName</th>\n      <th>lastName</th>\n      <th>pos</th>\n      <th>birthYear</th>\n      <th>birthMon</th>\n      <th>birthDay</th>\n      <th>birthCountry</th>\n      <th>birthState</th>\n      <th>birthCity</th>\n    </tr>\n  </thead>\n  <tbody>\n    <tr>\n      <th>0</th>\n      <td>aaltoan01</td>\n      <td>Antti</td>\n      <td>Aalto</td>\n      <td>C</td>\n      <td>1975.0</td>\n      <td>3.0</td>\n      <td>4.0</td>\n      <td>Finland</td>\n      <td>NaN</td>\n      <td>Lappeenranta</td>\n    </tr>\n    <tr>\n      <th>4</th>\n      <td>abdelju01</td>\n      <td>Justin</td>\n      <td>Abdelkader</td>\n      <td>L</td>\n      <td>1987.0</td>\n      <td>2.0</td>\n      <td>25.0</td>\n      <td>USA</td>\n      <td>MI</td>\n      <td>Muskegon</td>\n    </tr>\n    <tr>\n      <th>9</th>\n      <td>abidra01</td>\n      <td>Ramzi</td>\n      <td>Abid</td>\n      <td>L</td>\n      <td>1980.0</td>\n      <td>3.0</td>\n      <td>24.0</td>\n      <td>Canada</td>\n      <td>QC</td>\n      <td>Montreal</td>\n    </tr>\n    <tr>\n      <th>11</th>\n      <td>abrahth01</td>\n      <td>Thommy</td>\n      <td>Abrahamsson</td>\n      <td>D</td>\n      <td>1947.0</td>\n      <td>4.0</td>\n      <td>12.0</td>\n      <td>Sweden</td>\n      <td>NaN</td>\n      <td>Leksand</td>\n    </tr>\n    <tr>\n      <th>14</th>\n      <td>actonke01</td>\n      <td>Keith</td>\n      <td>Acton</td>\n      <td>C</td>\n      <td>1958.0</td>\n      <td>4.0</td>\n      <td>15.0</td>\n      <td>Canada</td>\n      <td>ON</td>\n      <td>Stouffville</td>\n    </tr>\n  </tbody>\n</table>\n</div>"
     },
     "execution_count": 24,
     "metadata": {},
     "output_type": "execute_result"
    }
   ],
   "source": [
    "master.filter(columns_to_keep).head()\n"
   ],
   "metadata": {
    "collapsed": false,
    "pycharm": {
     "name": "#%%\n"
    }
   }
  },
  {
   "cell_type": "code",
   "execution_count": 25,
   "outputs": [
    {
     "data": {
      "text/plain": "(4627, 31)"
     },
     "execution_count": 25,
     "metadata": {},
     "output_type": "execute_result"
    }
   ],
   "source": [
    "master.shape\n"
   ],
   "metadata": {
    "collapsed": false,
    "pycharm": {
     "name": "#%%\n"
    }
   }
  },
  {
   "cell_type": "code",
   "execution_count": 27,
   "outputs": [
    {
     "data": {
      "text/plain": "(4627, 10)"
     },
     "execution_count": 27,
     "metadata": {},
     "output_type": "execute_result"
    }
   ],
   "source": [
    "master_modified = master.copy()\n",
    "master = master.filter(columns_to_keep)\n",
    "master.shape\n"
   ],
   "metadata": {
    "collapsed": false,
    "pycharm": {
     "name": "#%%\n"
    }
   }
  },
  {
   "cell_type": "code",
   "execution_count": 28,
   "outputs": [
    {
     "data": {
      "text/plain": "(4627, 31)"
     },
     "execution_count": 28,
     "metadata": {},
     "output_type": "execute_result"
    }
   ],
   "source": [
    "master = master_modified.copy()\n",
    "master.shape\n"
   ],
   "metadata": {
    "collapsed": false,
    "pycharm": {
     "name": "#%%\n"
    }
   }
  },
  {
   "cell_type": "code",
   "execution_count": 29,
   "outputs": [
    {
     "data": {
      "text/plain": "Index(['playerID', 'firstName', 'lastName', 'pos', 'birthYear', 'birthMon',\n       'birthDay', 'birthCountry', 'birthState', 'birthCity'],\n      dtype='object')"
     },
     "execution_count": 29,
     "metadata": {},
     "output_type": "execute_result"
    }
   ],
   "source": [
    "master.filter(regex=\"(playerID|pos|^birth)|(Name$)\").columns"
   ],
   "metadata": {
    "collapsed": false,
    "pycharm": {
     "name": "#%%\n"
    }
   }
  },
  {
   "cell_type": "code",
   "execution_count": 30,
   "outputs": [
    {
     "data": {
      "text/plain": "Index(['playerID', 'firstName', 'lastName', 'pos', 'birthYear', 'birthMon',\n       'birthDay', 'birthCountry', 'birthState', 'birthCity'],\n      dtype='object')"
     },
     "execution_count": 30,
     "metadata": {},
     "output_type": "execute_result"
    }
   ],
   "source": [
    "master.filter(regex=\"(playerID|pos|^birth|Name$)\").columns\n"
   ],
   "metadata": {
    "collapsed": false,
    "pycharm": {
     "name": "#%%\n"
    }
   }
  },
  {
   "cell_type": "code",
   "execution_count": 31,
   "outputs": [
    {
     "data": {
      "text/plain": "(4627, 10)"
     },
     "execution_count": 31,
     "metadata": {},
     "output_type": "execute_result"
    }
   ],
   "source": [
    "master = master.filter(regex=\"(playerID|pos|^birth|Name$)\")\n",
    "master.shape\n"
   ],
   "metadata": {
    "collapsed": false,
    "pycharm": {
     "name": "#%%\n"
    }
   }
  },
  {
   "cell_type": "code",
   "execution_count": 32,
   "outputs": [
    {
     "data": {
      "text/plain": "Index(['playerID', 'firstName', 'lastName', 'pos', 'birthYear', 'birthMon',\n       'birthDay', 'birthCountry', 'birthState', 'birthCity'],\n      dtype='object')"
     },
     "execution_count": 32,
     "metadata": {},
     "output_type": "execute_result"
    }
   ],
   "source": [
    "master.columns\n"
   ],
   "metadata": {
    "collapsed": false,
    "pycharm": {
     "name": "#%%\n"
    }
   }
  },
  {
   "cell_type": "code",
   "execution_count": 33,
   "outputs": [
    {
     "name": "stdout",
     "output_type": "stream",
     "text": [
      "0.39 MiB\n",
      "1.84 MiB\n"
     ]
    }
   ],
   "source": [
    "def mem_mib(df):\n",
    "    print(\"{0:.2f} MiB\".format(\n",
    "        df.memory_usage().sum() / (1024 * 1024)\n",
    "    ))\n",
    "\n",
    "mem_mib(master)\n",
    "mem_mib(master_original)\n"
   ],
   "metadata": {
    "collapsed": false,
    "pycharm": {
     "name": "#%%\n"
    }
   }
  },
  {
   "cell_type": "code",
   "execution_count": 34,
   "outputs": [
    {
     "data": {
      "text/plain": "D      1418\nC      1037\nL       848\nR       832\nG       463\nF        28\nL/C       1\nName: pos, dtype: int64"
     },
     "execution_count": 34,
     "metadata": {},
     "output_type": "execute_result"
    }
   ],
   "source": [
    "master[\"pos\"].value_counts()\n"
   ],
   "metadata": {
    "collapsed": false,
    "pycharm": {
     "name": "#%%\n"
    }
   }
  },
  {
   "cell_type": "code",
   "execution_count": 35,
   "outputs": [
    {
     "data": {
      "text/plain": "['C', 'L', 'L', 'D', 'C', ..., 'R', 'L', 'L', 'C', 'D']\nLength: 4627\nCategories (7, object): ['C', 'D', 'F', 'G', 'L', 'L/C', 'R']"
     },
     "execution_count": 35,
     "metadata": {},
     "output_type": "execute_result"
    }
   ],
   "source": [
    "pd.Categorical(master[\"pos\"])\n"
   ],
   "metadata": {
    "collapsed": false,
    "pycharm": {
     "name": "#%%\n"
    }
   }
  },
  {
   "cell_type": "code",
   "execution_count": 36,
   "outputs": [],
   "source": [
    "def make_categorical(df, col_name):\n",
    "    df.loc[:, col_name] = pd.Categorical(df[col_name])\n"
   ],
   "metadata": {
    "collapsed": false,
    "pycharm": {
     "name": "#%%\n"
    }
   }
  },
  {
   "cell_type": "code",
   "execution_count": 37,
   "outputs": [
    {
     "name": "stdout",
     "output_type": "stream",
     "text": [
      "0.30 MiB\n"
     ]
    }
   ],
   "source": [
    "make_categorical(master, \"pos\")\n",
    "make_categorical(master, \"birthCountry\")\n",
    "make_categorical(master, \"birthState\")\n",
    "mem_mib(master)\n"
   ],
   "metadata": {
    "collapsed": false,
    "pycharm": {
     "name": "#%%\n"
    }
   }
  },
  {
   "cell_type": "code",
   "execution_count": 38,
   "outputs": [
    {
     "data": {
      "text/plain": "     playerID firstName     lastName pos  birthYear  birthMon  birthDay  \\\n0   aaltoan01     Antti        Aalto   C     1975.0       3.0       4.0   \n4   abdelju01    Justin   Abdelkader   L     1987.0       2.0      25.0   \n9    abidra01     Ramzi         Abid   L     1980.0       3.0      24.0   \n11  abrahth01    Thommy  Abrahamsson   D     1947.0       4.0      12.0   \n14  actonke01     Keith        Acton   C     1958.0       4.0      15.0   \n\n   birthCountry birthState     birthCity  \n0       Finland        NaN  Lappeenranta  \n4           USA         MI      Muskegon  \n9        Canada         QC      Montreal  \n11       Sweden        NaN       Leksand  \n14       Canada         ON   Stouffville  ",
      "text/html": "<div>\n<style scoped>\n    .dataframe tbody tr th:only-of-type {\n        vertical-align: middle;\n    }\n\n    .dataframe tbody tr th {\n        vertical-align: top;\n    }\n\n    .dataframe thead th {\n        text-align: right;\n    }\n</style>\n<table border=\"1\" class=\"dataframe\">\n  <thead>\n    <tr style=\"text-align: right;\">\n      <th></th>\n      <th>playerID</th>\n      <th>firstName</th>\n      <th>lastName</th>\n      <th>pos</th>\n      <th>birthYear</th>\n      <th>birthMon</th>\n      <th>birthDay</th>\n      <th>birthCountry</th>\n      <th>birthState</th>\n      <th>birthCity</th>\n    </tr>\n  </thead>\n  <tbody>\n    <tr>\n      <th>0</th>\n      <td>aaltoan01</td>\n      <td>Antti</td>\n      <td>Aalto</td>\n      <td>C</td>\n      <td>1975.0</td>\n      <td>3.0</td>\n      <td>4.0</td>\n      <td>Finland</td>\n      <td>NaN</td>\n      <td>Lappeenranta</td>\n    </tr>\n    <tr>\n      <th>4</th>\n      <td>abdelju01</td>\n      <td>Justin</td>\n      <td>Abdelkader</td>\n      <td>L</td>\n      <td>1987.0</td>\n      <td>2.0</td>\n      <td>25.0</td>\n      <td>USA</td>\n      <td>MI</td>\n      <td>Muskegon</td>\n    </tr>\n    <tr>\n      <th>9</th>\n      <td>abidra01</td>\n      <td>Ramzi</td>\n      <td>Abid</td>\n      <td>L</td>\n      <td>1980.0</td>\n      <td>3.0</td>\n      <td>24.0</td>\n      <td>Canada</td>\n      <td>QC</td>\n      <td>Montreal</td>\n    </tr>\n    <tr>\n      <th>11</th>\n      <td>abrahth01</td>\n      <td>Thommy</td>\n      <td>Abrahamsson</td>\n      <td>D</td>\n      <td>1947.0</td>\n      <td>4.0</td>\n      <td>12.0</td>\n      <td>Sweden</td>\n      <td>NaN</td>\n      <td>Leksand</td>\n    </tr>\n    <tr>\n      <th>14</th>\n      <td>actonke01</td>\n      <td>Keith</td>\n      <td>Acton</td>\n      <td>C</td>\n      <td>1958.0</td>\n      <td>4.0</td>\n      <td>15.0</td>\n      <td>Canada</td>\n      <td>ON</td>\n      <td>Stouffville</td>\n    </tr>\n  </tbody>\n</table>\n</div>"
     },
     "execution_count": 38,
     "metadata": {},
     "output_type": "execute_result"
    }
   ],
   "source": [
    "master.head()\n"
   ],
   "metadata": {
    "collapsed": false,
    "pycharm": {
     "name": "#%%\n"
    }
   }
  },
  {
   "cell_type": "code",
   "execution_count": 39,
   "outputs": [
    {
     "data": {
      "text/plain": "          firstName     lastName pos  birthYear  birthMon  birthDay  \\\nplayerID                                                              \naaltoan01     Antti        Aalto   C     1975.0       3.0       4.0   \nabdelju01    Justin   Abdelkader   L     1987.0       2.0      25.0   \nabidra01      Ramzi         Abid   L     1980.0       3.0      24.0   \nabrahth01    Thommy  Abrahamsson   D     1947.0       4.0      12.0   \nactonke01     Keith        Acton   C     1958.0       4.0      15.0   \n\n          birthCountry birthState     birthCity  \nplayerID                                         \naaltoan01      Finland        NaN  Lappeenranta  \nabdelju01          USA         MI      Muskegon  \nabidra01        Canada         QC      Montreal  \nabrahth01       Sweden        NaN       Leksand  \nactonke01       Canada         ON   Stouffville  ",
      "text/html": "<div>\n<style scoped>\n    .dataframe tbody tr th:only-of-type {\n        vertical-align: middle;\n    }\n\n    .dataframe tbody tr th {\n        vertical-align: top;\n    }\n\n    .dataframe thead th {\n        text-align: right;\n    }\n</style>\n<table border=\"1\" class=\"dataframe\">\n  <thead>\n    <tr style=\"text-align: right;\">\n      <th></th>\n      <th>firstName</th>\n      <th>lastName</th>\n      <th>pos</th>\n      <th>birthYear</th>\n      <th>birthMon</th>\n      <th>birthDay</th>\n      <th>birthCountry</th>\n      <th>birthState</th>\n      <th>birthCity</th>\n    </tr>\n    <tr>\n      <th>playerID</th>\n      <th></th>\n      <th></th>\n      <th></th>\n      <th></th>\n      <th></th>\n      <th></th>\n      <th></th>\n      <th></th>\n      <th></th>\n    </tr>\n  </thead>\n  <tbody>\n    <tr>\n      <th>aaltoan01</th>\n      <td>Antti</td>\n      <td>Aalto</td>\n      <td>C</td>\n      <td>1975.0</td>\n      <td>3.0</td>\n      <td>4.0</td>\n      <td>Finland</td>\n      <td>NaN</td>\n      <td>Lappeenranta</td>\n    </tr>\n    <tr>\n      <th>abdelju01</th>\n      <td>Justin</td>\n      <td>Abdelkader</td>\n      <td>L</td>\n      <td>1987.0</td>\n      <td>2.0</td>\n      <td>25.0</td>\n      <td>USA</td>\n      <td>MI</td>\n      <td>Muskegon</td>\n    </tr>\n    <tr>\n      <th>abidra01</th>\n      <td>Ramzi</td>\n      <td>Abid</td>\n      <td>L</td>\n      <td>1980.0</td>\n      <td>3.0</td>\n      <td>24.0</td>\n      <td>Canada</td>\n      <td>QC</td>\n      <td>Montreal</td>\n    </tr>\n    <tr>\n      <th>abrahth01</th>\n      <td>Thommy</td>\n      <td>Abrahamsson</td>\n      <td>D</td>\n      <td>1947.0</td>\n      <td>4.0</td>\n      <td>12.0</td>\n      <td>Sweden</td>\n      <td>NaN</td>\n      <td>Leksand</td>\n    </tr>\n    <tr>\n      <th>actonke01</th>\n      <td>Keith</td>\n      <td>Acton</td>\n      <td>C</td>\n      <td>1958.0</td>\n      <td>4.0</td>\n      <td>15.0</td>\n      <td>Canada</td>\n      <td>ON</td>\n      <td>Stouffville</td>\n    </tr>\n  </tbody>\n</table>\n</div>"
     },
     "execution_count": 39,
     "metadata": {},
     "output_type": "execute_result"
    }
   ],
   "source": [
    "master = master.set_index('playerID')\n",
    "master.head()\n"
   ],
   "metadata": {
    "collapsed": false,
    "pycharm": {
     "name": "#%%\n"
    }
   }
  },
  {
   "cell_type": "code",
   "execution_count": 41,
   "outputs": [],
   "source": [
    "master.to_pickle(os.path.join('data','modified', 'master.pickle'))\n",
    "master.to_csv(os.path.join('data', 'modified', 'master.csv'))\n"
   ],
   "metadata": {
    "collapsed": false,
    "pycharm": {
     "name": "#%%\n"
    }
   }
  },
  {
   "cell_type": "code",
   "execution_count": null,
   "outputs": [],
   "source": [],
   "metadata": {
    "collapsed": false,
    "pycharm": {
     "name": "#%%\n"
    }
   }
  }
 ],
 "metadata": {
  "kernelspec": {
   "display_name": "Python 3",
   "language": "python",
   "name": "python3"
  },
  "language_info": {
   "codemirror_mode": {
    "name": "ipython",
    "version": 2
   },
   "file_extension": ".py",
   "mimetype": "text/x-python",
   "name": "python",
   "nbconvert_exporter": "python",
   "pygments_lexer": "ipython2",
   "version": "2.7.6"
  }
 },
 "nbformat": 4,
 "nbformat_minor": 0
}