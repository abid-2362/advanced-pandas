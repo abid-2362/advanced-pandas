{
 "cells": [
  {
   "cell_type": "code",
   "execution_count": 1,
   "outputs": [],
   "source": [
    "import os            # for file paths\n",
    "import pandas as pd\n",
    "from pandas import isnull\n"
   ],
   "metadata": {
    "collapsed": false,
    "pycharm": {
     "name": "#%%\n"
    }
   }
  },
  {
   "cell_type": "code",
   "execution_count": 2,
   "outputs": [
    {
     "data": {
      "text/plain": "    playerID coachID hofID firstName    lastName nameNote         nameGiven  \\\n0  aaltoan01     NaN   NaN     Antti       Aalto      NaN             Antti   \n1  abbeybr01     NaN   NaN     Bruce       Abbey      NaN             Bruce   \n2  abbotge01     NaN   NaN    George      Abbott      NaN      George Henry   \n3  abbotre01     NaN   NaN       Reg      Abbott      NaN  Reginald Stewart   \n4  abdelju01     NaN   NaN    Justin  Abdelkader      NaN               NaN   \n\n   nameNick  height  weight  ... birthDay birthCountry  birthState  \\\n0       NaN    73.0   210.0  ...      4.0      Finland         NaN   \n1       NaN    73.0   185.0  ...     18.0       Canada          ON   \n2  Preacher    67.0   153.0  ...      3.0       Canada          ON   \n3       NaN    71.0   164.0  ...      4.0       Canada          MB   \n4       NaN    73.0   195.0  ...     25.0          USA          MI   \n\n      birthCity  deathYear  deathMon  deathDay  deathCountry deathState  \\\n0  Lappeenranta        NaN       NaN       NaN           NaN        NaN   \n1       Toronto        NaN       NaN       NaN           NaN        NaN   \n2      Synenham        NaN       NaN       NaN           NaN        NaN   \n3      Winnipeg        NaN       NaN       NaN           NaN        NaN   \n4      Muskegon        NaN       NaN       NaN           NaN        NaN   \n\n   deathCity  \n0        NaN  \n1        NaN  \n2        NaN  \n3        NaN  \n4        NaN  \n\n[5 rows x 31 columns]",
      "text/html": "<div>\n<style scoped>\n    .dataframe tbody tr th:only-of-type {\n        vertical-align: middle;\n    }\n\n    .dataframe tbody tr th {\n        vertical-align: top;\n    }\n\n    .dataframe thead th {\n        text-align: right;\n    }\n</style>\n<table border=\"1\" class=\"dataframe\">\n  <thead>\n    <tr style=\"text-align: right;\">\n      <th></th>\n      <th>playerID</th>\n      <th>coachID</th>\n      <th>hofID</th>\n      <th>firstName</th>\n      <th>lastName</th>\n      <th>nameNote</th>\n      <th>nameGiven</th>\n      <th>nameNick</th>\n      <th>height</th>\n      <th>weight</th>\n      <th>...</th>\n      <th>birthDay</th>\n      <th>birthCountry</th>\n      <th>birthState</th>\n      <th>birthCity</th>\n      <th>deathYear</th>\n      <th>deathMon</th>\n      <th>deathDay</th>\n      <th>deathCountry</th>\n      <th>deathState</th>\n      <th>deathCity</th>\n    </tr>\n  </thead>\n  <tbody>\n    <tr>\n      <th>0</th>\n      <td>aaltoan01</td>\n      <td>NaN</td>\n      <td>NaN</td>\n      <td>Antti</td>\n      <td>Aalto</td>\n      <td>NaN</td>\n      <td>Antti</td>\n      <td>NaN</td>\n      <td>73.0</td>\n      <td>210.0</td>\n      <td>...</td>\n      <td>4.0</td>\n      <td>Finland</td>\n      <td>NaN</td>\n      <td>Lappeenranta</td>\n      <td>NaN</td>\n      <td>NaN</td>\n      <td>NaN</td>\n      <td>NaN</td>\n      <td>NaN</td>\n      <td>NaN</td>\n    </tr>\n    <tr>\n      <th>1</th>\n      <td>abbeybr01</td>\n      <td>NaN</td>\n      <td>NaN</td>\n      <td>Bruce</td>\n      <td>Abbey</td>\n      <td>NaN</td>\n      <td>Bruce</td>\n      <td>NaN</td>\n      <td>73.0</td>\n      <td>185.0</td>\n      <td>...</td>\n      <td>18.0</td>\n      <td>Canada</td>\n      <td>ON</td>\n      <td>Toronto</td>\n      <td>NaN</td>\n      <td>NaN</td>\n      <td>NaN</td>\n      <td>NaN</td>\n      <td>NaN</td>\n      <td>NaN</td>\n    </tr>\n    <tr>\n      <th>2</th>\n      <td>abbotge01</td>\n      <td>NaN</td>\n      <td>NaN</td>\n      <td>George</td>\n      <td>Abbott</td>\n      <td>NaN</td>\n      <td>George Henry</td>\n      <td>Preacher</td>\n      <td>67.0</td>\n      <td>153.0</td>\n      <td>...</td>\n      <td>3.0</td>\n      <td>Canada</td>\n      <td>ON</td>\n      <td>Synenham</td>\n      <td>NaN</td>\n      <td>NaN</td>\n      <td>NaN</td>\n      <td>NaN</td>\n      <td>NaN</td>\n      <td>NaN</td>\n    </tr>\n    <tr>\n      <th>3</th>\n      <td>abbotre01</td>\n      <td>NaN</td>\n      <td>NaN</td>\n      <td>Reg</td>\n      <td>Abbott</td>\n      <td>NaN</td>\n      <td>Reginald Stewart</td>\n      <td>NaN</td>\n      <td>71.0</td>\n      <td>164.0</td>\n      <td>...</td>\n      <td>4.0</td>\n      <td>Canada</td>\n      <td>MB</td>\n      <td>Winnipeg</td>\n      <td>NaN</td>\n      <td>NaN</td>\n      <td>NaN</td>\n      <td>NaN</td>\n      <td>NaN</td>\n      <td>NaN</td>\n    </tr>\n    <tr>\n      <th>4</th>\n      <td>abdelju01</td>\n      <td>NaN</td>\n      <td>NaN</td>\n      <td>Justin</td>\n      <td>Abdelkader</td>\n      <td>NaN</td>\n      <td>NaN</td>\n      <td>NaN</td>\n      <td>73.0</td>\n      <td>195.0</td>\n      <td>...</td>\n      <td>25.0</td>\n      <td>USA</td>\n      <td>MI</td>\n      <td>Muskegon</td>\n      <td>NaN</td>\n      <td>NaN</td>\n      <td>NaN</td>\n      <td>NaN</td>\n      <td>NaN</td>\n      <td>NaN</td>\n    </tr>\n  </tbody>\n</table>\n<p>5 rows × 31 columns</p>\n</div>"
     },
     "execution_count": 2,
     "metadata": {},
     "output_type": "execute_result"
    }
   ],
   "source": [
    "# Master.csv\n",
    "master = pd.read_csv(os.path.join('data','Master.csv'))\n",
    "master.head()\n"
   ],
   "metadata": {
    "collapsed": false,
    "pycharm": {
     "name": "#%%\n"
    }
   }
  },
  {
   "cell_type": "code",
   "execution_count": 3,
   "outputs": [
    {
     "data": {
      "text/plain": "(7761, 31)"
     },
     "execution_count": 3,
     "metadata": {},
     "output_type": "execute_result"
    }
   ],
   "source": [
    "master.shape\n"
   ],
   "metadata": {
    "collapsed": false,
    "pycharm": {
     "name": "#%%\n"
    }
   }
  },
  {
   "cell_type": "code",
   "execution_count": 4,
   "outputs": [
    {
     "data": {
      "text/plain": "Index(['playerID', 'coachID', 'hofID', 'firstName', 'lastName', 'nameNote',\n       'nameGiven', 'nameNick', 'height', 'weight', 'shootCatch', 'legendsID',\n       'ihdbID', 'hrefID', 'firstNHL', 'lastNHL', 'firstWHA', 'lastWHA', 'pos',\n       'birthYear', 'birthMon', 'birthDay', 'birthCountry', 'birthState',\n       'birthCity', 'deathYear', 'deathMon', 'deathDay', 'deathCountry',\n       'deathState', 'deathCity'],\n      dtype='object')"
     },
     "execution_count": 4,
     "metadata": {},
     "output_type": "execute_result"
    }
   ],
   "source": [
    "master.columns\n"
   ],
   "metadata": {
    "collapsed": false,
    "pycharm": {
     "name": "#%%\n"
    }
   }
  },
  {
   "cell_type": "code",
   "execution_count": null,
   "outputs": [],
   "source": [],
   "metadata": {
    "collapsed": false,
    "pycharm": {
     "name": "#%%\n"
    }
   }
  }
 ],
 "metadata": {
  "kernelspec": {
   "display_name": "Python 3",
   "language": "python",
   "name": "python3"
  },
  "language_info": {
   "codemirror_mode": {
    "name": "ipython",
    "version": 2
   },
   "file_extension": ".py",
   "mimetype": "text/x-python",
   "name": "python",
   "nbconvert_exporter": "python",
   "pygments_lexer": "ipython2",
   "version": "2.7.6"
  }
 },
 "nbformat": 4,
 "nbformat_minor": 0
}