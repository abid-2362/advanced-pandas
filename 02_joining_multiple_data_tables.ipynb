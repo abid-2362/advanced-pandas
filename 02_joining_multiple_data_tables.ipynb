{
 "cells": [
  {
   "cell_type": "markdown",
   "source": [
    "# Advanced Pandas - Joining Multiple Data Tables\n",
    "**Abid Ali**\n",
    "\n",
    "Skype: Abd.Soft\n",
    "\n",
    "Email: [abdsoftfsd@gmail.com](mailto:abdsoftfsd@gmail.com)\n"
   ],
   "metadata": {
    "collapsed": false,
    "pycharm": {
     "name": "#%% md\n"
    }
   }
  },
  {
   "cell_type": "markdown",
   "source": [
    "\"The information used herein was obtained free of charge from and is\n",
    "copyrighted by the Hockey Databank project.  For more information about the\n",
    "Hockey Databank project please visit\n",
    "[http://sports.groups.yahoo.com/group/hockey-databank](http://sports.groups.yahoo.com/group/hockey-databank)\""
   ],
   "metadata": {
    "collapsed": false,
    "pycharm": {
     "name": "#%% md\n"
    }
   }
  },
  {
   "cell_type": "code",
   "execution_count": 1,
   "outputs": [],
   "source": [
    "import pandas as pd\n",
    "import os\n"
   ],
   "metadata": {
    "collapsed": false,
    "pycharm": {
     "name": "#%%\n"
    }
   }
  },
  {
   "cell_type": "code",
   "execution_count": 2,
   "outputs": [],
   "source": [
    "master = pd.read_pickle(os.path.join('data', 'modified', 'master.pickle'))\n",
    "scoring = pd.read_pickle(os.path.join('data', 'modified', 'scoring.pickle'))\n",
    "teams = pd.read_pickle(os.path.join('data', 'modified', 'teams.pickle'))\n",
    "team_splits = pd.read_pickle(os.path.join('data', 'modified', 'team_splits.pickle'))\n"
   ],
   "metadata": {
    "collapsed": false,
    "pycharm": {
     "name": "#%%\n"
    }
   }
  },
  {
   "cell_type": "code",
   "execution_count": 3,
   "outputs": [
    {
     "data": {
      "text/plain": "          firstName    lastName pos  birthYear  birthMon  birthDay  \\\nplayerID                                                             \naaltoan01     Antti       Aalto   C     1975.0       3.0       4.0   \nabdelju01    Justin  Abdelkader   L     1987.0       2.0      25.0   \n\n          birthCountry birthState     birthCity  \nplayerID                                         \naaltoan01      Finland        NaN  Lappeenranta  \nabdelju01          USA         MI      Muskegon  ",
      "text/html": "<div>\n<style scoped>\n    .dataframe tbody tr th:only-of-type {\n        vertical-align: middle;\n    }\n\n    .dataframe tbody tr th {\n        vertical-align: top;\n    }\n\n    .dataframe thead th {\n        text-align: right;\n    }\n</style>\n<table border=\"1\" class=\"dataframe\">\n  <thead>\n    <tr style=\"text-align: right;\">\n      <th></th>\n      <th>firstName</th>\n      <th>lastName</th>\n      <th>pos</th>\n      <th>birthYear</th>\n      <th>birthMon</th>\n      <th>birthDay</th>\n      <th>birthCountry</th>\n      <th>birthState</th>\n      <th>birthCity</th>\n    </tr>\n    <tr>\n      <th>playerID</th>\n      <th></th>\n      <th></th>\n      <th></th>\n      <th></th>\n      <th></th>\n      <th></th>\n      <th></th>\n      <th></th>\n      <th></th>\n    </tr>\n  </thead>\n  <tbody>\n    <tr>\n      <th>aaltoan01</th>\n      <td>Antti</td>\n      <td>Aalto</td>\n      <td>C</td>\n      <td>1975.0</td>\n      <td>3.0</td>\n      <td>4.0</td>\n      <td>Finland</td>\n      <td>NaN</td>\n      <td>Lappeenranta</td>\n    </tr>\n    <tr>\n      <th>abdelju01</th>\n      <td>Justin</td>\n      <td>Abdelkader</td>\n      <td>L</td>\n      <td>1987.0</td>\n      <td>2.0</td>\n      <td>25.0</td>\n      <td>USA</td>\n      <td>MI</td>\n      <td>Muskegon</td>\n    </tr>\n  </tbody>\n</table>\n</div>"
     },
     "execution_count": 3,
     "metadata": {},
     "output_type": "execute_result"
    }
   ],
   "source": [
    "master.head(2)\n"
   ],
   "metadata": {
    "collapsed": false,
    "pycharm": {
     "name": "#%%\n"
    }
   }
  },
  {
   "cell_type": "code",
   "execution_count": 4,
   "outputs": [
    {
     "data": {
      "text/plain": "    playerID  year tmID    GP    G    A  Pts   SOG\n0  aaltoan01  1997  ANA   3.0  0.0  0.0  0.0   1.0\n1  aaltoan01  1998  ANA  73.0  3.0  5.0  8.0  61.0",
      "text/html": "<div>\n<style scoped>\n    .dataframe tbody tr th:only-of-type {\n        vertical-align: middle;\n    }\n\n    .dataframe tbody tr th {\n        vertical-align: top;\n    }\n\n    .dataframe thead th {\n        text-align: right;\n    }\n</style>\n<table border=\"1\" class=\"dataframe\">\n  <thead>\n    <tr style=\"text-align: right;\">\n      <th></th>\n      <th>playerID</th>\n      <th>year</th>\n      <th>tmID</th>\n      <th>GP</th>\n      <th>G</th>\n      <th>A</th>\n      <th>Pts</th>\n      <th>SOG</th>\n    </tr>\n  </thead>\n  <tbody>\n    <tr>\n      <th>0</th>\n      <td>aaltoan01</td>\n      <td>1997</td>\n      <td>ANA</td>\n      <td>3.0</td>\n      <td>0.0</td>\n      <td>0.0</td>\n      <td>0.0</td>\n      <td>1.0</td>\n    </tr>\n    <tr>\n      <th>1</th>\n      <td>aaltoan01</td>\n      <td>1998</td>\n      <td>ANA</td>\n      <td>73.0</td>\n      <td>3.0</td>\n      <td>5.0</td>\n      <td>8.0</td>\n      <td>61.0</td>\n    </tr>\n  </tbody>\n</table>\n</div>"
     },
     "execution_count": 4,
     "metadata": {},
     "output_type": "execute_result"
    }
   ],
   "source": [
    "scoring.head(2)\n"
   ],
   "metadata": {
    "collapsed": false,
    "pycharm": {
     "name": "#%%\n"
    }
   }
  },
  {
   "cell_type": "code",
   "execution_count": 5,
   "outputs": [
    {
     "data": {
      "text/plain": "     year tmID            name\n727  1980  BOS   Boston Bruins\n728  1980  BUF  Buffalo Sabres",
      "text/html": "<div>\n<style scoped>\n    .dataframe tbody tr th:only-of-type {\n        vertical-align: middle;\n    }\n\n    .dataframe tbody tr th {\n        vertical-align: top;\n    }\n\n    .dataframe thead th {\n        text-align: right;\n    }\n</style>\n<table border=\"1\" class=\"dataframe\">\n  <thead>\n    <tr style=\"text-align: right;\">\n      <th></th>\n      <th>year</th>\n      <th>tmID</th>\n      <th>name</th>\n    </tr>\n  </thead>\n  <tbody>\n    <tr>\n      <th>727</th>\n      <td>1980</td>\n      <td>BOS</td>\n      <td>Boston Bruins</td>\n    </tr>\n    <tr>\n      <th>728</th>\n      <td>1980</td>\n      <td>BUF</td>\n      <td>Buffalo Sabres</td>\n    </tr>\n  </tbody>\n</table>\n</div>"
     },
     "execution_count": 5,
     "metadata": {},
     "output_type": "execute_result"
    }
   ],
   "source": [
    "teams.head(2)\n"
   ],
   "metadata": {
    "collapsed": false,
    "pycharm": {
     "name": "#%%\n"
    }
   }
  },
  {
   "cell_type": "code",
   "execution_count": 6,
   "outputs": [
    {
     "data": {
      "text/plain": "     year tmID  SepW  SepL  SepT  SepOL  OctW  OctL  OctT  OctOL  ...  FebT  \\\n727  1980  BOS   NaN   NaN   NaN    NaN   2.0   7.0   1.0    NaN  ...   2.0   \n728  1980  BUF   NaN   NaN   NaN    NaN   5.0   2.0   2.0    NaN  ...   3.0   \n\n     FebOL  MarW  MarL  MarT  MarOL  AprW  AprL  AprT  AprOL  \n727    NaN   8.0   4.0   3.0    NaN   1.0   2.0   0.0    NaN  \n728    NaN   8.0   6.0   1.0    NaN   1.0   1.0   1.0    NaN  \n\n[2 rows x 34 columns]",
      "text/html": "<div>\n<style scoped>\n    .dataframe tbody tr th:only-of-type {\n        vertical-align: middle;\n    }\n\n    .dataframe tbody tr th {\n        vertical-align: top;\n    }\n\n    .dataframe thead th {\n        text-align: right;\n    }\n</style>\n<table border=\"1\" class=\"dataframe\">\n  <thead>\n    <tr style=\"text-align: right;\">\n      <th></th>\n      <th>year</th>\n      <th>tmID</th>\n      <th>SepW</th>\n      <th>SepL</th>\n      <th>SepT</th>\n      <th>SepOL</th>\n      <th>OctW</th>\n      <th>OctL</th>\n      <th>OctT</th>\n      <th>OctOL</th>\n      <th>...</th>\n      <th>FebT</th>\n      <th>FebOL</th>\n      <th>MarW</th>\n      <th>MarL</th>\n      <th>MarT</th>\n      <th>MarOL</th>\n      <th>AprW</th>\n      <th>AprL</th>\n      <th>AprT</th>\n      <th>AprOL</th>\n    </tr>\n  </thead>\n  <tbody>\n    <tr>\n      <th>727</th>\n      <td>1980</td>\n      <td>BOS</td>\n      <td>NaN</td>\n      <td>NaN</td>\n      <td>NaN</td>\n      <td>NaN</td>\n      <td>2.0</td>\n      <td>7.0</td>\n      <td>1.0</td>\n      <td>NaN</td>\n      <td>...</td>\n      <td>2.0</td>\n      <td>NaN</td>\n      <td>8.0</td>\n      <td>4.0</td>\n      <td>3.0</td>\n      <td>NaN</td>\n      <td>1.0</td>\n      <td>2.0</td>\n      <td>0.0</td>\n      <td>NaN</td>\n    </tr>\n    <tr>\n      <th>728</th>\n      <td>1980</td>\n      <td>BUF</td>\n      <td>NaN</td>\n      <td>NaN</td>\n      <td>NaN</td>\n      <td>NaN</td>\n      <td>5.0</td>\n      <td>2.0</td>\n      <td>2.0</td>\n      <td>NaN</td>\n      <td>...</td>\n      <td>3.0</td>\n      <td>NaN</td>\n      <td>8.0</td>\n      <td>6.0</td>\n      <td>1.0</td>\n      <td>NaN</td>\n      <td>1.0</td>\n      <td>1.0</td>\n      <td>1.0</td>\n      <td>NaN</td>\n    </tr>\n  </tbody>\n</table>\n<p>2 rows × 34 columns</p>\n</div>"
     },
     "execution_count": 6,
     "metadata": {},
     "output_type": "execute_result"
    }
   ],
   "source": [
    "team_splits.head(2)\n"
   ],
   "metadata": {
    "collapsed": false,
    "pycharm": {
     "name": "#%%\n"
    }
   }
  },
  {
   "cell_type": "code",
   "execution_count": 7,
   "outputs": [
    {
     "data": {
      "text/plain": "  firstName    lastName pos  birthYear  birthMon  birthDay birthCountry  \\\n0     Antti       Aalto   C     1975.0       3.0       4.0      Finland   \n1     Antti       Aalto   C     1975.0       3.0       4.0      Finland   \n2     Antti       Aalto   C     1975.0       3.0       4.0      Finland   \n3     Antti       Aalto   C     1975.0       3.0       4.0      Finland   \n4    Justin  Abdelkader   L     1987.0       2.0      25.0          USA   \n\n  birthState     birthCity   playerID  year tmID    GP    G     A   Pts    SOG  \n0        NaN  Lappeenranta  aaltoan01  1997  ANA   3.0  0.0   0.0   0.0    1.0  \n1        NaN  Lappeenranta  aaltoan01  1998  ANA  73.0  3.0   5.0   8.0   61.0  \n2        NaN  Lappeenranta  aaltoan01  1999  ANA  63.0  7.0  11.0  18.0  102.0  \n3        NaN  Lappeenranta  aaltoan01  2000  ANA  12.0  1.0   1.0   2.0   18.0  \n4         MI      Muskegon  abdelju01  2007  DET   2.0  0.0   0.0   0.0    6.0  ",
      "text/html": "<div>\n<style scoped>\n    .dataframe tbody tr th:only-of-type {\n        vertical-align: middle;\n    }\n\n    .dataframe tbody tr th {\n        vertical-align: top;\n    }\n\n    .dataframe thead th {\n        text-align: right;\n    }\n</style>\n<table border=\"1\" class=\"dataframe\">\n  <thead>\n    <tr style=\"text-align: right;\">\n      <th></th>\n      <th>firstName</th>\n      <th>lastName</th>\n      <th>pos</th>\n      <th>birthYear</th>\n      <th>birthMon</th>\n      <th>birthDay</th>\n      <th>birthCountry</th>\n      <th>birthState</th>\n      <th>birthCity</th>\n      <th>playerID</th>\n      <th>year</th>\n      <th>tmID</th>\n      <th>GP</th>\n      <th>G</th>\n      <th>A</th>\n      <th>Pts</th>\n      <th>SOG</th>\n    </tr>\n  </thead>\n  <tbody>\n    <tr>\n      <th>0</th>\n      <td>Antti</td>\n      <td>Aalto</td>\n      <td>C</td>\n      <td>1975.0</td>\n      <td>3.0</td>\n      <td>4.0</td>\n      <td>Finland</td>\n      <td>NaN</td>\n      <td>Lappeenranta</td>\n      <td>aaltoan01</td>\n      <td>1997</td>\n      <td>ANA</td>\n      <td>3.0</td>\n      <td>0.0</td>\n      <td>0.0</td>\n      <td>0.0</td>\n      <td>1.0</td>\n    </tr>\n    <tr>\n      <th>1</th>\n      <td>Antti</td>\n      <td>Aalto</td>\n      <td>C</td>\n      <td>1975.0</td>\n      <td>3.0</td>\n      <td>4.0</td>\n      <td>Finland</td>\n      <td>NaN</td>\n      <td>Lappeenranta</td>\n      <td>aaltoan01</td>\n      <td>1998</td>\n      <td>ANA</td>\n      <td>73.0</td>\n      <td>3.0</td>\n      <td>5.0</td>\n      <td>8.0</td>\n      <td>61.0</td>\n    </tr>\n    <tr>\n      <th>2</th>\n      <td>Antti</td>\n      <td>Aalto</td>\n      <td>C</td>\n      <td>1975.0</td>\n      <td>3.0</td>\n      <td>4.0</td>\n      <td>Finland</td>\n      <td>NaN</td>\n      <td>Lappeenranta</td>\n      <td>aaltoan01</td>\n      <td>1999</td>\n      <td>ANA</td>\n      <td>63.0</td>\n      <td>7.0</td>\n      <td>11.0</td>\n      <td>18.0</td>\n      <td>102.0</td>\n    </tr>\n    <tr>\n      <th>3</th>\n      <td>Antti</td>\n      <td>Aalto</td>\n      <td>C</td>\n      <td>1975.0</td>\n      <td>3.0</td>\n      <td>4.0</td>\n      <td>Finland</td>\n      <td>NaN</td>\n      <td>Lappeenranta</td>\n      <td>aaltoan01</td>\n      <td>2000</td>\n      <td>ANA</td>\n      <td>12.0</td>\n      <td>1.0</td>\n      <td>1.0</td>\n      <td>2.0</td>\n      <td>18.0</td>\n    </tr>\n    <tr>\n      <th>4</th>\n      <td>Justin</td>\n      <td>Abdelkader</td>\n      <td>L</td>\n      <td>1987.0</td>\n      <td>2.0</td>\n      <td>25.0</td>\n      <td>USA</td>\n      <td>MI</td>\n      <td>Muskegon</td>\n      <td>abdelju01</td>\n      <td>2007</td>\n      <td>DET</td>\n      <td>2.0</td>\n      <td>0.0</td>\n      <td>0.0</td>\n      <td>0.0</td>\n      <td>6.0</td>\n    </tr>\n  </tbody>\n</table>\n</div>"
     },
     "execution_count": 7,
     "metadata": {},
     "output_type": "execute_result"
    }
   ],
   "source": [
    "pd.merge(left=master, right=scoring, left_index=True, right_on='playerID').head()\n"
   ],
   "metadata": {
    "collapsed": false,
    "pycharm": {
     "name": "#%%\n"
    }
   }
  },
  {
   "cell_type": "code",
   "execution_count": 8,
   "outputs": [
    {
     "data": {
      "text/plain": "RangeIndex(start=0, stop=28616, step=1)"
     },
     "execution_count": 8,
     "metadata": {},
     "output_type": "execute_result"
    }
   ],
   "source": [
    "# where is the resulting dataframe indexing coming from?\n",
    "# - Answer: from the right table.\n",
    "scoring.index\n"
   ],
   "metadata": {
    "collapsed": false,
    "pycharm": {
     "name": "#%%\n"
    }
   }
  },
  {
   "cell_type": "code",
   "execution_count": 9,
   "outputs": [
    {
     "data": {
      "text/plain": "RangeIndex(start=3, stop=28619, step=1)"
     },
     "execution_count": 9,
     "metadata": {},
     "output_type": "execute_result"
    }
   ],
   "source": [
    "scoring.index + 3\n"
   ],
   "metadata": {
    "collapsed": false,
    "pycharm": {
     "name": "#%%\n"
    }
   }
  },
  {
   "cell_type": "code",
   "execution_count": 10,
   "outputs": [],
   "source": [
    "scoring.index = scoring.index + 3\n"
   ],
   "metadata": {
    "collapsed": false,
    "pycharm": {
     "name": "#%%\n"
    }
   }
  },
  {
   "cell_type": "code",
   "execution_count": 11,
   "outputs": [
    {
     "data": {
      "text/plain": "    playerID  year tmID    GP    G     A   Pts    SOG\n3  aaltoan01  1997  ANA   3.0  0.0   0.0   0.0    1.0\n4  aaltoan01  1998  ANA  73.0  3.0   5.0   8.0   61.0\n5  aaltoan01  1999  ANA  63.0  7.0  11.0  18.0  102.0\n6  aaltoan01  2000  ANA  12.0  1.0   1.0   2.0   18.0\n7  abdelju01  2007  DET   2.0  0.0   0.0   0.0    6.0",
      "text/html": "<div>\n<style scoped>\n    .dataframe tbody tr th:only-of-type {\n        vertical-align: middle;\n    }\n\n    .dataframe tbody tr th {\n        vertical-align: top;\n    }\n\n    .dataframe thead th {\n        text-align: right;\n    }\n</style>\n<table border=\"1\" class=\"dataframe\">\n  <thead>\n    <tr style=\"text-align: right;\">\n      <th></th>\n      <th>playerID</th>\n      <th>year</th>\n      <th>tmID</th>\n      <th>GP</th>\n      <th>G</th>\n      <th>A</th>\n      <th>Pts</th>\n      <th>SOG</th>\n    </tr>\n  </thead>\n  <tbody>\n    <tr>\n      <th>3</th>\n      <td>aaltoan01</td>\n      <td>1997</td>\n      <td>ANA</td>\n      <td>3.0</td>\n      <td>0.0</td>\n      <td>0.0</td>\n      <td>0.0</td>\n      <td>1.0</td>\n    </tr>\n    <tr>\n      <th>4</th>\n      <td>aaltoan01</td>\n      <td>1998</td>\n      <td>ANA</td>\n      <td>73.0</td>\n      <td>3.0</td>\n      <td>5.0</td>\n      <td>8.0</td>\n      <td>61.0</td>\n    </tr>\n    <tr>\n      <th>5</th>\n      <td>aaltoan01</td>\n      <td>1999</td>\n      <td>ANA</td>\n      <td>63.0</td>\n      <td>7.0</td>\n      <td>11.0</td>\n      <td>18.0</td>\n      <td>102.0</td>\n    </tr>\n    <tr>\n      <th>6</th>\n      <td>aaltoan01</td>\n      <td>2000</td>\n      <td>ANA</td>\n      <td>12.0</td>\n      <td>1.0</td>\n      <td>1.0</td>\n      <td>2.0</td>\n      <td>18.0</td>\n    </tr>\n    <tr>\n      <th>7</th>\n      <td>abdelju01</td>\n      <td>2007</td>\n      <td>DET</td>\n      <td>2.0</td>\n      <td>0.0</td>\n      <td>0.0</td>\n      <td>0.0</td>\n      <td>6.0</td>\n    </tr>\n  </tbody>\n</table>\n</div>"
     },
     "execution_count": 11,
     "metadata": {},
     "output_type": "execute_result"
    }
   ],
   "source": [
    "scoring.head()\n"
   ],
   "metadata": {
    "collapsed": false,
    "pycharm": {
     "name": "#%%\n"
    }
   }
  },
  {
   "cell_type": "code",
   "execution_count": 13,
   "outputs": [
    {
     "data": {
      "text/plain": "  firstName    lastName pos  birthYear  birthMon  birthDay birthCountry  \\\n3     Antti       Aalto   C     1975.0       3.0       4.0      Finland   \n4     Antti       Aalto   C     1975.0       3.0       4.0      Finland   \n5     Antti       Aalto   C     1975.0       3.0       4.0      Finland   \n6     Antti       Aalto   C     1975.0       3.0       4.0      Finland   \n7    Justin  Abdelkader   L     1987.0       2.0      25.0          USA   \n\n  birthState     birthCity   playerID  year tmID    GP    G     A   Pts    SOG  \n3        NaN  Lappeenranta  aaltoan01  1997  ANA   3.0  0.0   0.0   0.0    1.0  \n4        NaN  Lappeenranta  aaltoan01  1998  ANA  73.0  3.0   5.0   8.0   61.0  \n5        NaN  Lappeenranta  aaltoan01  1999  ANA  63.0  7.0  11.0  18.0  102.0  \n6        NaN  Lappeenranta  aaltoan01  2000  ANA  12.0  1.0   1.0   2.0   18.0  \n7         MI      Muskegon  abdelju01  2007  DET   2.0  0.0   0.0   0.0    6.0  ",
      "text/html": "<div>\n<style scoped>\n    .dataframe tbody tr th:only-of-type {\n        vertical-align: middle;\n    }\n\n    .dataframe tbody tr th {\n        vertical-align: top;\n    }\n\n    .dataframe thead th {\n        text-align: right;\n    }\n</style>\n<table border=\"1\" class=\"dataframe\">\n  <thead>\n    <tr style=\"text-align: right;\">\n      <th></th>\n      <th>firstName</th>\n      <th>lastName</th>\n      <th>pos</th>\n      <th>birthYear</th>\n      <th>birthMon</th>\n      <th>birthDay</th>\n      <th>birthCountry</th>\n      <th>birthState</th>\n      <th>birthCity</th>\n      <th>playerID</th>\n      <th>year</th>\n      <th>tmID</th>\n      <th>GP</th>\n      <th>G</th>\n      <th>A</th>\n      <th>Pts</th>\n      <th>SOG</th>\n    </tr>\n  </thead>\n  <tbody>\n    <tr>\n      <th>3</th>\n      <td>Antti</td>\n      <td>Aalto</td>\n      <td>C</td>\n      <td>1975.0</td>\n      <td>3.0</td>\n      <td>4.0</td>\n      <td>Finland</td>\n      <td>NaN</td>\n      <td>Lappeenranta</td>\n      <td>aaltoan01</td>\n      <td>1997</td>\n      <td>ANA</td>\n      <td>3.0</td>\n      <td>0.0</td>\n      <td>0.0</td>\n      <td>0.0</td>\n      <td>1.0</td>\n    </tr>\n    <tr>\n      <th>4</th>\n      <td>Antti</td>\n      <td>Aalto</td>\n      <td>C</td>\n      <td>1975.0</td>\n      <td>3.0</td>\n      <td>4.0</td>\n      <td>Finland</td>\n      <td>NaN</td>\n      <td>Lappeenranta</td>\n      <td>aaltoan01</td>\n      <td>1998</td>\n      <td>ANA</td>\n      <td>73.0</td>\n      <td>3.0</td>\n      <td>5.0</td>\n      <td>8.0</td>\n      <td>61.0</td>\n    </tr>\n    <tr>\n      <th>5</th>\n      <td>Antti</td>\n      <td>Aalto</td>\n      <td>C</td>\n      <td>1975.0</td>\n      <td>3.0</td>\n      <td>4.0</td>\n      <td>Finland</td>\n      <td>NaN</td>\n      <td>Lappeenranta</td>\n      <td>aaltoan01</td>\n      <td>1999</td>\n      <td>ANA</td>\n      <td>63.0</td>\n      <td>7.0</td>\n      <td>11.0</td>\n      <td>18.0</td>\n      <td>102.0</td>\n    </tr>\n    <tr>\n      <th>6</th>\n      <td>Antti</td>\n      <td>Aalto</td>\n      <td>C</td>\n      <td>1975.0</td>\n      <td>3.0</td>\n      <td>4.0</td>\n      <td>Finland</td>\n      <td>NaN</td>\n      <td>Lappeenranta</td>\n      <td>aaltoan01</td>\n      <td>2000</td>\n      <td>ANA</td>\n      <td>12.0</td>\n      <td>1.0</td>\n      <td>1.0</td>\n      <td>2.0</td>\n      <td>18.0</td>\n    </tr>\n    <tr>\n      <th>7</th>\n      <td>Justin</td>\n      <td>Abdelkader</td>\n      <td>L</td>\n      <td>1987.0</td>\n      <td>2.0</td>\n      <td>25.0</td>\n      <td>USA</td>\n      <td>MI</td>\n      <td>Muskegon</td>\n      <td>abdelju01</td>\n      <td>2007</td>\n      <td>DET</td>\n      <td>2.0</td>\n      <td>0.0</td>\n      <td>0.0</td>\n      <td>0.0</td>\n      <td>6.0</td>\n    </tr>\n  </tbody>\n</table>\n</div>"
     },
     "execution_count": 13,
     "metadata": {},
     "output_type": "execute_result"
    }
   ],
   "source": [
    "pd.merge(master, scoring, left_index=True, right_on=\"playerID\").head()"
   ],
   "metadata": {
    "collapsed": false,
    "pycharm": {
     "name": "#%%\n"
    }
   }
  },
  {
   "cell_type": "markdown",
   "source": [
    "index starts with 3, so it is coming from the right table, as we have modified the right table index to start from 3.\n",
    "Left index is just dropped.\n",
    "We have playerID column, but it came from the right table."
   ],
   "metadata": {
    "collapsed": false,
    "pycharm": {
     "name": "#%% md\n"
    }
   }
  },
  {
   "cell_type": "code",
   "execution_count": 14,
   "outputs": [
    {
     "data": {
      "text/plain": "          firstName    lastName pos  birthYear  birthMon  birthDay  \\\nplayerID                                                             \naaltoan01     Antti       Aalto   C     1975.0       3.0       4.0   \naaltoan01     Antti       Aalto   C     1975.0       3.0       4.0   \naaltoan01     Antti       Aalto   C     1975.0       3.0       4.0   \naaltoan01     Antti       Aalto   C     1975.0       3.0       4.0   \nabdelju01    Justin  Abdelkader   L     1987.0       2.0      25.0   \n\n          birthCountry birthState     birthCity  year tmID    GP    G     A  \\\nplayerID                                                                      \naaltoan01      Finland        NaN  Lappeenranta  1997  ANA   3.0  0.0   0.0   \naaltoan01      Finland        NaN  Lappeenranta  1998  ANA  73.0  3.0   5.0   \naaltoan01      Finland        NaN  Lappeenranta  1999  ANA  63.0  7.0  11.0   \naaltoan01      Finland        NaN  Lappeenranta  2000  ANA  12.0  1.0   1.0   \nabdelju01          USA         MI      Muskegon  2007  DET   2.0  0.0   0.0   \n\n            Pts    SOG  \nplayerID                \naaltoan01   0.0    1.0  \naaltoan01   8.0   61.0  \naaltoan01  18.0  102.0  \naaltoan01   2.0   18.0  \nabdelju01   0.0    6.0  ",
      "text/html": "<div>\n<style scoped>\n    .dataframe tbody tr th:only-of-type {\n        vertical-align: middle;\n    }\n\n    .dataframe tbody tr th {\n        vertical-align: top;\n    }\n\n    .dataframe thead th {\n        text-align: right;\n    }\n</style>\n<table border=\"1\" class=\"dataframe\">\n  <thead>\n    <tr style=\"text-align: right;\">\n      <th></th>\n      <th>firstName</th>\n      <th>lastName</th>\n      <th>pos</th>\n      <th>birthYear</th>\n      <th>birthMon</th>\n      <th>birthDay</th>\n      <th>birthCountry</th>\n      <th>birthState</th>\n      <th>birthCity</th>\n      <th>year</th>\n      <th>tmID</th>\n      <th>GP</th>\n      <th>G</th>\n      <th>A</th>\n      <th>Pts</th>\n      <th>SOG</th>\n    </tr>\n    <tr>\n      <th>playerID</th>\n      <th></th>\n      <th></th>\n      <th></th>\n      <th></th>\n      <th></th>\n      <th></th>\n      <th></th>\n      <th></th>\n      <th></th>\n      <th></th>\n      <th></th>\n      <th></th>\n      <th></th>\n      <th></th>\n      <th></th>\n      <th></th>\n    </tr>\n  </thead>\n  <tbody>\n    <tr>\n      <th>aaltoan01</th>\n      <td>Antti</td>\n      <td>Aalto</td>\n      <td>C</td>\n      <td>1975.0</td>\n      <td>3.0</td>\n      <td>4.0</td>\n      <td>Finland</td>\n      <td>NaN</td>\n      <td>Lappeenranta</td>\n      <td>1997</td>\n      <td>ANA</td>\n      <td>3.0</td>\n      <td>0.0</td>\n      <td>0.0</td>\n      <td>0.0</td>\n      <td>1.0</td>\n    </tr>\n    <tr>\n      <th>aaltoan01</th>\n      <td>Antti</td>\n      <td>Aalto</td>\n      <td>C</td>\n      <td>1975.0</td>\n      <td>3.0</td>\n      <td>4.0</td>\n      <td>Finland</td>\n      <td>NaN</td>\n      <td>Lappeenranta</td>\n      <td>1998</td>\n      <td>ANA</td>\n      <td>73.0</td>\n      <td>3.0</td>\n      <td>5.0</td>\n      <td>8.0</td>\n      <td>61.0</td>\n    </tr>\n    <tr>\n      <th>aaltoan01</th>\n      <td>Antti</td>\n      <td>Aalto</td>\n      <td>C</td>\n      <td>1975.0</td>\n      <td>3.0</td>\n      <td>4.0</td>\n      <td>Finland</td>\n      <td>NaN</td>\n      <td>Lappeenranta</td>\n      <td>1999</td>\n      <td>ANA</td>\n      <td>63.0</td>\n      <td>7.0</td>\n      <td>11.0</td>\n      <td>18.0</td>\n      <td>102.0</td>\n    </tr>\n    <tr>\n      <th>aaltoan01</th>\n      <td>Antti</td>\n      <td>Aalto</td>\n      <td>C</td>\n      <td>1975.0</td>\n      <td>3.0</td>\n      <td>4.0</td>\n      <td>Finland</td>\n      <td>NaN</td>\n      <td>Lappeenranta</td>\n      <td>2000</td>\n      <td>ANA</td>\n      <td>12.0</td>\n      <td>1.0</td>\n      <td>1.0</td>\n      <td>2.0</td>\n      <td>18.0</td>\n    </tr>\n    <tr>\n      <th>abdelju01</th>\n      <td>Justin</td>\n      <td>Abdelkader</td>\n      <td>L</td>\n      <td>1987.0</td>\n      <td>2.0</td>\n      <td>25.0</td>\n      <td>USA</td>\n      <td>MI</td>\n      <td>Muskegon</td>\n      <td>2007</td>\n      <td>DET</td>\n      <td>2.0</td>\n      <td>0.0</td>\n      <td>0.0</td>\n      <td>0.0</td>\n      <td>6.0</td>\n    </tr>\n  </tbody>\n</table>\n</div>"
     },
     "execution_count": 14,
     "metadata": {},
     "output_type": "execute_result"
    }
   ],
   "source": [
    "# merging index on index\n",
    "pd.merge(master, scoring.set_index('playerID', drop=True), left_index=True, right_index=True).head()\n"
   ],
   "metadata": {
    "collapsed": false,
    "pycharm": {
     "name": "#%%\n"
    }
   }
  },
  {
   "cell_type": "code",
   "execution_count": 15,
   "outputs": [
    {
     "data": {
      "text/plain": "  firstName    lastName pos  birthYear  birthMon  birthDay birthCountry  \\\n0     Antti       Aalto   C     1975.0       3.0       4.0      Finland   \n1     Antti       Aalto   C     1975.0       3.0       4.0      Finland   \n2     Antti       Aalto   C     1975.0       3.0       4.0      Finland   \n3     Antti       Aalto   C     1975.0       3.0       4.0      Finland   \n4    Justin  Abdelkader   L     1987.0       2.0      25.0          USA   \n\n  birthState     birthCity   playerID  year tmID    GP    G     A   Pts    SOG  \n0        NaN  Lappeenranta  aaltoan01  1997  ANA   3.0  0.0   0.0   0.0    1.0  \n1        NaN  Lappeenranta  aaltoan01  1998  ANA  73.0  3.0   5.0   8.0   61.0  \n2        NaN  Lappeenranta  aaltoan01  1999  ANA  63.0  7.0  11.0  18.0  102.0  \n3        NaN  Lappeenranta  aaltoan01  2000  ANA  12.0  1.0   1.0   2.0   18.0  \n4         MI      Muskegon  abdelju01  2007  DET   2.0  0.0   0.0   0.0    6.0  ",
      "text/html": "<div>\n<style scoped>\n    .dataframe tbody tr th:only-of-type {\n        vertical-align: middle;\n    }\n\n    .dataframe tbody tr th {\n        vertical-align: top;\n    }\n\n    .dataframe thead th {\n        text-align: right;\n    }\n</style>\n<table border=\"1\" class=\"dataframe\">\n  <thead>\n    <tr style=\"text-align: right;\">\n      <th></th>\n      <th>firstName</th>\n      <th>lastName</th>\n      <th>pos</th>\n      <th>birthYear</th>\n      <th>birthMon</th>\n      <th>birthDay</th>\n      <th>birthCountry</th>\n      <th>birthState</th>\n      <th>birthCity</th>\n      <th>playerID</th>\n      <th>year</th>\n      <th>tmID</th>\n      <th>GP</th>\n      <th>G</th>\n      <th>A</th>\n      <th>Pts</th>\n      <th>SOG</th>\n    </tr>\n  </thead>\n  <tbody>\n    <tr>\n      <th>0</th>\n      <td>Antti</td>\n      <td>Aalto</td>\n      <td>C</td>\n      <td>1975.0</td>\n      <td>3.0</td>\n      <td>4.0</td>\n      <td>Finland</td>\n      <td>NaN</td>\n      <td>Lappeenranta</td>\n      <td>aaltoan01</td>\n      <td>1997</td>\n      <td>ANA</td>\n      <td>3.0</td>\n      <td>0.0</td>\n      <td>0.0</td>\n      <td>0.0</td>\n      <td>1.0</td>\n    </tr>\n    <tr>\n      <th>1</th>\n      <td>Antti</td>\n      <td>Aalto</td>\n      <td>C</td>\n      <td>1975.0</td>\n      <td>3.0</td>\n      <td>4.0</td>\n      <td>Finland</td>\n      <td>NaN</td>\n      <td>Lappeenranta</td>\n      <td>aaltoan01</td>\n      <td>1998</td>\n      <td>ANA</td>\n      <td>73.0</td>\n      <td>3.0</td>\n      <td>5.0</td>\n      <td>8.0</td>\n      <td>61.0</td>\n    </tr>\n    <tr>\n      <th>2</th>\n      <td>Antti</td>\n      <td>Aalto</td>\n      <td>C</td>\n      <td>1975.0</td>\n      <td>3.0</td>\n      <td>4.0</td>\n      <td>Finland</td>\n      <td>NaN</td>\n      <td>Lappeenranta</td>\n      <td>aaltoan01</td>\n      <td>1999</td>\n      <td>ANA</td>\n      <td>63.0</td>\n      <td>7.0</td>\n      <td>11.0</td>\n      <td>18.0</td>\n      <td>102.0</td>\n    </tr>\n    <tr>\n      <th>3</th>\n      <td>Antti</td>\n      <td>Aalto</td>\n      <td>C</td>\n      <td>1975.0</td>\n      <td>3.0</td>\n      <td>4.0</td>\n      <td>Finland</td>\n      <td>NaN</td>\n      <td>Lappeenranta</td>\n      <td>aaltoan01</td>\n      <td>2000</td>\n      <td>ANA</td>\n      <td>12.0</td>\n      <td>1.0</td>\n      <td>1.0</td>\n      <td>2.0</td>\n      <td>18.0</td>\n    </tr>\n    <tr>\n      <th>4</th>\n      <td>Justin</td>\n      <td>Abdelkader</td>\n      <td>L</td>\n      <td>1987.0</td>\n      <td>2.0</td>\n      <td>25.0</td>\n      <td>USA</td>\n      <td>MI</td>\n      <td>Muskegon</td>\n      <td>abdelju01</td>\n      <td>2007</td>\n      <td>DET</td>\n      <td>2.0</td>\n      <td>0.0</td>\n      <td>0.0</td>\n      <td>0.0</td>\n      <td>6.0</td>\n    </tr>\n  </tbody>\n</table>\n</div>"
     },
     "execution_count": 15,
     "metadata": {},
     "output_type": "execute_result"
    }
   ],
   "source": [
    "scoring = scoring.reset_index(drop=True)\n",
    "pd.merge(master, scoring, left_index=True, right_on=\"playerID\").head()\n"
   ],
   "metadata": {
    "collapsed": false,
    "pycharm": {
     "name": "#%%\n"
    }
   }
  },
  {
   "cell_type": "code",
   "execution_count": 16,
   "outputs": [
    {
     "name": "stdout",
     "output_type": "stream",
     "text": [
      "(28616, 17) (28616, 17)\n"
     ]
    }
   ],
   "source": [
    "print(\n",
    "    pd.merge(master, scoring, left_index=True, right_on=\"playerID\").shape,\n",
    "    pd.merge(master, scoring, left_index=True, right_on=\"playerID\", how=\"right\").shape\n",
    ")\n"
   ],
   "metadata": {
    "collapsed": false,
    "pycharm": {
     "name": "#%%\n"
    }
   }
  },
  {
   "cell_type": "code",
   "execution_count": 34,
   "outputs": [
    {
     "name": "stdout",
     "output_type": "stream",
     "text": [
      "(4627, 9) (28616, 8)\n"
     ]
    }
   ],
   "source": [
    "master = pd.read_pickle(os.path.join('data', 'modified', 'master.pickle'))\n",
    "print(master.shape,scoring.shape)"
   ],
   "metadata": {
    "collapsed": false,
    "pycharm": {
     "name": "#%%\n"
    }
   }
  },
  {
   "cell_type": "code",
   "execution_count": 35,
   "outputs": [
    {
     "name": "stdout",
     "output_type": "stream",
     "text": [
      "Inner Join:  (28595, 17) \n",
      "Right Join:  (28616, 17)\n"
     ]
    }
   ],
   "source": [
    "# Drop random records\n",
    "master2 = master.drop(master.sample(5).index)\n",
    "\n",
    "print(\n",
    "    'Inner Join: ',\n",
    "    pd.merge(master2, scoring, left_index=True, right_on='playerID').shape,\n",
    "    '\\nRight Join: ',\n",
    "    pd.merge(master2, scoring, left_index=True, right_on='playerID', how=\"right\").shape\n",
    ")\n"
   ],
   "metadata": {
    "collapsed": false,
    "pycharm": {
     "name": "#%%\n"
    }
   }
  },
  {
   "cell_type": "code",
   "execution_count": 36,
   "outputs": [
    {
     "data": {
      "text/plain": "  firstName    lastName pos  birthYear  birthMon  birthDay birthCountry  \\\n0     Antti       Aalto   C     1975.0       3.0       4.0      Finland   \n1     Antti       Aalto   C     1975.0       3.0       4.0      Finland   \n2     Antti       Aalto   C     1975.0       3.0       4.0      Finland   \n3     Antti       Aalto   C     1975.0       3.0       4.0      Finland   \n4    Justin  Abdelkader   L     1987.0       2.0      25.0          USA   \n\n  birthState     birthCity   playerID  year tmID    GP    G     A   Pts  \\\n0        NaN  Lappeenranta  aaltoan01  1997  ANA   3.0  0.0   0.0   0.0   \n1        NaN  Lappeenranta  aaltoan01  1998  ANA  73.0  3.0   5.0   8.0   \n2        NaN  Lappeenranta  aaltoan01  1999  ANA  63.0  7.0  11.0  18.0   \n3        NaN  Lappeenranta  aaltoan01  2000  ANA  12.0  1.0   1.0   2.0   \n4         MI      Muskegon  abdelju01  2007  DET   2.0  0.0   0.0   0.0   \n\n     SOG _merge  \n0    1.0   both  \n1   61.0   both  \n2  102.0   both  \n3   18.0   both  \n4    6.0   both  ",
      "text/html": "<div>\n<style scoped>\n    .dataframe tbody tr th:only-of-type {\n        vertical-align: middle;\n    }\n\n    .dataframe tbody tr th {\n        vertical-align: top;\n    }\n\n    .dataframe thead th {\n        text-align: right;\n    }\n</style>\n<table border=\"1\" class=\"dataframe\">\n  <thead>\n    <tr style=\"text-align: right;\">\n      <th></th>\n      <th>firstName</th>\n      <th>lastName</th>\n      <th>pos</th>\n      <th>birthYear</th>\n      <th>birthMon</th>\n      <th>birthDay</th>\n      <th>birthCountry</th>\n      <th>birthState</th>\n      <th>birthCity</th>\n      <th>playerID</th>\n      <th>year</th>\n      <th>tmID</th>\n      <th>GP</th>\n      <th>G</th>\n      <th>A</th>\n      <th>Pts</th>\n      <th>SOG</th>\n      <th>_merge</th>\n    </tr>\n  </thead>\n  <tbody>\n    <tr>\n      <th>0</th>\n      <td>Antti</td>\n      <td>Aalto</td>\n      <td>C</td>\n      <td>1975.0</td>\n      <td>3.0</td>\n      <td>4.0</td>\n      <td>Finland</td>\n      <td>NaN</td>\n      <td>Lappeenranta</td>\n      <td>aaltoan01</td>\n      <td>1997</td>\n      <td>ANA</td>\n      <td>3.0</td>\n      <td>0.0</td>\n      <td>0.0</td>\n      <td>0.0</td>\n      <td>1.0</td>\n      <td>both</td>\n    </tr>\n    <tr>\n      <th>1</th>\n      <td>Antti</td>\n      <td>Aalto</td>\n      <td>C</td>\n      <td>1975.0</td>\n      <td>3.0</td>\n      <td>4.0</td>\n      <td>Finland</td>\n      <td>NaN</td>\n      <td>Lappeenranta</td>\n      <td>aaltoan01</td>\n      <td>1998</td>\n      <td>ANA</td>\n      <td>73.0</td>\n      <td>3.0</td>\n      <td>5.0</td>\n      <td>8.0</td>\n      <td>61.0</td>\n      <td>both</td>\n    </tr>\n    <tr>\n      <th>2</th>\n      <td>Antti</td>\n      <td>Aalto</td>\n      <td>C</td>\n      <td>1975.0</td>\n      <td>3.0</td>\n      <td>4.0</td>\n      <td>Finland</td>\n      <td>NaN</td>\n      <td>Lappeenranta</td>\n      <td>aaltoan01</td>\n      <td>1999</td>\n      <td>ANA</td>\n      <td>63.0</td>\n      <td>7.0</td>\n      <td>11.0</td>\n      <td>18.0</td>\n      <td>102.0</td>\n      <td>both</td>\n    </tr>\n    <tr>\n      <th>3</th>\n      <td>Antti</td>\n      <td>Aalto</td>\n      <td>C</td>\n      <td>1975.0</td>\n      <td>3.0</td>\n      <td>4.0</td>\n      <td>Finland</td>\n      <td>NaN</td>\n      <td>Lappeenranta</td>\n      <td>aaltoan01</td>\n      <td>2000</td>\n      <td>ANA</td>\n      <td>12.0</td>\n      <td>1.0</td>\n      <td>1.0</td>\n      <td>2.0</td>\n      <td>18.0</td>\n      <td>both</td>\n    </tr>\n    <tr>\n      <th>4</th>\n      <td>Justin</td>\n      <td>Abdelkader</td>\n      <td>L</td>\n      <td>1987.0</td>\n      <td>2.0</td>\n      <td>25.0</td>\n      <td>USA</td>\n      <td>MI</td>\n      <td>Muskegon</td>\n      <td>abdelju01</td>\n      <td>2007</td>\n      <td>DET</td>\n      <td>2.0</td>\n      <td>0.0</td>\n      <td>0.0</td>\n      <td>0.0</td>\n      <td>6.0</td>\n      <td>both</td>\n    </tr>\n  </tbody>\n</table>\n</div>"
     },
     "execution_count": 36,
     "metadata": {},
     "output_type": "execute_result"
    }
   ],
   "source": [
    "merged = pd.merge(master2, scoring, left_index=True, right_on=\"playerID\", how=\"right\", indicator=True)\n",
    "merged.head()\n"
   ],
   "metadata": {
    "collapsed": false,
    "pycharm": {
     "name": "#%%\n"
    }
   }
  },
  {
   "cell_type": "code",
   "execution_count": 37,
   "outputs": [
    {
     "data": {
      "text/plain": "(28616, 18)"
     },
     "execution_count": 37,
     "metadata": {},
     "output_type": "execute_result"
    }
   ],
   "source": [
    "merged.shape\n"
   ],
   "metadata": {
    "collapsed": false,
    "pycharm": {
     "name": "#%%\n"
    }
   }
  },
  {
   "cell_type": "code",
   "execution_count": 38,
   "outputs": [
    {
     "data": {
      "text/plain": "both          28595\nright_only       21\nleft_only         0\nName: _merge, dtype: int64"
     },
     "execution_count": 38,
     "metadata": {},
     "output_type": "execute_result"
    }
   ],
   "source": [
    "merged['_merge'].value_counts()\n"
   ],
   "metadata": {
    "collapsed": false,
    "pycharm": {
     "name": "#%%\n"
    }
   }
  },
  {
   "cell_type": "code",
   "execution_count": 39,
   "outputs": [
    {
     "data": {
      "text/plain": "      firstName lastName  pos  birthYear  birthMon  birthDay birthCountry  \\\n5971        NaN      NaN  NaN        NaN       NaN       NaN          NaN   \n5972        NaN      NaN  NaN        NaN       NaN       NaN          NaN   \n12848       NaN      NaN  NaN        NaN       NaN       NaN          NaN   \n12849       NaN      NaN  NaN        NaN       NaN       NaN          NaN   \n12850       NaN      NaN  NaN        NaN       NaN       NaN          NaN   \n\n      birthState birthCity   playerID  year tmID    GP     G     A   Pts  \\\n5971         NaN       NaN  donatcl01  1989  MNS  25.0   3.0   3.0   6.0   \n5972         NaN       NaN  donatcl01  1991  BOS  10.0   0.0   1.0   1.0   \n12848        NaN       NaN  kopitan01  2006  LAK  72.0  20.0  41.0  61.0   \n12849        NaN       NaN  kopitan01  2007  LAK  82.0  32.0  45.0  77.0   \n12850        NaN       NaN  kopitan01  2008  LAK  82.0  27.0  39.0  66.0   \n\n         SOG      _merge  \n5971    25.0  right_only  \n5972     7.0  right_only  \n12848  193.0  right_only  \n12849  201.0  right_only  \n12850  234.0  right_only  ",
      "text/html": "<div>\n<style scoped>\n    .dataframe tbody tr th:only-of-type {\n        vertical-align: middle;\n    }\n\n    .dataframe tbody tr th {\n        vertical-align: top;\n    }\n\n    .dataframe thead th {\n        text-align: right;\n    }\n</style>\n<table border=\"1\" class=\"dataframe\">\n  <thead>\n    <tr style=\"text-align: right;\">\n      <th></th>\n      <th>firstName</th>\n      <th>lastName</th>\n      <th>pos</th>\n      <th>birthYear</th>\n      <th>birthMon</th>\n      <th>birthDay</th>\n      <th>birthCountry</th>\n      <th>birthState</th>\n      <th>birthCity</th>\n      <th>playerID</th>\n      <th>year</th>\n      <th>tmID</th>\n      <th>GP</th>\n      <th>G</th>\n      <th>A</th>\n      <th>Pts</th>\n      <th>SOG</th>\n      <th>_merge</th>\n    </tr>\n  </thead>\n  <tbody>\n    <tr>\n      <th>5971</th>\n      <td>NaN</td>\n      <td>NaN</td>\n      <td>NaN</td>\n      <td>NaN</td>\n      <td>NaN</td>\n      <td>NaN</td>\n      <td>NaN</td>\n      <td>NaN</td>\n      <td>NaN</td>\n      <td>donatcl01</td>\n      <td>1989</td>\n      <td>MNS</td>\n      <td>25.0</td>\n      <td>3.0</td>\n      <td>3.0</td>\n      <td>6.0</td>\n      <td>25.0</td>\n      <td>right_only</td>\n    </tr>\n    <tr>\n      <th>5972</th>\n      <td>NaN</td>\n      <td>NaN</td>\n      <td>NaN</td>\n      <td>NaN</td>\n      <td>NaN</td>\n      <td>NaN</td>\n      <td>NaN</td>\n      <td>NaN</td>\n      <td>NaN</td>\n      <td>donatcl01</td>\n      <td>1991</td>\n      <td>BOS</td>\n      <td>10.0</td>\n      <td>0.0</td>\n      <td>1.0</td>\n      <td>1.0</td>\n      <td>7.0</td>\n      <td>right_only</td>\n    </tr>\n    <tr>\n      <th>12848</th>\n      <td>NaN</td>\n      <td>NaN</td>\n      <td>NaN</td>\n      <td>NaN</td>\n      <td>NaN</td>\n      <td>NaN</td>\n      <td>NaN</td>\n      <td>NaN</td>\n      <td>NaN</td>\n      <td>kopitan01</td>\n      <td>2006</td>\n      <td>LAK</td>\n      <td>72.0</td>\n      <td>20.0</td>\n      <td>41.0</td>\n      <td>61.0</td>\n      <td>193.0</td>\n      <td>right_only</td>\n    </tr>\n    <tr>\n      <th>12849</th>\n      <td>NaN</td>\n      <td>NaN</td>\n      <td>NaN</td>\n      <td>NaN</td>\n      <td>NaN</td>\n      <td>NaN</td>\n      <td>NaN</td>\n      <td>NaN</td>\n      <td>NaN</td>\n      <td>kopitan01</td>\n      <td>2007</td>\n      <td>LAK</td>\n      <td>82.0</td>\n      <td>32.0</td>\n      <td>45.0</td>\n      <td>77.0</td>\n      <td>201.0</td>\n      <td>right_only</td>\n    </tr>\n    <tr>\n      <th>12850</th>\n      <td>NaN</td>\n      <td>NaN</td>\n      <td>NaN</td>\n      <td>NaN</td>\n      <td>NaN</td>\n      <td>NaN</td>\n      <td>NaN</td>\n      <td>NaN</td>\n      <td>NaN</td>\n      <td>kopitan01</td>\n      <td>2008</td>\n      <td>LAK</td>\n      <td>82.0</td>\n      <td>27.0</td>\n      <td>39.0</td>\n      <td>66.0</td>\n      <td>234.0</td>\n      <td>right_only</td>\n    </tr>\n  </tbody>\n</table>\n</div>"
     },
     "execution_count": 39,
     "metadata": {},
     "output_type": "execute_result"
    }
   ],
   "source": [
    "merged[merged[\"_merge\"] == \"right_only\"].head()"
   ],
   "metadata": {
    "collapsed": false,
    "pycharm": {
     "name": "#%%\n"
    }
   }
  },
  {
   "cell_type": "code",
   "execution_count": 40,
   "outputs": [],
   "source": [
    "scoring2 = scoring.drop(scoring.sample(100).index)\n",
    "merged = pd.merge(master2, scoring2, left_index=True, right_on=\"playerID\", how=\"outer\", indicator=True)\n"
   ],
   "metadata": {
    "collapsed": false,
    "pycharm": {
     "name": "#%%\n"
    }
   }
  },
  {
   "cell_type": "code",
   "execution_count": 42,
   "outputs": [
    {
     "data": {
      "text/plain": "        firstName   lastName  pos  birthYear  birthMon  birthDay birthCountry  \\\n5972.0        NaN        NaN  NaN        NaN       NaN       NaN          NaN   \nNaN        Jeremy  Yablonski    R     1980.0       3.0      21.0       Canada   \nNaN          Russ       Adam    C     1961.0       5.0       5.0       Canada   \n12848.0       NaN        NaN  NaN        NaN       NaN       NaN          NaN   \n12852.0       NaN        NaN  NaN        NaN       NaN       NaN          NaN   \n23135.0       NaN        NaN  NaN        NaN       NaN       NaN          NaN   \n23138.0       NaN        NaN  NaN        NaN       NaN       NaN          NaN   \n22046.0       NaN        NaN  NaN        NaN       NaN       NaN          NaN   \nNaN          Ryan     Barnes    L     1980.0       1.0      30.0       Canada   \n23139.0       NaN        NaN  NaN        NaN       NaN       NaN          NaN   \n\n        birthState    birthCity   playerID    year tmID    GP     G     A  \\\n5972.0         NaN          NaN  donatcl01  1991.0  BOS  10.0   0.0   1.0   \nNaN             SK  Meadow Lake  yabloje01     NaN  NaN   NaN   NaN   NaN   \nNaN             ON      Windsor   adamru01     NaN  NaN   NaN   NaN   NaN   \n12848.0        NaN          NaN  kopitan01  2006.0  LAK  72.0  20.0  41.0   \n12852.0        NaN          NaN  kopitan01  2010.0  LAK  75.0  25.0  48.0   \n23135.0        NaN          NaN  seiliri01  1981.0  BUF  57.0  22.0  25.0   \n23138.0        NaN          NaN  seiliri01  1984.0  BUF  73.0  16.0  15.0   \n22046.0        NaN          NaN  rominda01  1999.0  TBL   3.0   0.0   1.0   \nNaN             ON    Dunnville  barnery01     NaN  NaN   NaN   NaN   NaN   \n23139.0        NaN          NaN  seiliri01  1985.0  BUF  69.0  12.0  13.0   \n\n          Pts    SOG      _merge  \n5972.0    1.0    7.0  right_only  \nNaN       NaN    NaN   left_only  \nNaN       NaN    NaN   left_only  \n12848.0  61.0  193.0  right_only  \n12852.0  73.0  233.0  right_only  \n23135.0  47.0  112.0  right_only  \n23138.0  31.0  118.0  right_only  \n22046.0   1.0    0.0  right_only  \nNaN       NaN    NaN   left_only  \n23139.0  25.0   85.0  right_only  ",
      "text/html": "<div>\n<style scoped>\n    .dataframe tbody tr th:only-of-type {\n        vertical-align: middle;\n    }\n\n    .dataframe tbody tr th {\n        vertical-align: top;\n    }\n\n    .dataframe thead th {\n        text-align: right;\n    }\n</style>\n<table border=\"1\" class=\"dataframe\">\n  <thead>\n    <tr style=\"text-align: right;\">\n      <th></th>\n      <th>firstName</th>\n      <th>lastName</th>\n      <th>pos</th>\n      <th>birthYear</th>\n      <th>birthMon</th>\n      <th>birthDay</th>\n      <th>birthCountry</th>\n      <th>birthState</th>\n      <th>birthCity</th>\n      <th>playerID</th>\n      <th>year</th>\n      <th>tmID</th>\n      <th>GP</th>\n      <th>G</th>\n      <th>A</th>\n      <th>Pts</th>\n      <th>SOG</th>\n      <th>_merge</th>\n    </tr>\n  </thead>\n  <tbody>\n    <tr>\n      <th>5972.0</th>\n      <td>NaN</td>\n      <td>NaN</td>\n      <td>NaN</td>\n      <td>NaN</td>\n      <td>NaN</td>\n      <td>NaN</td>\n      <td>NaN</td>\n      <td>NaN</td>\n      <td>NaN</td>\n      <td>donatcl01</td>\n      <td>1991.0</td>\n      <td>BOS</td>\n      <td>10.0</td>\n      <td>0.0</td>\n      <td>1.0</td>\n      <td>1.0</td>\n      <td>7.0</td>\n      <td>right_only</td>\n    </tr>\n    <tr>\n      <th>NaN</th>\n      <td>Jeremy</td>\n      <td>Yablonski</td>\n      <td>R</td>\n      <td>1980.0</td>\n      <td>3.0</td>\n      <td>21.0</td>\n      <td>Canada</td>\n      <td>SK</td>\n      <td>Meadow Lake</td>\n      <td>yabloje01</td>\n      <td>NaN</td>\n      <td>NaN</td>\n      <td>NaN</td>\n      <td>NaN</td>\n      <td>NaN</td>\n      <td>NaN</td>\n      <td>NaN</td>\n      <td>left_only</td>\n    </tr>\n    <tr>\n      <th>NaN</th>\n      <td>Russ</td>\n      <td>Adam</td>\n      <td>C</td>\n      <td>1961.0</td>\n      <td>5.0</td>\n      <td>5.0</td>\n      <td>Canada</td>\n      <td>ON</td>\n      <td>Windsor</td>\n      <td>adamru01</td>\n      <td>NaN</td>\n      <td>NaN</td>\n      <td>NaN</td>\n      <td>NaN</td>\n      <td>NaN</td>\n      <td>NaN</td>\n      <td>NaN</td>\n      <td>left_only</td>\n    </tr>\n    <tr>\n      <th>12848.0</th>\n      <td>NaN</td>\n      <td>NaN</td>\n      <td>NaN</td>\n      <td>NaN</td>\n      <td>NaN</td>\n      <td>NaN</td>\n      <td>NaN</td>\n      <td>NaN</td>\n      <td>NaN</td>\n      <td>kopitan01</td>\n      <td>2006.0</td>\n      <td>LAK</td>\n      <td>72.0</td>\n      <td>20.0</td>\n      <td>41.0</td>\n      <td>61.0</td>\n      <td>193.0</td>\n      <td>right_only</td>\n    </tr>\n    <tr>\n      <th>12852.0</th>\n      <td>NaN</td>\n      <td>NaN</td>\n      <td>NaN</td>\n      <td>NaN</td>\n      <td>NaN</td>\n      <td>NaN</td>\n      <td>NaN</td>\n      <td>NaN</td>\n      <td>NaN</td>\n      <td>kopitan01</td>\n      <td>2010.0</td>\n      <td>LAK</td>\n      <td>75.0</td>\n      <td>25.0</td>\n      <td>48.0</td>\n      <td>73.0</td>\n      <td>233.0</td>\n      <td>right_only</td>\n    </tr>\n    <tr>\n      <th>23135.0</th>\n      <td>NaN</td>\n      <td>NaN</td>\n      <td>NaN</td>\n      <td>NaN</td>\n      <td>NaN</td>\n      <td>NaN</td>\n      <td>NaN</td>\n      <td>NaN</td>\n      <td>NaN</td>\n      <td>seiliri01</td>\n      <td>1981.0</td>\n      <td>BUF</td>\n      <td>57.0</td>\n      <td>22.0</td>\n      <td>25.0</td>\n      <td>47.0</td>\n      <td>112.0</td>\n      <td>right_only</td>\n    </tr>\n    <tr>\n      <th>23138.0</th>\n      <td>NaN</td>\n      <td>NaN</td>\n      <td>NaN</td>\n      <td>NaN</td>\n      <td>NaN</td>\n      <td>NaN</td>\n      <td>NaN</td>\n      <td>NaN</td>\n      <td>NaN</td>\n      <td>seiliri01</td>\n      <td>1984.0</td>\n      <td>BUF</td>\n      <td>73.0</td>\n      <td>16.0</td>\n      <td>15.0</td>\n      <td>31.0</td>\n      <td>118.0</td>\n      <td>right_only</td>\n    </tr>\n    <tr>\n      <th>22046.0</th>\n      <td>NaN</td>\n      <td>NaN</td>\n      <td>NaN</td>\n      <td>NaN</td>\n      <td>NaN</td>\n      <td>NaN</td>\n      <td>NaN</td>\n      <td>NaN</td>\n      <td>NaN</td>\n      <td>rominda01</td>\n      <td>1999.0</td>\n      <td>TBL</td>\n      <td>3.0</td>\n      <td>0.0</td>\n      <td>1.0</td>\n      <td>1.0</td>\n      <td>0.0</td>\n      <td>right_only</td>\n    </tr>\n    <tr>\n      <th>NaN</th>\n      <td>Ryan</td>\n      <td>Barnes</td>\n      <td>L</td>\n      <td>1980.0</td>\n      <td>1.0</td>\n      <td>30.0</td>\n      <td>Canada</td>\n      <td>ON</td>\n      <td>Dunnville</td>\n      <td>barnery01</td>\n      <td>NaN</td>\n      <td>NaN</td>\n      <td>NaN</td>\n      <td>NaN</td>\n      <td>NaN</td>\n      <td>NaN</td>\n      <td>NaN</td>\n      <td>left_only</td>\n    </tr>\n    <tr>\n      <th>23139.0</th>\n      <td>NaN</td>\n      <td>NaN</td>\n      <td>NaN</td>\n      <td>NaN</td>\n      <td>NaN</td>\n      <td>NaN</td>\n      <td>NaN</td>\n      <td>NaN</td>\n      <td>NaN</td>\n      <td>seiliri01</td>\n      <td>1985.0</td>\n      <td>BUF</td>\n      <td>69.0</td>\n      <td>12.0</td>\n      <td>13.0</td>\n      <td>25.0</td>\n      <td>85.0</td>\n      <td>right_only</td>\n    </tr>\n  </tbody>\n</table>\n</div>"
     },
     "execution_count": 42,
     "metadata": {},
     "output_type": "execute_result"
    }
   ],
   "source": [
    "merged[(merged['_merge'] == 'left_only') | (merged['_merge'] == 'right_only')].sample(10)\n"
   ],
   "metadata": {
    "collapsed": false,
    "pycharm": {
     "name": "#%%\n"
    }
   }
  },
  {
   "cell_type": "code",
   "execution_count": 43,
   "outputs": [
    {
     "data": {
      "text/plain": "        firstName lastName  pos  birthYear  birthMon  birthDay birthCountry  \\\n14329.0       NaN      NaN  NaN        NaN       NaN       NaN          NaN   \n22046.0       NaN      NaN  NaN        NaN       NaN       NaN          NaN   \n14328.0       NaN      NaN  NaN        NaN       NaN       NaN          NaN   \n23139.0       NaN      NaN  NaN        NaN       NaN       NaN          NaN   \n23135.0       NaN      NaN  NaN        NaN       NaN       NaN          NaN   \nNaN          Russ     Adam    C     1961.0       5.0       5.0       Canada   \n23140.0       NaN      NaN  NaN        NaN       NaN       NaN          NaN   \n23136.0       NaN      NaN  NaN        NaN       NaN       NaN          NaN   \n5971.0        NaN      NaN  NaN        NaN       NaN       NaN          NaN   \n23138.0       NaN      NaN  NaN        NaN       NaN       NaN          NaN   \n\n        birthState birthCity   playerID    year tmID    GP     G     A   Pts  \\\n14329.0        NaN       NaN  lefebgu01  2005.0  PIT   9.0   0.0   0.0   0.0   \n22046.0        NaN       NaN  rominda01  1999.0  TBL   3.0   0.0   1.0   1.0   \n14328.0        NaN       NaN  lefebgu01  2002.0  PIT  12.0   2.0   4.0   6.0   \n23139.0        NaN       NaN  seiliri01  1985.0  BUF  69.0  12.0  13.0  25.0   \n23135.0        NaN       NaN  seiliri01  1981.0  BUF  57.0  22.0  25.0  47.0   \nNaN             ON   Windsor   adamru01     NaN  NaN   NaN   NaN   NaN   NaN   \n23140.0        NaN       NaN  seiliri01  1986.0  DET  74.0   3.0   8.0  11.0   \n23136.0        NaN       NaN  seiliri01  1982.0  BUF  75.0  19.0  22.0  41.0   \n5971.0         NaN       NaN  donatcl01  1989.0  MNS  25.0   3.0   3.0   6.0   \n23138.0        NaN       NaN  seiliri01  1984.0  BUF  73.0  16.0  15.0  31.0   \n\n           SOG      _merge  \n14329.0    3.0  right_only  \n22046.0    0.0  right_only  \n14328.0   14.0  right_only  \n23139.0   85.0  right_only  \n23135.0  112.0  right_only  \nNaN        NaN   left_only  \n23140.0   35.0  right_only  \n23136.0  127.0  right_only  \n5971.0    25.0  right_only  \n23138.0  118.0  right_only  ",
      "text/html": "<div>\n<style scoped>\n    .dataframe tbody tr th:only-of-type {\n        vertical-align: middle;\n    }\n\n    .dataframe tbody tr th {\n        vertical-align: top;\n    }\n\n    .dataframe thead th {\n        text-align: right;\n    }\n</style>\n<table border=\"1\" class=\"dataframe\">\n  <thead>\n    <tr style=\"text-align: right;\">\n      <th></th>\n      <th>firstName</th>\n      <th>lastName</th>\n      <th>pos</th>\n      <th>birthYear</th>\n      <th>birthMon</th>\n      <th>birthDay</th>\n      <th>birthCountry</th>\n      <th>birthState</th>\n      <th>birthCity</th>\n      <th>playerID</th>\n      <th>year</th>\n      <th>tmID</th>\n      <th>GP</th>\n      <th>G</th>\n      <th>A</th>\n      <th>Pts</th>\n      <th>SOG</th>\n      <th>_merge</th>\n    </tr>\n  </thead>\n  <tbody>\n    <tr>\n      <th>14329.0</th>\n      <td>NaN</td>\n      <td>NaN</td>\n      <td>NaN</td>\n      <td>NaN</td>\n      <td>NaN</td>\n      <td>NaN</td>\n      <td>NaN</td>\n      <td>NaN</td>\n      <td>NaN</td>\n      <td>lefebgu01</td>\n      <td>2005.0</td>\n      <td>PIT</td>\n      <td>9.0</td>\n      <td>0.0</td>\n      <td>0.0</td>\n      <td>0.0</td>\n      <td>3.0</td>\n      <td>right_only</td>\n    </tr>\n    <tr>\n      <th>22046.0</th>\n      <td>NaN</td>\n      <td>NaN</td>\n      <td>NaN</td>\n      <td>NaN</td>\n      <td>NaN</td>\n      <td>NaN</td>\n      <td>NaN</td>\n      <td>NaN</td>\n      <td>NaN</td>\n      <td>rominda01</td>\n      <td>1999.0</td>\n      <td>TBL</td>\n      <td>3.0</td>\n      <td>0.0</td>\n      <td>1.0</td>\n      <td>1.0</td>\n      <td>0.0</td>\n      <td>right_only</td>\n    </tr>\n    <tr>\n      <th>14328.0</th>\n      <td>NaN</td>\n      <td>NaN</td>\n      <td>NaN</td>\n      <td>NaN</td>\n      <td>NaN</td>\n      <td>NaN</td>\n      <td>NaN</td>\n      <td>NaN</td>\n      <td>NaN</td>\n      <td>lefebgu01</td>\n      <td>2002.0</td>\n      <td>PIT</td>\n      <td>12.0</td>\n      <td>2.0</td>\n      <td>4.0</td>\n      <td>6.0</td>\n      <td>14.0</td>\n      <td>right_only</td>\n    </tr>\n    <tr>\n      <th>23139.0</th>\n      <td>NaN</td>\n      <td>NaN</td>\n      <td>NaN</td>\n      <td>NaN</td>\n      <td>NaN</td>\n      <td>NaN</td>\n      <td>NaN</td>\n      <td>NaN</td>\n      <td>NaN</td>\n      <td>seiliri01</td>\n      <td>1985.0</td>\n      <td>BUF</td>\n      <td>69.0</td>\n      <td>12.0</td>\n      <td>13.0</td>\n      <td>25.0</td>\n      <td>85.0</td>\n      <td>right_only</td>\n    </tr>\n    <tr>\n      <th>23135.0</th>\n      <td>NaN</td>\n      <td>NaN</td>\n      <td>NaN</td>\n      <td>NaN</td>\n      <td>NaN</td>\n      <td>NaN</td>\n      <td>NaN</td>\n      <td>NaN</td>\n      <td>NaN</td>\n      <td>seiliri01</td>\n      <td>1981.0</td>\n      <td>BUF</td>\n      <td>57.0</td>\n      <td>22.0</td>\n      <td>25.0</td>\n      <td>47.0</td>\n      <td>112.0</td>\n      <td>right_only</td>\n    </tr>\n    <tr>\n      <th>NaN</th>\n      <td>Russ</td>\n      <td>Adam</td>\n      <td>C</td>\n      <td>1961.0</td>\n      <td>5.0</td>\n      <td>5.0</td>\n      <td>Canada</td>\n      <td>ON</td>\n      <td>Windsor</td>\n      <td>adamru01</td>\n      <td>NaN</td>\n      <td>NaN</td>\n      <td>NaN</td>\n      <td>NaN</td>\n      <td>NaN</td>\n      <td>NaN</td>\n      <td>NaN</td>\n      <td>left_only</td>\n    </tr>\n    <tr>\n      <th>23140.0</th>\n      <td>NaN</td>\n      <td>NaN</td>\n      <td>NaN</td>\n      <td>NaN</td>\n      <td>NaN</td>\n      <td>NaN</td>\n      <td>NaN</td>\n      <td>NaN</td>\n      <td>NaN</td>\n      <td>seiliri01</td>\n      <td>1986.0</td>\n      <td>DET</td>\n      <td>74.0</td>\n      <td>3.0</td>\n      <td>8.0</td>\n      <td>11.0</td>\n      <td>35.0</td>\n      <td>right_only</td>\n    </tr>\n    <tr>\n      <th>23136.0</th>\n      <td>NaN</td>\n      <td>NaN</td>\n      <td>NaN</td>\n      <td>NaN</td>\n      <td>NaN</td>\n      <td>NaN</td>\n      <td>NaN</td>\n      <td>NaN</td>\n      <td>NaN</td>\n      <td>seiliri01</td>\n      <td>1982.0</td>\n      <td>BUF</td>\n      <td>75.0</td>\n      <td>19.0</td>\n      <td>22.0</td>\n      <td>41.0</td>\n      <td>127.0</td>\n      <td>right_only</td>\n    </tr>\n    <tr>\n      <th>5971.0</th>\n      <td>NaN</td>\n      <td>NaN</td>\n      <td>NaN</td>\n      <td>NaN</td>\n      <td>NaN</td>\n      <td>NaN</td>\n      <td>NaN</td>\n      <td>NaN</td>\n      <td>NaN</td>\n      <td>donatcl01</td>\n      <td>1989.0</td>\n      <td>MNS</td>\n      <td>25.0</td>\n      <td>3.0</td>\n      <td>3.0</td>\n      <td>6.0</td>\n      <td>25.0</td>\n      <td>right_only</td>\n    </tr>\n    <tr>\n      <th>23138.0</th>\n      <td>NaN</td>\n      <td>NaN</td>\n      <td>NaN</td>\n      <td>NaN</td>\n      <td>NaN</td>\n      <td>NaN</td>\n      <td>NaN</td>\n      <td>NaN</td>\n      <td>NaN</td>\n      <td>seiliri01</td>\n      <td>1984.0</td>\n      <td>BUF</td>\n      <td>73.0</td>\n      <td>16.0</td>\n      <td>15.0</td>\n      <td>31.0</td>\n      <td>118.0</td>\n      <td>right_only</td>\n    </tr>\n  </tbody>\n</table>\n</div>"
     },
     "execution_count": 43,
     "metadata": {},
     "output_type": "execute_result"
    }
   ],
   "source": [
    "merged[merged['_merge'].str.endswith('only')].sample(10)\n"
   ],
   "metadata": {
    "collapsed": false,
    "pycharm": {
     "name": "#%%\n"
    }
   }
  },
  {
   "cell_type": "code",
   "execution_count": 44,
   "outputs": [
    {
     "data": {
      "text/plain": "  firstName    lastName pos  birthYear  birthMon  birthDay birthCountry  \\\n0     Antti       Aalto   C     1975.0       3.0       4.0      Finland   \n1     Antti       Aalto   C     1975.0       3.0       4.0      Finland   \n2     Antti       Aalto   C     1975.0       3.0       4.0      Finland   \n3     Antti       Aalto   C     1975.0       3.0       4.0      Finland   \n4    Justin  Abdelkader   L     1987.0       2.0      25.0          USA   \n\n  birthState     birthCity   playerID  year tmID    GP    G     A   Pts    SOG  \n0        NaN  Lappeenranta  aaltoan01  1997  ANA   3.0  0.0   0.0   0.0    1.0  \n1        NaN  Lappeenranta  aaltoan01  1998  ANA  73.0  3.0   5.0   8.0   61.0  \n2        NaN  Lappeenranta  aaltoan01  1999  ANA  63.0  7.0  11.0  18.0  102.0  \n3        NaN  Lappeenranta  aaltoan01  2000  ANA  12.0  1.0   1.0   2.0   18.0  \n4         MI      Muskegon  abdelju01  2007  DET   2.0  0.0   0.0   0.0    6.0  ",
      "text/html": "<div>\n<style scoped>\n    .dataframe tbody tr th:only-of-type {\n        vertical-align: middle;\n    }\n\n    .dataframe tbody tr th {\n        vertical-align: top;\n    }\n\n    .dataframe thead th {\n        text-align: right;\n    }\n</style>\n<table border=\"1\" class=\"dataframe\">\n  <thead>\n    <tr style=\"text-align: right;\">\n      <th></th>\n      <th>firstName</th>\n      <th>lastName</th>\n      <th>pos</th>\n      <th>birthYear</th>\n      <th>birthMon</th>\n      <th>birthDay</th>\n      <th>birthCountry</th>\n      <th>birthState</th>\n      <th>birthCity</th>\n      <th>playerID</th>\n      <th>year</th>\n      <th>tmID</th>\n      <th>GP</th>\n      <th>G</th>\n      <th>A</th>\n      <th>Pts</th>\n      <th>SOG</th>\n    </tr>\n  </thead>\n  <tbody>\n    <tr>\n      <th>0</th>\n      <td>Antti</td>\n      <td>Aalto</td>\n      <td>C</td>\n      <td>1975.0</td>\n      <td>3.0</td>\n      <td>4.0</td>\n      <td>Finland</td>\n      <td>NaN</td>\n      <td>Lappeenranta</td>\n      <td>aaltoan01</td>\n      <td>1997</td>\n      <td>ANA</td>\n      <td>3.0</td>\n      <td>0.0</td>\n      <td>0.0</td>\n      <td>0.0</td>\n      <td>1.0</td>\n    </tr>\n    <tr>\n      <th>1</th>\n      <td>Antti</td>\n      <td>Aalto</td>\n      <td>C</td>\n      <td>1975.0</td>\n      <td>3.0</td>\n      <td>4.0</td>\n      <td>Finland</td>\n      <td>NaN</td>\n      <td>Lappeenranta</td>\n      <td>aaltoan01</td>\n      <td>1998</td>\n      <td>ANA</td>\n      <td>73.0</td>\n      <td>3.0</td>\n      <td>5.0</td>\n      <td>8.0</td>\n      <td>61.0</td>\n    </tr>\n    <tr>\n      <th>2</th>\n      <td>Antti</td>\n      <td>Aalto</td>\n      <td>C</td>\n      <td>1975.0</td>\n      <td>3.0</td>\n      <td>4.0</td>\n      <td>Finland</td>\n      <td>NaN</td>\n      <td>Lappeenranta</td>\n      <td>aaltoan01</td>\n      <td>1999</td>\n      <td>ANA</td>\n      <td>63.0</td>\n      <td>7.0</td>\n      <td>11.0</td>\n      <td>18.0</td>\n      <td>102.0</td>\n    </tr>\n    <tr>\n      <th>3</th>\n      <td>Antti</td>\n      <td>Aalto</td>\n      <td>C</td>\n      <td>1975.0</td>\n      <td>3.0</td>\n      <td>4.0</td>\n      <td>Finland</td>\n      <td>NaN</td>\n      <td>Lappeenranta</td>\n      <td>aaltoan01</td>\n      <td>2000</td>\n      <td>ANA</td>\n      <td>12.0</td>\n      <td>1.0</td>\n      <td>1.0</td>\n      <td>2.0</td>\n      <td>18.0</td>\n    </tr>\n    <tr>\n      <th>4</th>\n      <td>Justin</td>\n      <td>Abdelkader</td>\n      <td>L</td>\n      <td>1987.0</td>\n      <td>2.0</td>\n      <td>25.0</td>\n      <td>USA</td>\n      <td>MI</td>\n      <td>Muskegon</td>\n      <td>abdelju01</td>\n      <td>2007</td>\n      <td>DET</td>\n      <td>2.0</td>\n      <td>0.0</td>\n      <td>0.0</td>\n      <td>0.0</td>\n      <td>6.0</td>\n    </tr>\n  </tbody>\n</table>\n</div>"
     },
     "execution_count": 44,
     "metadata": {},
     "output_type": "execute_result"
    }
   ],
   "source": [
    "pd.merge(master, scoring, left_index=True, right_on=\"playerID\", validate=\"1:m\").head()\n"
   ],
   "metadata": {
    "collapsed": false,
    "pycharm": {
     "name": "#%%\n"
    }
   }
  },
  {
   "cell_type": "code",
   "execution_count": 45,
   "outputs": [
    {
     "name": "stdout",
     "output_type": "stream",
     "text": [
      "Merge keys are not unique in right dataset; not a one-to-one merge\n"
     ]
    }
   ],
   "source": [
    "try:\n",
    "    pd.merge(master, scoring, left_index=True, right_on='playerID',\n",
    "             validate=\"1:1\")\n",
    "except Exception as e:\n",
    "    print(e)\n"
   ],
   "metadata": {
    "collapsed": false,
    "pycharm": {
     "name": "#%%\n"
    }
   }
  },
  {
   "cell_type": "code",
   "execution_count": 46,
   "outputs": [
    {
     "data": {
      "text/plain": "  firstName    lastName pos  birthYear  birthMon  birthDay birthCountry  \\\n0     Antti       Aalto   C     1975.0       3.0       4.0      Finland   \n1     Antti       Aalto   C     1975.0       3.0       4.0      Finland   \n2     Antti       Aalto   C     1975.0       3.0       4.0      Finland   \n3     Antti       Aalto   C     1975.0       3.0       4.0      Finland   \n4    Justin  Abdelkader   L     1987.0       2.0      25.0          USA   \n\n  birthState     birthCity   playerID  year tmID    GP    G     A   Pts    SOG  \n0        NaN  Lappeenranta  aaltoan01  1997  ANA   3.0  0.0   0.0   0.0    1.0  \n1        NaN  Lappeenranta  aaltoan01  1998  ANA  73.0  3.0   5.0   8.0   61.0  \n2        NaN  Lappeenranta  aaltoan01  1999  ANA  63.0  7.0  11.0  18.0  102.0  \n3        NaN  Lappeenranta  aaltoan01  2000  ANA  12.0  1.0   1.0   2.0   18.0  \n4         MI      Muskegon  abdelju01  2007  DET   2.0  0.0   0.0   0.0    6.0  ",
      "text/html": "<div>\n<style scoped>\n    .dataframe tbody tr th:only-of-type {\n        vertical-align: middle;\n    }\n\n    .dataframe tbody tr th {\n        vertical-align: top;\n    }\n\n    .dataframe thead th {\n        text-align: right;\n    }\n</style>\n<table border=\"1\" class=\"dataframe\">\n  <thead>\n    <tr style=\"text-align: right;\">\n      <th></th>\n      <th>firstName</th>\n      <th>lastName</th>\n      <th>pos</th>\n      <th>birthYear</th>\n      <th>birthMon</th>\n      <th>birthDay</th>\n      <th>birthCountry</th>\n      <th>birthState</th>\n      <th>birthCity</th>\n      <th>playerID</th>\n      <th>year</th>\n      <th>tmID</th>\n      <th>GP</th>\n      <th>G</th>\n      <th>A</th>\n      <th>Pts</th>\n      <th>SOG</th>\n    </tr>\n  </thead>\n  <tbody>\n    <tr>\n      <th>0</th>\n      <td>Antti</td>\n      <td>Aalto</td>\n      <td>C</td>\n      <td>1975.0</td>\n      <td>3.0</td>\n      <td>4.0</td>\n      <td>Finland</td>\n      <td>NaN</td>\n      <td>Lappeenranta</td>\n      <td>aaltoan01</td>\n      <td>1997</td>\n      <td>ANA</td>\n      <td>3.0</td>\n      <td>0.0</td>\n      <td>0.0</td>\n      <td>0.0</td>\n      <td>1.0</td>\n    </tr>\n    <tr>\n      <th>1</th>\n      <td>Antti</td>\n      <td>Aalto</td>\n      <td>C</td>\n      <td>1975.0</td>\n      <td>3.0</td>\n      <td>4.0</td>\n      <td>Finland</td>\n      <td>NaN</td>\n      <td>Lappeenranta</td>\n      <td>aaltoan01</td>\n      <td>1998</td>\n      <td>ANA</td>\n      <td>73.0</td>\n      <td>3.0</td>\n      <td>5.0</td>\n      <td>8.0</td>\n      <td>61.0</td>\n    </tr>\n    <tr>\n      <th>2</th>\n      <td>Antti</td>\n      <td>Aalto</td>\n      <td>C</td>\n      <td>1975.0</td>\n      <td>3.0</td>\n      <td>4.0</td>\n      <td>Finland</td>\n      <td>NaN</td>\n      <td>Lappeenranta</td>\n      <td>aaltoan01</td>\n      <td>1999</td>\n      <td>ANA</td>\n      <td>63.0</td>\n      <td>7.0</td>\n      <td>11.0</td>\n      <td>18.0</td>\n      <td>102.0</td>\n    </tr>\n    <tr>\n      <th>3</th>\n      <td>Antti</td>\n      <td>Aalto</td>\n      <td>C</td>\n      <td>1975.0</td>\n      <td>3.0</td>\n      <td>4.0</td>\n      <td>Finland</td>\n      <td>NaN</td>\n      <td>Lappeenranta</td>\n      <td>aaltoan01</td>\n      <td>2000</td>\n      <td>ANA</td>\n      <td>12.0</td>\n      <td>1.0</td>\n      <td>1.0</td>\n      <td>2.0</td>\n      <td>18.0</td>\n    </tr>\n    <tr>\n      <th>4</th>\n      <td>Justin</td>\n      <td>Abdelkader</td>\n      <td>L</td>\n      <td>1987.0</td>\n      <td>2.0</td>\n      <td>25.0</td>\n      <td>USA</td>\n      <td>MI</td>\n      <td>Muskegon</td>\n      <td>abdelju01</td>\n      <td>2007</td>\n      <td>DET</td>\n      <td>2.0</td>\n      <td>0.0</td>\n      <td>0.0</td>\n      <td>0.0</td>\n      <td>6.0</td>\n    </tr>\n  </tbody>\n</table>\n</div>"
     },
     "execution_count": 46,
     "metadata": {},
     "output_type": "execute_result"
    }
   ],
   "source": [
    "merged = pd.merge(master, scoring, left_index=True, right_on=\"playerID\")\n",
    "merged.head()\n"
   ],
   "metadata": {
    "collapsed": false,
    "pycharm": {
     "name": "#%%\n"
    }
   }
  },
  {
   "cell_type": "code",
   "execution_count": 47,
   "outputs": [
    {
     "data": {
      "text/plain": "Index(['firstName', 'lastName', 'pos', 'birthYear', 'birthMon', 'birthDay',\n       'birthCountry', 'birthState', 'birthCity', 'playerID', 'year', 'tmID',\n       'GP', 'G', 'A', 'Pts', 'SOG'],\n      dtype='object')"
     },
     "execution_count": 47,
     "metadata": {},
     "output_type": "execute_result"
    }
   ],
   "source": [
    "merged.columns\n"
   ],
   "metadata": {
    "collapsed": false,
    "pycharm": {
     "name": "#%%\n"
    }
   }
  },
  {
   "cell_type": "code",
   "execution_count": 50,
   "outputs": [
    {
     "data": {
      "text/plain": "  firstName    lastName pos   playerID  year tmID    GP    G     A   Pts  \\\n0     Antti       Aalto   C  aaltoan01  1997  ANA   3.0  0.0   0.0   0.0   \n1     Antti       Aalto   C  aaltoan01  1998  ANA  73.0  3.0   5.0   8.0   \n2     Antti       Aalto   C  aaltoan01  1999  ANA  63.0  7.0  11.0  18.0   \n3     Antti       Aalto   C  aaltoan01  2000  ANA  12.0  1.0   1.0   2.0   \n4    Justin  Abdelkader   L  abdelju01  2007  DET   2.0  0.0   0.0   0.0   \n\n     SOG  \n0    1.0  \n1   61.0  \n2  102.0  \n3   18.0  \n4    6.0  ",
      "text/html": "<div>\n<style scoped>\n    .dataframe tbody tr th:only-of-type {\n        vertical-align: middle;\n    }\n\n    .dataframe tbody tr th {\n        vertical-align: top;\n    }\n\n    .dataframe thead th {\n        text-align: right;\n    }\n</style>\n<table border=\"1\" class=\"dataframe\">\n  <thead>\n    <tr style=\"text-align: right;\">\n      <th></th>\n      <th>firstName</th>\n      <th>lastName</th>\n      <th>pos</th>\n      <th>playerID</th>\n      <th>year</th>\n      <th>tmID</th>\n      <th>GP</th>\n      <th>G</th>\n      <th>A</th>\n      <th>Pts</th>\n      <th>SOG</th>\n    </tr>\n  </thead>\n  <tbody>\n    <tr>\n      <th>0</th>\n      <td>Antti</td>\n      <td>Aalto</td>\n      <td>C</td>\n      <td>aaltoan01</td>\n      <td>1997</td>\n      <td>ANA</td>\n      <td>3.0</td>\n      <td>0.0</td>\n      <td>0.0</td>\n      <td>0.0</td>\n      <td>1.0</td>\n    </tr>\n    <tr>\n      <th>1</th>\n      <td>Antti</td>\n      <td>Aalto</td>\n      <td>C</td>\n      <td>aaltoan01</td>\n      <td>1998</td>\n      <td>ANA</td>\n      <td>73.0</td>\n      <td>3.0</td>\n      <td>5.0</td>\n      <td>8.0</td>\n      <td>61.0</td>\n    </tr>\n    <tr>\n      <th>2</th>\n      <td>Antti</td>\n      <td>Aalto</td>\n      <td>C</td>\n      <td>aaltoan01</td>\n      <td>1999</td>\n      <td>ANA</td>\n      <td>63.0</td>\n      <td>7.0</td>\n      <td>11.0</td>\n      <td>18.0</td>\n      <td>102.0</td>\n    </tr>\n    <tr>\n      <th>3</th>\n      <td>Antti</td>\n      <td>Aalto</td>\n      <td>C</td>\n      <td>aaltoan01</td>\n      <td>2000</td>\n      <td>ANA</td>\n      <td>12.0</td>\n      <td>1.0</td>\n      <td>1.0</td>\n      <td>2.0</td>\n      <td>18.0</td>\n    </tr>\n    <tr>\n      <th>4</th>\n      <td>Justin</td>\n      <td>Abdelkader</td>\n      <td>L</td>\n      <td>abdelju01</td>\n      <td>2007</td>\n      <td>DET</td>\n      <td>2.0</td>\n      <td>0.0</td>\n      <td>0.0</td>\n      <td>0.0</td>\n      <td>6.0</td>\n    </tr>\n  </tbody>\n</table>\n</div>"
     },
     "execution_count": 50,
     "metadata": {},
     "output_type": "execute_result"
    }
   ],
   "source": [
    "merged = merged.filter(regex=\"^(?!(birth)).*\")\n",
    "merged.head()"
   ],
   "metadata": {
    "collapsed": false,
    "pycharm": {
     "name": "#%%\n"
    }
   }
  },
  {
   "cell_type": "code",
   "execution_count": 51,
   "outputs": [],
   "source": [
    "merged.to_pickle(os.path.join(\"data\", 'modified', 'scoring_merged.pickle'))\n",
    "merged.to_csv(os.path.join(\"data\", 'modified', 'scoring_merged.csv'))\n"
   ],
   "metadata": {
    "collapsed": false,
    "pycharm": {
     "name": "#%%\n"
    }
   }
  },
  {
   "cell_type": "code",
   "execution_count": 52,
   "outputs": [
    {
     "data": {
      "text/plain": "     year tmID                   name\n988  1992  MNS  Minnesota North Stars\n849  1985  TOR    Toronto Maple Leafs",
      "text/html": "<div>\n<style scoped>\n    .dataframe tbody tr th:only-of-type {\n        vertical-align: middle;\n    }\n\n    .dataframe tbody tr th {\n        vertical-align: top;\n    }\n\n    .dataframe thead th {\n        text-align: right;\n    }\n</style>\n<table border=\"1\" class=\"dataframe\">\n  <thead>\n    <tr style=\"text-align: right;\">\n      <th></th>\n      <th>year</th>\n      <th>tmID</th>\n      <th>name</th>\n    </tr>\n  </thead>\n  <tbody>\n    <tr>\n      <th>988</th>\n      <td>1992</td>\n      <td>MNS</td>\n      <td>Minnesota North Stars</td>\n    </tr>\n    <tr>\n      <th>849</th>\n      <td>1985</td>\n      <td>TOR</td>\n      <td>Toronto Maple Leafs</td>\n    </tr>\n  </tbody>\n</table>\n</div>"
     },
     "execution_count": 52,
     "metadata": {},
     "output_type": "execute_result"
    }
   ],
   "source": [
    "teams.sample(2)\n"
   ],
   "metadata": {
    "collapsed": false,
    "pycharm": {
     "name": "#%%\n"
    }
   }
  },
  {
   "cell_type": "code",
   "execution_count": 53,
   "outputs": [
    {
     "data": {
      "text/plain": "      year tmID  SepW  SepL  SepT  SepOL  OctW  OctL  OctT  OctOL  ...  FebT  \\\n1020  1993  PHI   NaN   NaN   NaN    NaN   9.0   3.0   0.0    NaN  ...   1.0   \n1382  2007  LAK   1.0   1.0   NaN    0.0   5.0   6.0   NaN    0.0  ...   NaN   \n\n      FebOL  MarW  MarL  MarT  MarOL  AprW  AprL  AprT  AprOL  \n1020    NaN   4.0   7.0   3.0    NaN   2.0   1.0   3.0    NaN  \n1382    1.0   5.0   6.0   NaN    3.0   1.0   2.0   NaN    0.0  \n\n[2 rows x 34 columns]",
      "text/html": "<div>\n<style scoped>\n    .dataframe tbody tr th:only-of-type {\n        vertical-align: middle;\n    }\n\n    .dataframe tbody tr th {\n        vertical-align: top;\n    }\n\n    .dataframe thead th {\n        text-align: right;\n    }\n</style>\n<table border=\"1\" class=\"dataframe\">\n  <thead>\n    <tr style=\"text-align: right;\">\n      <th></th>\n      <th>year</th>\n      <th>tmID</th>\n      <th>SepW</th>\n      <th>SepL</th>\n      <th>SepT</th>\n      <th>SepOL</th>\n      <th>OctW</th>\n      <th>OctL</th>\n      <th>OctT</th>\n      <th>OctOL</th>\n      <th>...</th>\n      <th>FebT</th>\n      <th>FebOL</th>\n      <th>MarW</th>\n      <th>MarL</th>\n      <th>MarT</th>\n      <th>MarOL</th>\n      <th>AprW</th>\n      <th>AprL</th>\n      <th>AprT</th>\n      <th>AprOL</th>\n    </tr>\n  </thead>\n  <tbody>\n    <tr>\n      <th>1020</th>\n      <td>1993</td>\n      <td>PHI</td>\n      <td>NaN</td>\n      <td>NaN</td>\n      <td>NaN</td>\n      <td>NaN</td>\n      <td>9.0</td>\n      <td>3.0</td>\n      <td>0.0</td>\n      <td>NaN</td>\n      <td>...</td>\n      <td>1.0</td>\n      <td>NaN</td>\n      <td>4.0</td>\n      <td>7.0</td>\n      <td>3.0</td>\n      <td>NaN</td>\n      <td>2.0</td>\n      <td>1.0</td>\n      <td>3.0</td>\n      <td>NaN</td>\n    </tr>\n    <tr>\n      <th>1382</th>\n      <td>2007</td>\n      <td>LAK</td>\n      <td>1.0</td>\n      <td>1.0</td>\n      <td>NaN</td>\n      <td>0.0</td>\n      <td>5.0</td>\n      <td>6.0</td>\n      <td>NaN</td>\n      <td>0.0</td>\n      <td>...</td>\n      <td>NaN</td>\n      <td>1.0</td>\n      <td>5.0</td>\n      <td>6.0</td>\n      <td>NaN</td>\n      <td>3.0</td>\n      <td>1.0</td>\n      <td>2.0</td>\n      <td>NaN</td>\n      <td>0.0</td>\n    </tr>\n  </tbody>\n</table>\n<p>2 rows × 34 columns</p>\n</div>"
     },
     "execution_count": 53,
     "metadata": {},
     "output_type": "execute_result"
    }
   ],
   "source": [
    "team_splits.sample(2)\n"
   ],
   "metadata": {
    "collapsed": false,
    "pycharm": {
     "name": "#%%\n"
    }
   }
  },
  {
   "cell_type": "code",
   "execution_count": 54,
   "outputs": [],
   "source": [
    "teams2 = teams[['tmID', 'name']]\n",
    "teams2 = teams2.drop_duplicates()\n"
   ],
   "metadata": {
    "collapsed": false,
    "pycharm": {
     "name": "#%%\n"
    }
   }
  },
  {
   "cell_type": "code",
   "execution_count": 55,
   "outputs": [
    {
     "data": {
      "text/plain": "CHI    2\nANA    1\nQUE    1\nNJD    1\nNYI    1\nName: tmID, dtype: int64"
     },
     "execution_count": 55,
     "metadata": {},
     "output_type": "execute_result"
    }
   ],
   "source": [
    "teams2['tmID'].value_counts().head()\n"
   ],
   "metadata": {
    "collapsed": false,
    "pycharm": {
     "name": "#%%\n"
    }
   }
  },
  {
   "cell_type": "code",
   "execution_count": 56,
   "outputs": [
    {
     "data": {
      "text/plain": "    tmID                 name\n730  CHI  Chicago Black Hawks\n856  CHI   Chicago Blackhawks",
      "text/html": "<div>\n<style scoped>\n    .dataframe tbody tr th:only-of-type {\n        vertical-align: middle;\n    }\n\n    .dataframe tbody tr th {\n        vertical-align: top;\n    }\n\n    .dataframe thead th {\n        text-align: right;\n    }\n</style>\n<table border=\"1\" class=\"dataframe\">\n  <thead>\n    <tr style=\"text-align: right;\">\n      <th></th>\n      <th>tmID</th>\n      <th>name</th>\n    </tr>\n  </thead>\n  <tbody>\n    <tr>\n      <th>730</th>\n      <td>CHI</td>\n      <td>Chicago Black Hawks</td>\n    </tr>\n    <tr>\n      <th>856</th>\n      <td>CHI</td>\n      <td>Chicago Blackhawks</td>\n    </tr>\n  </tbody>\n</table>\n</div>"
     },
     "execution_count": 56,
     "metadata": {},
     "output_type": "execute_result"
    }
   ],
   "source": [
    "teams2.loc[teams2['tmID'] == \"CHI\"]\n"
   ],
   "metadata": {
    "collapsed": false,
    "pycharm": {
     "name": "#%%\n"
    }
   }
  },
  {
   "cell_type": "code",
   "execution_count": 57,
   "outputs": [
    {
     "data": {
      "text/plain": "     year tmID  SepW  SepL  SepT  SepOL  OctW  OctL  OctT  OctOL  ...  FebT  \\\n793  1983  CHI   NaN   NaN   NaN    NaN   8.0   4.0   0.0    NaN  ...   2.0   \n919  1989  CHI   NaN   NaN   NaN    NaN   9.0   5.0   1.0    NaN  ...   0.0   \n\n     FebOL  MarW  MarL  MarT  MarOL  AprW  AprL  AprT  AprOL  \n793    NaN   4.0   9.0   0.0    NaN   1.0   0.0   0.0    NaN  \n919    NaN   5.0   8.0   2.0    NaN   1.0   0.0   0.0    NaN  \n\n[2 rows x 34 columns]",
      "text/html": "<div>\n<style scoped>\n    .dataframe tbody tr th:only-of-type {\n        vertical-align: middle;\n    }\n\n    .dataframe tbody tr th {\n        vertical-align: top;\n    }\n\n    .dataframe thead th {\n        text-align: right;\n    }\n</style>\n<table border=\"1\" class=\"dataframe\">\n  <thead>\n    <tr style=\"text-align: right;\">\n      <th></th>\n      <th>year</th>\n      <th>tmID</th>\n      <th>SepW</th>\n      <th>SepL</th>\n      <th>SepT</th>\n      <th>SepOL</th>\n      <th>OctW</th>\n      <th>OctL</th>\n      <th>OctT</th>\n      <th>OctOL</th>\n      <th>...</th>\n      <th>FebT</th>\n      <th>FebOL</th>\n      <th>MarW</th>\n      <th>MarL</th>\n      <th>MarT</th>\n      <th>MarOL</th>\n      <th>AprW</th>\n      <th>AprL</th>\n      <th>AprT</th>\n      <th>AprOL</th>\n    </tr>\n  </thead>\n  <tbody>\n    <tr>\n      <th>793</th>\n      <td>1983</td>\n      <td>CHI</td>\n      <td>NaN</td>\n      <td>NaN</td>\n      <td>NaN</td>\n      <td>NaN</td>\n      <td>8.0</td>\n      <td>4.0</td>\n      <td>0.0</td>\n      <td>NaN</td>\n      <td>...</td>\n      <td>2.0</td>\n      <td>NaN</td>\n      <td>4.0</td>\n      <td>9.0</td>\n      <td>0.0</td>\n      <td>NaN</td>\n      <td>1.0</td>\n      <td>0.0</td>\n      <td>0.0</td>\n      <td>NaN</td>\n    </tr>\n    <tr>\n      <th>919</th>\n      <td>1989</td>\n      <td>CHI</td>\n      <td>NaN</td>\n      <td>NaN</td>\n      <td>NaN</td>\n      <td>NaN</td>\n      <td>9.0</td>\n      <td>5.0</td>\n      <td>1.0</td>\n      <td>NaN</td>\n      <td>...</td>\n      <td>0.0</td>\n      <td>NaN</td>\n      <td>5.0</td>\n      <td>8.0</td>\n      <td>2.0</td>\n      <td>NaN</td>\n      <td>1.0</td>\n      <td>0.0</td>\n      <td>0.0</td>\n      <td>NaN</td>\n    </tr>\n  </tbody>\n</table>\n<p>2 rows × 34 columns</p>\n</div>"
     },
     "execution_count": 57,
     "metadata": {},
     "output_type": "execute_result"
    }
   ],
   "source": [
    "teams2 = teams2[teams2['tmID'] == 'CHI']\n",
    "team_splits2 = team_splits[team_splits['tmID'] == 'CHI'].sample(2)\n",
    "team_splits2\n"
   ],
   "metadata": {
    "collapsed": false,
    "pycharm": {
     "name": "#%%\n"
    }
   }
  },
  {
   "cell_type": "code",
   "execution_count": 59,
   "outputs": [
    {
     "data": {
      "text/plain": "  tmID                 name  year  SepW  SepL  SepT  SepOL  OctW  OctL  OctT  \\\n0  CHI  Chicago Black Hawks  1983   NaN   NaN   NaN    NaN   8.0   4.0   0.0   \n1  CHI  Chicago Black Hawks  1989   NaN   NaN   NaN    NaN   9.0   5.0   1.0   \n2  CHI   Chicago Blackhawks  1983   NaN   NaN   NaN    NaN   8.0   4.0   0.0   \n3  CHI   Chicago Blackhawks  1989   NaN   NaN   NaN    NaN   9.0   5.0   1.0   \n\n   ...  FebT  FebOL  MarW  MarL  MarT  MarOL  AprW  AprL  AprT  AprOL  \n0  ...   2.0    NaN   4.0   9.0   0.0    NaN   1.0   0.0   0.0    NaN  \n1  ...   0.0    NaN   5.0   8.0   2.0    NaN   1.0   0.0   0.0    NaN  \n2  ...   2.0    NaN   4.0   9.0   0.0    NaN   1.0   0.0   0.0    NaN  \n3  ...   0.0    NaN   5.0   8.0   2.0    NaN   1.0   0.0   0.0    NaN  \n\n[4 rows x 35 columns]",
      "text/html": "<div>\n<style scoped>\n    .dataframe tbody tr th:only-of-type {\n        vertical-align: middle;\n    }\n\n    .dataframe tbody tr th {\n        vertical-align: top;\n    }\n\n    .dataframe thead th {\n        text-align: right;\n    }\n</style>\n<table border=\"1\" class=\"dataframe\">\n  <thead>\n    <tr style=\"text-align: right;\">\n      <th></th>\n      <th>tmID</th>\n      <th>name</th>\n      <th>year</th>\n      <th>SepW</th>\n      <th>SepL</th>\n      <th>SepT</th>\n      <th>SepOL</th>\n      <th>OctW</th>\n      <th>OctL</th>\n      <th>OctT</th>\n      <th>...</th>\n      <th>FebT</th>\n      <th>FebOL</th>\n      <th>MarW</th>\n      <th>MarL</th>\n      <th>MarT</th>\n      <th>MarOL</th>\n      <th>AprW</th>\n      <th>AprL</th>\n      <th>AprT</th>\n      <th>AprOL</th>\n    </tr>\n  </thead>\n  <tbody>\n    <tr>\n      <th>0</th>\n      <td>CHI</td>\n      <td>Chicago Black Hawks</td>\n      <td>1983</td>\n      <td>NaN</td>\n      <td>NaN</td>\n      <td>NaN</td>\n      <td>NaN</td>\n      <td>8.0</td>\n      <td>4.0</td>\n      <td>0.0</td>\n      <td>...</td>\n      <td>2.0</td>\n      <td>NaN</td>\n      <td>4.0</td>\n      <td>9.0</td>\n      <td>0.0</td>\n      <td>NaN</td>\n      <td>1.0</td>\n      <td>0.0</td>\n      <td>0.0</td>\n      <td>NaN</td>\n    </tr>\n    <tr>\n      <th>1</th>\n      <td>CHI</td>\n      <td>Chicago Black Hawks</td>\n      <td>1989</td>\n      <td>NaN</td>\n      <td>NaN</td>\n      <td>NaN</td>\n      <td>NaN</td>\n      <td>9.0</td>\n      <td>5.0</td>\n      <td>1.0</td>\n      <td>...</td>\n      <td>0.0</td>\n      <td>NaN</td>\n      <td>5.0</td>\n      <td>8.0</td>\n      <td>2.0</td>\n      <td>NaN</td>\n      <td>1.0</td>\n      <td>0.0</td>\n      <td>0.0</td>\n      <td>NaN</td>\n    </tr>\n    <tr>\n      <th>2</th>\n      <td>CHI</td>\n      <td>Chicago Blackhawks</td>\n      <td>1983</td>\n      <td>NaN</td>\n      <td>NaN</td>\n      <td>NaN</td>\n      <td>NaN</td>\n      <td>8.0</td>\n      <td>4.0</td>\n      <td>0.0</td>\n      <td>...</td>\n      <td>2.0</td>\n      <td>NaN</td>\n      <td>4.0</td>\n      <td>9.0</td>\n      <td>0.0</td>\n      <td>NaN</td>\n      <td>1.0</td>\n      <td>0.0</td>\n      <td>0.0</td>\n      <td>NaN</td>\n    </tr>\n    <tr>\n      <th>3</th>\n      <td>CHI</td>\n      <td>Chicago Blackhawks</td>\n      <td>1989</td>\n      <td>NaN</td>\n      <td>NaN</td>\n      <td>NaN</td>\n      <td>NaN</td>\n      <td>9.0</td>\n      <td>5.0</td>\n      <td>1.0</td>\n      <td>...</td>\n      <td>0.0</td>\n      <td>NaN</td>\n      <td>5.0</td>\n      <td>8.0</td>\n      <td>2.0</td>\n      <td>NaN</td>\n      <td>1.0</td>\n      <td>0.0</td>\n      <td>0.0</td>\n      <td>NaN</td>\n    </tr>\n  </tbody>\n</table>\n<p>4 rows × 35 columns</p>\n</div>"
     },
     "execution_count": 59,
     "metadata": {},
     "output_type": "execute_result"
    }
   ],
   "source": [
    "pd.merge(teams2, team_splits2, on='tmID')\n"
   ],
   "metadata": {
    "collapsed": false,
    "pycharm": {
     "name": "#%%\n"
    }
   }
  },
  {
   "cell_type": "code",
   "execution_count": 60,
   "outputs": [
    {
     "data": {
      "text/plain": "   year tmID  SepW  SepL  SepT  SepOL  OctW  OctL  OctT  OctOL  ...  FebOL  \\\n0  1980  BOS   NaN   NaN   NaN    NaN   2.0   7.0   1.0    NaN  ...    NaN   \n1  1980  BUF   NaN   NaN   NaN    NaN   5.0   2.0   2.0    NaN  ...    NaN   \n2  1980  CAL   NaN   NaN   NaN    NaN   5.0   4.0   2.0    NaN  ...    NaN   \n3  1980  CHI   NaN   NaN   NaN    NaN   6.0   4.0   2.0    NaN  ...    NaN   \n\n   MarW  MarL  MarT  MarOL  AprW  AprL  AprT  AprOL                 name  \n0   8.0   4.0   3.0    NaN   1.0   2.0   0.0    NaN        Boston Bruins  \n1   8.0   6.0   1.0    NaN   1.0   1.0   1.0    NaN       Buffalo Sabres  \n2   6.0   6.0   2.0    NaN   2.0   0.0   0.0    NaN       Calgary Flames  \n3   4.0   5.0   4.0    NaN   1.0   1.0   1.0    NaN  Chicago Black Hawks  \n\n[4 rows x 35 columns]",
      "text/html": "<div>\n<style scoped>\n    .dataframe tbody tr th:only-of-type {\n        vertical-align: middle;\n    }\n\n    .dataframe tbody tr th {\n        vertical-align: top;\n    }\n\n    .dataframe thead th {\n        text-align: right;\n    }\n</style>\n<table border=\"1\" class=\"dataframe\">\n  <thead>\n    <tr style=\"text-align: right;\">\n      <th></th>\n      <th>year</th>\n      <th>tmID</th>\n      <th>SepW</th>\n      <th>SepL</th>\n      <th>SepT</th>\n      <th>SepOL</th>\n      <th>OctW</th>\n      <th>OctL</th>\n      <th>OctT</th>\n      <th>OctOL</th>\n      <th>...</th>\n      <th>FebOL</th>\n      <th>MarW</th>\n      <th>MarL</th>\n      <th>MarT</th>\n      <th>MarOL</th>\n      <th>AprW</th>\n      <th>AprL</th>\n      <th>AprT</th>\n      <th>AprOL</th>\n      <th>name</th>\n    </tr>\n  </thead>\n  <tbody>\n    <tr>\n      <th>0</th>\n      <td>1980</td>\n      <td>BOS</td>\n      <td>NaN</td>\n      <td>NaN</td>\n      <td>NaN</td>\n      <td>NaN</td>\n      <td>2.0</td>\n      <td>7.0</td>\n      <td>1.0</td>\n      <td>NaN</td>\n      <td>...</td>\n      <td>NaN</td>\n      <td>8.0</td>\n      <td>4.0</td>\n      <td>3.0</td>\n      <td>NaN</td>\n      <td>1.0</td>\n      <td>2.0</td>\n      <td>0.0</td>\n      <td>NaN</td>\n      <td>Boston Bruins</td>\n    </tr>\n    <tr>\n      <th>1</th>\n      <td>1980</td>\n      <td>BUF</td>\n      <td>NaN</td>\n      <td>NaN</td>\n      <td>NaN</td>\n      <td>NaN</td>\n      <td>5.0</td>\n      <td>2.0</td>\n      <td>2.0</td>\n      <td>NaN</td>\n      <td>...</td>\n      <td>NaN</td>\n      <td>8.0</td>\n      <td>6.0</td>\n      <td>1.0</td>\n      <td>NaN</td>\n      <td>1.0</td>\n      <td>1.0</td>\n      <td>1.0</td>\n      <td>NaN</td>\n      <td>Buffalo Sabres</td>\n    </tr>\n    <tr>\n      <th>2</th>\n      <td>1980</td>\n      <td>CAL</td>\n      <td>NaN</td>\n      <td>NaN</td>\n      <td>NaN</td>\n      <td>NaN</td>\n      <td>5.0</td>\n      <td>4.0</td>\n      <td>2.0</td>\n      <td>NaN</td>\n      <td>...</td>\n      <td>NaN</td>\n      <td>6.0</td>\n      <td>6.0</td>\n      <td>2.0</td>\n      <td>NaN</td>\n      <td>2.0</td>\n      <td>0.0</td>\n      <td>0.0</td>\n      <td>NaN</td>\n      <td>Calgary Flames</td>\n    </tr>\n    <tr>\n      <th>3</th>\n      <td>1980</td>\n      <td>CHI</td>\n      <td>NaN</td>\n      <td>NaN</td>\n      <td>NaN</td>\n      <td>NaN</td>\n      <td>6.0</td>\n      <td>4.0</td>\n      <td>2.0</td>\n      <td>NaN</td>\n      <td>...</td>\n      <td>NaN</td>\n      <td>4.0</td>\n      <td>5.0</td>\n      <td>4.0</td>\n      <td>NaN</td>\n      <td>1.0</td>\n      <td>1.0</td>\n      <td>1.0</td>\n      <td>NaN</td>\n      <td>Chicago Black Hawks</td>\n    </tr>\n  </tbody>\n</table>\n<p>4 rows × 35 columns</p>\n</div>"
     },
     "execution_count": 60,
     "metadata": {},
     "output_type": "execute_result"
    }
   ],
   "source": [
    "pd.merge(team_splits, teams, left_on=['tmID', 'year'], right_on=['tmID', 'year']).head(4)\n"
   ],
   "metadata": {
    "collapsed": false,
    "pycharm": {
     "name": "#%%\n"
    }
   }
  },
  {
   "cell_type": "code",
   "execution_count": 68,
   "outputs": [
    {
     "name": "stdout",
     "output_type": "stream",
     "text": [
      "Empty DataFrame\n",
      "Columns: [year_x, tmID_x, SepW, SepL, SepT, SepOL, OctW, OctL, OctT, OctOL, NovW, NovL, NovT, NovOL, DecW, DecL, DecT, DecOL, JanW, JanL, JanT, JanOL, FebW, FebL, FebT, FebOL, MarW, MarL, MarT, MarOL, AprW, AprL, AprT, AprOL, year_y, tmID_y, name]\n",
      "Index: []\n",
      "\n",
      "[0 rows x 37 columns]\n"
     ]
    }
   ],
   "source": [
    "try:\n",
    "    result = pd.merge(team_splits, teams,\n",
    "             left_on=['tmID', 'year'],\n",
    "             right_on=['year', 'tmID']).head(4)\n",
    "    print(result)\n",
    "except Exception as e:\n",
    "    print(e)"
   ],
   "metadata": {
    "collapsed": false,
    "pycharm": {
     "name": "#%%\n"
    }
   }
  },
  {
   "cell_type": "code",
   "execution_count": 66,
   "outputs": [
    {
     "data": {
      "text/plain": "year        int64\ntmID     category\nSepW      float64\nSepL      float64\nSepT      float64\nSepOL     float64\nOctW      float64\nOctL      float64\nOctT      float64\nOctOL     float64\nNovW      float64\nNovL      float64\nNovT      float64\nNovOL     float64\nDecW      float64\nDecL      float64\nDecT      float64\nDecOL     float64\nJanW      float64\nJanL      float64\nJanT      float64\nJanOL     float64\nFebW      float64\nFebL      float64\nFebT      float64\nFebOL     float64\nMarW      float64\nMarL      float64\nMarT      float64\nMarOL     float64\nAprW      float64\nAprL      float64\nAprT      float64\nAprOL     float64\ndtype: object"
     },
     "execution_count": 66,
     "metadata": {},
     "output_type": "execute_result"
    }
   ],
   "source": [
    "team_splits.dtypes\n"
   ],
   "metadata": {
    "collapsed": false,
    "pycharm": {
     "name": "#%%\n"
    }
   }
  },
  {
   "cell_type": "code",
   "execution_count": 67,
   "outputs": [
    {
     "data": {
      "text/plain": "year        int64\ntmID     category\nSepW      float64\nSepL      float64\nSepT      float64\nSepOL     float64\nOctW      float64\nOctL      float64\nOctT      float64\nOctOL     float64\nNovW      float64\nNovL      float64\nNovT      float64\nNovOL     float64\nDecW      float64\nDecL      float64\nDecT      float64\nDecOL     float64\nJanW      float64\nJanL      float64\nJanT      float64\nJanOL     float64\nFebW      float64\nFebL      float64\nFebT      float64\nFebOL     float64\nMarW      float64\nMarL      float64\nMarT      float64\nMarOL     float64\nAprW      float64\nAprL      float64\nAprT      float64\nAprOL     float64\ndtype: object"
     },
     "execution_count": 67,
     "metadata": {},
     "output_type": "execute_result"
    }
   ],
   "source": [
    "team_splits.dtypes\n"
   ],
   "metadata": {
    "collapsed": false,
    "pycharm": {
     "name": "#%%\n"
    }
   }
  },
  {
   "cell_type": "code",
   "execution_count": 69,
   "outputs": [
    {
     "data": {
      "text/plain": "   year tmID  SepW  SepL  SepT  SepOL  OctW  OctL  OctT  OctOL  ...  FebOL  \\\n0  1980  BOS   NaN   NaN   NaN    NaN   2.0   7.0   1.0    NaN  ...    NaN   \n1  1980  BUF   NaN   NaN   NaN    NaN   5.0   2.0   2.0    NaN  ...    NaN   \n2  1980  CAL   NaN   NaN   NaN    NaN   5.0   4.0   2.0    NaN  ...    NaN   \n3  1980  CHI   NaN   NaN   NaN    NaN   6.0   4.0   2.0    NaN  ...    NaN   \n\n   MarW  MarL  MarT  MarOL  AprW  AprL  AprT  AprOL                 name  \n0   8.0   4.0   3.0    NaN   1.0   2.0   0.0    NaN        Boston Bruins  \n1   8.0   6.0   1.0    NaN   1.0   1.0   1.0    NaN       Buffalo Sabres  \n2   6.0   6.0   2.0    NaN   2.0   0.0   0.0    NaN       Calgary Flames  \n3   4.0   5.0   4.0    NaN   1.0   1.0   1.0    NaN  Chicago Black Hawks  \n\n[4 rows x 35 columns]",
      "text/html": "<div>\n<style scoped>\n    .dataframe tbody tr th:only-of-type {\n        vertical-align: middle;\n    }\n\n    .dataframe tbody tr th {\n        vertical-align: top;\n    }\n\n    .dataframe thead th {\n        text-align: right;\n    }\n</style>\n<table border=\"1\" class=\"dataframe\">\n  <thead>\n    <tr style=\"text-align: right;\">\n      <th></th>\n      <th>year</th>\n      <th>tmID</th>\n      <th>SepW</th>\n      <th>SepL</th>\n      <th>SepT</th>\n      <th>SepOL</th>\n      <th>OctW</th>\n      <th>OctL</th>\n      <th>OctT</th>\n      <th>OctOL</th>\n      <th>...</th>\n      <th>FebOL</th>\n      <th>MarW</th>\n      <th>MarL</th>\n      <th>MarT</th>\n      <th>MarOL</th>\n      <th>AprW</th>\n      <th>AprL</th>\n      <th>AprT</th>\n      <th>AprOL</th>\n      <th>name</th>\n    </tr>\n  </thead>\n  <tbody>\n    <tr>\n      <th>0</th>\n      <td>1980</td>\n      <td>BOS</td>\n      <td>NaN</td>\n      <td>NaN</td>\n      <td>NaN</td>\n      <td>NaN</td>\n      <td>2.0</td>\n      <td>7.0</td>\n      <td>1.0</td>\n      <td>NaN</td>\n      <td>...</td>\n      <td>NaN</td>\n      <td>8.0</td>\n      <td>4.0</td>\n      <td>3.0</td>\n      <td>NaN</td>\n      <td>1.0</td>\n      <td>2.0</td>\n      <td>0.0</td>\n      <td>NaN</td>\n      <td>Boston Bruins</td>\n    </tr>\n    <tr>\n      <th>1</th>\n      <td>1980</td>\n      <td>BUF</td>\n      <td>NaN</td>\n      <td>NaN</td>\n      <td>NaN</td>\n      <td>NaN</td>\n      <td>5.0</td>\n      <td>2.0</td>\n      <td>2.0</td>\n      <td>NaN</td>\n      <td>...</td>\n      <td>NaN</td>\n      <td>8.0</td>\n      <td>6.0</td>\n      <td>1.0</td>\n      <td>NaN</td>\n      <td>1.0</td>\n      <td>1.0</td>\n      <td>1.0</td>\n      <td>NaN</td>\n      <td>Buffalo Sabres</td>\n    </tr>\n    <tr>\n      <th>2</th>\n      <td>1980</td>\n      <td>CAL</td>\n      <td>NaN</td>\n      <td>NaN</td>\n      <td>NaN</td>\n      <td>NaN</td>\n      <td>5.0</td>\n      <td>4.0</td>\n      <td>2.0</td>\n      <td>NaN</td>\n      <td>...</td>\n      <td>NaN</td>\n      <td>6.0</td>\n      <td>6.0</td>\n      <td>2.0</td>\n      <td>NaN</td>\n      <td>2.0</td>\n      <td>0.0</td>\n      <td>0.0</td>\n      <td>NaN</td>\n      <td>Calgary Flames</td>\n    </tr>\n    <tr>\n      <th>3</th>\n      <td>1980</td>\n      <td>CHI</td>\n      <td>NaN</td>\n      <td>NaN</td>\n      <td>NaN</td>\n      <td>NaN</td>\n      <td>6.0</td>\n      <td>4.0</td>\n      <td>2.0</td>\n      <td>NaN</td>\n      <td>...</td>\n      <td>NaN</td>\n      <td>4.0</td>\n      <td>5.0</td>\n      <td>4.0</td>\n      <td>NaN</td>\n      <td>1.0</td>\n      <td>1.0</td>\n      <td>1.0</td>\n      <td>NaN</td>\n      <td>Chicago Black Hawks</td>\n    </tr>\n  </tbody>\n</table>\n<p>4 rows × 35 columns</p>\n</div>"
     },
     "execution_count": 69,
     "metadata": {},
     "output_type": "execute_result"
    }
   ],
   "source": [
    "pd.merge(team_splits, teams, on=[\"tmID\", 'year']).head(4)\n"
   ],
   "metadata": {
    "collapsed": false,
    "pycharm": {
     "name": "#%%\n"
    }
   }
  },
  {
   "cell_type": "code",
   "execution_count": 76,
   "outputs": [
    {
     "data": {
      "text/plain": "   year tmID  SepW  SepL  SepT  SepOL  OctW  OctL  OctT  OctOL  ...  FebOL  \\\n0  1980  BOS   NaN   NaN   NaN    NaN   2.0   7.0   1.0    NaN  ...    NaN   \n1  1980  BUF   NaN   NaN   NaN    NaN   5.0   2.0   2.0    NaN  ...    NaN   \n2  1980  CAL   NaN   NaN   NaN    NaN   5.0   4.0   2.0    NaN  ...    NaN   \n3  1980  CHI   NaN   NaN   NaN    NaN   6.0   4.0   2.0    NaN  ...    NaN   \n4  1980  COR   NaN   NaN   NaN    NaN   4.0   4.0   2.0    NaN  ...    NaN   \n\n   MarW  MarL  MarT  MarOL  AprW  AprL  AprT  AprOL                 name  \n0   8.0   4.0   3.0    NaN   1.0   2.0   0.0    NaN        Boston Bruins  \n1   8.0   6.0   1.0    NaN   1.0   1.0   1.0    NaN       Buffalo Sabres  \n2   6.0   6.0   2.0    NaN   2.0   0.0   0.0    NaN       Calgary Flames  \n3   4.0   5.0   4.0    NaN   1.0   1.0   1.0    NaN  Chicago Black Hawks  \n4   4.0   9.0   1.0    NaN   0.0   1.0   2.0    NaN     Colorado Rockies  \n\n[5 rows x 35 columns]",
      "text/html": "<div>\n<style scoped>\n    .dataframe tbody tr th:only-of-type {\n        vertical-align: middle;\n    }\n\n    .dataframe tbody tr th {\n        vertical-align: top;\n    }\n\n    .dataframe thead th {\n        text-align: right;\n    }\n</style>\n<table border=\"1\" class=\"dataframe\">\n  <thead>\n    <tr style=\"text-align: right;\">\n      <th></th>\n      <th>year</th>\n      <th>tmID</th>\n      <th>SepW</th>\n      <th>SepL</th>\n      <th>SepT</th>\n      <th>SepOL</th>\n      <th>OctW</th>\n      <th>OctL</th>\n      <th>OctT</th>\n      <th>OctOL</th>\n      <th>...</th>\n      <th>FebOL</th>\n      <th>MarW</th>\n      <th>MarL</th>\n      <th>MarT</th>\n      <th>MarOL</th>\n      <th>AprW</th>\n      <th>AprL</th>\n      <th>AprT</th>\n      <th>AprOL</th>\n      <th>name</th>\n    </tr>\n  </thead>\n  <tbody>\n    <tr>\n      <th>0</th>\n      <td>1980</td>\n      <td>BOS</td>\n      <td>NaN</td>\n      <td>NaN</td>\n      <td>NaN</td>\n      <td>NaN</td>\n      <td>2.0</td>\n      <td>7.0</td>\n      <td>1.0</td>\n      <td>NaN</td>\n      <td>...</td>\n      <td>NaN</td>\n      <td>8.0</td>\n      <td>4.0</td>\n      <td>3.0</td>\n      <td>NaN</td>\n      <td>1.0</td>\n      <td>2.0</td>\n      <td>0.0</td>\n      <td>NaN</td>\n      <td>Boston Bruins</td>\n    </tr>\n    <tr>\n      <th>1</th>\n      <td>1980</td>\n      <td>BUF</td>\n      <td>NaN</td>\n      <td>NaN</td>\n      <td>NaN</td>\n      <td>NaN</td>\n      <td>5.0</td>\n      <td>2.0</td>\n      <td>2.0</td>\n      <td>NaN</td>\n      <td>...</td>\n      <td>NaN</td>\n      <td>8.0</td>\n      <td>6.0</td>\n      <td>1.0</td>\n      <td>NaN</td>\n      <td>1.0</td>\n      <td>1.0</td>\n      <td>1.0</td>\n      <td>NaN</td>\n      <td>Buffalo Sabres</td>\n    </tr>\n    <tr>\n      <th>2</th>\n      <td>1980</td>\n      <td>CAL</td>\n      <td>NaN</td>\n      <td>NaN</td>\n      <td>NaN</td>\n      <td>NaN</td>\n      <td>5.0</td>\n      <td>4.0</td>\n      <td>2.0</td>\n      <td>NaN</td>\n      <td>...</td>\n      <td>NaN</td>\n      <td>6.0</td>\n      <td>6.0</td>\n      <td>2.0</td>\n      <td>NaN</td>\n      <td>2.0</td>\n      <td>0.0</td>\n      <td>0.0</td>\n      <td>NaN</td>\n      <td>Calgary Flames</td>\n    </tr>\n    <tr>\n      <th>3</th>\n      <td>1980</td>\n      <td>CHI</td>\n      <td>NaN</td>\n      <td>NaN</td>\n      <td>NaN</td>\n      <td>NaN</td>\n      <td>6.0</td>\n      <td>4.0</td>\n      <td>2.0</td>\n      <td>NaN</td>\n      <td>...</td>\n      <td>NaN</td>\n      <td>4.0</td>\n      <td>5.0</td>\n      <td>4.0</td>\n      <td>NaN</td>\n      <td>1.0</td>\n      <td>1.0</td>\n      <td>1.0</td>\n      <td>NaN</td>\n      <td>Chicago Black Hawks</td>\n    </tr>\n    <tr>\n      <th>4</th>\n      <td>1980</td>\n      <td>COR</td>\n      <td>NaN</td>\n      <td>NaN</td>\n      <td>NaN</td>\n      <td>NaN</td>\n      <td>4.0</td>\n      <td>4.0</td>\n      <td>2.0</td>\n      <td>NaN</td>\n      <td>...</td>\n      <td>NaN</td>\n      <td>4.0</td>\n      <td>9.0</td>\n      <td>1.0</td>\n      <td>NaN</td>\n      <td>0.0</td>\n      <td>1.0</td>\n      <td>2.0</td>\n      <td>NaN</td>\n      <td>Colorado Rockies</td>\n    </tr>\n  </tbody>\n</table>\n<p>5 rows × 35 columns</p>\n</div>"
     },
     "execution_count": 76,
     "metadata": {},
     "output_type": "execute_result"
    }
   ],
   "source": [
    "# pd.merge(team_splits, teams, on=[\"tmID\", 'year'])[['tmID', 'year']].value_counts()\n",
    "pd.merge(team_splits, teams, on=[\"tmID\", 'year']).head(5)"
   ],
   "metadata": {
    "collapsed": false,
    "pycharm": {
     "name": "#%%\n"
    }
   }
  },
  {
   "cell_type": "code",
   "execution_count": 81,
   "outputs": [
    {
     "data": {
      "text/plain": "   year_team_splits  year_teams\n0              1980        1980\n1              1980        1981\n2              1980        1982\n3              1980        1983",
      "text/html": "<div>\n<style scoped>\n    .dataframe tbody tr th:only-of-type {\n        vertical-align: middle;\n    }\n\n    .dataframe tbody tr th {\n        vertical-align: top;\n    }\n\n    .dataframe thead th {\n        text-align: right;\n    }\n</style>\n<table border=\"1\" class=\"dataframe\">\n  <thead>\n    <tr style=\"text-align: right;\">\n      <th></th>\n      <th>year_team_splits</th>\n      <th>year_teams</th>\n    </tr>\n  </thead>\n  <tbody>\n    <tr>\n      <th>0</th>\n      <td>1980</td>\n      <td>1980</td>\n    </tr>\n    <tr>\n      <th>1</th>\n      <td>1980</td>\n      <td>1981</td>\n    </tr>\n    <tr>\n      <th>2</th>\n      <td>1980</td>\n      <td>1982</td>\n    </tr>\n    <tr>\n      <th>3</th>\n      <td>1980</td>\n      <td>1983</td>\n    </tr>\n  </tbody>\n</table>\n</div>"
     },
     "execution_count": 81,
     "metadata": {},
     "output_type": "execute_result"
    }
   ],
   "source": [
    "pd.merge(team_splits, teams, on=['tmID'], suffixes=('_team_splits', '_teams')).head(4).filter(like=\"year\")\n"
   ],
   "metadata": {
    "collapsed": false,
    "pycharm": {
     "name": "#%%\n"
    }
   }
  },
  {
   "cell_type": "code",
   "execution_count": 82,
   "outputs": [
    {
     "data": {
      "text/plain": "   year tmID  SepW  SepL  SepT  SepOL  OctW  OctL  OctT  OctOL  ...  FebOL  \\\n0  1980  BOS   NaN   NaN   NaN    NaN   2.0   7.0   1.0    NaN  ...    NaN   \n1  1980  BUF   NaN   NaN   NaN    NaN   5.0   2.0   2.0    NaN  ...    NaN   \n2  1980  CAL   NaN   NaN   NaN    NaN   5.0   4.0   2.0    NaN  ...    NaN   \n3  1980  CHI   NaN   NaN   NaN    NaN   6.0   4.0   2.0    NaN  ...    NaN   \n4  1980  COR   NaN   NaN   NaN    NaN   4.0   4.0   2.0    NaN  ...    NaN   \n\n   MarW  MarL  MarT  MarOL  AprW  AprL  AprT  AprOL                 name  \n0   8.0   4.0   3.0    NaN   1.0   2.0   0.0    NaN        Boston Bruins  \n1   8.0   6.0   1.0    NaN   1.0   1.0   1.0    NaN       Buffalo Sabres  \n2   6.0   6.0   2.0    NaN   2.0   0.0   0.0    NaN       Calgary Flames  \n3   4.0   5.0   4.0    NaN   1.0   1.0   1.0    NaN  Chicago Black Hawks  \n4   4.0   9.0   1.0    NaN   0.0   1.0   2.0    NaN     Colorado Rockies  \n\n[5 rows x 35 columns]",
      "text/html": "<div>\n<style scoped>\n    .dataframe tbody tr th:only-of-type {\n        vertical-align: middle;\n    }\n\n    .dataframe tbody tr th {\n        vertical-align: top;\n    }\n\n    .dataframe thead th {\n        text-align: right;\n    }\n</style>\n<table border=\"1\" class=\"dataframe\">\n  <thead>\n    <tr style=\"text-align: right;\">\n      <th></th>\n      <th>year</th>\n      <th>tmID</th>\n      <th>SepW</th>\n      <th>SepL</th>\n      <th>SepT</th>\n      <th>SepOL</th>\n      <th>OctW</th>\n      <th>OctL</th>\n      <th>OctT</th>\n      <th>OctOL</th>\n      <th>...</th>\n      <th>FebOL</th>\n      <th>MarW</th>\n      <th>MarL</th>\n      <th>MarT</th>\n      <th>MarOL</th>\n      <th>AprW</th>\n      <th>AprL</th>\n      <th>AprT</th>\n      <th>AprOL</th>\n      <th>name</th>\n    </tr>\n  </thead>\n  <tbody>\n    <tr>\n      <th>0</th>\n      <td>1980</td>\n      <td>BOS</td>\n      <td>NaN</td>\n      <td>NaN</td>\n      <td>NaN</td>\n      <td>NaN</td>\n      <td>2.0</td>\n      <td>7.0</td>\n      <td>1.0</td>\n      <td>NaN</td>\n      <td>...</td>\n      <td>NaN</td>\n      <td>8.0</td>\n      <td>4.0</td>\n      <td>3.0</td>\n      <td>NaN</td>\n      <td>1.0</td>\n      <td>2.0</td>\n      <td>0.0</td>\n      <td>NaN</td>\n      <td>Boston Bruins</td>\n    </tr>\n    <tr>\n      <th>1</th>\n      <td>1980</td>\n      <td>BUF</td>\n      <td>NaN</td>\n      <td>NaN</td>\n      <td>NaN</td>\n      <td>NaN</td>\n      <td>5.0</td>\n      <td>2.0</td>\n      <td>2.0</td>\n      <td>NaN</td>\n      <td>...</td>\n      <td>NaN</td>\n      <td>8.0</td>\n      <td>6.0</td>\n      <td>1.0</td>\n      <td>NaN</td>\n      <td>1.0</td>\n      <td>1.0</td>\n      <td>1.0</td>\n      <td>NaN</td>\n      <td>Buffalo Sabres</td>\n    </tr>\n    <tr>\n      <th>2</th>\n      <td>1980</td>\n      <td>CAL</td>\n      <td>NaN</td>\n      <td>NaN</td>\n      <td>NaN</td>\n      <td>NaN</td>\n      <td>5.0</td>\n      <td>4.0</td>\n      <td>2.0</td>\n      <td>NaN</td>\n      <td>...</td>\n      <td>NaN</td>\n      <td>6.0</td>\n      <td>6.0</td>\n      <td>2.0</td>\n      <td>NaN</td>\n      <td>2.0</td>\n      <td>0.0</td>\n      <td>0.0</td>\n      <td>NaN</td>\n      <td>Calgary Flames</td>\n    </tr>\n    <tr>\n      <th>3</th>\n      <td>1980</td>\n      <td>CHI</td>\n      <td>NaN</td>\n      <td>NaN</td>\n      <td>NaN</td>\n      <td>NaN</td>\n      <td>6.0</td>\n      <td>4.0</td>\n      <td>2.0</td>\n      <td>NaN</td>\n      <td>...</td>\n      <td>NaN</td>\n      <td>4.0</td>\n      <td>5.0</td>\n      <td>4.0</td>\n      <td>NaN</td>\n      <td>1.0</td>\n      <td>1.0</td>\n      <td>1.0</td>\n      <td>NaN</td>\n      <td>Chicago Black Hawks</td>\n    </tr>\n    <tr>\n      <th>4</th>\n      <td>1980</td>\n      <td>COR</td>\n      <td>NaN</td>\n      <td>NaN</td>\n      <td>NaN</td>\n      <td>NaN</td>\n      <td>4.0</td>\n      <td>4.0</td>\n      <td>2.0</td>\n      <td>NaN</td>\n      <td>...</td>\n      <td>NaN</td>\n      <td>4.0</td>\n      <td>9.0</td>\n      <td>1.0</td>\n      <td>NaN</td>\n      <td>0.0</td>\n      <td>1.0</td>\n      <td>2.0</td>\n      <td>NaN</td>\n      <td>Colorado Rockies</td>\n    </tr>\n  </tbody>\n</table>\n<p>5 rows × 35 columns</p>\n</div>"
     },
     "execution_count": 82,
     "metadata": {},
     "output_type": "execute_result"
    }
   ],
   "source": [
    "merged = pd.merge(team_splits, teams, on=['tmID', 'year'])\n",
    "merged.head()\n"
   ],
   "metadata": {
    "collapsed": false,
    "pycharm": {
     "name": "#%%\n"
    }
   }
  },
  {
   "cell_type": "code",
   "execution_count": 83,
   "outputs": [],
   "source": [
    "merged.to_pickle(os.path.join('data', 'modified', 'team_splits_merged.pickle'))\n",
    "merged.to_csv(os.path.join('data', 'modified', 'team_splits_merged.csv'))\n"
   ],
   "metadata": {
    "collapsed": false,
    "pycharm": {
     "name": "#%%\n"
    }
   }
  },
  {
   "cell_type": "code",
   "execution_count": null,
   "outputs": [],
   "source": [],
   "metadata": {
    "collapsed": false,
    "pycharm": {
     "name": "#%%\n"
    }
   }
  }
 ],
 "metadata": {
  "kernelspec": {
   "display_name": "Python 3",
   "language": "python",
   "name": "python3"
  },
  "language_info": {
   "codemirror_mode": {
    "name": "ipython",
    "version": 2
   },
   "file_extension": ".py",
   "mimetype": "text/x-python",
   "name": "python",
   "nbconvert_exporter": "python",
   "pygments_lexer": "ipython2",
   "version": "2.7.6"
  }
 },
 "nbformat": 4,
 "nbformat_minor": 0
}