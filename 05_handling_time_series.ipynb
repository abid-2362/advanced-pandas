{
 "cells": [
  {
   "cell_type": "markdown",
   "source": [
    "# Advanced Pandas - Handling Time Series\n",
    "**Abid Ali**\n",
    "\n",
    "Skype: Abd.Soft\n",
    "\n",
    "Email: [abdsoftfsd@gmail.com](mailto:abdsoftfsd@gmail.com)"
   ],
   "metadata": {
    "collapsed": false,
    "pycharm": {
     "name": "#%% md\n"
    }
   }
  },
  {
   "cell_type": "code",
   "execution_count": 2,
   "outputs": [],
   "source": [
    "import pandas as pd\n",
    "import os"
   ],
   "metadata": {
    "collapsed": false,
    "pycharm": {
     "name": "#%%\n"
    }
   }
  },
  {
   "cell_type": "code",
   "execution_count": 6,
   "outputs": [],
   "source": [
    "master = pd.read_pickle(os.path.join('data','modified', 'master.pickle'))"
   ],
   "metadata": {
    "collapsed": false,
    "pycharm": {
     "name": "#%%\n"
    }
   }
  },
  {
   "cell_type": "code",
   "execution_count": 7,
   "outputs": [
    {
     "data": {
      "text/plain": "          firstName     lastName pos  birthYear  birthMon  birthDay  \\\nplayerID                                                              \naaltoan01     Antti        Aalto   C     1975.0       3.0       4.0   \nabdelju01    Justin   Abdelkader   L     1987.0       2.0      25.0   \nabidra01      Ramzi         Abid   L     1980.0       3.0      24.0   \nabrahth01    Thommy  Abrahamsson   D     1947.0       4.0      12.0   \nactonke01     Keith        Acton   C     1958.0       4.0      15.0   \n\n          birthCountry birthState     birthCity  \nplayerID                                         \naaltoan01      Finland        NaN  Lappeenranta  \nabdelju01          USA         MI      Muskegon  \nabidra01        Canada         QC      Montreal  \nabrahth01       Sweden        NaN       Leksand  \nactonke01       Canada         ON   Stouffville  ",
      "text/html": "<div>\n<style scoped>\n    .dataframe tbody tr th:only-of-type {\n        vertical-align: middle;\n    }\n\n    .dataframe tbody tr th {\n        vertical-align: top;\n    }\n\n    .dataframe thead th {\n        text-align: right;\n    }\n</style>\n<table border=\"1\" class=\"dataframe\">\n  <thead>\n    <tr style=\"text-align: right;\">\n      <th></th>\n      <th>firstName</th>\n      <th>lastName</th>\n      <th>pos</th>\n      <th>birthYear</th>\n      <th>birthMon</th>\n      <th>birthDay</th>\n      <th>birthCountry</th>\n      <th>birthState</th>\n      <th>birthCity</th>\n    </tr>\n    <tr>\n      <th>playerID</th>\n      <th></th>\n      <th></th>\n      <th></th>\n      <th></th>\n      <th></th>\n      <th></th>\n      <th></th>\n      <th></th>\n      <th></th>\n    </tr>\n  </thead>\n  <tbody>\n    <tr>\n      <th>aaltoan01</th>\n      <td>Antti</td>\n      <td>Aalto</td>\n      <td>C</td>\n      <td>1975.0</td>\n      <td>3.0</td>\n      <td>4.0</td>\n      <td>Finland</td>\n      <td>NaN</td>\n      <td>Lappeenranta</td>\n    </tr>\n    <tr>\n      <th>abdelju01</th>\n      <td>Justin</td>\n      <td>Abdelkader</td>\n      <td>L</td>\n      <td>1987.0</td>\n      <td>2.0</td>\n      <td>25.0</td>\n      <td>USA</td>\n      <td>MI</td>\n      <td>Muskegon</td>\n    </tr>\n    <tr>\n      <th>abidra01</th>\n      <td>Ramzi</td>\n      <td>Abid</td>\n      <td>L</td>\n      <td>1980.0</td>\n      <td>3.0</td>\n      <td>24.0</td>\n      <td>Canada</td>\n      <td>QC</td>\n      <td>Montreal</td>\n    </tr>\n    <tr>\n      <th>abrahth01</th>\n      <td>Thommy</td>\n      <td>Abrahamsson</td>\n      <td>D</td>\n      <td>1947.0</td>\n      <td>4.0</td>\n      <td>12.0</td>\n      <td>Sweden</td>\n      <td>NaN</td>\n      <td>Leksand</td>\n    </tr>\n    <tr>\n      <th>actonke01</th>\n      <td>Keith</td>\n      <td>Acton</td>\n      <td>C</td>\n      <td>1958.0</td>\n      <td>4.0</td>\n      <td>15.0</td>\n      <td>Canada</td>\n      <td>ON</td>\n      <td>Stouffville</td>\n    </tr>\n  </tbody>\n</table>\n</div>"
     },
     "execution_count": 7,
     "metadata": {},
     "output_type": "execute_result"
    }
   ],
   "source": [
    "master.head()\n"
   ],
   "metadata": {
    "collapsed": false,
    "pycharm": {
     "name": "#%%\n"
    }
   }
  },
  {
   "cell_type": "code",
   "execution_count": 15,
   "outputs": [
    {
     "data": {
      "text/plain": "           birthYear  birthMon  birthDay\nplayerID                                \naaltoan01     1975.0       3.0       4.0\nabdelju01     1987.0       2.0      25.0\nabidra01      1980.0       3.0      24.0\nabrahth01     1947.0       4.0      12.0\nactonke01     1958.0       4.0      15.0",
      "text/html": "<div>\n<style scoped>\n    .dataframe tbody tr th:only-of-type {\n        vertical-align: middle;\n    }\n\n    .dataframe tbody tr th {\n        vertical-align: top;\n    }\n\n    .dataframe thead th {\n        text-align: right;\n    }\n</style>\n<table border=\"1\" class=\"dataframe\">\n  <thead>\n    <tr style=\"text-align: right;\">\n      <th></th>\n      <th>birthYear</th>\n      <th>birthMon</th>\n      <th>birthDay</th>\n    </tr>\n    <tr>\n      <th>playerID</th>\n      <th></th>\n      <th></th>\n      <th></th>\n    </tr>\n  </thead>\n  <tbody>\n    <tr>\n      <th>aaltoan01</th>\n      <td>1975.0</td>\n      <td>3.0</td>\n      <td>4.0</td>\n    </tr>\n    <tr>\n      <th>abdelju01</th>\n      <td>1987.0</td>\n      <td>2.0</td>\n      <td>25.0</td>\n    </tr>\n    <tr>\n      <th>abidra01</th>\n      <td>1980.0</td>\n      <td>3.0</td>\n      <td>24.0</td>\n    </tr>\n    <tr>\n      <th>abrahth01</th>\n      <td>1947.0</td>\n      <td>4.0</td>\n      <td>12.0</td>\n    </tr>\n    <tr>\n      <th>actonke01</th>\n      <td>1958.0</td>\n      <td>4.0</td>\n      <td>15.0</td>\n    </tr>\n  </tbody>\n</table>\n</div>"
     },
     "execution_count": 15,
     "metadata": {},
     "output_type": "execute_result"
    }
   ],
   "source": [
    "birthInfo = master.loc[:, ['birthYear', 'birthMon', 'birthDay']]\n",
    "birthInfo.head()"
   ],
   "metadata": {
    "collapsed": false,
    "pycharm": {
     "name": "#%%\n"
    }
   }
  },
  {
   "cell_type": "code",
   "execution_count": 24,
   "outputs": [
    {
     "data": {
      "text/plain": "                    birthDay\nbirthYear birthMon          \n1970.0    6.0              2\n          9.0              1",
      "text/html": "<div>\n<style scoped>\n    .dataframe tbody tr th:only-of-type {\n        vertical-align: middle;\n    }\n\n    .dataframe tbody tr th {\n        vertical-align: top;\n    }\n\n    .dataframe thead th {\n        text-align: right;\n    }\n</style>\n<table border=\"1\" class=\"dataframe\">\n  <thead>\n    <tr style=\"text-align: right;\">\n      <th></th>\n      <th></th>\n      <th>birthDay</th>\n    </tr>\n    <tr>\n      <th>birthYear</th>\n      <th>birthMon</th>\n      <th></th>\n    </tr>\n  </thead>\n  <tbody>\n    <tr>\n      <th rowspan=\"2\" valign=\"top\">1970.0</th>\n      <th>6.0</th>\n      <td>2</td>\n    </tr>\n    <tr>\n      <th>9.0</th>\n      <td>1</td>\n    </tr>\n  </tbody>\n</table>\n</div>"
     },
     "execution_count": 24,
     "metadata": {},
     "output_type": "execute_result"
    }
   ],
   "source": [
    "(birthInfo.loc[birthInfo['birthYear'] == 1970]\n",
    "    .sample(3)\n",
    "    .groupby(['birthYear', 'birthMon'])\n",
    "    .count()\n",
    " )"
   ],
   "metadata": {
    "collapsed": false,
    "pycharm": {
     "name": "#%%\n"
    }
   }
  },
  {
   "cell_type": "code",
   "execution_count": 25,
   "outputs": [],
   "source": [
    "master = pd.read_pickle(os.path.join('data', 'modified', 'master.pickle'))\n",
    "team_splits = pd.read_pickle(os.path.join('data', 'modified', 'team_splits_mi.pickle'))\n"
   ],
   "metadata": {
    "collapsed": false,
    "pycharm": {
     "name": "#%%\n"
    }
   }
  },
  {
   "cell_type": "code",
   "execution_count": 26,
   "outputs": [
    {
     "data": {
      "text/plain": "                            L   OL   T     W\nname          year month                    \nAnaheim Ducks 2006 Apr    0.0  2.0 NaN   1.0\n                   Dec    5.0  0.0 NaN   9.0\n                   Feb    5.0  2.0 NaN   5.0\n                   Jan    5.0  2.0 NaN   4.0\n                   Mar    3.0  2.0 NaN  10.0",
      "text/html": "<div>\n<style scoped>\n    .dataframe tbody tr th:only-of-type {\n        vertical-align: middle;\n    }\n\n    .dataframe tbody tr th {\n        vertical-align: top;\n    }\n\n    .dataframe thead th {\n        text-align: right;\n    }\n</style>\n<table border=\"1\" class=\"dataframe\">\n  <thead>\n    <tr style=\"text-align: right;\">\n      <th></th>\n      <th></th>\n      <th></th>\n      <th>L</th>\n      <th>OL</th>\n      <th>T</th>\n      <th>W</th>\n    </tr>\n    <tr>\n      <th>name</th>\n      <th>year</th>\n      <th>month</th>\n      <th></th>\n      <th></th>\n      <th></th>\n      <th></th>\n    </tr>\n  </thead>\n  <tbody>\n    <tr>\n      <th rowspan=\"5\" valign=\"top\">Anaheim Ducks</th>\n      <th rowspan=\"5\" valign=\"top\">2006</th>\n      <th>Apr</th>\n      <td>0.0</td>\n      <td>2.0</td>\n      <td>NaN</td>\n      <td>1.0</td>\n    </tr>\n    <tr>\n      <th>Dec</th>\n      <td>5.0</td>\n      <td>0.0</td>\n      <td>NaN</td>\n      <td>9.0</td>\n    </tr>\n    <tr>\n      <th>Feb</th>\n      <td>5.0</td>\n      <td>2.0</td>\n      <td>NaN</td>\n      <td>5.0</td>\n    </tr>\n    <tr>\n      <th>Jan</th>\n      <td>5.0</td>\n      <td>2.0</td>\n      <td>NaN</td>\n      <td>4.0</td>\n    </tr>\n    <tr>\n      <th>Mar</th>\n      <td>3.0</td>\n      <td>2.0</td>\n      <td>NaN</td>\n      <td>10.0</td>\n    </tr>\n  </tbody>\n</table>\n</div>"
     },
     "execution_count": 26,
     "metadata": {},
     "output_type": "execute_result"
    }
   ],
   "source": [
    "team_splits.head()\n"
   ],
   "metadata": {
    "collapsed": false,
    "pycharm": {
     "name": "#%%\n"
    }
   }
  },
  {
   "cell_type": "code",
   "execution_count": 27,
   "outputs": [
    {
     "data": {
      "text/plain": "          firstName     lastName pos  birthYear  birthMon  birthDay  \\\nplayerID                                                              \naaltoan01     Antti        Aalto   C     1975.0       3.0       4.0   \nabdelju01    Justin   Abdelkader   L     1987.0       2.0      25.0   \nabidra01      Ramzi         Abid   L     1980.0       3.0      24.0   \nabrahth01    Thommy  Abrahamsson   D     1947.0       4.0      12.0   \nactonke01     Keith        Acton   C     1958.0       4.0      15.0   \n\n          birthCountry birthState     birthCity  \nplayerID                                         \naaltoan01      Finland        NaN  Lappeenranta  \nabdelju01          USA         MI      Muskegon  \nabidra01        Canada         QC      Montreal  \nabrahth01       Sweden        NaN       Leksand  \nactonke01       Canada         ON   Stouffville  ",
      "text/html": "<div>\n<style scoped>\n    .dataframe tbody tr th:only-of-type {\n        vertical-align: middle;\n    }\n\n    .dataframe tbody tr th {\n        vertical-align: top;\n    }\n\n    .dataframe thead th {\n        text-align: right;\n    }\n</style>\n<table border=\"1\" class=\"dataframe\">\n  <thead>\n    <tr style=\"text-align: right;\">\n      <th></th>\n      <th>firstName</th>\n      <th>lastName</th>\n      <th>pos</th>\n      <th>birthYear</th>\n      <th>birthMon</th>\n      <th>birthDay</th>\n      <th>birthCountry</th>\n      <th>birthState</th>\n      <th>birthCity</th>\n    </tr>\n    <tr>\n      <th>playerID</th>\n      <th></th>\n      <th></th>\n      <th></th>\n      <th></th>\n      <th></th>\n      <th></th>\n      <th></th>\n      <th></th>\n      <th></th>\n    </tr>\n  </thead>\n  <tbody>\n    <tr>\n      <th>aaltoan01</th>\n      <td>Antti</td>\n      <td>Aalto</td>\n      <td>C</td>\n      <td>1975.0</td>\n      <td>3.0</td>\n      <td>4.0</td>\n      <td>Finland</td>\n      <td>NaN</td>\n      <td>Lappeenranta</td>\n    </tr>\n    <tr>\n      <th>abdelju01</th>\n      <td>Justin</td>\n      <td>Abdelkader</td>\n      <td>L</td>\n      <td>1987.0</td>\n      <td>2.0</td>\n      <td>25.0</td>\n      <td>USA</td>\n      <td>MI</td>\n      <td>Muskegon</td>\n    </tr>\n    <tr>\n      <th>abidra01</th>\n      <td>Ramzi</td>\n      <td>Abid</td>\n      <td>L</td>\n      <td>1980.0</td>\n      <td>3.0</td>\n      <td>24.0</td>\n      <td>Canada</td>\n      <td>QC</td>\n      <td>Montreal</td>\n    </tr>\n    <tr>\n      <th>abrahth01</th>\n      <td>Thommy</td>\n      <td>Abrahamsson</td>\n      <td>D</td>\n      <td>1947.0</td>\n      <td>4.0</td>\n      <td>12.0</td>\n      <td>Sweden</td>\n      <td>NaN</td>\n      <td>Leksand</td>\n    </tr>\n    <tr>\n      <th>actonke01</th>\n      <td>Keith</td>\n      <td>Acton</td>\n      <td>C</td>\n      <td>1958.0</td>\n      <td>4.0</td>\n      <td>15.0</td>\n      <td>Canada</td>\n      <td>ON</td>\n      <td>Stouffville</td>\n    </tr>\n  </tbody>\n</table>\n</div>"
     },
     "execution_count": 27,
     "metadata": {},
     "output_type": "execute_result"
    }
   ],
   "source": [
    "master.head()\n"
   ],
   "metadata": {
    "collapsed": false,
    "pycharm": {
     "name": "#%%\n"
    }
   }
  },
  {
   "cell_type": "code",
   "execution_count": 28,
   "outputs": [
    {
     "data": {
      "text/plain": "          firstName     lastName pos birthCountry birthState     birthCity  \\\nplayerID                                                                     \naaltoan01     Antti        Aalto   C      Finland        NaN  Lappeenranta   \nabdelju01    Justin   Abdelkader   L          USA         MI      Muskegon   \nabidra01      Ramzi         Abid   L       Canada         QC      Montreal   \nabrahth01    Thommy  Abrahamsson   D       Sweden        NaN       Leksand   \nactonke01     Keith        Acton   C       Canada         ON   Stouffville   \n\n           birthDate  \nplayerID              \naaltoan01 1975-03-04  \nabdelju01 1987-02-25  \nabidra01  1980-03-24  \nabrahth01 1947-04-12  \nactonke01 1958-04-15  ",
      "text/html": "<div>\n<style scoped>\n    .dataframe tbody tr th:only-of-type {\n        vertical-align: middle;\n    }\n\n    .dataframe tbody tr th {\n        vertical-align: top;\n    }\n\n    .dataframe thead th {\n        text-align: right;\n    }\n</style>\n<table border=\"1\" class=\"dataframe\">\n  <thead>\n    <tr style=\"text-align: right;\">\n      <th></th>\n      <th>firstName</th>\n      <th>lastName</th>\n      <th>pos</th>\n      <th>birthCountry</th>\n      <th>birthState</th>\n      <th>birthCity</th>\n      <th>birthDate</th>\n    </tr>\n    <tr>\n      <th>playerID</th>\n      <th></th>\n      <th></th>\n      <th></th>\n      <th></th>\n      <th></th>\n      <th></th>\n      <th></th>\n    </tr>\n  </thead>\n  <tbody>\n    <tr>\n      <th>aaltoan01</th>\n      <td>Antti</td>\n      <td>Aalto</td>\n      <td>C</td>\n      <td>Finland</td>\n      <td>NaN</td>\n      <td>Lappeenranta</td>\n      <td>1975-03-04</td>\n    </tr>\n    <tr>\n      <th>abdelju01</th>\n      <td>Justin</td>\n      <td>Abdelkader</td>\n      <td>L</td>\n      <td>USA</td>\n      <td>MI</td>\n      <td>Muskegon</td>\n      <td>1987-02-25</td>\n    </tr>\n    <tr>\n      <th>abidra01</th>\n      <td>Ramzi</td>\n      <td>Abid</td>\n      <td>L</td>\n      <td>Canada</td>\n      <td>QC</td>\n      <td>Montreal</td>\n      <td>1980-03-24</td>\n    </tr>\n    <tr>\n      <th>abrahth01</th>\n      <td>Thommy</td>\n      <td>Abrahamsson</td>\n      <td>D</td>\n      <td>Sweden</td>\n      <td>NaN</td>\n      <td>Leksand</td>\n      <td>1947-04-12</td>\n    </tr>\n    <tr>\n      <th>actonke01</th>\n      <td>Keith</td>\n      <td>Acton</td>\n      <td>C</td>\n      <td>Canada</td>\n      <td>ON</td>\n      <td>Stouffville</td>\n      <td>1958-04-15</td>\n    </tr>\n  </tbody>\n</table>\n</div>"
     },
     "execution_count": 28,
     "metadata": {},
     "output_type": "execute_result"
    }
   ],
   "source": [
    "master = master.assign(birthDate = pd.to_datetime({\n",
    "    'year': master.birthYear,\n",
    "    'month': master.birthMon,\n",
    "    'day': master.birthDay\n",
    "}))\n",
    "master = master.drop(columns=['birthYear', 'birthMon', 'birthDay'])\n",
    "master.head()\n"
   ],
   "metadata": {
    "collapsed": false,
    "pycharm": {
     "name": "#%%\n"
    }
   }
  },
  {
   "cell_type": "code",
   "execution_count": 29,
   "outputs": [
    {
     "data": {
      "text/plain": "playerID\naaltoan01   1975-03-04\nabdelju01   1987-02-25\nName: birthDate, dtype: datetime64[ns]"
     },
     "execution_count": 29,
     "metadata": {},
     "output_type": "execute_result"
    }
   ],
   "source": [
    "master.birthDate.head(2)\n"
   ],
   "metadata": {
    "collapsed": false,
    "pycharm": {
     "name": "#%%\n"
    }
   }
  },
  {
   "cell_type": "code",
   "execution_count": 30,
   "outputs": [
    {
     "data": {
      "text/plain": "Timestamp('1975-03-04 00:00:00')"
     },
     "execution_count": 30,
     "metadata": {},
     "output_type": "execute_result"
    }
   ],
   "source": [
    "master.birthDate[0]\n"
   ],
   "metadata": {
    "collapsed": false,
    "pycharm": {
     "name": "#%%\n"
    }
   }
  },
  {
   "cell_type": "code",
   "execution_count": 31,
   "outputs": [],
   "source": [
    "ts = master.birthDate[0]\n"
   ],
   "metadata": {
    "collapsed": false,
    "pycharm": {
     "name": "#%%\n"
    }
   }
  },
  {
   "cell_type": "code",
   "execution_count": 32,
   "outputs": [
    {
     "name": "stdout",
     "output_type": "stream",
     "text": [
      "Tuesday, 4 March 1975\n"
     ]
    }
   ],
   "source": [
    "print(u\"{}, {} {} {}\".format(ts.day_name(), ts.day, ts.month_name(), ts.year))\n"
   ],
   "metadata": {
    "collapsed": false,
    "pycharm": {
     "name": "#%%\n"
    }
   }
  },
  {
   "cell_type": "code",
   "execution_count": 34,
   "outputs": [
    {
     "data": {
      "text/plain": "Timestamp('1975-03-04 00:00:00-0500', tz='America/Toronto')"
     },
     "execution_count": 34,
     "metadata": {},
     "output_type": "execute_result"
    }
   ],
   "source": [
    "tsz = ts.tz_localize('America/Toronto')\n",
    "tsz\n"
   ],
   "metadata": {
    "collapsed": false,
    "pycharm": {
     "name": "#%%\n"
    }
   }
  },
  {
   "cell_type": "code",
   "execution_count": 35,
   "outputs": [
    {
     "data": {
      "text/plain": "Timestamp('1975-03-04 05:00:00+0000', tz='Europe/London')"
     },
     "execution_count": 35,
     "metadata": {},
     "output_type": "execute_result"
    }
   ],
   "source": [
    "tsz.tz_convert('Europe/London')\n"
   ],
   "metadata": {
    "collapsed": false,
    "pycharm": {
     "name": "#%%\n"
    }
   }
  },
  {
   "cell_type": "code",
   "execution_count": 37,
   "outputs": [
    {
     "data": {
      "text/plain": "playerID\naaltoan01    1975\nabdelju01    1987\nabidra01     1980\nabrahth01    1947\nactonke01    1958\nName: birthDate, dtype: int64"
     },
     "execution_count": 37,
     "metadata": {},
     "output_type": "execute_result"
    }
   ],
   "source": [
    "years = master.birthDate.dt.year\n",
    "years.head()"
   ],
   "metadata": {
    "collapsed": false,
    "pycharm": {
     "name": "#%%\n"
    }
   }
  },
  {
   "cell_type": "code",
   "execution_count": 43,
   "outputs": [
    {
     "data": {
      "text/plain": "playerID\naaltoan01    Tue-04-03-1975\nabdelju01    Wed-25-02-1987\nabidra01     Mon-24-03-1980\nabrahth01    Sat-12-04-1947\nactonke01    Tue-15-04-1958\nName: birthDate, dtype: object"
     },
     "execution_count": 43,
     "metadata": {},
     "output_type": "execute_result"
    }
   ],
   "source": [
    "strings = master.birthDate.dt.strftime(\"%a-%d-%m-%Y\")\n",
    "strings.head()\n"
   ],
   "metadata": {
    "collapsed": false,
    "pycharm": {
     "name": "#%%\n"
    }
   }
  },
  {
   "cell_type": "code",
   "execution_count": 44,
   "outputs": [
    {
     "data": {
      "text/plain": "playerID\naaltoan01    1975-03-04\nabdelju01    1987-02-25\nabidra01     1980-03-24\nabrahth01    1947-04-12\nactonke01    1958-04-15\nName: birthDate, dtype: object"
     },
     "execution_count": 44,
     "metadata": {},
     "output_type": "execute_result"
    }
   ],
   "source": [
    "strings = master.birthDate.dt.strftime('%Y-%m-%d')\n",
    "strings.head()\n"
   ],
   "metadata": {
    "collapsed": false,
    "pycharm": {
     "name": "#%%\n"
    }
   }
  },
  {
   "cell_type": "code",
   "execution_count": 45,
   "outputs": [
    {
     "data": {
      "text/plain": "playerID\naaltoan01   1975-03-04\nabdelju01   1987-02-25\nabidra01    1980-03-24\nabrahth01   1947-04-12\nactonke01   1958-04-15\nName: birthDate, dtype: datetime64[ns]"
     },
     "execution_count": 45,
     "metadata": {},
     "output_type": "execute_result"
    }
   ],
   "source": [
    "dates = pd.to_datetime(strings)\n",
    "dates.head()\n"
   ],
   "metadata": {
    "collapsed": false,
    "pycharm": {
     "name": "#%%\n"
    }
   }
  },
  {
   "cell_type": "code",
   "execution_count": 51,
   "outputs": [
    {
     "data": {
      "text/plain": "'March'"
     },
     "execution_count": 51,
     "metadata": {},
     "output_type": "execute_result"
    }
   ],
   "source": [
    "date = dates[0]\n",
    "date.month_name()\n"
   ],
   "metadata": {
    "collapsed": false,
    "pycharm": {
     "name": "#%%\n"
    }
   }
  },
  {
   "cell_type": "code",
   "execution_count": 52,
   "outputs": [
    {
     "data": {
      "text/plain": "1975"
     },
     "execution_count": 52,
     "metadata": {},
     "output_type": "execute_result"
    }
   ],
   "source": [
    "date.year"
   ],
   "metadata": {
    "collapsed": false,
    "pycharm": {
     "name": "#%%\n"
    }
   }
  },
  {
   "cell_type": "code",
   "execution_count": 53,
   "outputs": [
    {
     "data": {
      "text/plain": "3"
     },
     "execution_count": 53,
     "metadata": {},
     "output_type": "execute_result"
    }
   ],
   "source": [
    "date.month\n"
   ],
   "metadata": {
    "collapsed": false,
    "pycharm": {
     "name": "#%%\n"
    }
   }
  },
  {
   "cell_type": "code",
   "execution_count": 55,
   "outputs": [
    {
     "data": {
      "text/plain": "'Tuesday'"
     },
     "execution_count": 55,
     "metadata": {},
     "output_type": "execute_result"
    }
   ],
   "source": [
    "date.day_name()\n"
   ],
   "metadata": {
    "collapsed": false,
    "pycharm": {
     "name": "#%%\n"
    }
   }
  },
  {
   "cell_type": "code",
   "execution_count": 56,
   "outputs": [
    {
     "data": {
      "text/plain": "playerID\naaltoan01    1975xx03xx04\nabdelju01    1987xx02xx25\nabidra01     1980xx03xx24\nabrahth01    1947xx04xx12\nactonke01    1958xx04xx15\nName: birthDate, dtype: object"
     },
     "execution_count": 56,
     "metadata": {},
     "output_type": "execute_result"
    }
   ],
   "source": [
    "strings = strings.str.replace('-', 'xx')\n",
    "strings.head()\n"
   ],
   "metadata": {
    "collapsed": false,
    "pycharm": {
     "name": "#%%\n"
    }
   }
  },
  {
   "cell_type": "code",
   "execution_count": 57,
   "outputs": [
    {
     "name": "stdout",
     "output_type": "stream",
     "text": [
      "Unknown string format: 1975xx03xx04\n"
     ]
    }
   ],
   "source": [
    "try:\n",
    "    pd.to_datetime(strings)\n",
    "except Exception as e:\n",
    "    print(e)\n"
   ],
   "metadata": {
    "collapsed": false,
    "pycharm": {
     "name": "#%%\n"
    }
   }
  },
  {
   "cell_type": "code",
   "execution_count": 58,
   "outputs": [
    {
     "data": {
      "text/plain": "playerID\naaltoan01   1975-03-04\nabdelju01   1987-02-25\nabidra01    1980-03-24\nabrahth01   1947-04-12\nactonke01   1958-04-15\nName: birthDate, dtype: datetime64[ns]"
     },
     "execution_count": 58,
     "metadata": {},
     "output_type": "execute_result"
    }
   ],
   "source": [
    "parsed_dates = pd.to_datetime(strings, format=\"%Yxx%mxx%d\")\n",
    "parsed_dates.head()\n"
   ],
   "metadata": {
    "collapsed": false,
    "pycharm": {
     "name": "#%%\n"
    }
   }
  },
  {
   "cell_type": "code",
   "execution_count": 60,
   "outputs": [
    {
     "name": "stdout",
     "output_type": "stream",
     "text": [
      "time data 'xx123' does not match format '%Yxx%mxx%d' (match)\n"
     ]
    }
   ],
   "source": [
    "strings_error = strings.copy()\n",
    "strings_error.iloc[34] = \"xx123\"\n",
    "\n",
    "try:\n",
    "    pd.to_datetime(strings_error, format=\"%Yxx%mxx%d\")\n",
    "except Exception as e:\n",
    "    print(e)\n"
   ],
   "metadata": {
    "collapsed": false,
    "pycharm": {
     "name": "#%%\n"
    }
   }
  },
  {
   "cell_type": "code",
   "execution_count": 61,
   "outputs": [
    {
     "data": {
      "text/plain": "NaT"
     },
     "execution_count": 61,
     "metadata": {},
     "output_type": "execute_result"
    }
   ],
   "source": [
    "parsed = pd.to_datetime(strings_error, format=\"%Yxx%mxx%d\", errors=\"coerce\")\n",
    "parsed.iloc[34]\n"
   ],
   "metadata": {
    "collapsed": false,
    "pycharm": {
     "name": "#%%\n"
    }
   }
  },
  {
   "cell_type": "code",
   "execution_count": 62,
   "outputs": [
    {
     "data": {
      "text/plain": "playerID\naaltoan01   1975-03-04\nabdelju01   1987-02-25\nabidra01    1980-03-24\nabrahth01   1947-04-12\nactonke01   1958-04-15\nName: birthDate, dtype: datetime64[ns]"
     },
     "execution_count": 62,
     "metadata": {},
     "output_type": "execute_result"
    }
   ],
   "source": [
    "parsed.head()\n"
   ],
   "metadata": {
    "collapsed": false,
    "pycharm": {
     "name": "#%%\n"
    }
   }
  },
  {
   "cell_type": "code",
   "execution_count": 63,
   "outputs": [
    {
     "data": {
      "text/plain": "playerID\naaltoan01    1975xx03xx04\nabdelju01    1987xx02xx25\nabidra01     1980xx03xx24\nabrahth01    1947xx04xx12\nactonke01    1958xx04xx15\nName: birthDate, dtype: object"
     },
     "execution_count": 63,
     "metadata": {},
     "output_type": "execute_result"
    }
   ],
   "source": [
    "parsed = pd.to_datetime(strings_error, format=\"%Yxx%mxx%d\", errors=\"ignore\")\n",
    "parsed.head()"
   ],
   "metadata": {
    "collapsed": false,
    "pycharm": {
     "name": "#%%\n"
    }
   }
  },
  {
   "cell_type": "code",
   "execution_count": 64,
   "outputs": [
    {
     "data": {
      "text/plain": "birthDate\n1975-03-04    aaltoan01\n1987-02-25    abdelju01\nName: playerID, dtype: object"
     },
     "execution_count": 64,
     "metadata": {},
     "output_type": "execute_result"
    }
   ],
   "source": [
    "birth_dates = pd.Series(data=master.index, index=master.birthDate)\n",
    "birth_dates.head(2)\n"
   ],
   "metadata": {
    "collapsed": false,
    "pycharm": {
     "name": "#%%\n"
    }
   }
  },
  {
   "cell_type": "code",
   "execution_count": 65,
   "outputs": [
    {
     "data": {
      "text/plain": "DatetimeIndex(['1975-03-04', '1987-02-25', '1980-03-24', '1947-04-12',\n               '1958-04-15', '1990-06-18', '1961-05-05', '1977-03-20',\n               '1977-04-26', '1960-05-31',\n               ...\n               '1987-09-01', '1963-05-08', '1987-03-03', '1987-02-14',\n               '1970-07-22', '1978-06-16', '1987-09-01', '1992-01-16',\n               '1954-04-16', '1978-01-21'],\n              dtype='datetime64[ns]', name='birthDate', length=4627, freq=None)"
     },
     "execution_count": 65,
     "metadata": {},
     "output_type": "execute_result"
    }
   ],
   "source": [
    "birth_dates.index\n"
   ],
   "metadata": {
    "collapsed": false,
    "pycharm": {
     "name": "#%%\n"
    }
   }
  },
  {
   "cell_type": "code",
   "execution_count": 66,
   "outputs": [
    {
     "data": {
      "text/plain": "birthDate\n1940-01-27    harpete01\n1940-03-22     keonda01\n1940-10-03    ratelje01\nName: playerID, dtype: object"
     },
     "execution_count": 66,
     "metadata": {},
     "output_type": "execute_result"
    }
   ],
   "source": [
    "birth_dates = birth_dates.sort_index()\n",
    "birth_dates.head(3)\n"
   ],
   "metadata": {
    "collapsed": false,
    "pycharm": {
     "name": "#%%\n"
    }
   }
  },
  {
   "cell_type": "code",
   "execution_count": 74,
   "outputs": [
    {
     "data": {
      "text/plain": "birthDate\n1980-01-02    zalesmi01\n1980-01-10    stanara01\n1980-01-13    bouckty01\n1980-01-13     ruppmi01\n1980-01-15    papinju01\nName: playerID, dtype: object"
     },
     "execution_count": 74,
     "metadata": {},
     "output_type": "execute_result"
    }
   ],
   "source": [
    "born_1980 = birth_dates['1980']\n",
    "born_1980.head()\n"
   ],
   "metadata": {
    "collapsed": false,
    "pycharm": {
     "name": "#%%\n"
    }
   }
  },
  {
   "cell_type": "code",
   "execution_count": 76,
   "outputs": [
    {
     "data": {
      "text/plain": "birthDate\n1980-07-03    miettan01\n1980-07-05    huntetr01\n1980-07-08    chouier01\n1980-07-15    cheecjo01\n1980-07-17    millery01\n1980-07-19    tanabda01\n1980-07-20    arsende01\n1980-07-22    kalindm01\n1980-07-24    jillsje01\n1980-07-24    printda01\n1980-07-31    fischji01\nName: playerID, dtype: object"
     },
     "execution_count": 76,
     "metadata": {},
     "output_type": "execute_result"
    }
   ],
   "source": [
    "birth_dates['1980-7']"
   ],
   "metadata": {
    "collapsed": false,
    "pycharm": {
     "name": "#%%\n"
    }
   }
  },
  {
   "cell_type": "code",
   "execution_count": 79,
   "outputs": [
    {
     "data": {
      "text/plain": "birthDate\n1980-07-24    jillsje01\n1980-07-24    printda01\nName: playerID, dtype: object"
     },
     "execution_count": 79,
     "metadata": {},
     "output_type": "execute_result"
    }
   ],
   "source": [
    "birth_dates['1980-7-24']\n"
   ],
   "metadata": {
    "collapsed": false,
    "pycharm": {
     "name": "#%%\n"
    }
   }
  },
  {
   "cell_type": "code",
   "execution_count": 86,
   "outputs": [
    {
     "data": {
      "text/plain": "birthDate\n1980-07-20    arsende01\n1980-07-22    kalindm01\n1980-07-24    jillsje01\n1980-07-24    printda01\n1980-07-31    fischji01\nName: playerID, dtype: object"
     },
     "execution_count": 86,
     "metadata": {},
     "output_type": "execute_result"
    }
   ],
   "source": [
    "birth_dates['1980-7-20': '1980-7-31']\n"
   ],
   "metadata": {
    "collapsed": false,
    "pycharm": {
     "name": "#%%\n"
    }
   }
  },
  {
   "cell_type": "code",
   "execution_count": 87,
   "outputs": [
    {
     "data": {
      "text/plain": "Timedelta('55 days 00:00:00')"
     },
     "execution_count": 87,
     "metadata": {},
     "output_type": "execute_result"
    }
   ],
   "source": [
    "diff = birth_dates.index[1] - birth_dates.index[0]\n",
    "diff\n"
   ],
   "metadata": {
    "collapsed": false,
    "pycharm": {
     "name": "#%%\n"
    }
   }
  },
  {
   "cell_type": "code",
   "execution_count": 88,
   "outputs": [
    {
     "data": {
      "text/plain": "Timestamp('1945-09-08 00:00:00')"
     },
     "execution_count": 88,
     "metadata": {},
     "output_type": "execute_result"
    }
   ],
   "source": [
    "birth_dates.index[10]\n"
   ],
   "metadata": {
    "collapsed": false,
    "pycharm": {
     "name": "#%%\n"
    }
   }
  },
  {
   "cell_type": "code",
   "execution_count": 89,
   "outputs": [
    {
     "data": {
      "text/plain": "Timestamp('1945-11-02 00:00:00')"
     },
     "execution_count": 89,
     "metadata": {},
     "output_type": "execute_result"
    }
   ],
   "source": [
    "birth_dates.index[10] + diff\n"
   ],
   "metadata": {
    "collapsed": false,
    "pycharm": {
     "name": "#%%\n"
    }
   }
  },
  {
   "cell_type": "code",
   "execution_count": 94,
   "outputs": [
    {
     "data": {
      "text/plain": "TimedeltaIndex([    '0 days',    '55 days',   '250 days',   '755 days',\n                 '1182 days',  '1508 days',  '1808 days',  '1829 days',\n                 '1887 days',  '1975 days',\n                ...\n                '19179 days', '19218 days', '19245 days', '19267 days',\n                '19283 days', '19294 days', '19308 days', '19406 days',\n                '19434 days', '19440 days'],\n               dtype='timedelta64[ns]', name='birthDate', length=4627, freq=None)"
     },
     "execution_count": 94,
     "metadata": {},
     "output_type": "execute_result"
    }
   ],
   "source": [
    "birth_dates.index - birth_dates.index[0]\n"
   ],
   "metadata": {
    "collapsed": false,
    "pycharm": {
     "name": "#%%\n"
    }
   }
  },
  {
   "cell_type": "code",
   "execution_count": 95,
   "outputs": [
    {
     "data": {
      "text/plain": "Components(days=55, hours=0, minutes=0, seconds=0, milliseconds=0, microseconds=0, nanoseconds=0)"
     },
     "execution_count": 95,
     "metadata": {},
     "output_type": "execute_result"
    }
   ],
   "source": [
    "diff.components\n"
   ],
   "metadata": {
    "collapsed": false,
    "pycharm": {
     "name": "#%%\n"
    }
   }
  },
  {
   "cell_type": "code",
   "execution_count": 116,
   "outputs": [
    {
     "data": {
      "text/plain": "Timedelta('55 days 04:50:00')"
     },
     "execution_count": 116,
     "metadata": {},
     "output_type": "execute_result"
    }
   ],
   "source": [
    "diff = birth_dates.index[1] - birth_dates.index[0]\n",
    "diff = diff + '5 hours' - '10 minutes'\n",
    "diff"
   ],
   "metadata": {
    "collapsed": false,
    "pycharm": {
     "name": "#%%\n"
    }
   }
  },
  {
   "cell_type": "code",
   "execution_count": 127,
   "outputs": [
    {
     "data": {
      "text/plain": "Timedelta('60 days 00:00:00')"
     },
     "execution_count": 127,
     "metadata": {},
     "output_type": "execute_result"
    }
   ],
   "source": [
    "diff.round('10 D')\n"
   ],
   "metadata": {
    "collapsed": false,
    "pycharm": {
     "name": "#%%\n"
    }
   }
  },
  {
   "cell_type": "code",
   "execution_count": 131,
   "outputs": [
    {
     "data": {
      "text/plain": "Timedelta('55 days 05:00:00')"
     },
     "execution_count": 131,
     "metadata": {},
     "output_type": "execute_result"
    }
   ],
   "source": [
    "diff.round('1H')\n"
   ],
   "metadata": {
    "collapsed": false,
    "pycharm": {
     "name": "#%%\n"
    }
   }
  },
  {
   "cell_type": "code",
   "execution_count": 132,
   "outputs": [
    {
     "data": {
      "text/plain": "birthDate\n1940-01-27    harpete01\n1940-03-22     keonda01\n1940-10-03    ratelje01\n1942-02-20    esposph01\n1943-04-23    esposto01\nName: playerID, dtype: object"
     },
     "execution_count": 132,
     "metadata": {},
     "output_type": "execute_result"
    }
   ],
   "source": [
    "birth_dates.head()\n",
    "# birth_dates = birth_dates.to_period(freq=\"D\")"
   ],
   "metadata": {
    "collapsed": false,
    "pycharm": {
     "name": "#%%\n"
    }
   }
  },
  {
   "cell_type": "code",
   "execution_count": 134,
   "outputs": [
    {
     "ename": "TypeError",
     "evalue": "unsupported Type PeriodIndex",
     "output_type": "error",
     "traceback": [
      "\u001B[1;31m---------------------------------------------------------------------------\u001B[0m",
      "\u001B[1;31mTypeError\u001B[0m                                 Traceback (most recent call last)",
      "\u001B[1;32m~\\AppData\\Local\\Temp/ipykernel_29248/1252861602.py\u001B[0m in \u001B[0;36m<module>\u001B[1;34m\u001B[0m\n\u001B[1;32m----> 1\u001B[1;33m \u001B[0mbirth_dates\u001B[0m \u001B[1;33m=\u001B[0m \u001B[0mbirth_dates\u001B[0m\u001B[1;33m.\u001B[0m\u001B[0mto_period\u001B[0m\u001B[1;33m(\u001B[0m\u001B[0mfreq\u001B[0m\u001B[1;33m=\u001B[0m\u001B[1;34m\"D\"\u001B[0m\u001B[1;33m)\u001B[0m\u001B[1;33m\u001B[0m\u001B[1;33m\u001B[0m\u001B[0m\n\u001B[0m\u001B[0;32m      2\u001B[0m \u001B[0mbirth_dates\u001B[0m\u001B[1;33m\u001B[0m\u001B[1;33m\u001B[0m\u001B[0m\n",
      "\u001B[1;32m~\\anaconda3\\lib\\site-packages\\pandas\\core\\series.py\u001B[0m in \u001B[0;36mto_period\u001B[1;34m(self, freq, copy)\u001B[0m\n\u001B[0;32m   5369\u001B[0m \u001B[1;33m\u001B[0m\u001B[0m\n\u001B[0;32m   5370\u001B[0m         \u001B[1;32mif\u001B[0m \u001B[1;32mnot\u001B[0m \u001B[0misinstance\u001B[0m\u001B[1;33m(\u001B[0m\u001B[0mself\u001B[0m\u001B[1;33m.\u001B[0m\u001B[0mindex\u001B[0m\u001B[1;33m,\u001B[0m \u001B[0mDatetimeIndex\u001B[0m\u001B[1;33m)\u001B[0m\u001B[1;33m:\u001B[0m\u001B[1;33m\u001B[0m\u001B[1;33m\u001B[0m\u001B[0m\n\u001B[1;32m-> 5371\u001B[1;33m             \u001B[1;32mraise\u001B[0m \u001B[0mTypeError\u001B[0m\u001B[1;33m(\u001B[0m\u001B[1;34mf\"unsupported Type {type(self.index).__name__}\"\u001B[0m\u001B[1;33m)\u001B[0m\u001B[1;33m\u001B[0m\u001B[1;33m\u001B[0m\u001B[0m\n\u001B[0m\u001B[0;32m   5372\u001B[0m         \u001B[0mnew_index\u001B[0m \u001B[1;33m=\u001B[0m \u001B[0mself\u001B[0m\u001B[1;33m.\u001B[0m\u001B[0mindex\u001B[0m\u001B[1;33m.\u001B[0m\u001B[0mto_period\u001B[0m\u001B[1;33m(\u001B[0m\u001B[0mfreq\u001B[0m\u001B[1;33m=\u001B[0m\u001B[0mfreq\u001B[0m\u001B[1;33m)\u001B[0m\u001B[1;33m\u001B[0m\u001B[1;33m\u001B[0m\u001B[0m\n\u001B[0;32m   5373\u001B[0m         return self._constructor(new_values, index=new_index).__finalize__(\n",
      "\u001B[1;31mTypeError\u001B[0m: unsupported Type PeriodIndex"
     ]
    }
   ],
   "source": [
    "birth_dates = birth_dates.to_period(freq=\"D\")"
   ],
   "metadata": {
    "collapsed": false,
    "pycharm": {
     "name": "#%%\n"
    }
   }
  },
  {
   "cell_type": "code",
   "execution_count": 137,
   "outputs": [
    {
     "data": {
      "text/plain": "birthDate\n1940-01-27    harpete01\n1940-03-22     keonda01\n1940-10-03    ratelje01\n1942-02-20    esposph01\n1943-04-23    esposto01\nFreq: D, Name: playerID, dtype: object"
     },
     "execution_count": 137,
     "metadata": {},
     "output_type": "execute_result"
    }
   ],
   "source": [
    "birth_dates.head()"
   ],
   "metadata": {
    "collapsed": false,
    "pycharm": {
     "name": "#%%\n"
    }
   }
  },
  {
   "cell_type": "code",
   "execution_count": 138,
   "outputs": [
    {
     "data": {
      "text/plain": "PeriodIndex(['1940-01-27', '1940-03-22', '1940-10-03', '1942-02-20',\n             '1943-04-23', '1944-03-14', '1945-01-08', '1945-01-29',\n             '1945-03-28', '1945-06-24',\n             ...\n             '1992-07-31', '1992-09-08', '1992-10-05', '1992-10-27',\n             '1992-11-12', '1992-11-23', '1992-12-07', '1993-03-15',\n             '1993-04-12', '1993-04-18'],\n            dtype='period[D]', name='birthDate', length=4627)"
     },
     "execution_count": 138,
     "metadata": {},
     "output_type": "execute_result"
    }
   ],
   "source": [
    "birth_dates.index\n"
   ],
   "metadata": {
    "collapsed": false,
    "pycharm": {
     "name": "#%%\n"
    }
   }
  },
  {
   "cell_type": "code",
   "execution_count": 139,
   "outputs": [
    {
     "data": {
      "text/plain": "Period('1940-01-27', 'D')"
     },
     "execution_count": 139,
     "metadata": {},
     "output_type": "execute_result"
    }
   ],
   "source": [
    "birth_dates.index[0]\n"
   ],
   "metadata": {
    "collapsed": false,
    "pycharm": {
     "name": "#%%\n"
    }
   }
  },
  {
   "cell_type": "code",
   "execution_count": 141,
   "outputs": [
    {
     "data": {
      "text/plain": "Timestamp('1940-01-27 00:00:00')"
     },
     "execution_count": 141,
     "metadata": {},
     "output_type": "execute_result"
    }
   ],
   "source": [
    "start = birth_dates.index[0].start_time\n",
    "start"
   ],
   "metadata": {
    "collapsed": false,
    "pycharm": {
     "name": "#%%\n"
    }
   }
  },
  {
   "cell_type": "code",
   "execution_count": 143,
   "outputs": [
    {
     "data": {
      "text/plain": "Timestamp('1940-01-27 23:59:59.999999999')"
     },
     "execution_count": 143,
     "metadata": {},
     "output_type": "execute_result"
    }
   ],
   "source": [
    "end = birth_dates.index[0].end_time\n",
    "end"
   ],
   "metadata": {
    "collapsed": false,
    "pycharm": {
     "name": "#%%\n"
    }
   }
  },
  {
   "cell_type": "code",
   "execution_count": 144,
   "outputs": [
    {
     "data": {
      "text/plain": "True"
     },
     "execution_count": 144,
     "metadata": {},
     "output_type": "execute_result"
    }
   ],
   "source": [
    "start < (start + pd.Timedelta('5H')) < end\n"
   ],
   "metadata": {
    "collapsed": false,
    "pycharm": {
     "name": "#%%\n"
    }
   }
  },
  {
   "cell_type": "code",
   "execution_count": 151,
   "outputs": [
    {
     "data": {
      "text/plain": "True"
     },
     "execution_count": 151,
     "metadata": {},
     "output_type": "execute_result"
    }
   ],
   "source": [
    "start < (start + pd.Timedelta('23H59T59S')) < end\n"
   ],
   "metadata": {
    "collapsed": false,
    "pycharm": {
     "name": "#%%\n"
    }
   }
  },
  {
   "cell_type": "code",
   "execution_count": 152,
   "outputs": [
    {
     "data": {
      "text/plain": "False"
     },
     "execution_count": 152,
     "metadata": {},
     "output_type": "execute_result"
    }
   ],
   "source": [
    "start < (start + pd.Timedelta('23H59T60S')) < end"
   ],
   "metadata": {
    "collapsed": false,
    "pycharm": {
     "name": "#%%\n"
    }
   }
  },
  {
   "cell_type": "code",
   "execution_count": 156,
   "outputs": [
    {
     "data": {
      "text/plain": "Int64Index([1940, 1940, 1940, 1942, 1943, 1944, 1945, 1945, 1945, 1945,\n            ...\n            1992, 1992, 1992, 1992, 1992, 1992, 1992, 1993, 1993, 1993],\n           dtype='int64', name='birthDate', length=4627)"
     },
     "execution_count": 156,
     "metadata": {},
     "output_type": "execute_result"
    }
   ],
   "source": [
    "birth_dates.index.year\n"
   ],
   "metadata": {
    "collapsed": false,
    "pycharm": {
     "name": "#%%\n"
    }
   }
  },
  {
   "cell_type": "code",
   "execution_count": 157,
   "outputs": [
    {
     "data": {
      "text/plain": "birthDate\n1975-01-02    mroziri01\n1975-01-03    vyshese01\nFreq: D, Name: playerID, dtype: object"
     },
     "execution_count": 157,
     "metadata": {},
     "output_type": "execute_result"
    }
   ],
   "source": [
    "birth_dates['1975'].head(2)\n"
   ],
   "metadata": {
    "collapsed": false,
    "pycharm": {
     "name": "#%%\n"
    }
   }
  },
  {
   "cell_type": "markdown",
   "source": [
    "# Advanced Strategies\n"
   ],
   "metadata": {
    "collapsed": false,
    "pycharm": {
     "name": "#%% md\n"
    }
   }
  },
  {
   "cell_type": "code",
   "execution_count": 161,
   "outputs": [
    {
     "data": {
      "text/plain": "<pandas.core.resample.PeriodIndexResampler object at 0x0000026A354041C0>"
     },
     "execution_count": 161,
     "metadata": {},
     "output_type": "execute_result"
    }
   ],
   "source": [
    "birth_dates.resample('1M')\n"
   ],
   "metadata": {
    "collapsed": false,
    "pycharm": {
     "name": "#%%\n"
    }
   }
  },
  {
   "cell_type": "code",
   "execution_count": 162,
   "outputs": [
    {
     "data": {
      "text/plain": "birthDate\n1940-01    1\n1940-02    0\n1940-03    1\n1940-04    0\n1940-05    0\nFreq: M, Name: playerID, dtype: int64"
     },
     "execution_count": 162,
     "metadata": {},
     "output_type": "execute_result"
    }
   ],
   "source": [
    "birth_dates.resample('1M').count().head()\n"
   ],
   "metadata": {
    "collapsed": false,
    "pycharm": {
     "name": "#%%\n"
    }
   }
  },
  {
   "cell_type": "code",
   "execution_count": 164,
   "outputs": [
    {
     "data": {
      "text/plain": "birthDate\n1940-01    1\n1940-03    1\n1940-05    0\n1940-07    0\n1940-09    1\nFreq: 2M, Name: playerID, dtype: int64"
     },
     "execution_count": 164,
     "metadata": {},
     "output_type": "execute_result"
    }
   ],
   "source": [
    "birth_dates.resample('2M').count().head()\n"
   ],
   "metadata": {
    "collapsed": false,
    "pycharm": {
     "name": "#%%\n"
    }
   }
  },
  {
   "cell_type": "code",
   "execution_count": 165,
   "outputs": [
    {
     "data": {
      "text/plain": "birthDate\n1940Q1    2\n1940Q2    0\nFreq: Q-DEC, Name: playerID, dtype: int64"
     },
     "execution_count": 165,
     "metadata": {},
     "output_type": "execute_result"
    }
   ],
   "source": [
    "birth_dates.resample('1Q').count().head(2)\n"
   ],
   "metadata": {
    "collapsed": false,
    "pycharm": {
     "name": "#%%\n"
    }
   }
  },
  {
   "cell_type": "code",
   "execution_count": 166,
   "outputs": [
    {
     "data": {
      "text/plain": "birthDate\n1940-01-22/1940-01-28    1\n1940-01-29/1940-02-04    0\n1940-02-05/1940-02-11    0\n1940-02-12/1940-02-18    0\n1940-02-19/1940-02-25    0\nFreq: W-SUN, Name: playerID, dtype: int64"
     },
     "execution_count": 166,
     "metadata": {},
     "output_type": "execute_result"
    }
   ],
   "source": [
    "birth_dates.resample('W').count().head()\n"
   ],
   "metadata": {
    "collapsed": false,
    "pycharm": {
     "name": "#%%\n"
    }
   }
  },
  {
   "cell_type": "code",
   "execution_count": 167,
   "outputs": [
    {
     "name": "stdout",
     "output_type": "stream",
     "text": [
      "1940-10-03 00:00:00\n",
      "1940-10-14 00:00:00\n"
     ]
    }
   ],
   "source": [
    "from pandas.tseries.offsets import BDay\n",
    "p = birth_dates.index[2]\n",
    "print(p.to_timestamp())\n",
    "print(p.to_timestamp() + BDay(7))\n"
   ],
   "metadata": {
    "collapsed": false,
    "pycharm": {
     "name": "#%%\n"
    }
   }
  },
  {
   "cell_type": "code",
   "execution_count": 168,
   "outputs": [
    {
     "data": {
      "text/plain": "birthDate\n1940-01-28    harpete01\n1940-03-23     keonda01\n1940-10-04    ratelje01\n1942-02-21    esposph01\n1943-04-24    esposto01\nFreq: D, Name: playerID, dtype: object"
     },
     "execution_count": 168,
     "metadata": {},
     "output_type": "execute_result"
    }
   ],
   "source": [
    "# shifting index by 1 day\n",
    "birth_dates.shift(1, freq=\"D\").head()\n"
   ],
   "metadata": {
    "collapsed": false,
    "pycharm": {
     "name": "#%%\n"
    }
   }
  },
  {
   "cell_type": "code",
   "execution_count": 169,
   "outputs": [
    {
     "data": {
      "text/plain": "birthDate\n1940-01-27          NaN\n1940-03-22    harpete01\n1940-10-03     keonda01\n1942-02-20    ratelje01\n1943-04-23    esposph01\nFreq: D, Name: playerID, dtype: object"
     },
     "execution_count": 169,
     "metadata": {},
     "output_type": "execute_result"
    }
   ],
   "source": [
    "# if we don't add freq, it will shift values instead of index.\n",
    "birth_dates.shift(1).head()\n"
   ],
   "metadata": {
    "collapsed": false,
    "pycharm": {
     "name": "#%%\n"
    }
   }
  },
  {
   "cell_type": "code",
   "execution_count": 175,
   "outputs": [
    {
     "data": {
      "text/plain": "                            L  OL    T    W\nname          year month                   \nBoston Bruins 1980 Apr    2.0 NaN  0.0  1.0\n                   Dec    6.0 NaN  1.0  6.0\n                   Feb    4.0 NaN  2.0  6.0\n                   Jan    4.0 NaN  1.0  9.0\n                   Mar    4.0 NaN  3.0  8.0",
      "text/html": "<div>\n<style scoped>\n    .dataframe tbody tr th:only-of-type {\n        vertical-align: middle;\n    }\n\n    .dataframe tbody tr th {\n        vertical-align: top;\n    }\n\n    .dataframe thead th {\n        text-align: right;\n    }\n</style>\n<table border=\"1\" class=\"dataframe\">\n  <thead>\n    <tr style=\"text-align: right;\">\n      <th></th>\n      <th></th>\n      <th></th>\n      <th>L</th>\n      <th>OL</th>\n      <th>T</th>\n      <th>W</th>\n    </tr>\n    <tr>\n      <th>name</th>\n      <th>year</th>\n      <th>month</th>\n      <th></th>\n      <th></th>\n      <th></th>\n      <th></th>\n    </tr>\n  </thead>\n  <tbody>\n    <tr>\n      <th rowspan=\"5\" valign=\"top\">Boston Bruins</th>\n      <th rowspan=\"5\" valign=\"top\">1980</th>\n      <th>Apr</th>\n      <td>2.0</td>\n      <td>NaN</td>\n      <td>0.0</td>\n      <td>1.0</td>\n    </tr>\n    <tr>\n      <th>Dec</th>\n      <td>6.0</td>\n      <td>NaN</td>\n      <td>1.0</td>\n      <td>6.0</td>\n    </tr>\n    <tr>\n      <th>Feb</th>\n      <td>4.0</td>\n      <td>NaN</td>\n      <td>2.0</td>\n      <td>6.0</td>\n    </tr>\n    <tr>\n      <th>Jan</th>\n      <td>4.0</td>\n      <td>NaN</td>\n      <td>1.0</td>\n      <td>9.0</td>\n    </tr>\n    <tr>\n      <th>Mar</th>\n      <td>4.0</td>\n      <td>NaN</td>\n      <td>3.0</td>\n      <td>8.0</td>\n    </tr>\n  </tbody>\n</table>\n</div>"
     },
     "execution_count": 175,
     "metadata": {},
     "output_type": "execute_result"
    }
   ],
   "source": [
    "team_splits = team_splits.sort_index(level='year')\n",
    "team_splits.head()"
   ],
   "metadata": {
    "collapsed": false,
    "pycharm": {
     "name": "#%%\n"
    }
   }
  },
  {
   "cell_type": "code",
   "execution_count": 176,
   "outputs": [
    {
     "data": {
      "text/plain": "            name  year month    L  OL    T    W\n0  Boston Bruins  1980   Apr  2.0 NaN  0.0  1.0\n1  Boston Bruins  1980   Dec  6.0 NaN  1.0  6.0\n2  Boston Bruins  1980   Feb  4.0 NaN  2.0  6.0\n3  Boston Bruins  1980   Jan  4.0 NaN  1.0  9.0\n4  Boston Bruins  1980   Mar  4.0 NaN  3.0  8.0",
      "text/html": "<div>\n<style scoped>\n    .dataframe tbody tr th:only-of-type {\n        vertical-align: middle;\n    }\n\n    .dataframe tbody tr th {\n        vertical-align: top;\n    }\n\n    .dataframe thead th {\n        text-align: right;\n    }\n</style>\n<table border=\"1\" class=\"dataframe\">\n  <thead>\n    <tr style=\"text-align: right;\">\n      <th></th>\n      <th>name</th>\n      <th>year</th>\n      <th>month</th>\n      <th>L</th>\n      <th>OL</th>\n      <th>T</th>\n      <th>W</th>\n    </tr>\n  </thead>\n  <tbody>\n    <tr>\n      <th>0</th>\n      <td>Boston Bruins</td>\n      <td>1980</td>\n      <td>Apr</td>\n      <td>2.0</td>\n      <td>NaN</td>\n      <td>0.0</td>\n      <td>1.0</td>\n    </tr>\n    <tr>\n      <th>1</th>\n      <td>Boston Bruins</td>\n      <td>1980</td>\n      <td>Dec</td>\n      <td>6.0</td>\n      <td>NaN</td>\n      <td>1.0</td>\n      <td>6.0</td>\n    </tr>\n    <tr>\n      <th>2</th>\n      <td>Boston Bruins</td>\n      <td>1980</td>\n      <td>Feb</td>\n      <td>4.0</td>\n      <td>NaN</td>\n      <td>2.0</td>\n      <td>6.0</td>\n    </tr>\n    <tr>\n      <th>3</th>\n      <td>Boston Bruins</td>\n      <td>1980</td>\n      <td>Jan</td>\n      <td>4.0</td>\n      <td>NaN</td>\n      <td>1.0</td>\n      <td>9.0</td>\n    </tr>\n    <tr>\n      <th>4</th>\n      <td>Boston Bruins</td>\n      <td>1980</td>\n      <td>Mar</td>\n      <td>4.0</td>\n      <td>NaN</td>\n      <td>3.0</td>\n      <td>8.0</td>\n    </tr>\n  </tbody>\n</table>\n</div>"
     },
     "execution_count": 176,
     "metadata": {},
     "output_type": "execute_result"
    }
   ],
   "source": [
    "team_splits = team_splits.reset_index()\n",
    "team_splits.head()\n"
   ],
   "metadata": {
    "collapsed": false,
    "pycharm": {
     "name": "#%%\n"
    }
   }
  },
  {
   "cell_type": "code",
   "execution_count": 178,
   "outputs": [
    {
     "data": {
      "text/plain": "Period('1980-04', 'M')"
     },
     "execution_count": 178,
     "metadata": {},
     "output_type": "execute_result"
    }
   ],
   "source": [
    "string_date = team_splits.apply(lambda x:\n",
    "                                pd.Period(f\"{x.year}-{x.month}\"), axis=1)\n",
    "string_date[0]\n"
   ],
   "metadata": {
    "collapsed": false,
    "pycharm": {
     "name": "#%%\n"
    }
   }
  },
  {
   "cell_type": "code",
   "execution_count": 179,
   "outputs": [
    {
     "data": {
      "text/plain": "            name    month    L  OL    T    W\n0  Boston Bruins  1980-04  2.0 NaN  0.0  1.0\n1  Boston Bruins  1980-12  6.0 NaN  1.0  6.0\n2  Boston Bruins  1980-02  4.0 NaN  2.0  6.0\n3  Boston Bruins  1980-01  4.0 NaN  1.0  9.0\n4  Boston Bruins  1980-03  4.0 NaN  3.0  8.0",
      "text/html": "<div>\n<style scoped>\n    .dataframe tbody tr th:only-of-type {\n        vertical-align: middle;\n    }\n\n    .dataframe tbody tr th {\n        vertical-align: top;\n    }\n\n    .dataframe thead th {\n        text-align: right;\n    }\n</style>\n<table border=\"1\" class=\"dataframe\">\n  <thead>\n    <tr style=\"text-align: right;\">\n      <th></th>\n      <th>name</th>\n      <th>month</th>\n      <th>L</th>\n      <th>OL</th>\n      <th>T</th>\n      <th>W</th>\n    </tr>\n  </thead>\n  <tbody>\n    <tr>\n      <th>0</th>\n      <td>Boston Bruins</td>\n      <td>1980-04</td>\n      <td>2.0</td>\n      <td>NaN</td>\n      <td>0.0</td>\n      <td>1.0</td>\n    </tr>\n    <tr>\n      <th>1</th>\n      <td>Boston Bruins</td>\n      <td>1980-12</td>\n      <td>6.0</td>\n      <td>NaN</td>\n      <td>1.0</td>\n      <td>6.0</td>\n    </tr>\n    <tr>\n      <th>2</th>\n      <td>Boston Bruins</td>\n      <td>1980-02</td>\n      <td>4.0</td>\n      <td>NaN</td>\n      <td>2.0</td>\n      <td>6.0</td>\n    </tr>\n    <tr>\n      <th>3</th>\n      <td>Boston Bruins</td>\n      <td>1980-01</td>\n      <td>4.0</td>\n      <td>NaN</td>\n      <td>1.0</td>\n      <td>9.0</td>\n    </tr>\n    <tr>\n      <th>4</th>\n      <td>Boston Bruins</td>\n      <td>1980-03</td>\n      <td>4.0</td>\n      <td>NaN</td>\n      <td>3.0</td>\n      <td>8.0</td>\n    </tr>\n  </tbody>\n</table>\n</div>"
     },
     "execution_count": 179,
     "metadata": {},
     "output_type": "execute_result"
    }
   ],
   "source": [
    "team_splits = team_splits.assign(month = string_date)\n",
    "team_splits = team_splits.drop('year', axis=1)\n",
    "team_splits.head()\n"
   ],
   "metadata": {
    "collapsed": false,
    "pycharm": {
     "name": "#%%\n"
    }
   }
  },
  {
   "cell_type": "code",
   "execution_count": 180,
   "outputs": [],
   "source": [
    "team_splits = team_splits.set_index(['month'])\n"
   ],
   "metadata": {
    "collapsed": false,
    "pycharm": {
     "name": "#%%\n"
    }
   }
  },
  {
   "cell_type": "code",
   "execution_count": 181,
   "outputs": [
    {
     "data": {
      "text/plain": "                  name    L  OL    T    W\nmonth                                    \n1980-04  Boston Bruins  2.0 NaN  0.0  1.0\n1980-12  Boston Bruins  6.0 NaN  1.0  6.0\n1980-02  Boston Bruins  4.0 NaN  2.0  6.0\n1980-01  Boston Bruins  4.0 NaN  1.0  9.0\n1980-03  Boston Bruins  4.0 NaN  3.0  8.0",
      "text/html": "<div>\n<style scoped>\n    .dataframe tbody tr th:only-of-type {\n        vertical-align: middle;\n    }\n\n    .dataframe tbody tr th {\n        vertical-align: top;\n    }\n\n    .dataframe thead th {\n        text-align: right;\n    }\n</style>\n<table border=\"1\" class=\"dataframe\">\n  <thead>\n    <tr style=\"text-align: right;\">\n      <th></th>\n      <th>name</th>\n      <th>L</th>\n      <th>OL</th>\n      <th>T</th>\n      <th>W</th>\n    </tr>\n    <tr>\n      <th>month</th>\n      <th></th>\n      <th></th>\n      <th></th>\n      <th></th>\n      <th></th>\n    </tr>\n  </thead>\n  <tbody>\n    <tr>\n      <th>1980-04</th>\n      <td>Boston Bruins</td>\n      <td>2.0</td>\n      <td>NaN</td>\n      <td>0.0</td>\n      <td>1.0</td>\n    </tr>\n    <tr>\n      <th>1980-12</th>\n      <td>Boston Bruins</td>\n      <td>6.0</td>\n      <td>NaN</td>\n      <td>1.0</td>\n      <td>6.0</td>\n    </tr>\n    <tr>\n      <th>1980-02</th>\n      <td>Boston Bruins</td>\n      <td>4.0</td>\n      <td>NaN</td>\n      <td>2.0</td>\n      <td>6.0</td>\n    </tr>\n    <tr>\n      <th>1980-01</th>\n      <td>Boston Bruins</td>\n      <td>4.0</td>\n      <td>NaN</td>\n      <td>1.0</td>\n      <td>9.0</td>\n    </tr>\n    <tr>\n      <th>1980-03</th>\n      <td>Boston Bruins</td>\n      <td>4.0</td>\n      <td>NaN</td>\n      <td>3.0</td>\n      <td>8.0</td>\n    </tr>\n  </tbody>\n</table>\n</div>"
     },
     "execution_count": 181,
     "metadata": {},
     "output_type": "execute_result"
    }
   ],
   "source": [
    "team_splits.head()\n"
   ],
   "metadata": {
    "collapsed": false,
    "pycharm": {
     "name": "#%%\n"
    }
   }
  },
  {
   "cell_type": "code",
   "execution_count": 182,
   "outputs": [
    {
     "data": {
      "text/plain": "PeriodIndex(['1980-04', '1980-12', '1980-02', '1980-01', '1980-03', '1980-11',\n             '1980-10', '1980-04', '1980-12', '1980-02',\n             ...\n             '2011-03', '2011-11', '2011-10', '2011-04', '2011-12', '2011-02',\n             '2011-01', '2011-03', '2011-11', '2011-10'],\n            dtype='period[M]', name='month', length=5435)"
     },
     "execution_count": 182,
     "metadata": {},
     "output_type": "execute_result"
    }
   ],
   "source": [
    "team_splits.index\n"
   ],
   "metadata": {
    "collapsed": false,
    "pycharm": {
     "name": "#%%\n"
    }
   }
  },
  {
   "cell_type": "code",
   "execution_count": 183,
   "outputs": [
    {
     "data": {
      "text/plain": "                         L   OL    T     W\nname          month                       \nAnaheim Ducks 2006Q1  13.0  6.0  0.0  19.0\n              2006Q2   0.0  2.0  0.0   1.0\n              2006Q3   0.0  0.0  0.0   0.0\n              2006Q4   7.0  6.0  0.0  28.0\n              2007Q1  10.0  3.0  0.0  26.0",
      "text/html": "<div>\n<style scoped>\n    .dataframe tbody tr th:only-of-type {\n        vertical-align: middle;\n    }\n\n    .dataframe tbody tr th {\n        vertical-align: top;\n    }\n\n    .dataframe thead th {\n        text-align: right;\n    }\n</style>\n<table border=\"1\" class=\"dataframe\">\n  <thead>\n    <tr style=\"text-align: right;\">\n      <th></th>\n      <th></th>\n      <th>L</th>\n      <th>OL</th>\n      <th>T</th>\n      <th>W</th>\n    </tr>\n    <tr>\n      <th>name</th>\n      <th>month</th>\n      <th></th>\n      <th></th>\n      <th></th>\n      <th></th>\n    </tr>\n  </thead>\n  <tbody>\n    <tr>\n      <th rowspan=\"5\" valign=\"top\">Anaheim Ducks</th>\n      <th>2006Q1</th>\n      <td>13.0</td>\n      <td>6.0</td>\n      <td>0.0</td>\n      <td>19.0</td>\n    </tr>\n    <tr>\n      <th>2006Q2</th>\n      <td>0.0</td>\n      <td>2.0</td>\n      <td>0.0</td>\n      <td>1.0</td>\n    </tr>\n    <tr>\n      <th>2006Q3</th>\n      <td>0.0</td>\n      <td>0.0</td>\n      <td>0.0</td>\n      <td>0.0</td>\n    </tr>\n    <tr>\n      <th>2006Q4</th>\n      <td>7.0</td>\n      <td>6.0</td>\n      <td>0.0</td>\n      <td>28.0</td>\n    </tr>\n    <tr>\n      <th>2007Q1</th>\n      <td>10.0</td>\n      <td>3.0</td>\n      <td>0.0</td>\n      <td>26.0</td>\n    </tr>\n  </tbody>\n</table>\n</div>"
     },
     "execution_count": 183,
     "metadata": {},
     "output_type": "execute_result"
    }
   ],
   "source": [
    "quarter_sums = team_splits.groupby('name').resample(\"Q\").sum()\n",
    "quarter_sums.head()\n"
   ],
   "metadata": {
    "collapsed": false,
    "pycharm": {
     "name": "#%%\n"
    }
   }
  },
  {
   "cell_type": "code",
   "execution_count": 184,
   "outputs": [
    {
     "data": {
      "text/plain": "                             L   OL   T         W\nname          month                              \nAnaheim Ducks 2006Q1  4.333333  2.0 NaN  6.333333\n              2006Q2  0.000000  2.0 NaN  1.000000\n              2006Q3       NaN  NaN NaN       NaN\n              2006Q4  2.333333  2.0 NaN  9.333333\n              2007Q1  3.333333  1.0 NaN  8.666667",
      "text/html": "<div>\n<style scoped>\n    .dataframe tbody tr th:only-of-type {\n        vertical-align: middle;\n    }\n\n    .dataframe tbody tr th {\n        vertical-align: top;\n    }\n\n    .dataframe thead th {\n        text-align: right;\n    }\n</style>\n<table border=\"1\" class=\"dataframe\">\n  <thead>\n    <tr style=\"text-align: right;\">\n      <th></th>\n      <th></th>\n      <th>L</th>\n      <th>OL</th>\n      <th>T</th>\n      <th>W</th>\n    </tr>\n    <tr>\n      <th>name</th>\n      <th>month</th>\n      <th></th>\n      <th></th>\n      <th></th>\n      <th></th>\n    </tr>\n  </thead>\n  <tbody>\n    <tr>\n      <th rowspan=\"5\" valign=\"top\">Anaheim Ducks</th>\n      <th>2006Q1</th>\n      <td>4.333333</td>\n      <td>2.0</td>\n      <td>NaN</td>\n      <td>6.333333</td>\n    </tr>\n    <tr>\n      <th>2006Q2</th>\n      <td>0.000000</td>\n      <td>2.0</td>\n      <td>NaN</td>\n      <td>1.000000</td>\n    </tr>\n    <tr>\n      <th>2006Q3</th>\n      <td>NaN</td>\n      <td>NaN</td>\n      <td>NaN</td>\n      <td>NaN</td>\n    </tr>\n    <tr>\n      <th>2006Q4</th>\n      <td>2.333333</td>\n      <td>2.0</td>\n      <td>NaN</td>\n      <td>9.333333</td>\n    </tr>\n    <tr>\n      <th>2007Q1</th>\n      <td>3.333333</td>\n      <td>1.0</td>\n      <td>NaN</td>\n      <td>8.666667</td>\n    </tr>\n  </tbody>\n</table>\n</div>"
     },
     "execution_count": 184,
     "metadata": {},
     "output_type": "execute_result"
    }
   ],
   "source": [
    "quarter_means = team_splits.groupby('name').resample(\"Q\").mean()\n",
    "quarter_means.head()"
   ],
   "metadata": {
    "collapsed": false,
    "pycharm": {
     "name": "#%%\n"
    }
   }
  },
  {
   "cell_type": "code",
   "execution_count": 185,
   "outputs": [],
   "source": [
    "team_splits.to_pickle(os.path.join('data', 'modified', 'team_splits_periods.pickle'))\n",
    "birth_dates.to_pickle(os.path.join('data', 'modified', 'birth_dates.pickle'))\n",
    "\n",
    "team_splits.to_csv(os.path.join('data', 'modified', 'team_splits_periods.csv'))\n",
    "birth_dates.to_csv(os.path.join('data', 'modified', 'birth_dates.csv'))\n"
   ],
   "metadata": {
    "collapsed": false,
    "pycharm": {
     "name": "#%%\n"
    }
   }
  },
  {
   "cell_type": "code",
   "execution_count": null,
   "outputs": [],
   "source": [],
   "metadata": {
    "collapsed": false,
    "pycharm": {
     "name": "#%%\n"
    }
   }
  }
 ],
 "metadata": {
  "kernelspec": {
   "display_name": "Python 3",
   "language": "python",
   "name": "python3"
  },
  "language_info": {
   "codemirror_mode": {
    "name": "ipython",
    "version": 2
   },
   "file_extension": ".py",
   "mimetype": "text/x-python",
   "name": "python",
   "nbconvert_exporter": "python",
   "pygments_lexer": "ipython2",
   "version": "2.7.6"
  }
 },
 "nbformat": 4,
 "nbformat_minor": 0
}